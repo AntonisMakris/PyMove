{
 "cells": [
  {
   "cell_type": "markdown",
   "metadata": {},
   "source": [
    "# #00 - What is PyMove?\n",
    "\n",
    "\n",
    "`PyMove` is a Python's library for manipulation and visualization spatiotemporal data!\n",
    "\n",
    "> Falar sobre as características de estendibilidade \n",
    "- Usa Pandas atualmente e está trabalhando para extensão com o Dask\n",
    "\n",
    "> Falar sobre a esturtura de dados do PyMove\n",
    "- MoveDataFrame\n",
    "> E se eu quiser trabalhar com outra camada abaixo da estrutura?\n",
    "- Falar que deve implementar os métodos da interface.py\n",
    "\n",
    "> O que dá pra fazer com o PyMove?\n",
    "- pré-processamento dos dados\n",
    "- visualização de dados\n",
    "- aplicar técnicas de semântica dos dados"
   ]
  },
  {
   "cell_type": "code",
   "execution_count": null,
   "metadata": {},
   "outputs": [],
   "source": []
  }
 ],
 "metadata": {
  "kernelspec": {
   "display_name": "Python 3",
   "language": "python",
   "name": "python3"
  },
  "language_info": {
   "codemirror_mode": {
    "name": "ipython",
    "version": 3
   },
   "file_extension": ".py",
   "mimetype": "text/x-python",
   "name": "python",
   "nbconvert_exporter": "python",
   "pygments_lexer": "ipython3",
   "version": "3.7.4"
  }
 },
 "nbformat": 4,
 "nbformat_minor": 2
}
