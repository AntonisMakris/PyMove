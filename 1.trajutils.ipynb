{
 "cells": [
  {
   "cell_type": "code",
   "execution_count": 1,
   "metadata": {},
   "outputs": [],
   "source": [
    "import pandas as pd\n",
    "import numpy as np\n",
    "from utils import trajutils"
   ]
  },
  {
   "cell_type": "markdown",
   "metadata": {},
   "source": [
    "# TRAJUTILS"
   ]
  },
  {
   "cell_type": "code",
   "execution_count": 2,
   "metadata": {},
   "outputs": [],
   "source": [
    "filename = '/home/nicksson/Git/2_Doutorado/PyRoad/2_tnzlfev2019.csv'\n",
    "\n",
    "dict_type = {'lat' : np.float32,\n",
    "             'lon' : np.float32\n",
    "            }\n",
    "\n",
    "usecols=[\"id\", \"datetime\", \"lat\", \"lon\"]\n",
    "df = pd.read_csv(filename, dtype=dict_type, parse_dates=['datetime'], usecols=usecols)"
   ]
  },
  {
   "cell_type": "code",
   "execution_count": 3,
   "metadata": {
    "scrolled": true
   },
   "outputs": [
    {
     "data": {
      "text/html": [
       "<div>\n",
       "<style scoped>\n",
       "    .dataframe tbody tr th:only-of-type {\n",
       "        vertical-align: middle;\n",
       "    }\n",
       "\n",
       "    .dataframe tbody tr th {\n",
       "        vertical-align: top;\n",
       "    }\n",
       "\n",
       "    .dataframe thead th {\n",
       "        text-align: right;\n",
       "    }\n",
       "</style>\n",
       "<table border=\"1\" class=\"dataframe\">\n",
       "  <thead>\n",
       "    <tr style=\"text-align: right;\">\n",
       "      <th></th>\n",
       "      <th>id</th>\n",
       "      <th>datetime</th>\n",
       "      <th>lat</th>\n",
       "      <th>lon</th>\n",
       "    </tr>\n",
       "  </thead>\n",
       "  <tbody>\n",
       "    <tr>\n",
       "      <th>0</th>\n",
       "      <td>M41859</td>\n",
       "      <td>2019-02-02 00:31:26</td>\n",
       "      <td>-3.69871</td>\n",
       "      <td>-38.586281</td>\n",
       "    </tr>\n",
       "    <tr>\n",
       "      <th>1</th>\n",
       "      <td>M41859</td>\n",
       "      <td>2019-02-02 00:32:26</td>\n",
       "      <td>-3.69871</td>\n",
       "      <td>-38.586281</td>\n",
       "    </tr>\n",
       "    <tr>\n",
       "      <th>2</th>\n",
       "      <td>M41859</td>\n",
       "      <td>2019-02-02 00:33:26</td>\n",
       "      <td>-3.69871</td>\n",
       "      <td>-38.586281</td>\n",
       "    </tr>\n",
       "    <tr>\n",
       "      <th>3</th>\n",
       "      <td>M41859</td>\n",
       "      <td>2019-02-02 00:34:26</td>\n",
       "      <td>-3.69871</td>\n",
       "      <td>-38.586281</td>\n",
       "    </tr>\n",
       "    <tr>\n",
       "      <th>4</th>\n",
       "      <td>M41859</td>\n",
       "      <td>2019-02-02 00:35:26</td>\n",
       "      <td>-3.69871</td>\n",
       "      <td>-38.586288</td>\n",
       "    </tr>\n",
       "  </tbody>\n",
       "</table>\n",
       "</div>"
      ],
      "text/plain": [
       "       id            datetime      lat        lon\n",
       "0  M41859 2019-02-02 00:31:26 -3.69871 -38.586281\n",
       "1  M41859 2019-02-02 00:32:26 -3.69871 -38.586281\n",
       "2  M41859 2019-02-02 00:33:26 -3.69871 -38.586281\n",
       "3  M41859 2019-02-02 00:34:26 -3.69871 -38.586281\n",
       "4  M41859 2019-02-02 00:35:26 -3.69871 -38.586288"
      ]
     },
     "execution_count": 3,
     "metadata": {},
     "output_type": "execute_result"
    }
   ],
   "source": [
    "df.head()"
   ]
  },
  {
   "cell_type": "markdown",
   "metadata": {},
   "source": [
    "## 1 GENERAL FUCTIONS"
   ]
  },
  {
   "cell_type": "markdown",
   "metadata": {},
   "source": [
    "####  show trajectories"
   ]
  },
  {
   "cell_type": "code",
   "execution_count": 4,
   "metadata": {},
   "outputs": [
    {
     "name": "stdout",
     "output_type": "stream",
     "text": [
      "\n",
      "======================= INFORMATION ABOUT DATASET =======================\n",
      "\n",
      "Number of Rows: 2737386\n",
      "Number of Ids: 290 \n",
      "Trajectories between 2019-02-01 00:00:02 and 2019-02-28 23:59:53\n",
      "Bounding Box: (-25.53447, -49.34629, -3.42381, -37.97867)\n",
      "\n",
      "=========================================================================\n",
      "\n"
     ]
    }
   ],
   "source": [
    "trajutils.show_trajectories_info(df)"
   ]
  },
  {
   "cell_type": "markdown",
   "metadata": {},
   "source": [
    "#### format labels"
   ]
  },
  {
   "cell_type": "code",
   "execution_count": 5,
   "metadata": {},
   "outputs": [],
   "source": [
    "dic = trajutils.format_labels(df, current_id='id', current_lat='lat', current_lon='lon', current_datetime='datetime')"
   ]
  },
  {
   "cell_type": "markdown",
   "metadata": {},
   "source": [
    "#### bbox fuctions"
   ]
  },
  {
   "cell_type": "code",
   "execution_count": 6,
   "metadata": {},
   "outputs": [
    {
     "data": {
      "text/plain": [
       "(-25.53447, -49.34629, -3.42381, -37.97867)"
      ]
     },
     "execution_count": 6,
     "metadata": {},
     "output_type": "execute_result"
    }
   ],
   "source": [
    "trajutils.get_bbox(df)"
   ]
  },
  {
   "cell_type": "code",
   "execution_count": 7,
   "metadata": {},
   "outputs": [
    {
     "name": "stdout",
     "output_type": "stream",
     "text": [
      "const_lat: 11.055330276489258\n",
      "const_lon: 5.683811187744141\n"
     ]
    },
    {
     "data": {
      "text/html": [
       "<div>\n",
       "<style scoped>\n",
       "    .dataframe tbody tr th:only-of-type {\n",
       "        vertical-align: middle;\n",
       "    }\n",
       "\n",
       "    .dataframe tbody tr th {\n",
       "        vertical-align: top;\n",
       "    }\n",
       "\n",
       "    .dataframe thead th {\n",
       "        text-align: right;\n",
       "    }\n",
       "</style>\n",
       "<table border=\"1\" class=\"dataframe\">\n",
       "  <thead>\n",
       "    <tr style=\"text-align: right;\">\n",
       "      <th></th>\n",
       "      <th>lat_min</th>\n",
       "      <th>lon_min</th>\n",
       "      <th>lat_max</th>\n",
       "      <th>lon_max</th>\n",
       "    </tr>\n",
       "  </thead>\n",
       "  <tbody>\n",
       "    <tr>\n",
       "      <th>0</th>\n",
       "      <td>-25.53447</td>\n",
       "      <td>-49.346291</td>\n",
       "      <td>-3.42381</td>\n",
       "      <td>-43.662479</td>\n",
       "    </tr>\n",
       "    <tr>\n",
       "      <th>1</th>\n",
       "      <td>-25.53447</td>\n",
       "      <td>-43.662479</td>\n",
       "      <td>-3.42381</td>\n",
       "      <td>-37.978668</td>\n",
       "    </tr>\n",
       "  </tbody>\n",
       "</table>\n",
       "</div>"
      ],
      "text/plain": [
       "    lat_min    lon_min  lat_max    lon_max\n",
       "0 -25.53447 -49.346291 -3.42381 -43.662479\n",
       "1 -25.53447 -43.662479 -3.42381 -37.978668"
      ]
     },
     "execution_count": 7,
     "metadata": {},
     "output_type": "execute_result"
    }
   ],
   "source": [
    "trajutils.bbox_split(trajutils.get_bbox(df), 2)"
   ]
  },
  {
   "cell_type": "markdown",
   "metadata": {},
   "source": [
    "#### filter"
   ]
  },
  {
   "cell_type": "code",
   "execution_count": 8,
   "metadata": {},
   "outputs": [
    {
     "data": {
      "text/html": [
       "<div>\n",
       "<style scoped>\n",
       "    .dataframe tbody tr th:only-of-type {\n",
       "        vertical-align: middle;\n",
       "    }\n",
       "\n",
       "    .dataframe tbody tr th {\n",
       "        vertical-align: top;\n",
       "    }\n",
       "\n",
       "    .dataframe thead th {\n",
       "        text-align: right;\n",
       "    }\n",
       "</style>\n",
       "<table border=\"1\" class=\"dataframe\">\n",
       "  <thead>\n",
       "    <tr style=\"text-align: right;\">\n",
       "      <th></th>\n",
       "      <th>id</th>\n",
       "      <th>datetime</th>\n",
       "      <th>lat</th>\n",
       "      <th>lon</th>\n",
       "    </tr>\n",
       "  </thead>\n",
       "  <tbody>\n",
       "    <tr>\n",
       "      <th>0</th>\n",
       "      <td>M41859</td>\n",
       "      <td>2019-02-02 00:31:26</td>\n",
       "      <td>-3.69871</td>\n",
       "      <td>-38.586281</td>\n",
       "    </tr>\n",
       "    <tr>\n",
       "      <th>1</th>\n",
       "      <td>M41859</td>\n",
       "      <td>2019-02-02 00:32:26</td>\n",
       "      <td>-3.69871</td>\n",
       "      <td>-38.586281</td>\n",
       "    </tr>\n",
       "    <tr>\n",
       "      <th>2</th>\n",
       "      <td>M41859</td>\n",
       "      <td>2019-02-02 00:33:26</td>\n",
       "      <td>-3.69871</td>\n",
       "      <td>-38.586281</td>\n",
       "    </tr>\n",
       "    <tr>\n",
       "      <th>3</th>\n",
       "      <td>M41859</td>\n",
       "      <td>2019-02-02 00:34:26</td>\n",
       "      <td>-3.69871</td>\n",
       "      <td>-38.586281</td>\n",
       "    </tr>\n",
       "    <tr>\n",
       "      <th>4</th>\n",
       "      <td>M41859</td>\n",
       "      <td>2019-02-02 00:35:26</td>\n",
       "      <td>-3.69871</td>\n",
       "      <td>-38.586288</td>\n",
       "    </tr>\n",
       "  </tbody>\n",
       "</table>\n",
       "</div>"
      ],
      "text/plain": [
       "       id            datetime      lat        lon\n",
       "0  M41859 2019-02-02 00:31:26 -3.69871 -38.586281\n",
       "1  M41859 2019-02-02 00:32:26 -3.69871 -38.586281\n",
       "2  M41859 2019-02-02 00:33:26 -3.69871 -38.586281\n",
       "3  M41859 2019-02-02 00:34:26 -3.69871 -38.586281\n",
       "4  M41859 2019-02-02 00:35:26 -3.69871 -38.586288"
      ]
     },
     "execution_count": 8,
     "metadata": {},
     "output_type": "execute_result"
    }
   ],
   "source": [
    "trajutils.filter_by_datetime(df, startDatetime='2019-02-01 00:33:26', endDatetime='2019-02-25 00:36:26', filter_out=False).head()"
   ]
  },
  {
   "cell_type": "code",
   "execution_count": 9,
   "metadata": {},
   "outputs": [
    {
     "data": {
      "text/html": [
       "<div>\n",
       "<style scoped>\n",
       "    .dataframe tbody tr th:only-of-type {\n",
       "        vertical-align: middle;\n",
       "    }\n",
       "\n",
       "    .dataframe tbody tr th {\n",
       "        vertical-align: top;\n",
       "    }\n",
       "\n",
       "    .dataframe thead th {\n",
       "        text-align: right;\n",
       "    }\n",
       "</style>\n",
       "<table border=\"1\" class=\"dataframe\">\n",
       "  <thead>\n",
       "    <tr style=\"text-align: right;\">\n",
       "      <th></th>\n",
       "      <th>id</th>\n",
       "      <th>datetime</th>\n",
       "      <th>lat</th>\n",
       "      <th>lon</th>\n",
       "    </tr>\n",
       "  </thead>\n",
       "  <tbody>\n",
       "    <tr>\n",
       "      <th>0</th>\n",
       "      <td>M41859</td>\n",
       "      <td>2019-02-02 00:31:26</td>\n",
       "      <td>-3.69871</td>\n",
       "      <td>-38.586281</td>\n",
       "    </tr>\n",
       "    <tr>\n",
       "      <th>1</th>\n",
       "      <td>M41859</td>\n",
       "      <td>2019-02-02 00:32:26</td>\n",
       "      <td>-3.69871</td>\n",
       "      <td>-38.586281</td>\n",
       "    </tr>\n",
       "    <tr>\n",
       "      <th>2</th>\n",
       "      <td>M41859</td>\n",
       "      <td>2019-02-02 00:33:26</td>\n",
       "      <td>-3.69871</td>\n",
       "      <td>-38.586281</td>\n",
       "    </tr>\n",
       "    <tr>\n",
       "      <th>3</th>\n",
       "      <td>M41859</td>\n",
       "      <td>2019-02-02 00:34:26</td>\n",
       "      <td>-3.69871</td>\n",
       "      <td>-38.586281</td>\n",
       "    </tr>\n",
       "    <tr>\n",
       "      <th>4</th>\n",
       "      <td>M41859</td>\n",
       "      <td>2019-02-02 00:35:26</td>\n",
       "      <td>-3.69871</td>\n",
       "      <td>-38.586288</td>\n",
       "    </tr>\n",
       "  </tbody>\n",
       "</table>\n",
       "</div>"
      ],
      "text/plain": [
       "       id            datetime      lat        lon\n",
       "0  M41859 2019-02-02 00:31:26 -3.69871 -38.586281\n",
       "1  M41859 2019-02-02 00:32:26 -3.69871 -38.586281\n",
       "2  M41859 2019-02-02 00:33:26 -3.69871 -38.586281\n",
       "3  M41859 2019-02-02 00:34:26 -3.69871 -38.586281\n",
       "4  M41859 2019-02-02 00:35:26 -3.69871 -38.586288"
      ]
     },
     "execution_count": 9,
     "metadata": {},
     "output_type": "execute_result"
    }
   ],
   "source": [
    "trajutils.filter_by_id(df, 'M41859', filter_out=False).head()"
   ]
  },
  {
   "cell_type": "markdown",
   "metadata": {},
   "source": [
    "# 2. FUCTIONS TO LAT AND LONG COORDINATES "
   ]
  },
  {
   "cell_type": "code",
   "execution_count": 10,
   "metadata": {},
   "outputs": [
    {
     "data": {
      "text/plain": [
       "-4285978.172767829"
      ]
     },
     "execution_count": 10,
     "metadata": {},
     "output_type": "execute_result"
    }
   ],
   "source": [
    "trajutils.lon2XSpherical(-38.501597)"
   ]
  },
  {
   "cell_type": "code",
   "execution_count": 11,
   "metadata": {},
   "outputs": [
    {
     "data": {
      "text/plain": [
       "-423086.2213610324"
      ]
     },
     "execution_count": 11,
     "metadata": {},
     "output_type": "execute_result"
    }
   ],
   "source": [
    "trajutils.lat2YSpherical(-3.797864)"
   ]
  },
  {
   "cell_type": "code",
   "execution_count": 12,
   "metadata": {},
   "outputs": [
    {
     "data": {
      "text/plain": [
       "-38.50159697513617"
      ]
     },
     "execution_count": 12,
     "metadata": {},
     "output_type": "execute_result"
    }
   ],
   "source": [
    "trajutils.x2LonSpherical(-4285978.17)"
   ]
  },
  {
   "cell_type": "code",
   "execution_count": 13,
   "metadata": {},
   "outputs": [
    {
     "data": {
      "text/plain": [
       "-3.7978639999999944"
      ]
     },
     "execution_count": 13,
     "metadata": {},
     "output_type": "execute_result"
    }
   ],
   "source": [
    "trajutils.y2LatSpherical(-423086.2213610324)"
   ]
  },
  {
   "cell_type": "code",
   "execution_count": 14,
   "metadata": {},
   "outputs": [
    {
     "name": "stdout",
     "output_type": "stream",
     "text": [
      "\n",
      "======================= INFORMATION ABOUT DATASET =======================\n",
      "\n",
      "Number of Rows: 2737386\n",
      "Number of Ids: 290 \n",
      "Trajectories between 2019-02-01 00:00:02 and 2019-02-28 23:59:53\n",
      "Bounding Box: (-25.53447, -49.34629, -3.42381, -37.97867)\n",
      "\n",
      "=========================================================================\n",
      "\n"
     ]
    }
   ],
   "source": [
    "trajutils.show_trajectories_info(df)"
   ]
  },
  {
   "cell_type": "markdown",
   "metadata": {},
   "source": [
    "# 3. CREATING FEATURES BASED ON DATETIME"
   ]
  },
  {
   "cell_type": "code",
   "execution_count": 15,
   "metadata": {},
   "outputs": [
    {
     "name": "stdout",
     "output_type": "stream",
     "text": [
      "\n",
      "Creating or updating tid feature...\n",
      "\n",
      "\n",
      "...tid feature was created...\n",
      "\n",
      "CPU times: user 3.9 s, sys: 157 ms, total: 4.06 s\n",
      "Wall time: 3.56 s\n"
     ]
    }
   ],
   "source": [
    "%%time\n",
    "trajutils.create_update_tid_based_on_id_datatime(df)"
   ]
  },
  {
   "cell_type": "code",
   "execution_count": 16,
   "metadata": {},
   "outputs": [],
   "source": [
    "#%%time\n",
    "#trajutils.create_update_day_of_the_week_features(df)"
   ]
  },
  {
   "cell_type": "code",
   "execution_count": 17,
   "metadata": {},
   "outputs": [],
   "source": [
    "#%%time\n",
    "#trajutils.create_update_time_of_day_features(df)"
   ]
  },
  {
   "cell_type": "markdown",
   "metadata": {},
   "source": [
    "# 4. CREATING FEATURES BASED ON LAT AND LONG COORDINATES"
   ]
  },
  {
   "cell_type": "code",
   "execution_count": 18,
   "metadata": {},
   "outputs": [],
   "source": [
    "#%%time\n",
    "#trajutils.create_update_dist_features(df,label_dtype=np.float32, sort=True)"
   ]
  },
  {
   "cell_type": "code",
   "execution_count": 19,
   "metadata": {},
   "outputs": [
    {
     "name": "stdout",
     "output_type": "stream",
     "text": [
      "\n",
      "Creating or updating distance features in meters...\n",
      "\n",
      "...Set id as index to increase attribution performance\n",
      "\n",
      "...Sorting by id and datetime to increase performance\n",
      "\n",
      "(1439/2737386) 0% in 00:00:00.249 - estimated end in 00:07:53.854\n",
      "(572347/2737386) 20% in 00:00:00.352 - estimated end in 00:00:01.332\n",
      "(1105939/2737386) 40% in 00:00:00.439 - estimated end in 00:00:00.648\n"
     ]
    },
    {
     "name": "stderr",
     "output_type": "stream",
     "text": [
      "/home/nicksson/Git/2_Doutorado/PyRoad/utils/trajutils.py:192: RuntimeWarning: invalid value encountered in sqrt\n",
      "  return 2 * 1000 * earth_radius * np.arctan2(a ** 0.5, (1-a) ** 0.5)\n"
     ]
    },
    {
     "name": "stdout",
     "output_type": "stream",
     "text": [
      "(1643031/2737386) 60% in 00:00:00.541 - estimated end in 00:00:00.360\n",
      "(2193264/2737386) 80% in 00:00:00.633 - estimated end in 00:00:00.157\n",
      "(2737386/2737386) 100% in 00:00:00.723 - estimated end in 00:00:00.000\n",
      "...Reset index\n",
      "\n",
      "\n",
      "Creating or updating time and speed features in meters by seconds\n",
      "\n",
      "...Set id as index to better peformance\n",
      "\n",
      "(1439/2737386) 0% in 00:00:00.250 - estimated end in 00:07:56.139\n",
      "(572347/2737386) 20% in 00:00:00.275 - estimated end in 00:00:01.042\n",
      "(1105939/2737386) 40% in 00:00:00.296 - estimated end in 00:00:00.436\n",
      "(1643031/2737386) 60% in 00:00:00.318 - estimated end in 00:00:00.212\n",
      "(2193264/2737386) 80% in 00:00:00.341 - estimated end in 00:00:00.084\n",
      "(2737386/2737386) 100% in 00:00:00.364 - estimated end in 00:00:00.000\n",
      "...Reset index...\n",
      "\n",
      "CPU times: user 4.05 s, sys: 228 ms, total: 4.28 s\n",
      "Wall time: 3.04 s\n"
     ]
    }
   ],
   "source": [
    "%%time\n",
    "trajutils.create_update_dist_time_speed_features(df, label_dtype=np.float64)"
   ]
  },
  {
   "cell_type": "code",
   "execution_count": 20,
   "metadata": {},
   "outputs": [],
   "source": [
    "#%%time\n",
    "#trajutils.create_update_move_and_stop_by_radius(df, radius=0, target_label='speed_to_prev')"
   ]
  },
  {
   "cell_type": "markdown",
   "metadata": {},
   "source": [
    "# 5. DATA CLEANING BY ID"
   ]
  },
  {
   "cell_type": "code",
   "execution_count": 21,
   "metadata": {},
   "outputs": [],
   "source": [
    "#%%time\n",
    "#trajutils.clean_duplicates(df,['id', 'datetime'], inplace=True)"
   ]
  },
  {
   "cell_type": "code",
   "execution_count": 22,
   "metadata": {},
   "outputs": [],
   "source": [
    "#%%time\n",
    "#trajutils.clean_NaN_values(df, inplace=False)"
   ]
  },
  {
   "cell_type": "code",
   "execution_count": 23,
   "metadata": {},
   "outputs": [],
   "source": [
    "#%%time\n",
    "#trajutils.clean_gps_nearby_points(df)"
   ]
  },
  {
   "cell_type": "code",
   "execution_count": 24,
   "metadata": {},
   "outputs": [],
   "source": [
    "#%%time\n",
    "#trajutils.clean_gps_jumps_by_distance(df)"
   ]
  },
  {
   "cell_type": "code",
   "execution_count": 25,
   "metadata": {},
   "outputs": [],
   "source": [
    "#%%time\n",
    "#trajutils.clean_gps_speed_max_radius(df)"
   ]
  },
  {
   "cell_type": "markdown",
   "metadata": {},
   "source": [
    "# 6. DATA CLEANING BY TID"
   ]
  },
  {
   "cell_type": "code",
   "execution_count": 26,
   "metadata": {},
   "outputs": [],
   "source": [
    "#%%time\n",
    "#trajutils.clean_trajectories_with_few_points(df, min_points_per_trajectory=500)"
   ]
  },
  {
   "cell_type": "code",
   "execution_count": 27,
   "metadata": {},
   "outputs": [],
   "source": [
    "#%%time \n",
    "#trajutils.clean_short_and_few_points_trajectories(df)"
   ]
  },
  {
   "cell_type": "markdown",
   "metadata": {},
   "source": [
    "# 7. SPLIT TRAJECTORIES"
   ]
  },
  {
   "cell_type": "code",
   "execution_count": 28,
   "metadata": {},
   "outputs": [],
   "source": [
    "#%%time\n",
    "#trajutils.split_trajectories(df, label_new_id='tid_part')"
   ]
  },
  {
   "cell_type": "markdown",
   "metadata": {},
   "source": [
    "# 8. TRANFORMATION"
   ]
  },
  {
   "cell_type": "markdown",
   "metadata": {},
   "source": [
    "### Distance"
   ]
  },
  {
   "cell_type": "code",
   "execution_count": 44,
   "metadata": {},
   "outputs": [],
   "source": [
    "trajutils.transform_dist_from_meters_to_kilometers(df, label_distance='dist_to_prev')"
   ]
  },
  {
   "cell_type": "code",
   "execution_count": 46,
   "metadata": {},
   "outputs": [],
   "source": [
    "trajutils.transform_dist_from_to_kilometers_to_meters(df, label_distance='dist_to_prev', new_label='dist_m')"
   ]
  },
  {
   "cell_type": "markdown",
   "metadata": {},
   "source": [
    "### Time"
   ]
  },
  {
   "cell_type": "code",
   "execution_count": 29,
   "metadata": {},
   "outputs": [],
   "source": [
    "trajutils.transform_time_from_seconds_to_minutes(df, label_time='time_to_prev')"
   ]
  },
  {
   "cell_type": "code",
   "execution_count": 30,
   "metadata": {},
   "outputs": [],
   "source": [
    "trajutils.transform_time_from_minute_to_hours(df, label_time='time_to_prev')"
   ]
  },
  {
   "cell_type": "code",
   "execution_count": 31,
   "metadata": {},
   "outputs": [],
   "source": [
    "trajutils.transform_time_from_hours_to_minute(df, label_time='time_to_prev')"
   ]
  },
  {
   "cell_type": "code",
   "execution_count": 32,
   "metadata": {},
   "outputs": [],
   "source": [
    "trajutils.transform_time_from_minute_to_seconds(df, label_time='time_to_prev')"
   ]
  },
  {
   "cell_type": "code",
   "execution_count": 33,
   "metadata": {},
   "outputs": [],
   "source": [
    "trajutils.transform_time_from_seconds_to_hours(df, label_time='time_to_prev')"
   ]
  },
  {
   "cell_type": "code",
   "execution_count": 34,
   "metadata": {},
   "outputs": [],
   "source": [
    "trajutils.transform_time_from_hours_to_seconds(df, label_time='time_to_prev')"
   ]
  },
  {
   "cell_type": "code",
   "execution_count": 35,
   "metadata": {},
   "outputs": [],
   "source": [
    "trajutils.transform_time_from_seconds_to_minutes(df, label_time='time_to_prev', new_label='time_m')"
   ]
  },
  {
   "cell_type": "code",
   "execution_count": 36,
   "metadata": {},
   "outputs": [
    {
     "data": {
      "text/html": [
       "<div>\n",
       "<style scoped>\n",
       "    .dataframe tbody tr th:only-of-type {\n",
       "        vertical-align: middle;\n",
       "    }\n",
       "\n",
       "    .dataframe tbody tr th {\n",
       "        vertical-align: top;\n",
       "    }\n",
       "\n",
       "    .dataframe thead th {\n",
       "        text-align: right;\n",
       "    }\n",
       "</style>\n",
       "<table border=\"1\" class=\"dataframe\">\n",
       "  <thead>\n",
       "    <tr style=\"text-align: right;\">\n",
       "      <th></th>\n",
       "      <th>id</th>\n",
       "      <th>datetime</th>\n",
       "      <th>lat</th>\n",
       "      <th>lon</th>\n",
       "      <th>tid</th>\n",
       "      <th>dist_to_prev</th>\n",
       "      <th>dist_to_next</th>\n",
       "      <th>dist_prev_to_next</th>\n",
       "      <th>time_to_next</th>\n",
       "      <th>time_m</th>\n",
       "      <th>speed_to_next</th>\n",
       "      <th>speed_to_prev</th>\n",
       "    </tr>\n",
       "  </thead>\n",
       "  <tbody>\n",
       "    <tr>\n",
       "      <th>0</th>\n",
       "      <td>M00238</td>\n",
       "      <td>2019-02-25 00:00:31</td>\n",
       "      <td>-3.68337</td>\n",
       "      <td>-38.667709</td>\n",
       "      <td>M002382019-02-25</td>\n",
       "      <td>NaN</td>\n",
       "      <td>0.000000</td>\n",
       "      <td>NaN</td>\n",
       "      <td>60.0</td>\n",
       "      <td>NaN</td>\n",
       "      <td>0.000000</td>\n",
       "      <td>NaN</td>\n",
       "    </tr>\n",
       "    <tr>\n",
       "      <th>1</th>\n",
       "      <td>M00238</td>\n",
       "      <td>2019-02-25 00:01:31</td>\n",
       "      <td>-3.68337</td>\n",
       "      <td>-38.667709</td>\n",
       "      <td>M002382019-02-25</td>\n",
       "      <td>0.000000</td>\n",
       "      <td>0.000000</td>\n",
       "      <td>0.000000</td>\n",
       "      <td>60.0</td>\n",
       "      <td>1.0</td>\n",
       "      <td>0.000000</td>\n",
       "      <td>0.00000</td>\n",
       "    </tr>\n",
       "    <tr>\n",
       "      <th>2</th>\n",
       "      <td>M00238</td>\n",
       "      <td>2019-02-25 00:02:31</td>\n",
       "      <td>-3.68337</td>\n",
       "      <td>-38.667709</td>\n",
       "      <td>M002382019-02-25</td>\n",
       "      <td>0.000000</td>\n",
       "      <td>0.000000</td>\n",
       "      <td>0.000000</td>\n",
       "      <td>60.0</td>\n",
       "      <td>1.0</td>\n",
       "      <td>0.000000</td>\n",
       "      <td>0.00000</td>\n",
       "    </tr>\n",
       "    <tr>\n",
       "      <th>3</th>\n",
       "      <td>M00238</td>\n",
       "      <td>2019-02-25 00:03:31</td>\n",
       "      <td>-3.68337</td>\n",
       "      <td>-38.667709</td>\n",
       "      <td>M002382019-02-25</td>\n",
       "      <td>0.000000</td>\n",
       "      <td>3.152399</td>\n",
       "      <td>3.152399</td>\n",
       "      <td>60.0</td>\n",
       "      <td>1.0</td>\n",
       "      <td>0.052540</td>\n",
       "      <td>0.00000</td>\n",
       "    </tr>\n",
       "    <tr>\n",
       "      <th>4</th>\n",
       "      <td>M00238</td>\n",
       "      <td>2019-02-25 00:04:31</td>\n",
       "      <td>-3.68335</td>\n",
       "      <td>-38.667728</td>\n",
       "      <td>M002382019-02-25</td>\n",
       "      <td>3.152399</td>\n",
       "      <td>3.466966</td>\n",
       "      <td>3.581089</td>\n",
       "      <td>60.0</td>\n",
       "      <td>1.0</td>\n",
       "      <td>0.057783</td>\n",
       "      <td>0.05254</td>\n",
       "    </tr>\n",
       "  </tbody>\n",
       "</table>\n",
       "</div>"
      ],
      "text/plain": [
       "       id            datetime      lat        lon               tid  \\\n",
       "0  M00238 2019-02-25 00:00:31 -3.68337 -38.667709  M002382019-02-25   \n",
       "1  M00238 2019-02-25 00:01:31 -3.68337 -38.667709  M002382019-02-25   \n",
       "2  M00238 2019-02-25 00:02:31 -3.68337 -38.667709  M002382019-02-25   \n",
       "3  M00238 2019-02-25 00:03:31 -3.68337 -38.667709  M002382019-02-25   \n",
       "4  M00238 2019-02-25 00:04:31 -3.68335 -38.667728  M002382019-02-25   \n",
       "\n",
       "   dist_to_prev  dist_to_next  dist_prev_to_next  time_to_next  time_m  \\\n",
       "0           NaN      0.000000                NaN          60.0     NaN   \n",
       "1      0.000000      0.000000           0.000000          60.0     1.0   \n",
       "2      0.000000      0.000000           0.000000          60.0     1.0   \n",
       "3      0.000000      3.152399           3.152399          60.0     1.0   \n",
       "4      3.152399      3.466966           3.581089          60.0     1.0   \n",
       "\n",
       "   speed_to_next  speed_to_prev  \n",
       "0       0.000000            NaN  \n",
       "1       0.000000        0.00000  \n",
       "2       0.000000        0.00000  \n",
       "3       0.052540        0.00000  \n",
       "4       0.057783        0.05254  "
      ]
     },
     "execution_count": 36,
     "metadata": {},
     "output_type": "execute_result"
    }
   ],
   "source": [
    "df.head()"
   ]
  },
  {
   "cell_type": "markdown",
   "metadata": {},
   "source": [
    "### Speed"
   ]
  },
  {
   "cell_type": "code",
   "execution_count": 38,
   "metadata": {},
   "outputs": [],
   "source": [
    "trajutils.transform_speed_from_ms_to_kmh(df, label_speed='speed_to_prev')"
   ]
  },
  {
   "cell_type": "code",
   "execution_count": 42,
   "metadata": {},
   "outputs": [],
   "source": [
    "trajutils.transform_speed_from_ms_to_kmh(df, label_speed='speed_to_prev', new_label='speed_ms')"
   ]
  },
  {
   "cell_type": "code",
   "execution_count": null,
   "metadata": {},
   "outputs": [],
   "source": []
  },
  {
   "cell_type": "code",
   "execution_count": 48,
   "metadata": {},
   "outputs": [],
   "source": [
    "filter_ = (df.shift(1) != df).any(axis=1)"
   ]
  },
  {
   "cell_type": "code",
   "execution_count": 51,
   "metadata": {},
   "outputs": [
    {
     "data": {
      "text/plain": [
       "0"
      ]
     },
     "execution_count": 51,
     "metadata": {},
     "output_type": "execute_result"
    }
   ],
   "source": [
    "df[~filter_].shape[0]"
   ]
  },
  {
   "cell_type": "code",
   "execution_count": null,
   "metadata": {},
   "outputs": [],
   "source": [
    "#def range_query(df_, lat, lon, startDatetime, endDatetime, radius):\n",
    "    # filter dataframe by datetime\n"
   ]
  },
  {
   "cell_type": "code",
   "execution_count": null,
   "metadata": {},
   "outputs": [],
   "source": [
    "#df_filter = trajutils.filter_by_datetime(df, '2019-02-02 00:31:26', '2019-02-02 05:31:26')"
   ]
  },
  {
   "cell_type": "code",
   "execution_count": null,
   "metadata": {},
   "outputs": [],
   "source": [
    "#df_filter.shape[0]"
   ]
  }
 ],
 "metadata": {
  "kernelspec": {
   "display_name": "Python 3",
   "language": "python",
   "name": "python3"
  },
  "language_info": {
   "codemirror_mode": {
    "name": "ipython",
    "version": 3
   },
   "file_extension": ".py",
   "mimetype": "text/x-python",
   "name": "python",
   "nbconvert_exporter": "python",
   "pygments_lexer": "ipython3",
   "version": "3.6.5"
  }
 },
 "nbformat": 4,
 "nbformat_minor": 2
}
