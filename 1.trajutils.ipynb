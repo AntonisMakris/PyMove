{
 "cells": [
  {
   "cell_type": "code",
   "execution_count": 1,
   "metadata": {},
   "outputs": [],
   "source": [
    "import pandas as pd\n",
    "import numpy as np\n",
    "from utils import trajutils"
   ]
  },
  {
   "cell_type": "markdown",
   "metadata": {},
   "source": [
    "# TRAJUTILS"
   ]
  },
  {
   "cell_type": "code",
   "execution_count": 2,
   "metadata": {},
   "outputs": [],
   "source": [
    "filename = '/home/nicksson/Git/2_Doutorado/PyRoad/data.csv'\n",
    "\n",
    "dict_type = {'lat' : np.float32,\n",
    "             'lon' : np.float32\n",
    "            }\n",
    "\n",
    "usecols=[\"id\", \"datetime\", \"lat\", \"lon\"]\n",
    "df = pd.read_csv(filename, dtype=dict_type, parse_dates=['datetime'], usecols=usecols)"
   ]
  },
  {
   "cell_type": "code",
   "execution_count": 3,
   "metadata": {
    "scrolled": true
   },
   "outputs": [
    {
     "name": "stdout",
     "output_type": "stream",
     "text": [
      "<class 'pandas.core.frame.DataFrame'>\n",
      "RangeIndex: 2737386 entries, 0 to 2737385\n",
      "Data columns (total 4 columns):\n",
      "id          object\n",
      "datetime    datetime64[ns]\n",
      "lat         float32\n",
      "lon         float32\n",
      "dtypes: datetime64[ns](1), float32(2), object(1)\n",
      "memory usage: 62.7+ MB\n"
     ]
    }
   ],
   "source": [
    "df.info()"
   ]
  },
  {
   "cell_type": "markdown",
   "metadata": {},
   "source": [
    "## 1 GENERAL FUCTIONS"
   ]
  },
  {
   "cell_type": "markdown",
   "metadata": {},
   "source": [
    "####  show trajectories"
   ]
  },
  {
   "cell_type": "code",
   "execution_count": 4,
   "metadata": {},
   "outputs": [
    {
     "name": "stdout",
     "output_type": "stream",
     "text": [
      "\n",
      "======================= INFORMATION ABOUT DATASET =======================\n",
      "\n",
      "Number of Rows: 2737386\n",
      "Number of Ids: 290 \n",
      "Trajectories between 2019-02-01 00:00:02 and 2019-02-28 23:59:53\n",
      "Bounding Box: (-25.53447, -49.34629, -3.42381, -37.97867)\n",
      "\n",
      "=========================================================================\n",
      "\n"
     ]
    }
   ],
   "source": [
    "trajutils.show_trajectories_info(df)"
   ]
  },
  {
   "cell_type": "markdown",
   "metadata": {},
   "source": [
    "#### format labels"
   ]
  },
  {
   "cell_type": "code",
   "execution_count": 5,
   "metadata": {},
   "outputs": [],
   "source": [
    "dic = trajutils.format_labels(df, current_id='id', current_lat='lat', current_lon='lon', current_datetime='datetime')"
   ]
  },
  {
   "cell_type": "markdown",
   "metadata": {},
   "source": [
    "#### bbox fuctions"
   ]
  },
  {
   "cell_type": "code",
   "execution_count": 6,
   "metadata": {},
   "outputs": [
    {
     "data": {
      "text/plain": [
       "(-25.53447, -49.34629, -3.42381, -37.97867)"
      ]
     },
     "execution_count": 6,
     "metadata": {},
     "output_type": "execute_result"
    }
   ],
   "source": [
    "trajutils.get_bbox(df)"
   ]
  },
  {
   "cell_type": "code",
   "execution_count": 7,
   "metadata": {},
   "outputs": [
    {
     "name": "stdout",
     "output_type": "stream",
     "text": [
      "const_lat: 11.055330276489258\n",
      "const_lon: 5.683811187744141\n"
     ]
    },
    {
     "data": {
      "text/html": [
       "<div>\n",
       "<style scoped>\n",
       "    .dataframe tbody tr th:only-of-type {\n",
       "        vertical-align: middle;\n",
       "    }\n",
       "\n",
       "    .dataframe tbody tr th {\n",
       "        vertical-align: top;\n",
       "    }\n",
       "\n",
       "    .dataframe thead th {\n",
       "        text-align: right;\n",
       "    }\n",
       "</style>\n",
       "<table border=\"1\" class=\"dataframe\">\n",
       "  <thead>\n",
       "    <tr style=\"text-align: right;\">\n",
       "      <th></th>\n",
       "      <th>lat_min</th>\n",
       "      <th>lon_min</th>\n",
       "      <th>lat_max</th>\n",
       "      <th>lon_max</th>\n",
       "    </tr>\n",
       "  </thead>\n",
       "  <tbody>\n",
       "    <tr>\n",
       "      <th>0</th>\n",
       "      <td>-25.53447</td>\n",
       "      <td>-49.346291</td>\n",
       "      <td>-3.42381</td>\n",
       "      <td>-43.662479</td>\n",
       "    </tr>\n",
       "    <tr>\n",
       "      <th>1</th>\n",
       "      <td>-25.53447</td>\n",
       "      <td>-43.662479</td>\n",
       "      <td>-3.42381</td>\n",
       "      <td>-37.978668</td>\n",
       "    </tr>\n",
       "  </tbody>\n",
       "</table>\n",
       "</div>"
      ],
      "text/plain": [
       "    lat_min    lon_min  lat_max    lon_max\n",
       "0 -25.53447 -49.346291 -3.42381 -43.662479\n",
       "1 -25.53447 -43.662479 -3.42381 -37.978668"
      ]
     },
     "execution_count": 7,
     "metadata": {},
     "output_type": "execute_result"
    }
   ],
   "source": [
    "trajutils.bbox_split(trajutils.get_bbox(df), 2)"
   ]
  },
  {
   "cell_type": "markdown",
   "metadata": {},
   "source": [
    "#### filter"
   ]
  },
  {
   "cell_type": "code",
   "execution_count": 8,
   "metadata": {},
   "outputs": [
    {
     "data": {
      "text/html": [
       "<div>\n",
       "<style scoped>\n",
       "    .dataframe tbody tr th:only-of-type {\n",
       "        vertical-align: middle;\n",
       "    }\n",
       "\n",
       "    .dataframe tbody tr th {\n",
       "        vertical-align: top;\n",
       "    }\n",
       "\n",
       "    .dataframe thead th {\n",
       "        text-align: right;\n",
       "    }\n",
       "</style>\n",
       "<table border=\"1\" class=\"dataframe\">\n",
       "  <thead>\n",
       "    <tr style=\"text-align: right;\">\n",
       "      <th></th>\n",
       "      <th>id</th>\n",
       "      <th>datetime</th>\n",
       "      <th>lat</th>\n",
       "      <th>lon</th>\n",
       "    </tr>\n",
       "  </thead>\n",
       "  <tbody>\n",
       "    <tr>\n",
       "      <th>0</th>\n",
       "      <td>M41859</td>\n",
       "      <td>2019-02-02 00:31:26</td>\n",
       "      <td>-3.69871</td>\n",
       "      <td>-38.586281</td>\n",
       "    </tr>\n",
       "    <tr>\n",
       "      <th>1</th>\n",
       "      <td>M41859</td>\n",
       "      <td>2019-02-02 00:32:26</td>\n",
       "      <td>-3.69871</td>\n",
       "      <td>-38.586281</td>\n",
       "    </tr>\n",
       "    <tr>\n",
       "      <th>2</th>\n",
       "      <td>M41859</td>\n",
       "      <td>2019-02-02 00:33:26</td>\n",
       "      <td>-3.69871</td>\n",
       "      <td>-38.586281</td>\n",
       "    </tr>\n",
       "    <tr>\n",
       "      <th>3</th>\n",
       "      <td>M41859</td>\n",
       "      <td>2019-02-02 00:34:26</td>\n",
       "      <td>-3.69871</td>\n",
       "      <td>-38.586281</td>\n",
       "    </tr>\n",
       "    <tr>\n",
       "      <th>4</th>\n",
       "      <td>M41859</td>\n",
       "      <td>2019-02-02 00:35:26</td>\n",
       "      <td>-3.69871</td>\n",
       "      <td>-38.586288</td>\n",
       "    </tr>\n",
       "  </tbody>\n",
       "</table>\n",
       "</div>"
      ],
      "text/plain": [
       "       id            datetime      lat        lon\n",
       "0  M41859 2019-02-02 00:31:26 -3.69871 -38.586281\n",
       "1  M41859 2019-02-02 00:32:26 -3.69871 -38.586281\n",
       "2  M41859 2019-02-02 00:33:26 -3.69871 -38.586281\n",
       "3  M41859 2019-02-02 00:34:26 -3.69871 -38.586281\n",
       "4  M41859 2019-02-02 00:35:26 -3.69871 -38.586288"
      ]
     },
     "execution_count": 8,
     "metadata": {},
     "output_type": "execute_result"
    }
   ],
   "source": [
    "trajutils.filter_by_datetime(df, startDatetime='2019-02-01 00:33:26', endDatetime='2019-02-25 00:36:26', filter_out=False).head()"
   ]
  },
  {
   "cell_type": "code",
   "execution_count": 9,
   "metadata": {},
   "outputs": [
    {
     "data": {
      "text/html": [
       "<div>\n",
       "<style scoped>\n",
       "    .dataframe tbody tr th:only-of-type {\n",
       "        vertical-align: middle;\n",
       "    }\n",
       "\n",
       "    .dataframe tbody tr th {\n",
       "        vertical-align: top;\n",
       "    }\n",
       "\n",
       "    .dataframe thead th {\n",
       "        text-align: right;\n",
       "    }\n",
       "</style>\n",
       "<table border=\"1\" class=\"dataframe\">\n",
       "  <thead>\n",
       "    <tr style=\"text-align: right;\">\n",
       "      <th></th>\n",
       "      <th>id</th>\n",
       "      <th>datetime</th>\n",
       "      <th>lat</th>\n",
       "      <th>lon</th>\n",
       "    </tr>\n",
       "  </thead>\n",
       "  <tbody>\n",
       "    <tr>\n",
       "      <th>0</th>\n",
       "      <td>M41859</td>\n",
       "      <td>2019-02-02 00:31:26</td>\n",
       "      <td>-3.69871</td>\n",
       "      <td>-38.586281</td>\n",
       "    </tr>\n",
       "    <tr>\n",
       "      <th>1</th>\n",
       "      <td>M41859</td>\n",
       "      <td>2019-02-02 00:32:26</td>\n",
       "      <td>-3.69871</td>\n",
       "      <td>-38.586281</td>\n",
       "    </tr>\n",
       "    <tr>\n",
       "      <th>2</th>\n",
       "      <td>M41859</td>\n",
       "      <td>2019-02-02 00:33:26</td>\n",
       "      <td>-3.69871</td>\n",
       "      <td>-38.586281</td>\n",
       "    </tr>\n",
       "    <tr>\n",
       "      <th>3</th>\n",
       "      <td>M41859</td>\n",
       "      <td>2019-02-02 00:34:26</td>\n",
       "      <td>-3.69871</td>\n",
       "      <td>-38.586281</td>\n",
       "    </tr>\n",
       "    <tr>\n",
       "      <th>4</th>\n",
       "      <td>M41859</td>\n",
       "      <td>2019-02-02 00:35:26</td>\n",
       "      <td>-3.69871</td>\n",
       "      <td>-38.586288</td>\n",
       "    </tr>\n",
       "  </tbody>\n",
       "</table>\n",
       "</div>"
      ],
      "text/plain": [
       "       id            datetime      lat        lon\n",
       "0  M41859 2019-02-02 00:31:26 -3.69871 -38.586281\n",
       "1  M41859 2019-02-02 00:32:26 -3.69871 -38.586281\n",
       "2  M41859 2019-02-02 00:33:26 -3.69871 -38.586281\n",
       "3  M41859 2019-02-02 00:34:26 -3.69871 -38.586281\n",
       "4  M41859 2019-02-02 00:35:26 -3.69871 -38.586288"
      ]
     },
     "execution_count": 9,
     "metadata": {},
     "output_type": "execute_result"
    }
   ],
   "source": [
    "trajutils.filter_by_id(df, 'M41859', filter_out=False).head()"
   ]
  },
  {
   "cell_type": "markdown",
   "metadata": {},
   "source": [
    "# 2. FUCTIONS TO LAT AND LONG COORDINATES "
   ]
  },
  {
   "cell_type": "code",
   "execution_count": 10,
   "metadata": {},
   "outputs": [
    {
     "data": {
      "text/plain": [
       "-4285978.172767829"
      ]
     },
     "execution_count": 10,
     "metadata": {},
     "output_type": "execute_result"
    }
   ],
   "source": [
    "trajutils.lon2XSpherical(-38.501597)"
   ]
  },
  {
   "cell_type": "code",
   "execution_count": 11,
   "metadata": {},
   "outputs": [
    {
     "data": {
      "text/plain": [
       "-423086.2213610324"
      ]
     },
     "execution_count": 11,
     "metadata": {},
     "output_type": "execute_result"
    }
   ],
   "source": [
    "trajutils.lat2YSpherical(-3.797864)"
   ]
  },
  {
   "cell_type": "code",
   "execution_count": 12,
   "metadata": {},
   "outputs": [
    {
     "data": {
      "text/plain": [
       "-38.50159697513617"
      ]
     },
     "execution_count": 12,
     "metadata": {},
     "output_type": "execute_result"
    }
   ],
   "source": [
    "trajutils.x2LonSpherical(-4285978.17)"
   ]
  },
  {
   "cell_type": "code",
   "execution_count": 13,
   "metadata": {},
   "outputs": [
    {
     "data": {
      "text/plain": [
       "-3.7978639999999944"
      ]
     },
     "execution_count": 13,
     "metadata": {},
     "output_type": "execute_result"
    }
   ],
   "source": [
    "trajutils.y2LatSpherical(-423086.2213610324)"
   ]
  },
  {
   "cell_type": "code",
   "execution_count": 14,
   "metadata": {},
   "outputs": [
    {
     "name": "stdout",
     "output_type": "stream",
     "text": [
      "\n",
      "======================= INFORMATION ABOUT DATASET =======================\n",
      "\n",
      "Number of Rows: 2737386\n",
      "Number of Ids: 290 \n",
      "Trajectories between 2019-02-01 00:00:02 and 2019-02-28 23:59:53\n",
      "Bounding Box: (-25.53447, -49.34629, -3.42381, -37.97867)\n",
      "\n",
      "=========================================================================\n",
      "\n"
     ]
    }
   ],
   "source": [
    "trajutils.show_trajectories_info(df)"
   ]
  },
  {
   "cell_type": "markdown",
   "metadata": {},
   "source": [
    "# 3. CREATING FEATURES BASED ON DATETIME"
   ]
  },
  {
   "cell_type": "code",
   "execution_count": 15,
   "metadata": {},
   "outputs": [
    {
     "name": "stdout",
     "output_type": "stream",
     "text": [
      "\n",
      "Creating or updating tid feature...\n",
      "\n",
      "\n",
      "...tid feature was created...\n",
      "\n",
      "CPU times: user 3.67 s, sys: 145 ms, total: 3.82 s\n",
      "Wall time: 3.32 s\n"
     ]
    }
   ],
   "source": [
    "%%time\n",
    "trajutils.create_update_tid_based_on_id_datatime(df)"
   ]
  },
  {
   "cell_type": "code",
   "execution_count": 16,
   "metadata": {},
   "outputs": [
    {
     "name": "stdout",
     "output_type": "stream",
     "text": [
      "\n",
      "Creating or updating day of the week feature...\n",
      "\n",
      "...the day of the week feature was created...\n",
      "\n",
      "CPU times: user 662 ms, sys: 43.6 ms, total: 705 ms\n",
      "Wall time: 701 ms\n"
     ]
    }
   ],
   "source": [
    "%%time\n",
    "trajutils.create_update_day_of_the_week_features(df)"
   ]
  },
  {
   "cell_type": "code",
   "execution_count": 17,
   "metadata": {},
   "outputs": [
    {
     "name": "stdout",
     "output_type": "stream",
     "text": [
      "\n",
      "Creating or updating period feature\n",
      "...early morning from 0H to 6H\n",
      "...morning from 6H to 12H\n",
      "...afternoon from 12H to 18H\n",
      "...evening from 18H to 24H\n",
      "\n",
      "...the period of day feature was created\n",
      "CPU times: user 3.04 s, sys: 276 ms, total: 3.32 s\n",
      "Wall time: 973 ms\n"
     ]
    }
   ],
   "source": [
    "%%time\n",
    "trajutils.create_update_time_of_day_features(df)"
   ]
  },
  {
   "cell_type": "code",
   "execution_count": 18,
   "metadata": {},
   "outputs": [
    {
     "name": "stdout",
     "output_type": "stream",
     "text": [
      "<class 'pandas.core.frame.DataFrame'>\n",
      "RangeIndex: 2737386 entries, 0 to 2737385\n",
      "Data columns (total 7 columns):\n",
      "id          object\n",
      "datetime    datetime64[ns]\n",
      "lat         float32\n",
      "lon         float32\n",
      "tid         object\n",
      "day         object\n",
      "period      object\n",
      "dtypes: datetime64[ns](1), float32(2), object(4)\n",
      "memory usage: 125.3+ MB\n"
     ]
    }
   ],
   "source": [
    "df.info()"
   ]
  },
  {
   "cell_type": "markdown",
   "metadata": {},
   "source": [
    "# 4. CREATING FEATURES BASED ON LAT AND LONG COORDINATES"
   ]
  },
  {
   "cell_type": "code",
   "execution_count": 19,
   "metadata": {},
   "outputs": [
    {
     "name": "stdout",
     "output_type": "stream",
     "text": [
      "\n",
      "Creating or updating distance features in meters...\n",
      "\n",
      "...Set id as index to increase attribution performance\n",
      "\n",
      "...Sorting by id and datetime to increase performance\n",
      "\n",
      "(1439/2737386) 0% in 00:00:00.213 - estimated end in 00:06:45.788\n",
      "(572347/2737386) 20% in 00:00:00.370 - estimated end in 00:00:01.402\n",
      "(1105939/2737386) 40% in 00:00:00.457 - estimated end in 00:00:00.675\n",
      "(1643031/2737386) 60% in 00:00:00.546 - estimated end in 00:00:00.363\n",
      "(2193264/2737386) 80% in 00:00:00.634 - estimated end in 00:00:00.157\n",
      "(2737386/2737386) 100% in 00:00:00.727 - estimated end in 00:00:00.000\n",
      "...Reset index\n",
      "\n",
      "CPU times: user 4.27 s, sys: 301 ms, total: 4.57 s\n",
      "Wall time: 2.86 s\n"
     ]
    }
   ],
   "source": [
    "%%time\n",
    "trajutils.create_update_dist_features(df,label_dtype=np.float32, sort=True)"
   ]
  },
  {
   "cell_type": "code",
   "execution_count": 20,
   "metadata": {},
   "outputs": [
    {
     "name": "stdout",
     "output_type": "stream",
     "text": [
      "\n",
      "Creating or updating distance features in meters...\n",
      "\n",
      "...Set id as index to increase attribution performance\n",
      "\n",
      "...Sorting by id and datetime to increase performance\n",
      "\n",
      "(1439/2737386) 0% in 00:00:00.255 - estimated end in 00:08:05.510\n",
      "(572347/2737386) 20% in 00:00:00.355 - estimated end in 00:00:01.346\n",
      "(1105939/2737386) 40% in 00:00:00.445 - estimated end in 00:00:00.657\n",
      "(1643031/2737386) 60% in 00:00:00.560 - estimated end in 00:00:00.373\n",
      "(2193264/2737386) 80% in 00:00:00.672 - estimated end in 00:00:00.166\n",
      "(2737386/2737386) 100% in 00:00:00.776 - estimated end in 00:00:00.000\n",
      "...Reset index\n",
      "\n",
      "\n",
      "Creating or updating time and speed features in meters by seconds\n",
      "\n",
      "...Set id as index to a higher peformance\n",
      "\n",
      "(1439/2737386) 0% in 00:00:00.261 - estimated end in 00:08:17.400\n",
      "(572347/2737386) 20% in 00:00:00.285 - estimated end in 00:00:01.078\n",
      "(1105939/2737386) 40% in 00:00:00.306 - estimated end in 00:00:00.451\n",
      "(1643031/2737386) 60% in 00:00:00.333 - estimated end in 00:00:00.222\n",
      "(2193264/2737386) 80% in 00:00:00.362 - estimated end in 00:00:00.089\n",
      "(2737386/2737386) 100% in 00:00:00.393 - estimated end in 00:00:00.000\n",
      "...Reset index...\n",
      "\n",
      "CPU times: user 6.83 s, sys: 430 ms, total: 7.26 s\n",
      "Wall time: 3.31 s\n"
     ]
    }
   ],
   "source": [
    "%%time\n",
    "trajutils.create_update_dist_time_speed_features(df, label_dtype=np.float64)"
   ]
  },
  {
   "cell_type": "code",
   "execution_count": 21,
   "metadata": {},
   "outputs": [
    {
     "name": "stdout",
     "output_type": "stream",
     "text": [
      "\n",
      "Creating or updating features MOVE and STOPS...\n",
      "\n",
      "\n",
      "....There are 1535040 stops to this parameters\n",
      "\n",
      "CPU times: user 3.53 s, sys: 788 ms, total: 4.31 s\n",
      "Wall time: 2.34 s\n"
     ]
    }
   ],
   "source": [
    "%%time\n",
    "trajutils.create_update_move_and_stop_by_radius(df, radius=0, target_label='speed_to_prev')"
   ]
  },
  {
   "cell_type": "markdown",
   "metadata": {},
   "source": [
    "# 5. DATA CLEANING BY ID"
   ]
  },
  {
   "cell_type": "code",
   "execution_count": 22,
   "metadata": {},
   "outputs": [
    {
     "name": "stdout",
     "output_type": "stream",
     "text": [
      "\n",
      "Remove rows duplicates by subset\n",
      "...There are no GPS points duplicated\n",
      "CPU times: user 518 ms, sys: 106 µs, total: 518 ms\n",
      "Wall time: 515 ms\n"
     ]
    }
   ],
   "source": [
    "%%time\n",
    "trajutils.clean_duplicates(df,['id', 'datetime'], inplace=True)"
   ]
  },
  {
   "cell_type": "code",
   "execution_count": 23,
   "metadata": {
    "scrolled": true
   },
   "outputs": [
    {
     "name": "stdout",
     "output_type": "stream",
     "text": [
      "CPU times: user 2.85 s, sys: 164 ms, total: 3.01 s\n",
      "Wall time: 1.74 s\n"
     ]
    }
   ],
   "source": [
    "%%time\n",
    "trajutils.clean_NaN_values(df, inplace=False)"
   ]
  },
  {
   "cell_type": "code",
   "execution_count": 24,
   "metadata": {},
   "outputs": [
    {
     "name": "stdout",
     "output_type": "stream",
     "text": [
      "\n",
      "Creating or updating distance features in meters...\n",
      "\n",
      "...Set id as index to increase attribution performance\n",
      "\n",
      "...Sorting by id and datetime to increase performance\n",
      "\n",
      "(1439/2737386) 0% in 00:00:00.220 - estimated end in 00:07:00.084\n",
      "(572347/2737386) 20% in 00:00:00.311 - estimated end in 00:00:01.180\n",
      "(1105939/2737386) 40% in 00:00:00.394 - estimated end in 00:00:00.581\n",
      "(1643031/2737386) 60% in 00:00:00.487 - estimated end in 00:00:00.324\n",
      "(2193264/2737386) 80% in 00:00:00.577 - estimated end in 00:00:00.143\n",
      "(2737386/2737386) 100% in 00:00:00.667 - estimated end in 00:00:00.000\n",
      "...Reset index\n",
      "\n",
      "\n",
      "Cleaning gps points from radius of 10.0 meters\n",
      "\n",
      "...There are 2459010 gps points to drop\n",
      "\n",
      "...Dropping 2459010 gps points\n",
      "\n",
      "...Rows before: 2737386, Rows after:278376\n",
      "\n",
      "\n",
      "Creating or updating distance features in meters...\n",
      "\n",
      "...Set id as index to increase attribution performance\n",
      "\n",
      "...Sorting by id and datetime to increase performance\n",
      "\n",
      "(237/278376) 0% in 00:00:00.023 - estimated end in 00:00:27.769\n",
      "(56171/278376) 20% in 00:00:00.057 - estimated end in 00:00:00.229\n",
      "(112809/278376) 40% in 00:00:00.086 - estimated end in 00:00:00.127\n",
      "(168400/278376) 60% in 00:00:00.115 - estimated end in 00:00:00.075\n",
      "(223762/278376) 80% in 00:00:00.143 - estimated end in 00:00:00.035\n",
      "(278376/278376) 100% in 00:00:00.173 - estimated end in 00:00:00.000\n",
      "...Reset index\n",
      "\n",
      "\n",
      "Cleaning gps points from radius of 10.0 meters\n",
      "\n",
      "...There are 22004 gps points to drop\n",
      "\n",
      "...Dropping 22004 gps points\n",
      "\n",
      "...Rows before: 278376, Rows after:256372\n",
      "\n",
      "\n",
      "Creating or updating distance features in meters...\n",
      "\n",
      "...Set id as index to increase attribution performance\n",
      "\n",
      "...Sorting by id and datetime to increase performance\n",
      "\n",
      "(218/256372) 0% in 00:00:00.022 - estimated end in 00:00:26.262\n",
      "(51989/256372) 20% in 00:00:00.050 - estimated end in 00:00:00.199\n",
      "(103179/256372) 40% in 00:00:00.078 - estimated end in 00:00:00.116\n",
      "(154969/256372) 60% in 00:00:00.106 - estimated end in 00:00:00.069\n",
      "(205811/256372) 80% in 00:00:00.140 - estimated end in 00:00:00.034\n",
      "(256372/256372) 100% in 00:00:00.176 - estimated end in 00:00:00.000\n",
      "...Reset index\n",
      "\n",
      "\n",
      "Cleaning gps points from radius of 10.0 meters\n",
      "\n",
      "...There are 4284 gps points to drop\n",
      "\n",
      "...Dropping 4284 gps points\n",
      "\n",
      "...Rows before: 256372, Rows after:252088\n",
      "\n",
      "\n",
      "Creating or updating distance features in meters...\n",
      "\n",
      "...Set id as index to increase attribution performance\n",
      "\n",
      "...Sorting by id and datetime to increase performance\n",
      "\n",
      "(215/252088) 0% in 00:00:00.020 - estimated end in 00:00:24.461\n",
      "(51179/252088) 20% in 00:00:00.049 - estimated end in 00:00:00.193\n",
      "(101304/252088) 40% in 00:00:00.078 - estimated end in 00:00:00.116\n",
      "(152367/252088) 60% in 00:00:00.109 - estimated end in 00:00:00.071\n",
      "(202324/252088) 80% in 00:00:00.138 - estimated end in 00:00:00.034\n",
      "(252088/252088) 100% in 00:00:00.170 - estimated end in 00:00:00.000\n",
      "...Reset index\n",
      "\n",
      "\n",
      "Cleaning gps points from radius of 10.0 meters\n",
      "\n",
      "...There are 1185 gps points to drop\n",
      "\n",
      "...Dropping 1185 gps points\n",
      "\n",
      "...Rows before: 252088, Rows after:250903\n",
      "\n",
      "\n",
      "Creating or updating distance features in meters...\n",
      "\n",
      "...Set id as index to increase attribution performance\n",
      "\n",
      "...Sorting by id and datetime to increase performance\n",
      "\n",
      "(214/250903) 0% in 00:00:00.021 - estimated end in 00:00:24.741\n",
      "(50986/250903) 20% in 00:00:00.047 - estimated end in 00:00:00.187\n",
      "(100792/250903) 40% in 00:00:00.074 - estimated end in 00:00:00.110\n",
      "(151650/250903) 60% in 00:00:00.100 - estimated end in 00:00:00.065\n",
      "(201371/250903) 80% in 00:00:00.126 - estimated end in 00:00:00.030\n",
      "(250903/250903) 100% in 00:00:00.151 - estimated end in 00:00:00.000\n",
      "...Reset index\n",
      "\n",
      "\n",
      "Cleaning gps points from radius of 10.0 meters\n",
      "\n",
      "...There are 399 gps points to drop\n",
      "\n",
      "...Dropping 399 gps points\n",
      "\n",
      "...Rows before: 250903, Rows after:250504\n",
      "\n",
      "\n",
      "Creating or updating distance features in meters...\n",
      "\n",
      "...Set id as index to increase attribution performance\n",
      "\n",
      "...Sorting by id and datetime to increase performance\n",
      "\n",
      "(214/250504) 0% in 00:00:00.019 - estimated end in 00:00:23.263\n",
      "(50921/250504) 20% in 00:00:00.046 - estimated end in 00:00:00.182\n",
      "(100618/250504) 40% in 00:00:00.073 - estimated end in 00:00:00.109\n",
      "(151412/250504) 60% in 00:00:00.100 - estimated end in 00:00:00.065\n",
      "(201051/250504) 80% in 00:00:00.126 - estimated end in 00:00:00.031\n",
      "(250504/250504) 100% in 00:00:00.152 - estimated end in 00:00:00.000\n",
      "...Reset index\n",
      "\n",
      "\n",
      "Cleaning gps points from radius of 10.0 meters\n",
      "\n",
      "...There are 147 gps points to drop\n",
      "\n",
      "...Dropping 147 gps points\n",
      "\n",
      "...Rows before: 250504, Rows after:250357\n",
      "\n",
      "\n",
      "Creating or updating distance features in meters...\n",
      "\n",
      "...Set id as index to increase attribution performance\n",
      "\n",
      "...Sorting by id and datetime to increase performance\n",
      "\n",
      "(214/250357) 0% in 00:00:00.019 - estimated end in 00:00:23.305\n",
      "(50902/250357) 20% in 00:00:00.046 - estimated end in 00:00:00.181\n",
      "(100549/250357) 40% in 00:00:00.073 - estimated end in 00:00:00.109\n",
      "(151316/250357) 60% in 00:00:00.103 - estimated end in 00:00:00.067\n",
      "(200927/250357) 80% in 00:00:00.138 - estimated end in 00:00:00.033\n",
      "(250357/250357) 100% in 00:00:00.173 - estimated end in 00:00:00.000\n",
      "...Reset index\n",
      "\n",
      "\n",
      "Cleaning gps points from radius of 10.0 meters\n",
      "\n",
      "...There are 71 gps points to drop\n",
      "\n",
      "...Dropping 71 gps points\n",
      "\n",
      "...Rows before: 250357, Rows after:250286\n",
      "\n",
      "\n",
      "Creating or updating distance features in meters...\n",
      "\n",
      "...Set id as index to increase attribution performance\n",
      "\n",
      "...Sorting by id and datetime to increase performance\n",
      "\n",
      "(214/250286) 0% in 00:00:00.021 - estimated end in 00:00:24.968\n",
      "(50895/250286) 20% in 00:00:00.047 - estimated end in 00:00:00.187\n",
      "(100519/250286) 40% in 00:00:00.074 - estimated end in 00:00:00.110\n",
      "(151272/250286) 60% in 00:00:00.101 - estimated end in 00:00:00.066\n",
      "(200871/250286) 80% in 00:00:00.127 - estimated end in 00:00:00.031\n",
      "(250286/250286) 100% in 00:00:00.155 - estimated end in 00:00:00.000\n",
      "...Reset index\n",
      "\n",
      "\n",
      "Cleaning gps points from radius of 10.0 meters\n",
      "\n",
      "...There are 34 gps points to drop\n",
      "\n",
      "...Dropping 34 gps points\n",
      "\n",
      "...Rows before: 250286, Rows after:250252\n",
      "\n",
      "\n",
      "Creating or updating distance features in meters...\n",
      "\n",
      "...Set id as index to increase attribution performance\n",
      "\n",
      "...Sorting by id and datetime to increase performance\n",
      "\n",
      "(214/250252) 0% in 00:00:00.019 - estimated end in 00:00:23.046\n",
      "(50891/250252) 20% in 00:00:00.046 - estimated end in 00:00:00.181\n",
      "(100504/250252) 40% in 00:00:00.072 - estimated end in 00:00:00.108\n",
      "(151251/250252) 60% in 00:00:00.099 - estimated end in 00:00:00.065\n",
      "(200843/250252) 80% in 00:00:00.125 - estimated end in 00:00:00.030\n",
      "(250252/250252) 100% in 00:00:00.151 - estimated end in 00:00:00.000\n",
      "...Reset index\n",
      "\n",
      "\n",
      "Cleaning gps points from radius of 10.0 meters\n",
      "\n",
      "...There are 14 gps points to drop\n",
      "\n",
      "...Dropping 14 gps points\n",
      "\n",
      "...Rows before: 250252, Rows after:250238\n",
      "\n",
      "\n",
      "Creating or updating distance features in meters...\n",
      "\n",
      "...Set id as index to increase attribution performance\n",
      "\n",
      "...Sorting by id and datetime to increase performance\n",
      "\n",
      "(214/250238) 0% in 00:00:00.021 - estimated end in 00:00:25.088\n",
      "(50890/250238) 20% in 00:00:00.048 - estimated end in 00:00:00.190\n",
      "(100499/250238) 40% in 00:00:00.074 - estimated end in 00:00:00.111\n",
      "(151242/250238) 60% in 00:00:00.101 - estimated end in 00:00:00.066\n",
      "(200832/250238) 80% in 00:00:00.126 - estimated end in 00:00:00.031\n",
      "(250238/250238) 100% in 00:00:00.152 - estimated end in 00:00:00.000\n",
      "...Reset index\n",
      "\n",
      "\n",
      "Cleaning gps points from radius of 10.0 meters\n",
      "\n",
      "...There are 6 gps points to drop\n",
      "\n",
      "...Dropping 6 gps points\n",
      "\n",
      "...Rows before: 250238, Rows after:250232\n",
      "\n",
      "\n",
      "Creating or updating distance features in meters...\n",
      "\n",
      "...Set id as index to increase attribution performance\n",
      "\n",
      "...Sorting by id and datetime to increase performance\n",
      "\n",
      "(214/250232) 0% in 00:00:00.022 - estimated end in 00:00:26.351\n",
      "(50889/250232) 20% in 00:00:00.049 - estimated end in 00:00:00.192\n",
      "(100496/250232) 40% in 00:00:00.087 - estimated end in 00:00:00.130\n",
      "(151237/250232) 60% in 00:00:00.114 - estimated end in 00:00:00.074\n",
      "(200826/250232) 80% in 00:00:00.139 - estimated end in 00:00:00.034\n",
      "(250232/250232) 100% in 00:00:00.165 - estimated end in 00:00:00.000\n",
      "...Reset index\n",
      "\n",
      "\n",
      "Cleaning gps points from radius of 10.0 meters\n",
      "\n",
      "...There are 3 gps points to drop\n",
      "\n",
      "...Dropping 3 gps points\n",
      "\n",
      "...Rows before: 250232, Rows after:250229\n",
      "\n",
      "\n",
      "Creating or updating distance features in meters...\n",
      "\n",
      "...Set id as index to increase attribution performance\n",
      "\n",
      "...Sorting by id and datetime to increase performance\n",
      "\n"
     ]
    },
    {
     "name": "stdout",
     "output_type": "stream",
     "text": [
      "(214/250229) 0% in 00:00:00.352 - estimated end in 00:06:51.588\n",
      "(50888/250229) 20% in 00:00:00.378 - estimated end in 00:00:01.483\n",
      "(100493/250229) 40% in 00:00:00.405 - estimated end in 00:00:00.603\n",
      "(151234/250229) 60% in 00:00:00.432 - estimated end in 00:00:00.282\n",
      "(200823/250229) 80% in 00:00:00.457 - estimated end in 00:00:00.112\n",
      "(250229/250229) 100% in 00:00:00.484 - estimated end in 00:00:00.000\n",
      "...Reset index\n",
      "\n",
      "\n",
      "Cleaning gps points from radius of 10.0 meters\n",
      "\n",
      "...There are 1 gps points to drop\n",
      "\n",
      "...Dropping 1 gps points\n",
      "\n",
      "...Rows before: 250229, Rows after:250228\n",
      "\n",
      "\n",
      "Creating or updating distance features in meters...\n",
      "\n",
      "...Set id as index to increase attribution performance\n",
      "\n",
      "...Sorting by id and datetime to increase performance\n",
      "\n",
      "(214/250228) 0% in 00:00:00.022 - estimated end in 00:00:26.589\n",
      "(50888/250228) 20% in 00:00:00.049 - estimated end in 00:00:00.195\n",
      "(100492/250228) 40% in 00:00:00.076 - estimated end in 00:00:00.113\n",
      "(151233/250228) 60% in 00:00:00.103 - estimated end in 00:00:00.067\n",
      "(200822/250228) 80% in 00:00:00.128 - estimated end in 00:00:00.031\n",
      "(250228/250228) 100% in 00:00:00.154 - estimated end in 00:00:00.000\n",
      "...Reset index\n",
      "\n",
      "\n",
      "Cleaning gps points from radius of 10.0 meters\n",
      "\n",
      "...There are 1 gps points to drop\n",
      "\n",
      "...Dropping 1 gps points\n",
      "\n",
      "...Rows before: 250228, Rows after:250227\n",
      "\n",
      "\n",
      "Creating or updating distance features in meters...\n",
      "\n",
      "...Set id as index to increase attribution performance\n",
      "\n",
      "...Sorting by id and datetime to increase performance\n",
      "\n",
      "(214/250227) 0% in 00:00:00.025 - estimated end in 00:00:30.352\n",
      "(50888/250227) 20% in 00:00:00.052 - estimated end in 00:00:00.205\n",
      "(100491/250227) 40% in 00:00:00.078 - estimated end in 00:00:00.117\n",
      "(151232/250227) 60% in 00:00:00.106 - estimated end in 00:00:00.069\n",
      "(200821/250227) 80% in 00:00:00.132 - estimated end in 00:00:00.032\n",
      "(250227/250227) 100% in 00:00:00.159 - estimated end in 00:00:00.000\n",
      "...Reset index\n",
      "\n",
      "\n",
      "Cleaning gps points from radius of 10.0 meters\n",
      "\n",
      "...There are 1 gps points to drop\n",
      "\n",
      "...Dropping 1 gps points\n",
      "\n",
      "...Rows before: 250227, Rows after:250226\n",
      "\n",
      "\n",
      "Creating or updating distance features in meters...\n",
      "\n",
      "...Set id as index to increase attribution performance\n",
      "\n",
      "...Sorting by id and datetime to increase performance\n",
      "\n",
      "(214/250226) 0% in 00:00:00.021 - estimated end in 00:00:25.302\n",
      "(50888/250226) 20% in 00:00:00.048 - estimated end in 00:00:00.190\n",
      "(100490/250226) 40% in 00:00:00.074 - estimated end in 00:00:00.111\n",
      "(151231/250226) 60% in 00:00:00.102 - estimated end in 00:00:00.067\n",
      "(200820/250226) 80% in 00:00:00.128 - estimated end in 00:00:00.031\n",
      "(250226/250226) 100% in 00:00:00.154 - estimated end in 00:00:00.000\n",
      "...Reset index\n",
      "\n",
      "\n",
      "Cleaning gps points from radius of 10.0 meters\n",
      "\n",
      "...There are 1 gps points to drop\n",
      "\n",
      "...Dropping 1 gps points\n",
      "\n",
      "...Rows before: 250226, Rows after:250225\n",
      "\n",
      "\n",
      "Creating or updating distance features in meters...\n",
      "\n",
      "...Set id as index to increase attribution performance\n",
      "\n",
      "...Sorting by id and datetime to increase performance\n",
      "\n",
      "(214/250225) 0% in 00:00:00.021 - estimated end in 00:00:25.198\n",
      "(50888/250225) 20% in 00:00:00.048 - estimated end in 00:00:00.191\n",
      "(100489/250225) 40% in 00:00:00.075 - estimated end in 00:00:00.112\n",
      "(151230/250225) 60% in 00:00:00.102 - estimated end in 00:00:00.066\n",
      "(200819/250225) 80% in 00:00:00.128 - estimated end in 00:00:00.031\n",
      "(250225/250225) 100% in 00:00:00.154 - estimated end in 00:00:00.000\n",
      "...Reset index\n",
      "\n",
      "\n",
      "Cleaning gps points from radius of 10.0 meters\n",
      "\n",
      "...There are 0 gps points to drop\n",
      "\n",
      "CPU times: user 15.8 s, sys: 825 ms, total: 16.6 s\n",
      "Wall time: 13.4 s\n"
     ]
    }
   ],
   "source": [
    "%%time\n",
    "trajutils.clean_gps_nearby_points(df)"
   ]
  },
  {
   "cell_type": "code",
   "execution_count": 25,
   "metadata": {},
   "outputs": [
    {
     "name": "stdout",
     "output_type": "stream",
     "text": [
      "\n",
      "Creating or updating distance features in meters...\n",
      "\n",
      "...Set id as index to increase attribution performance\n",
      "\n",
      "...Sorting by id and datetime to increase performance\n",
      "\n",
      "(214/250225) 0% in 00:00:00.023 - estimated end in 00:00:28.037\n",
      "(50888/250225) 20% in 00:00:00.052 - estimated end in 00:00:00.206\n",
      "(100489/250225) 40% in 00:00:00.080 - estimated end in 00:00:00.119\n",
      "(151230/250225) 60% in 00:00:00.107 - estimated end in 00:00:00.070\n",
      "(200819/250225) 80% in 00:00:00.133 - estimated end in 00:00:00.032\n",
      "(250225/250225) 100% in 00:00:00.160 - estimated end in 00:00:00.000\n",
      "...Reset index\n",
      "\n",
      "\n",
      "Cleaning gps jumps by distance to jump_coefficient 3.0...\n",
      "\n",
      "...There are 13851 gps points to drop \n",
      "\n",
      "...Dropping 13851 rows of gps points\n",
      "\n",
      "...Rows before: 250225, Rows after:236374\n",
      "\n",
      "\n",
      "Creating or updating distance features in meters...\n",
      "\n",
      "...Set id as index to increase attribution performance\n",
      "\n",
      "...Sorting by id and datetime to increase performance\n",
      "\n",
      "(198/236374) 0% in 00:00:00.023 - estimated end in 00:00:28.133\n",
      "(47757/236374) 20% in 00:00:00.050 - estimated end in 00:00:00.198\n",
      "(95339/236374) 40% in 00:00:00.076 - estimated end in 00:00:00.113\n",
      "(142711/236374) 60% in 00:00:00.103 - estimated end in 00:00:00.067\n",
      "(189363/236374) 80% in 00:00:00.129 - estimated end in 00:00:00.032\n",
      "(236374/236374) 100% in 00:00:00.154 - estimated end in 00:00:00.000\n",
      "...Reset index\n",
      "\n",
      "\n",
      "Cleaning gps jumps by distance to jump_coefficient 3.0...\n",
      "\n",
      "...There are 283 gps points to drop \n",
      "\n",
      "...Dropping 283 rows of gps points\n",
      "\n",
      "...Rows before: 236374, Rows after:236091\n",
      "\n",
      "\n",
      "Creating or updating distance features in meters...\n",
      "\n",
      "...Set id as index to increase attribution performance\n",
      "\n",
      "...Sorting by id and datetime to increase performance\n",
      "\n",
      "(197/236091) 0% in 00:00:00.023 - estimated end in 00:00:27.797\n",
      "(47691/236091) 20% in 00:00:00.049 - estimated end in 00:00:00.196\n",
      "(95207/236091) 40% in 00:00:00.076 - estimated end in 00:00:00.112\n",
      "(142539/236091) 60% in 00:00:00.102 - estimated end in 00:00:00.067\n",
      "(189122/236091) 80% in 00:00:00.128 - estimated end in 00:00:00.031\n",
      "(236091/236091) 100% in 00:00:00.154 - estimated end in 00:00:00.000\n",
      "...Reset index\n",
      "\n",
      "\n",
      "Cleaning gps jumps by distance to jump_coefficient 3.0...\n",
      "\n",
      "...There are 3 gps points to drop \n",
      "\n",
      "...Dropping 3 rows of gps points\n",
      "\n",
      "...Rows before: 236091, Rows after:236088\n",
      "\n",
      "\n",
      "Creating or updating distance features in meters...\n",
      "\n",
      "...Set id as index to increase attribution performance\n",
      "\n",
      "...Sorting by id and datetime to increase performance\n",
      "\n",
      "(197/236088) 0% in 00:00:00.021 - estimated end in 00:00:25.795\n",
      "(47691/236088) 20% in 00:00:00.048 - estimated end in 00:00:00.190\n",
      "(95206/236088) 40% in 00:00:00.074 - estimated end in 00:00:00.110\n",
      "(142537/236088) 60% in 00:00:00.100 - estimated end in 00:00:00.066\n",
      "(189119/236088) 80% in 00:00:00.125 - estimated end in 00:00:00.031\n",
      "(236088/236088) 100% in 00:00:00.151 - estimated end in 00:00:00.000\n",
      "...Reset index\n",
      "\n",
      "\n",
      "Cleaning gps jumps by distance to jump_coefficient 3.0...\n",
      "\n",
      "...There are 0 gps points to drop \n",
      "\n",
      "CPU times: user 4.05 s, sys: 120 ms, total: 4.17 s\n",
      "Wall time: 2.01 s\n"
     ]
    }
   ],
   "source": [
    "%%time\n",
    "trajutils.clean_gps_jumps_by_distance(df, jump_coefficient=3.0, threshold=1, label_dtype=np.float64)"
   ]
  },
  {
   "cell_type": "code",
   "execution_count": 26,
   "metadata": {},
   "outputs": [
    {
     "name": "stdout",
     "output_type": "stream",
     "text": [
      "\n",
      "Creating or updating distance features in meters...\n",
      "\n",
      "...Set id as index to increase attribution performance\n",
      "\n",
      "...Sorting by id and datetime to increase performance\n",
      "\n",
      "(197/236088) 0% in 00:00:00.023 - estimated end in 00:00:27.728\n",
      "(47691/236088) 20% in 00:00:00.049 - estimated end in 00:00:00.196\n",
      "(95206/236088) 40% in 00:00:00.077 - estimated end in 00:00:00.115\n",
      "(142537/236088) 60% in 00:00:00.113 - estimated end in 00:00:00.074\n",
      "(189119/236088) 80% in 00:00:00.150 - estimated end in 00:00:00.037\n",
      "(236088/236088) 100% in 00:00:00.177 - estimated end in 00:00:00.000\n",
      "...Reset index\n",
      "\n",
      "\n",
      "Creating or updating time and speed features in meters by seconds\n",
      "\n",
      "...Set id as index to a higher peformance\n",
      "\n",
      "(197/236088) 0% in 00:00:00.019 - estimated end in 00:00:23.369\n",
      "(47691/236088) 20% in 00:00:00.036 - estimated end in 00:00:00.145\n",
      "(95206/236088) 40% in 00:00:00.057 - estimated end in 00:00:00.084\n",
      "(142537/236088) 60% in 00:00:00.073 - estimated end in 00:00:00.048\n",
      "(189119/236088) 80% in 00:00:00.089 - estimated end in 00:00:00.022\n",
      "(236088/236088) 100% in 00:00:00.105 - estimated end in 00:00:00.000\n",
      "...Reset index...\n",
      "\n",
      "\n",
      "Clean gps points with speed max > 50.0 meters by seconds\n",
      "...There 8 gps points with speed_max > 50.0\n",
      "\n",
      "...Dropping 8 rows of jumps by speed max\n",
      "\n",
      "...Rows before: 236088, Rows after:236080\n",
      "\n",
      "\n",
      "Creating or updating distance features in meters...\n",
      "\n",
      "...Set id as index to increase attribution performance\n",
      "\n",
      "...Sorting by id and datetime to increase performance\n",
      "\n",
      "(197/236080) 0% in 00:00:00.018 - estimated end in 00:00:22.688\n",
      "(47691/236080) 20% in 00:00:00.055 - estimated end in 00:00:00.220\n",
      "(95204/236080) 40% in 00:00:00.086 - estimated end in 00:00:00.127\n",
      "(142533/236080) 60% in 00:00:00.112 - estimated end in 00:00:00.074\n",
      "(189113/236080) 80% in 00:00:00.137 - estimated end in 00:00:00.034\n",
      "(236080/236080) 100% in 00:00:00.163 - estimated end in 00:00:00.000\n",
      "...Reset index\n",
      "\n",
      "\n",
      "Creating or updating time and speed features in meters by seconds\n",
      "\n",
      "...Set id as index to a higher peformance\n",
      "\n",
      "(197/236080) 0% in 00:00:00.019 - estimated end in 00:00:23.569\n",
      "(47691/236080) 20% in 00:00:00.035 - estimated end in 00:00:00.141\n",
      "(95204/236080) 40% in 00:00:00.053 - estimated end in 00:00:00.079\n",
      "(142533/236080) 60% in 00:00:00.070 - estimated end in 00:00:00.046\n",
      "(189113/236080) 80% in 00:00:00.086 - estimated end in 00:00:00.021\n",
      "(236080/236080) 100% in 00:00:00.102 - estimated end in 00:00:00.000\n",
      "...Reset index...\n",
      "\n",
      "\n",
      "Clean gps points with speed max > 50.0 meters by seconds\n",
      "...There 0 gps points with speed_max > 50.0\n",
      "\n",
      "CPU times: user 1.5 s, sys: 26.9 ms, total: 1.53 s\n",
      "Wall time: 1.24 s\n"
     ]
    }
   ],
   "source": [
    "%%time\n",
    "trajutils.clean_gps_speed_max_radius(df,  speed_max=50.0, label_dtype=np.float64)"
   ]
  },
  {
   "cell_type": "markdown",
   "metadata": {},
   "source": [
    "# 6. DATA CLEANING BY TID"
   ]
  },
  {
   "cell_type": "code",
   "execution_count": 27,
   "metadata": {},
   "outputs": [
    {
     "name": "stdout",
     "output_type": "stream",
     "text": [
      "\n",
      "Creating or updating distance features in meters...\n",
      "\n",
      "...Set tid as index to increase attribution performance\n",
      "\n",
      "...Sorting by tid and datetime to increase performance\n",
      "\n",
      "(197/236080) 0% in 00:00:00.056 - estimated end in 00:01:07.210\n",
      "...id:M118902019-02-13, must have at least 2 GPS points\n",
      "\n",
      "...id:M129682019-02-24, must have at least 2 GPS points\n",
      "\n",
      "(47412/236080) 20% in 00:00:00.185 - estimated end in 00:00:00.736\n",
      "(94500/236080) 40% in 00:00:00.329 - estimated end in 00:00:00.493\n",
      "...id:M516432019-02-25, must have at least 2 GPS points\n",
      "\n",
      "(141776/236080) 60% in 00:00:00.429 - estimated end in 00:00:00.285\n",
      "...id:M647572019-02-13, must have at least 2 GPS points\n",
      "\n",
      "...id:M688302019-02-07, must have at least 2 GPS points\n",
      "\n",
      "...id:M703642019-02-07, must have at least 2 GPS points\n",
      "\n",
      "...id:M703642019-02-13, must have at least 2 GPS points\n",
      "\n",
      "...id:M774782019-02-14, must have at least 2 GPS points\n",
      "\n",
      "(188993/236080) 80% in 00:00:00.560 - estimated end in 00:00:00.139\n",
      "...Reset index\n",
      "\n",
      "\n",
      "Creating or updating time and speed features in meters by seconds\n",
      "\n",
      "...Set tid as index to a higher peformance\n",
      "\n",
      "(197/236080) 0% in 00:00:00.048 - estimated end in 00:00:58.175\n",
      "...id:M118902019-02-13, must have at least 2 GPS points\n",
      "\n",
      "...id:M129682019-02-24, must have at least 2 GPS points\n",
      "\n",
      "(47412/236080) 20% in 00:00:00.168 - estimated end in 00:00:00.669\n",
      "(94500/236080) 40% in 00:00:00.291 - estimated end in 00:00:00.437\n",
      "...id:M516432019-02-25, must have at least 2 GPS points\n",
      "\n",
      "(141776/236080) 60% in 00:00:00.380 - estimated end in 00:00:00.253\n",
      "...id:M647572019-02-13, must have at least 2 GPS points\n",
      "\n",
      "...id:M688302019-02-07, must have at least 2 GPS points\n",
      "\n",
      "...id:M703642019-02-07, must have at least 2 GPS points\n",
      "\n",
      "...id:M703642019-02-13, must have at least 2 GPS points\n",
      "\n",
      "...id:M774782019-02-14, must have at least 2 GPS points\n",
      "\n",
      "(188993/236080) 80% in 00:00:00.497 - estimated end in 00:00:00.123\n",
      "...Reset index...\n",
      "\n",
      "\n",
      "...there are 1970 ids with few points\n",
      "\n",
      "...tids before drop: 1976\n",
      "\n",
      "...tids after drop: 6\n",
      "\n",
      "...shape - before drop: (236080, 15) - after drop: (3633, 15)\n",
      "CPU times: user 1.89 s, sys: 55.4 ms, total: 1.94 s\n",
      "Wall time: 1.9 s\n"
     ]
    }
   ],
   "source": [
    "%%time\n",
    "trajutils.clean_trajectories_with_few_points(df, label_id='tid', min_points_per_trajectory=500, label_dtype=np.float64)"
   ]
  },
  {
   "cell_type": "code",
   "execution_count": 28,
   "metadata": {},
   "outputs": [
    {
     "name": "stdout",
     "output_type": "stream",
     "text": [
      "\n",
      "Remove short trajectories...\n",
      "\n",
      "Creating or updating distance features in meters...\n",
      "\n",
      "...Set tid as index to increase attribution performance\n",
      "\n",
      "...Sorting by tid and datetime to increase performance\n",
      "\n",
      "(3633/3633) 100% in 00:00:00.212 - estimated end in 00:00:00.000\n",
      "...Reset index\n",
      "\n",
      "\n",
      "Creating or updating time and speed features in meters by seconds\n",
      "\n",
      "...Set tid as index to a higher peformance\n",
      "\n",
      "(3633/3633) 100% in 00:00:00.002 - estimated end in 00:00:00.000\n",
      "...Reset index...\n",
      "\n",
      "\n",
      "...there are 0 ids with few points\n",
      "\n",
      "Creating or updating distance features in meters...\n",
      "\n",
      "...Set tid as index to increase attribution performance\n",
      "\n",
      "...Sorting by tid and datetime to increase performance\n",
      "\n",
      "(3633/3633) 100% in 00:00:00.003 - estimated end in 00:00:00.000\n",
      "...Reset index\n",
      "\n",
      "\n",
      "Creating or updating time and speed features in meters by seconds\n",
      "\n",
      "...Set tid as index to a higher peformance\n",
      "\n",
      "(3633/3633) 100% in 00:00:00.002 - estimated end in 00:00:00.000\n",
      "...Reset index...\n",
      "\n",
      "\n",
      "...Dropping unnecessary trajectories...\n",
      "\n",
      "...short trajectories and trajectories with a minimum distance (6): 100\n",
      "\n",
      "...There are 0 tid do drop\n",
      "CPU times: user 210 ms, sys: 48.1 ms, total: 258 ms\n",
      "Wall time: 254 ms\n"
     ]
    }
   ],
   "source": [
    "%%time \n",
    "trajutils.clean_short_and_few_points_trajectories(df, min_trajectory_distance=100, min_points_per_trajectory=2)"
   ]
  },
  {
   "cell_type": "markdown",
   "metadata": {},
   "source": [
    "# 7. SPLIT TRAJECTORIES"
   ]
  },
  {
   "cell_type": "code",
   "execution_count": 29,
   "metadata": {},
   "outputs": [
    {
     "name": "stdout",
     "output_type": "stream",
     "text": [
      "\n",
      "Split trajectories\n",
      "...max_time_between_adj_points: 120000\n",
      "...max_dist_between_adj_points: 1000\n",
      "...max_speed: 25\n",
      "...setting tid as index\n",
      "(3633/3633) 100% in 00:00:00.002 - estimated end in 00:00:00.000\n",
      "no trajs with only one point - nothing to change: (3633, 16)\n",
      "CPU times: user 13.2 ms, sys: 77 µs, total: 13.2 ms\n",
      "Wall time: 11.8 ms\n"
     ]
    },
    {
     "name": "stderr",
     "output_type": "stream",
     "text": [
      "/home/nicksson/Git/2_Doutorado/PyRoad/utils/trajutils.py:605: RuntimeWarning: invalid value encountered in greater\n",
      "  (df_.at[idx, dic_features_label['dist_to_prev']] > max_dist_between_adj_points) | \\\n",
      "/home/nicksson/Git/2_Doutorado/PyRoad/utils/trajutils.py:606: RuntimeWarning: invalid value encountered in greater\n",
      "  (df_.at[idx, dic_features_label['speed_to_prev']] > max_speed)\n"
     ]
    }
   ],
   "source": [
    "%%time\n",
    "trajutils.split_trajectories(df, label_id='tid', max_dist_between_adj_points=1000,\n",
    "    max_time_between_adj_points=120000, label_new_id='tid_part')"
   ]
  },
  {
   "cell_type": "markdown",
   "metadata": {},
   "source": [
    "# 8. TRANFORMATION"
   ]
  },
  {
   "cell_type": "markdown",
   "metadata": {},
   "source": [
    "### Distance"
   ]
  },
  {
   "cell_type": "code",
   "execution_count": 30,
   "metadata": {},
   "outputs": [],
   "source": [
    "trajutils.transform_dist_from_meters_to_kilometers(df, label_distance='dist_to_prev')"
   ]
  },
  {
   "cell_type": "code",
   "execution_count": 31,
   "metadata": {},
   "outputs": [],
   "source": [
    "trajutils.transform_dist_from_to_kilometers_to_meters(df, label_distance='dist_to_prev', new_label='dist_m')"
   ]
  },
  {
   "cell_type": "markdown",
   "metadata": {},
   "source": [
    "### Time"
   ]
  },
  {
   "cell_type": "code",
   "execution_count": 32,
   "metadata": {},
   "outputs": [],
   "source": [
    "trajutils.transform_time_from_seconds_to_minutes(df, label_time='time_to_prev')"
   ]
  },
  {
   "cell_type": "code",
   "execution_count": 33,
   "metadata": {},
   "outputs": [],
   "source": [
    "trajutils.transform_time_from_minute_to_hours(df, label_time='time_to_prev')"
   ]
  },
  {
   "cell_type": "code",
   "execution_count": 34,
   "metadata": {},
   "outputs": [],
   "source": [
    "trajutils.transform_time_from_hours_to_minute(df, label_time='time_to_prev')"
   ]
  },
  {
   "cell_type": "code",
   "execution_count": 35,
   "metadata": {},
   "outputs": [],
   "source": [
    "trajutils.transform_time_from_minute_to_seconds(df, label_time='time_to_prev')"
   ]
  },
  {
   "cell_type": "code",
   "execution_count": 36,
   "metadata": {},
   "outputs": [],
   "source": [
    "trajutils.transform_time_from_seconds_to_hours(df, label_time='time_to_prev')"
   ]
  },
  {
   "cell_type": "code",
   "execution_count": 37,
   "metadata": {},
   "outputs": [],
   "source": [
    "trajutils.transform_time_from_hours_to_seconds(df, label_time='time_to_prev')"
   ]
  },
  {
   "cell_type": "code",
   "execution_count": 38,
   "metadata": {},
   "outputs": [],
   "source": [
    "trajutils.transform_time_from_seconds_to_minutes(df, label_time='time_to_prev', new_label='time_m')"
   ]
  },
  {
   "cell_type": "markdown",
   "metadata": {},
   "source": [
    "### Speed"
   ]
  },
  {
   "cell_type": "code",
   "execution_count": 39,
   "metadata": {},
   "outputs": [],
   "source": [
    "trajutils.transform_speed_from_ms_to_kmh(df, label_speed='speed_to_prev')"
   ]
  },
  {
   "cell_type": "code",
   "execution_count": 40,
   "metadata": {},
   "outputs": [],
   "source": [
    "trajutils.transform_speed_from_ms_to_kmh(df, label_speed='speed_to_prev', new_label='speed_ms')"
   ]
  }
 ],
 "metadata": {
  "kernelspec": {
   "display_name": "Python 3",
   "language": "python",
   "name": "python3"
  },
  "language_info": {
   "codemirror_mode": {
    "name": "ipython",
    "version": 3
   },
   "file_extension": ".py",
   "mimetype": "text/x-python",
   "name": "python",
   "nbconvert_exporter": "python",
   "pygments_lexer": "ipython3",
   "version": "3.7.3"
  }
 },
 "nbformat": 4,
 "nbformat_minor": 2
}
