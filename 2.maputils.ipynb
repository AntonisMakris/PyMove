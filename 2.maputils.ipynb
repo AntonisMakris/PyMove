{
 "cells": [
  {
   "cell_type": "code",
   "execution_count": 1,
   "metadata": {},
   "outputs": [],
   "source": [
    "import pandas as pd\n",
    "import numpy as np\n",
    "from utils import maputils, trajutils\n",
    "import mplleaflet as mpl"
   ]
  },
  {
   "cell_type": "code",
   "execution_count": 2,
   "metadata": {},
   "outputs": [],
   "source": [
    "filename = '/home/nicksson/Git/2_Doutorado/PyRoad/2_tnzlfev2019.csv'\n",
    "\n",
    "dict_type = {'lat' : np.float32,\n",
    "             'lon' : np.float32\n",
    "            }\n",
    "\n",
    "usecols=[\"id\", \"datetime\", \"lat\", \"lon\"]\n",
    "df = pd.read_csv(filename, dtype=dict_type, parse_dates=['datetime'], usecols=usecols)"
   ]
  },
  {
   "cell_type": "code",
   "execution_count": 3,
   "metadata": {},
   "outputs": [
    {
     "data": {
      "text/html": [
       "<div>\n",
       "<style scoped>\n",
       "    .dataframe tbody tr th:only-of-type {\n",
       "        vertical-align: middle;\n",
       "    }\n",
       "\n",
       "    .dataframe tbody tr th {\n",
       "        vertical-align: top;\n",
       "    }\n",
       "\n",
       "    .dataframe thead th {\n",
       "        text-align: right;\n",
       "    }\n",
       "</style>\n",
       "<table border=\"1\" class=\"dataframe\">\n",
       "  <thead>\n",
       "    <tr style=\"text-align: right;\">\n",
       "      <th></th>\n",
       "      <th>id</th>\n",
       "      <th>datetime</th>\n",
       "      <th>lat</th>\n",
       "      <th>lon</th>\n",
       "    </tr>\n",
       "  </thead>\n",
       "  <tbody>\n",
       "    <tr>\n",
       "      <th>0</th>\n",
       "      <td>M41859</td>\n",
       "      <td>2019-02-02 00:31:26</td>\n",
       "      <td>-3.69871</td>\n",
       "      <td>-38.586281</td>\n",
       "    </tr>\n",
       "    <tr>\n",
       "      <th>1</th>\n",
       "      <td>M41859</td>\n",
       "      <td>2019-02-02 00:32:26</td>\n",
       "      <td>-3.69871</td>\n",
       "      <td>-38.586281</td>\n",
       "    </tr>\n",
       "    <tr>\n",
       "      <th>2</th>\n",
       "      <td>M41859</td>\n",
       "      <td>2019-02-02 00:33:26</td>\n",
       "      <td>-3.69871</td>\n",
       "      <td>-38.586281</td>\n",
       "    </tr>\n",
       "    <tr>\n",
       "      <th>3</th>\n",
       "      <td>M41859</td>\n",
       "      <td>2019-02-02 00:34:26</td>\n",
       "      <td>-3.69871</td>\n",
       "      <td>-38.586281</td>\n",
       "    </tr>\n",
       "    <tr>\n",
       "      <th>4</th>\n",
       "      <td>M41859</td>\n",
       "      <td>2019-02-02 00:35:26</td>\n",
       "      <td>-3.69871</td>\n",
       "      <td>-38.586288</td>\n",
       "    </tr>\n",
       "  </tbody>\n",
       "</table>\n",
       "</div>"
      ],
      "text/plain": [
       "       id            datetime      lat        lon\n",
       "0  M41859 2019-02-02 00:31:26 -3.69871 -38.586281\n",
       "1  M41859 2019-02-02 00:32:26 -3.69871 -38.586281\n",
       "2  M41859 2019-02-02 00:33:26 -3.69871 -38.586281\n",
       "3  M41859 2019-02-02 00:34:26 -3.69871 -38.586281\n",
       "4  M41859 2019-02-02 00:35:26 -3.69871 -38.586288"
      ]
     },
     "execution_count": 3,
     "metadata": {},
     "output_type": "execute_result"
    }
   ],
   "source": [
    "df.head()"
   ]
  },
  {
   "cell_type": "code",
   "execution_count": 4,
   "metadata": {},
   "outputs": [
    {
     "name": "stdout",
     "output_type": "stream",
     "text": [
      "\n",
      "Creating or updating tid feature...\n",
      "\n",
      "\n",
      "...tid feature was created...\n",
      "\n"
     ]
    }
   ],
   "source": [
    "trajutils.create_update_tid_based_on_id_datatime(df)"
   ]
  },
  {
   "cell_type": "markdown",
   "metadata": {},
   "source": [
    "# 1. Show Trajectories"
   ]
  },
  {
   "cell_type": "code",
   "execution_count": 5,
   "metadata": {},
   "outputs": [],
   "source": [
    "df_aux, fig = maputils.show_traj_id(df, 'M418592019-02-02')\n",
    "mpl.show()"
   ]
  },
  {
   "cell_type": "markdown",
   "metadata": {},
   "source": [
    "# 2. Save Map"
   ]
  },
  {
   "cell_type": "code",
   "execution_count": 7,
   "metadata": {},
   "outputs": [
    {
     "data": {
      "text/html": [
       "<div>\n",
       "<style scoped>\n",
       "    .dataframe tbody tr th:only-of-type {\n",
       "        vertical-align: middle;\n",
       "    }\n",
       "\n",
       "    .dataframe tbody tr th {\n",
       "        vertical-align: top;\n",
       "    }\n",
       "\n",
       "    .dataframe thead th {\n",
       "        text-align: right;\n",
       "    }\n",
       "</style>\n",
       "<table border=\"1\" class=\"dataframe\">\n",
       "  <thead>\n",
       "    <tr style=\"text-align: right;\">\n",
       "      <th></th>\n",
       "      <th>id</th>\n",
       "      <th>datetime</th>\n",
       "      <th>lat</th>\n",
       "      <th>lon</th>\n",
       "      <th>tid</th>\n",
       "    </tr>\n",
       "  </thead>\n",
       "  <tbody>\n",
       "    <tr>\n",
       "      <th>0</th>\n",
       "      <td>M41859</td>\n",
       "      <td>2019-02-02 00:31:26</td>\n",
       "      <td>-3.69871</td>\n",
       "      <td>-38.586281</td>\n",
       "      <td>M418592019-02-02</td>\n",
       "    </tr>\n",
       "    <tr>\n",
       "      <th>1</th>\n",
       "      <td>M41859</td>\n",
       "      <td>2019-02-02 00:32:26</td>\n",
       "      <td>-3.69871</td>\n",
       "      <td>-38.586281</td>\n",
       "      <td>M418592019-02-02</td>\n",
       "    </tr>\n",
       "    <tr>\n",
       "      <th>2</th>\n",
       "      <td>M41859</td>\n",
       "      <td>2019-02-02 00:33:26</td>\n",
       "      <td>-3.69871</td>\n",
       "      <td>-38.586281</td>\n",
       "      <td>M418592019-02-02</td>\n",
       "    </tr>\n",
       "    <tr>\n",
       "      <th>3</th>\n",
       "      <td>M41859</td>\n",
       "      <td>2019-02-02 00:34:26</td>\n",
       "      <td>-3.69871</td>\n",
       "      <td>-38.586281</td>\n",
       "      <td>M418592019-02-02</td>\n",
       "    </tr>\n",
       "    <tr>\n",
       "      <th>4</th>\n",
       "      <td>M41859</td>\n",
       "      <td>2019-02-02 00:35:26</td>\n",
       "      <td>-3.69871</td>\n",
       "      <td>-38.586288</td>\n",
       "      <td>M418592019-02-02</td>\n",
       "    </tr>\n",
       "  </tbody>\n",
       "</table>\n",
       "</div>"
      ],
      "text/plain": [
       "       id            datetime      lat        lon               tid\n",
       "0  M41859 2019-02-02 00:31:26 -3.69871 -38.586281  M418592019-02-02\n",
       "1  M41859 2019-02-02 00:32:26 -3.69871 -38.586281  M418592019-02-02\n",
       "2  M41859 2019-02-02 00:33:26 -3.69871 -38.586281  M418592019-02-02\n",
       "3  M41859 2019-02-02 00:34:26 -3.69871 -38.586281  M418592019-02-02\n",
       "4  M41859 2019-02-02 00:35:26 -3.69871 -38.586288  M418592019-02-02"
      ]
     },
     "execution_count": 7,
     "metadata": {},
     "output_type": "execute_result"
    }
   ],
   "source": [
    "df_.head()"
   ]
  },
  {
   "cell_type": "code",
   "execution_count": 13,
   "metadata": {},
   "outputs": [],
   "source": [
    "df_ = df[df['tid'] == 'M418592019-02-02']"
   ]
  },
  {
   "cell_type": "code",
   "execution_count": 14,
   "metadata": {},
   "outputs": [],
   "source": [
    "maputils.save_map(df_, file='test.html', label_id='tid')"
   ]
  },
  {
   "cell_type": "code",
   "execution_count": null,
   "metadata": {},
   "outputs": [],
   "source": []
  }
 ],
 "metadata": {
  "kernelspec": {
   "display_name": "Python 3",
   "language": "python",
   "name": "python3"
  },
  "language_info": {
   "codemirror_mode": {
    "name": "ipython",
    "version": 3
   },
   "file_extension": ".py",
   "mimetype": "text/x-python",
   "name": "python",
   "nbconvert_exporter": "python",
   "pygments_lexer": "ipython3",
   "version": "3.6.5"
  }
 },
 "nbformat": 4,
 "nbformat_minor": 2
}
