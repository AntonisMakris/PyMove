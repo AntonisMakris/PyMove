{
 "cells": [
  {
   "cell_type": "code",
   "execution_count": 26,
   "metadata": {},
   "outputs": [],
   "source": [
    "import pandas as pd\n",
    "import numpy as np\n",
    "from pymove import MoveDataFrame"
   ]
  },
  {
   "cell_type": "code",
   "execution_count": 27,
   "metadata": {},
   "outputs": [],
   "source": [
    "from pymove import filters"
   ]
  },
  {
   "cell_type": "code",
   "execution_count": 28,
   "metadata": {},
   "outputs": [],
   "source": [
    "from pymove import transformations"
   ]
  },
  {
   "cell_type": "code",
   "execution_count": 29,
   "metadata": {},
   "outputs": [
    {
     "data": {
      "text/html": [
       "<div>\n",
       "<style scoped>\n",
       "    .dataframe tbody tr th:only-of-type {\n",
       "        vertical-align: middle;\n",
       "    }\n",
       "\n",
       "    .dataframe tbody tr th {\n",
       "        vertical-align: top;\n",
       "    }\n",
       "\n",
       "    .dataframe thead th {\n",
       "        text-align: right;\n",
       "    }\n",
       "</style>\n",
       "<table border=\"1\" class=\"dataframe\">\n",
       "  <thead>\n",
       "    <tr style=\"text-align: right;\">\n",
       "      <th></th>\n",
       "      <th>lat</th>\n",
       "      <th>lon</th>\n",
       "      <th>datetime</th>\n",
       "      <th>id</th>\n",
       "    </tr>\n",
       "  </thead>\n",
       "  <tbody>\n",
       "    <tr>\n",
       "      <th>0</th>\n",
       "      <td>39.984094</td>\n",
       "      <td>116.319236</td>\n",
       "      <td>2008-10-23 05:53:05</td>\n",
       "      <td>1</td>\n",
       "    </tr>\n",
       "    <tr>\n",
       "      <th>1</th>\n",
       "      <td>39.984198</td>\n",
       "      <td>116.319322</td>\n",
       "      <td>2008-10-23 05:53:06</td>\n",
       "      <td>1</td>\n",
       "    </tr>\n",
       "    <tr>\n",
       "      <th>2</th>\n",
       "      <td>39.984224</td>\n",
       "      <td>116.319402</td>\n",
       "      <td>2008-10-23 05:53:11</td>\n",
       "      <td>1</td>\n",
       "    </tr>\n",
       "    <tr>\n",
       "      <th>3</th>\n",
       "      <td>39.984211</td>\n",
       "      <td>116.319389</td>\n",
       "      <td>2008-10-23 05:53:16</td>\n",
       "      <td>1</td>\n",
       "    </tr>\n",
       "    <tr>\n",
       "      <th>4</th>\n",
       "      <td>39.984217</td>\n",
       "      <td>116.319422</td>\n",
       "      <td>2008-10-23 05:53:21</td>\n",
       "      <td>1</td>\n",
       "    </tr>\n",
       "  </tbody>\n",
       "</table>\n",
       "</div>"
      ],
      "text/plain": [
       "         lat         lon            datetime  id\n",
       "0  39.984094  116.319236 2008-10-23 05:53:05   1\n",
       "1  39.984198  116.319322 2008-10-23 05:53:06   1\n",
       "2  39.984224  116.319402 2008-10-23 05:53:11   1\n",
       "3  39.984211  116.319389 2008-10-23 05:53:16   1\n",
       "4  39.984217  116.319422 2008-10-23 05:53:21   1"
      ]
     },
     "execution_count": 29,
     "metadata": {},
     "output_type": "execute_result"
    }
   ],
   "source": [
    "df = pd.read_csv('examples/geolife_sample.csv', parse_dates=['datetime'])\n",
    "df.head()"
   ]
  },
  {
   "cell_type": "code",
   "execution_count": 30,
   "metadata": {},
   "outputs": [
    {
     "name": "stdout",
     "output_type": "stream",
     "text": [
      "<class 'pandas.core.frame.DataFrame'>\n",
      "RangeIndex: 217653 entries, 0 to 217652\n",
      "Data columns (total 4 columns):\n",
      "lat         217653 non-null float64\n",
      "lon         217653 non-null float64\n",
      "datetime    217653 non-null datetime64[ns]\n",
      "id          217653 non-null int64\n",
      "dtypes: datetime64[ns](1), float64(2), int64(1)\n",
      "memory usage: 6.6 MB\n"
     ]
    }
   ],
   "source": [
    "df.info()"
   ]
  },
  {
   "cell_type": "code",
   "execution_count": 31,
   "metadata": {},
   "outputs": [],
   "source": [
    "df_move = MoveDataFrame(df, latitude=\"lat\", longitude=\"lon\", datetime=\"datetime\")"
   ]
  },
  {
   "cell_type": "code",
   "execution_count": 32,
   "metadata": {},
   "outputs": [
    {
     "data": {
      "text/plain": [
       "(22.147577, 113.54884299999999, 41.132062, 121.156224)"
      ]
     },
     "execution_count": 32,
     "metadata": {},
     "output_type": "execute_result"
    }
   ],
   "source": [
    "bbox = (22.147577, 113.54884299999999, 41.132062, 121.156224)\n",
    "bbox"
   ]
  },
  {
   "cell_type": "code",
   "execution_count": 33,
   "metadata": {},
   "outputs": [
    {
     "data": {
      "text/html": [
       "<div>\n",
       "<style scoped>\n",
       "    .dataframe tbody tr th:only-of-type {\n",
       "        vertical-align: middle;\n",
       "    }\n",
       "\n",
       "    .dataframe tbody tr th {\n",
       "        vertical-align: top;\n",
       "    }\n",
       "\n",
       "    .dataframe thead th {\n",
       "        text-align: right;\n",
       "    }\n",
       "</style>\n",
       "<table border=\"1\" class=\"dataframe\">\n",
       "  <thead>\n",
       "    <tr style=\"text-align: right;\">\n",
       "      <th></th>\n",
       "      <th>lat</th>\n",
       "      <th>lon</th>\n",
       "      <th>datetime</th>\n",
       "      <th>id</th>\n",
       "    </tr>\n",
       "  </thead>\n",
       "  <tbody>\n",
       "  </tbody>\n",
       "</table>\n",
       "</div>"
      ],
      "text/plain": [
       "Empty DataFrame\n",
       "Columns: [lat, lon, datetime, id]\n",
       "Index: []"
      ]
     },
     "execution_count": 33,
     "metadata": {},
     "output_type": "execute_result"
    }
   ],
   "source": [
    "filters.by_bbox(df_move, bbox, filter_out = True)"
   ]
  },
  {
   "cell_type": "code",
   "execution_count": 34,
   "metadata": {},
   "outputs": [
    {
     "data": {
      "text/html": [
       "<div>\n",
       "<style scoped>\n",
       "    .dataframe tbody tr th:only-of-type {\n",
       "        vertical-align: middle;\n",
       "    }\n",
       "\n",
       "    .dataframe tbody tr th {\n",
       "        vertical-align: top;\n",
       "    }\n",
       "\n",
       "    .dataframe thead th {\n",
       "        text-align: right;\n",
       "    }\n",
       "</style>\n",
       "<table border=\"1\" class=\"dataframe\">\n",
       "  <thead>\n",
       "    <tr style=\"text-align: right;\">\n",
       "      <th></th>\n",
       "      <th>lat</th>\n",
       "      <th>lon</th>\n",
       "      <th>datetime</th>\n",
       "      <th>id</th>\n",
       "    </tr>\n",
       "  </thead>\n",
       "  <tbody>\n",
       "    <tr>\n",
       "      <th>217644</th>\n",
       "      <td>40.000128</td>\n",
       "      <td>116.327171</td>\n",
       "      <td>2009-03-19 05:45:42</td>\n",
       "      <td>5</td>\n",
       "    </tr>\n",
       "    <tr>\n",
       "      <th>217645</th>\n",
       "      <td>40.000069</td>\n",
       "      <td>116.327179</td>\n",
       "      <td>2009-03-19 05:45:47</td>\n",
       "      <td>5</td>\n",
       "    </tr>\n",
       "    <tr>\n",
       "      <th>217646</th>\n",
       "      <td>40.000001</td>\n",
       "      <td>116.327219</td>\n",
       "      <td>2009-03-19 05:45:52</td>\n",
       "      <td>5</td>\n",
       "    </tr>\n",
       "    <tr>\n",
       "      <th>217647</th>\n",
       "      <td>39.999919</td>\n",
       "      <td>116.327211</td>\n",
       "      <td>2009-03-19 05:45:57</td>\n",
       "      <td>5</td>\n",
       "    </tr>\n",
       "    <tr>\n",
       "      <th>217648</th>\n",
       "      <td>39.999896</td>\n",
       "      <td>116.327290</td>\n",
       "      <td>2009-03-19 05:46:02</td>\n",
       "      <td>5</td>\n",
       "    </tr>\n",
       "    <tr>\n",
       "      <th>217649</th>\n",
       "      <td>39.999899</td>\n",
       "      <td>116.327352</td>\n",
       "      <td>2009-03-19 05:46:07</td>\n",
       "      <td>5</td>\n",
       "    </tr>\n",
       "    <tr>\n",
       "      <th>217650</th>\n",
       "      <td>39.999945</td>\n",
       "      <td>116.327394</td>\n",
       "      <td>2009-03-19 05:46:12</td>\n",
       "      <td>5</td>\n",
       "    </tr>\n",
       "    <tr>\n",
       "      <th>217651</th>\n",
       "      <td>40.000015</td>\n",
       "      <td>116.327433</td>\n",
       "      <td>2009-03-19 05:46:17</td>\n",
       "      <td>5</td>\n",
       "    </tr>\n",
       "  </tbody>\n",
       "</table>\n",
       "</div>"
      ],
      "text/plain": [
       "              lat         lon            datetime  id\n",
       "217644  40.000128  116.327171 2009-03-19 05:45:42   5\n",
       "217645  40.000069  116.327179 2009-03-19 05:45:47   5\n",
       "217646  40.000001  116.327219 2009-03-19 05:45:52   5\n",
       "217647  39.999919  116.327211 2009-03-19 05:45:57   5\n",
       "217648  39.999896  116.327290 2009-03-19 05:46:02   5\n",
       "217649  39.999899  116.327352 2009-03-19 05:46:07   5\n",
       "217650  39.999945  116.327394 2009-03-19 05:46:12   5\n",
       "217651  40.000015  116.327433 2009-03-19 05:46:17   5"
      ]
     },
     "execution_count": 34,
     "metadata": {},
     "output_type": "execute_result"
    }
   ],
   "source": [
    "filters.by_datetime(df_move,\"2009-03-19 05:45:37\", \"2009-03-19 05:46:17\")"
   ]
  },
  {
   "cell_type": "code",
   "execution_count": 35,
   "metadata": {},
   "outputs": [
    {
     "data": {
      "text/html": [
       "<div>\n",
       "<style scoped>\n",
       "    .dataframe tbody tr th:only-of-type {\n",
       "        vertical-align: middle;\n",
       "    }\n",
       "\n",
       "    .dataframe tbody tr th {\n",
       "        vertical-align: top;\n",
       "    }\n",
       "\n",
       "    .dataframe thead th {\n",
       "        text-align: right;\n",
       "    }\n",
       "</style>\n",
       "<table border=\"1\" class=\"dataframe\">\n",
       "  <thead>\n",
       "    <tr style=\"text-align: right;\">\n",
       "      <th></th>\n",
       "      <th>lat</th>\n",
       "      <th>lon</th>\n",
       "      <th>datetime</th>\n",
       "      <th>id</th>\n",
       "    </tr>\n",
       "  </thead>\n",
       "  <tbody>\n",
       "    <tr>\n",
       "      <th>3066</th>\n",
       "      <td>39.979160</td>\n",
       "      <td>116.327219</td>\n",
       "      <td>2008-10-24 06:34:27</td>\n",
       "      <td>1</td>\n",
       "    </tr>\n",
       "    <tr>\n",
       "      <th>13911</th>\n",
       "      <td>39.975424</td>\n",
       "      <td>116.327219</td>\n",
       "      <td>2008-10-26 08:18:06</td>\n",
       "      <td>1</td>\n",
       "    </tr>\n",
       "    <tr>\n",
       "      <th>16396</th>\n",
       "      <td>39.980411</td>\n",
       "      <td>116.327219</td>\n",
       "      <td>2008-10-27 00:30:47</td>\n",
       "      <td>1</td>\n",
       "    </tr>\n",
       "    <tr>\n",
       "      <th>33935</th>\n",
       "      <td>39.975832</td>\n",
       "      <td>116.327219</td>\n",
       "      <td>2008-11-05 11:04:04</td>\n",
       "      <td>1</td>\n",
       "    </tr>\n",
       "    <tr>\n",
       "      <th>41636</th>\n",
       "      <td>39.976990</td>\n",
       "      <td>116.327219</td>\n",
       "      <td>2008-11-07 10:34:41</td>\n",
       "      <td>1</td>\n",
       "    </tr>\n",
       "  </tbody>\n",
       "</table>\n",
       "</div>"
      ],
      "text/plain": [
       "             lat         lon            datetime  id\n",
       "3066   39.979160  116.327219 2008-10-24 06:34:27   1\n",
       "13911  39.975424  116.327219 2008-10-26 08:18:06   1\n",
       "16396  39.980411  116.327219 2008-10-27 00:30:47   1\n",
       "33935  39.975832  116.327219 2008-11-05 11:04:04   1\n",
       "41636  39.976990  116.327219 2008-11-07 10:34:41   1"
      ]
     },
     "execution_count": 35,
     "metadata": {},
     "output_type": "execute_result"
    }
   ],
   "source": [
    "filters.by_label(df_move, 116.327219, \"lon\").head()"
   ]
  },
  {
   "cell_type": "code",
   "execution_count": 36,
   "metadata": {},
   "outputs": [
    {
     "data": {
      "text/plain": [
       "pandas.core.frame.DataFrame"
      ]
     },
     "execution_count": 36,
     "metadata": {},
     "output_type": "execute_result"
    }
   ],
   "source": [
    "teste = filters.by_label(df_move, \"2008-10-24 04:12:30\" , \"datetime\")\n",
    "type(teste)"
   ]
  },
  {
   "cell_type": "code",
   "execution_count": 37,
   "metadata": {},
   "outputs": [
    {
     "data": {
      "text/html": [
       "<div>\n",
       "<style scoped>\n",
       "    .dataframe tbody tr th:only-of-type {\n",
       "        vertical-align: middle;\n",
       "    }\n",
       "\n",
       "    .dataframe tbody tr th {\n",
       "        vertical-align: top;\n",
       "    }\n",
       "\n",
       "    .dataframe thead th {\n",
       "        text-align: right;\n",
       "    }\n",
       "</style>\n",
       "<table border=\"1\" class=\"dataframe\">\n",
       "  <thead>\n",
       "    <tr style=\"text-align: right;\">\n",
       "      <th></th>\n",
       "      <th>lat</th>\n",
       "      <th>lon</th>\n",
       "      <th>datetime</th>\n",
       "      <th>id</th>\n",
       "    </tr>\n",
       "  </thead>\n",
       "  <tbody>\n",
       "    <tr>\n",
       "      <th>0</th>\n",
       "      <td>39.984094</td>\n",
       "      <td>116.319236</td>\n",
       "      <td>2008-10-23 05:53:05</td>\n",
       "      <td>1</td>\n",
       "    </tr>\n",
       "    <tr>\n",
       "      <th>1</th>\n",
       "      <td>39.984198</td>\n",
       "      <td>116.319322</td>\n",
       "      <td>2008-10-23 05:53:06</td>\n",
       "      <td>1</td>\n",
       "    </tr>\n",
       "    <tr>\n",
       "      <th>2</th>\n",
       "      <td>39.984224</td>\n",
       "      <td>116.319402</td>\n",
       "      <td>2008-10-23 05:53:11</td>\n",
       "      <td>1</td>\n",
       "    </tr>\n",
       "    <tr>\n",
       "      <th>3</th>\n",
       "      <td>39.984211</td>\n",
       "      <td>116.319389</td>\n",
       "      <td>2008-10-23 05:53:16</td>\n",
       "      <td>1</td>\n",
       "    </tr>\n",
       "    <tr>\n",
       "      <th>4</th>\n",
       "      <td>39.984217</td>\n",
       "      <td>116.319422</td>\n",
       "      <td>2008-10-23 05:53:21</td>\n",
       "      <td>1</td>\n",
       "    </tr>\n",
       "  </tbody>\n",
       "</table>\n",
       "</div>"
      ],
      "text/plain": [
       "         lat         lon            datetime  id\n",
       "0  39.984094  116.319236 2008-10-23 05:53:05   1\n",
       "1  39.984198  116.319322 2008-10-23 05:53:06   1\n",
       "2  39.984224  116.319402 2008-10-23 05:53:11   1\n",
       "3  39.984211  116.319389 2008-10-23 05:53:16   1\n",
       "4  39.984217  116.319422 2008-10-23 05:53:21   1"
      ]
     },
     "execution_count": 37,
     "metadata": {},
     "output_type": "execute_result"
    }
   ],
   "source": [
    "filters.by_label(df_move, \"2008-10-24 04:12:30\" , \"datetime\", filter_out=True).head()"
   ]
  },
  {
   "cell_type": "code",
   "execution_count": 38,
   "metadata": {},
   "outputs": [
    {
     "data": {
      "text/html": [
       "<div>\n",
       "<style scoped>\n",
       "    .dataframe tbody tr th:only-of-type {\n",
       "        vertical-align: middle;\n",
       "    }\n",
       "\n",
       "    .dataframe tbody tr th {\n",
       "        vertical-align: top;\n",
       "    }\n",
       "\n",
       "    .dataframe thead th {\n",
       "        text-align: right;\n",
       "    }\n",
       "</style>\n",
       "<table border=\"1\" class=\"dataframe\">\n",
       "  <thead>\n",
       "    <tr style=\"text-align: right;\">\n",
       "      <th></th>\n",
       "      <th>lat</th>\n",
       "      <th>lon</th>\n",
       "      <th>datetime</th>\n",
       "      <th>id</th>\n",
       "    </tr>\n",
       "  </thead>\n",
       "  <tbody>\n",
       "    <tr>\n",
       "      <th>108607</th>\n",
       "      <td>40.004155</td>\n",
       "      <td>116.321337</td>\n",
       "      <td>2008-10-24 04:12:30</td>\n",
       "      <td>5</td>\n",
       "    </tr>\n",
       "    <tr>\n",
       "      <th>108608</th>\n",
       "      <td>40.003834</td>\n",
       "      <td>116.321462</td>\n",
       "      <td>2008-10-24 04:12:35</td>\n",
       "      <td>5</td>\n",
       "    </tr>\n",
       "    <tr>\n",
       "      <th>108609</th>\n",
       "      <td>40.003783</td>\n",
       "      <td>116.321431</td>\n",
       "      <td>2008-10-24 04:12:40</td>\n",
       "      <td>5</td>\n",
       "    </tr>\n",
       "    <tr>\n",
       "      <th>108610</th>\n",
       "      <td>40.003690</td>\n",
       "      <td>116.321429</td>\n",
       "      <td>2008-10-24 04:12:45</td>\n",
       "      <td>5</td>\n",
       "    </tr>\n",
       "    <tr>\n",
       "      <th>108611</th>\n",
       "      <td>40.003589</td>\n",
       "      <td>116.321427</td>\n",
       "      <td>2008-10-24 04:12:50</td>\n",
       "      <td>5</td>\n",
       "    </tr>\n",
       "  </tbody>\n",
       "</table>\n",
       "</div>"
      ],
      "text/plain": [
       "              lat         lon            datetime  id\n",
       "108607  40.004155  116.321337 2008-10-24 04:12:30   5\n",
       "108608  40.003834  116.321462 2008-10-24 04:12:35   5\n",
       "108609  40.003783  116.321431 2008-10-24 04:12:40   5\n",
       "108610  40.003690  116.321429 2008-10-24 04:12:45   5\n",
       "108611  40.003589  116.321427 2008-10-24 04:12:50   5"
      ]
     },
     "execution_count": 38,
     "metadata": {},
     "output_type": "execute_result"
    }
   ],
   "source": [
    "filters.by_id(df_move, 5).head()"
   ]
  },
  {
   "cell_type": "code",
   "execution_count": 39,
   "metadata": {},
   "outputs": [
    {
     "name": "stdout",
     "output_type": "stream",
     "text": [
      "\n",
      "Creating or updating tid feature...\n",
      "\n",
      "...Sorting by id and datetime to increase performance\n",
      "\n",
      "\n",
      "...tid feature was created...\n",
      "\n"
     ]
    },
    {
     "data": {
      "text/html": [
       "<div>\n",
       "<style scoped>\n",
       "    .dataframe tbody tr th:only-of-type {\n",
       "        vertical-align: middle;\n",
       "    }\n",
       "\n",
       "    .dataframe tbody tr th {\n",
       "        vertical-align: top;\n",
       "    }\n",
       "\n",
       "    .dataframe thead th {\n",
       "        text-align: right;\n",
       "    }\n",
       "</style>\n",
       "<table border=\"1\" class=\"dataframe\">\n",
       "  <thead>\n",
       "    <tr style=\"text-align: right;\">\n",
       "      <th></th>\n",
       "      <th>lat</th>\n",
       "      <th>lon</th>\n",
       "      <th>datetime</th>\n",
       "      <th>id</th>\n",
       "      <th>tid</th>\n",
       "    </tr>\n",
       "  </thead>\n",
       "  <tbody>\n",
       "    <tr>\n",
       "      <th>0</th>\n",
       "      <td>39.984094</td>\n",
       "      <td>116.319236</td>\n",
       "      <td>2008-10-23 05:53:05</td>\n",
       "      <td>1</td>\n",
       "      <td>12008102305</td>\n",
       "    </tr>\n",
       "    <tr>\n",
       "      <th>1</th>\n",
       "      <td>39.984198</td>\n",
       "      <td>116.319322</td>\n",
       "      <td>2008-10-23 05:53:06</td>\n",
       "      <td>1</td>\n",
       "      <td>12008102305</td>\n",
       "    </tr>\n",
       "    <tr>\n",
       "      <th>2</th>\n",
       "      <td>39.984224</td>\n",
       "      <td>116.319402</td>\n",
       "      <td>2008-10-23 05:53:11</td>\n",
       "      <td>1</td>\n",
       "      <td>12008102305</td>\n",
       "    </tr>\n",
       "    <tr>\n",
       "      <th>3</th>\n",
       "      <td>39.984211</td>\n",
       "      <td>116.319389</td>\n",
       "      <td>2008-10-23 05:53:16</td>\n",
       "      <td>1</td>\n",
       "      <td>12008102305</td>\n",
       "    </tr>\n",
       "    <tr>\n",
       "      <th>4</th>\n",
       "      <td>39.984217</td>\n",
       "      <td>116.319422</td>\n",
       "      <td>2008-10-23 05:53:21</td>\n",
       "      <td>1</td>\n",
       "      <td>12008102305</td>\n",
       "    </tr>\n",
       "  </tbody>\n",
       "</table>\n",
       "</div>"
      ],
      "text/plain": [
       "         lat         lon            datetime  id          tid\n",
       "0  39.984094  116.319236 2008-10-23 05:53:05   1  12008102305\n",
       "1  39.984198  116.319322 2008-10-23 05:53:06   1  12008102305\n",
       "2  39.984224  116.319402 2008-10-23 05:53:11   1  12008102305\n",
       "3  39.984211  116.319389 2008-10-23 05:53:16   1  12008102305\n",
       "4  39.984217  116.319422 2008-10-23 05:53:21   1  12008102305"
      ]
     },
     "execution_count": 39,
     "metadata": {},
     "output_type": "execute_result"
    }
   ],
   "source": [
    "df_move.generate_tid_based_on_id_datatime()\n",
    "filters.by_tid(df_move, \"12008102305\").head()"
   ]
  },
  {
   "cell_type": "code",
   "execution_count": 40,
   "metadata": {},
   "outputs": [
    {
     "name": "stdout",
     "output_type": "stream",
     "text": [
      "\n",
      "Creating or updating distance features in meters...\n",
      "\n",
      "...Sorting by id and datetime to increase performance\n",
      "\n",
      "...Set id as index to increase attribution performance\n",
      "\n",
      "(217653/217653) 100% in 00:00:00.081 - estimated end in 00:00:00.000\n",
      "...Reset index\n",
      "\n",
      "..Total Time: 0.08772921562194824\n",
      "...Filtring jumps \n",
      "\n"
     ]
    },
    {
     "data": {
      "text/html": [
       "<div>\n",
       "<style scoped>\n",
       "    .dataframe tbody tr th:only-of-type {\n",
       "        vertical-align: middle;\n",
       "    }\n",
       "\n",
       "    .dataframe tbody tr th {\n",
       "        vertical-align: top;\n",
       "    }\n",
       "\n",
       "    .dataframe thead th {\n",
       "        text-align: right;\n",
       "    }\n",
       "</style>\n",
       "<table border=\"1\" class=\"dataframe\">\n",
       "  <thead>\n",
       "    <tr style=\"text-align: right;\">\n",
       "      <th></th>\n",
       "      <th>id</th>\n",
       "      <th>lat</th>\n",
       "      <th>lon</th>\n",
       "      <th>datetime</th>\n",
       "      <th>tid</th>\n",
       "      <th>dist_to_prev</th>\n",
       "      <th>dist_to_next</th>\n",
       "      <th>dist_prev_to_next</th>\n",
       "    </tr>\n",
       "  </thead>\n",
       "  <tbody>\n",
       "    <tr>\n",
       "      <th>148</th>\n",
       "      <td>1</td>\n",
       "      <td>39.970511</td>\n",
       "      <td>116.341455</td>\n",
       "      <td>2008-10-23 10:32:53</td>\n",
       "      <td>12008102310</td>\n",
       "      <td>1452.319115</td>\n",
       "      <td>1470.641291</td>\n",
       "      <td>71.088460</td>\n",
       "    </tr>\n",
       "    <tr>\n",
       "      <th>338</th>\n",
       "      <td>1</td>\n",
       "      <td>39.995042</td>\n",
       "      <td>116.326465</td>\n",
       "      <td>2008-10-23 10:44:24</td>\n",
       "      <td>12008102310</td>\n",
       "      <td>10.801860</td>\n",
       "      <td>10.274331</td>\n",
       "      <td>1.465144</td>\n",
       "    </tr>\n",
       "    <tr>\n",
       "      <th>8133</th>\n",
       "      <td>1</td>\n",
       "      <td>39.991075</td>\n",
       "      <td>116.188395</td>\n",
       "      <td>2008-10-25 08:20:19</td>\n",
       "      <td>12008102508</td>\n",
       "      <td>5.090766</td>\n",
       "      <td>6.247860</td>\n",
       "      <td>1.295191</td>\n",
       "    </tr>\n",
       "    <tr>\n",
       "      <th>10175</th>\n",
       "      <td>1</td>\n",
       "      <td>40.015169</td>\n",
       "      <td>116.311045</td>\n",
       "      <td>2008-10-25 23:40:12</td>\n",
       "      <td>12008102523</td>\n",
       "      <td>23.454754</td>\n",
       "      <td>24.899678</td>\n",
       "      <td>3.766959</td>\n",
       "    </tr>\n",
       "    <tr>\n",
       "      <th>13849</th>\n",
       "      <td>1</td>\n",
       "      <td>39.977157</td>\n",
       "      <td>116.327151</td>\n",
       "      <td>2008-10-26 08:13:53</td>\n",
       "      <td>12008102608</td>\n",
       "      <td>11.212682</td>\n",
       "      <td>10.221164</td>\n",
       "      <td>1.004375</td>\n",
       "    </tr>\n",
       "  </tbody>\n",
       "</table>\n",
       "</div>"
      ],
      "text/plain": [
       "       id        lat         lon            datetime          tid  \\\n",
       "148     1  39.970511  116.341455 2008-10-23 10:32:53  12008102310   \n",
       "338     1  39.995042  116.326465 2008-10-23 10:44:24  12008102310   \n",
       "8133    1  39.991075  116.188395 2008-10-25 08:20:19  12008102508   \n",
       "10175   1  40.015169  116.311045 2008-10-25 23:40:12  12008102523   \n",
       "13849   1  39.977157  116.327151 2008-10-26 08:13:53  12008102608   \n",
       "\n",
       "       dist_to_prev  dist_to_next  dist_prev_to_next  \n",
       "148     1452.319115   1470.641291          71.088460  \n",
       "338       10.801860     10.274331           1.465144  \n",
       "8133       5.090766      6.247860           1.295191  \n",
       "10175     23.454754     24.899678           3.766959  \n",
       "13849     11.212682     10.221164           1.004375  "
      ]
     },
     "execution_count": 40,
     "metadata": {},
     "output_type": "execute_result"
    }
   ],
   "source": [
    "filters.outliers(df_move).head()"
   ]
  },
  {
   "cell_type": "code",
   "execution_count": 41,
   "metadata": {},
   "outputs": [
    {
     "name": "stdout",
     "output_type": "stream",
     "text": [
      "\n",
      "Remove rows duplicates by subset\n",
      "...Sorting by id and datetime to increase performance\n",
      "\n",
      "...There are no GPS points duplicated\n",
      "None\n"
     ]
    }
   ],
   "source": [
    "teste = filters.clean_duplicates(df_move)\n",
    "print(teste)"
   ]
  },
  {
   "cell_type": "code",
   "execution_count": 42,
   "metadata": {},
   "outputs": [
    {
     "data": {
      "text/html": [
       "<div>\n",
       "<style scoped>\n",
       "    .dataframe tbody tr th:only-of-type {\n",
       "        vertical-align: middle;\n",
       "    }\n",
       "\n",
       "    .dataframe tbody tr th {\n",
       "        vertical-align: top;\n",
       "    }\n",
       "\n",
       "    .dataframe thead th {\n",
       "        text-align: right;\n",
       "    }\n",
       "</style>\n",
       "<table border=\"1\" class=\"dataframe\">\n",
       "  <thead>\n",
       "    <tr style=\"text-align: right;\">\n",
       "      <th></th>\n",
       "      <th>id</th>\n",
       "      <th>lat</th>\n",
       "      <th>lon</th>\n",
       "      <th>datetime</th>\n",
       "      <th>tid</th>\n",
       "      <th>dist_to_prev</th>\n",
       "      <th>dist_to_next</th>\n",
       "      <th>dist_prev_to_next</th>\n",
       "    </tr>\n",
       "  </thead>\n",
       "  <tbody>\n",
       "    <tr>\n",
       "      <th>0</th>\n",
       "      <td>1</td>\n",
       "      <td>39.984094</td>\n",
       "      <td>116.319236</td>\n",
       "      <td>2008-10-23 05:53:05</td>\n",
       "      <td>12008102305</td>\n",
       "      <td>NaN</td>\n",
       "      <td>13.690153</td>\n",
       "      <td>NaN</td>\n",
       "    </tr>\n",
       "    <tr>\n",
       "      <th>1</th>\n",
       "      <td>1</td>\n",
       "      <td>39.984198</td>\n",
       "      <td>116.319322</td>\n",
       "      <td>2008-10-23 05:53:06</td>\n",
       "      <td>12008102305</td>\n",
       "      <td>13.690153</td>\n",
       "      <td>7.403788</td>\n",
       "      <td>20.223428</td>\n",
       "    </tr>\n",
       "    <tr>\n",
       "      <th>2</th>\n",
       "      <td>1</td>\n",
       "      <td>39.984224</td>\n",
       "      <td>116.319402</td>\n",
       "      <td>2008-10-23 05:53:11</td>\n",
       "      <td>12008102305</td>\n",
       "      <td>7.403788</td>\n",
       "      <td>1.821083</td>\n",
       "      <td>5.888579</td>\n",
       "    </tr>\n",
       "    <tr>\n",
       "      <th>3</th>\n",
       "      <td>1</td>\n",
       "      <td>39.984211</td>\n",
       "      <td>116.319389</td>\n",
       "      <td>2008-10-23 05:53:16</td>\n",
       "      <td>12008102305</td>\n",
       "      <td>1.821083</td>\n",
       "      <td>2.889671</td>\n",
       "      <td>1.873356</td>\n",
       "    </tr>\n",
       "    <tr>\n",
       "      <th>4</th>\n",
       "      <td>1</td>\n",
       "      <td>39.984217</td>\n",
       "      <td>116.319422</td>\n",
       "      <td>2008-10-23 05:53:21</td>\n",
       "      <td>12008102305</td>\n",
       "      <td>2.889671</td>\n",
       "      <td>66.555997</td>\n",
       "      <td>68.727260</td>\n",
       "    </tr>\n",
       "  </tbody>\n",
       "</table>\n",
       "</div>"
      ],
      "text/plain": [
       "   id        lat         lon            datetime          tid  dist_to_prev  \\\n",
       "0   1  39.984094  116.319236 2008-10-23 05:53:05  12008102305           NaN   \n",
       "1   1  39.984198  116.319322 2008-10-23 05:53:06  12008102305     13.690153   \n",
       "2   1  39.984224  116.319402 2008-10-23 05:53:11  12008102305      7.403788   \n",
       "3   1  39.984211  116.319389 2008-10-23 05:53:16  12008102305      1.821083   \n",
       "4   1  39.984217  116.319422 2008-10-23 05:53:21  12008102305      2.889671   \n",
       "\n",
       "   dist_to_next  dist_prev_to_next  \n",
       "0     13.690153                NaN  \n",
       "1      7.403788          20.223428  \n",
       "2      1.821083           5.888579  \n",
       "3      2.889671           1.873356  \n",
       "4     66.555997          68.727260  "
      ]
     },
     "execution_count": 42,
     "metadata": {},
     "output_type": "execute_result"
    }
   ],
   "source": [
    "# #perguntar Nickson\n",
    "filters.clean_consecutive_duplicates(df_move, subset = [\"lat\"]).head()"
   ]
  },
  {
   "cell_type": "code",
   "execution_count": 43,
   "metadata": {},
   "outputs": [],
   "source": [
    "filters.clean_NaN_values(df_move)"
   ]
  },
  {
   "cell_type": "code",
   "execution_count": 44,
   "metadata": {},
   "outputs": [
    {
     "name": "stdout",
     "output_type": "stream",
     "text": [
      "\n",
      "Cleaning gps jumps by distance to jump_coefficient 3.0...\n",
      "\n",
      "...Filtring jumps \n",
      "\n",
      "...Dropping 383 rows of gps points\n",
      "\n",
      "...Rows before: 217649, Rows after:217266, Sum drop:383\n",
      "\n",
      "\n",
      "Cleaning gps jumps by distance to jump_coefficient 3.0...\n",
      "\n",
      "...Filtring jumps \n",
      "\n",
      "383 GPS points were dropped\n"
     ]
    }
   ],
   "source": [
    "filters.clean_gps_jumps_by_distance(df_move)"
   ]
  },
  {
   "cell_type": "code",
   "execution_count": 45,
   "metadata": {},
   "outputs": [
    {
     "name": "stdout",
     "output_type": "stream",
     "text": [
      "\n",
      "Cleaning gps points from radius of 10.0 meters\n",
      "\n",
      "...There are 137478 gps points to drop\n",
      "\n",
      "...Dropping 137478 gps points\n",
      "\n",
      "...Rows before: 217266, Rows after:79788\n",
      "\n",
      "\n",
      "Cleaning gps points from radius of 10.0 meters\n",
      "\n",
      "...There are 0 gps points to drop\n",
      "\n"
     ]
    }
   ],
   "source": [
    "filters.clean_gps_nearby_points_by_distances(df_move)"
   ]
  },
  {
   "cell_type": "code",
   "execution_count": 46,
   "metadata": {},
   "outputs": [
    {
     "name": "stdout",
     "output_type": "stream",
     "text": [
      "\n",
      "Creating or updating distance, time and speed features in meters by seconds\n",
      "\n",
      "...Sorting by id and datetime to increase performance\n",
      "\n",
      "...Set id as index to a higher peformance\n",
      "\n",
      "(79788/79788) 100% in 00:00:00.064 - estimated end in 00:00:00.000\n",
      "...Reset index...\n",
      "\n",
      "..Total Time: 0.069\n",
      "\n",
      "Cleaning gps points using 0.0 speed radius\n",
      "\n",
      "...There are 1 gps points to drop\n",
      "\n",
      "...Dropping 1 gps points\n",
      "\n",
      "...Rows before: 79788, Rows after:79787\n",
      "\n",
      "\n",
      "Cleaning gps points using 0.0 speed radius\n",
      "\n",
      "...There are 0 gps points to drop\n",
      "\n"
     ]
    }
   ],
   "source": [
    "filters.clean_gps_nearby_points_by_speed(df_move)"
   ]
  },
  {
   "cell_type": "code",
   "execution_count": 47,
   "metadata": {},
   "outputs": [
    {
     "name": "stdout",
     "output_type": "stream",
     "text": [
      "\n",
      "Clean gps points with speed max > 50.0 meters by seconds\n",
      "...There 125 gps points with speed_max > 50.0\n",
      "\n",
      "...Dropping 125 rows of jumps by speed max\n",
      "\n",
      "...Rows before: 79787, Rows after:79662\n",
      "\n",
      "\n",
      "Clean gps points with speed max > 50.0 meters by seconds\n",
      "...There 0 gps points with speed_max > 50.0\n",
      "\n"
     ]
    }
   ],
   "source": [
    "filters.clean_gps_speed_max_radius(df_move)"
   ]
  },
  {
   "cell_type": "code",
   "execution_count": 48,
   "metadata": {},
   "outputs": [
    {
     "name": "stdout",
     "output_type": "stream",
     "text": [
      "\n",
      "...There are 24 ids with few points\n",
      "\n",
      "...Tids before drop: 600\n",
      "\n",
      "...Tids after drop: 576\n",
      "\n",
      "...Shape - before drop: (79662, 10) - after drop: (79638, 10)\n",
      "\n",
      "Creating or updating distance, time and speed features in meters by seconds\n",
      "\n",
      "...Sorting by tid and datetime to increase performance\n",
      "\n",
      "...Set tid as index to a higher peformance\n",
      "\n",
      "(78/79638) 0% in 00:00:00.071 - estimated end in 00:01:13.243\n",
      "(16355/79638) 20% in 00:00:00.091 - estimated end in 00:00:00.355\n",
      "(32044/79638) 40% in 00:00:00.109 - estimated end in 00:00:00.162\n",
      "(47785/79638) 60% in 00:00:00.123 - estimated end in 00:00:00.082\n",
      "(63973/79638) 80% in 00:00:00.147 - estimated end in 00:00:00.036\n",
      "(79638/79638) 100% in 00:00:00.184 - estimated end in 00:00:00.000\n",
      "...Reset index...\n",
      "\n",
      "..Total Time: 0.190\n"
     ]
    }
   ],
   "source": [
    "filters.clean_trajectories_with_few_points(df_move)"
   ]
  },
  {
   "cell_type": "code",
   "execution_count": 50,
   "metadata": {},
   "outputs": [
    {
     "name": "stdout",
     "output_type": "stream",
     "text": [
      "\n",
      "Remove short trajectories...\n",
      "\n",
      "...There are 0 ids with few points\n",
      "\n",
      "...Dropping unnecessary trajectories...\n",
      "\n",
      "...short trajectories and trajectories with a minimum distance (548): 100\n",
      "\n",
      "...There are 0 tid do drop\n"
     ]
    }
   ],
   "source": [
    "filters.clean_trajectories_short_and_few_points_(df_move)"
   ]
  },
  {
   "cell_type": "code",
   "execution_count": null,
   "metadata": {},
   "outputs": [],
   "source": []
  }
 ],
 "metadata": {
  "kernelspec": {
   "display_name": "Python 3",
   "language": "python",
   "name": "python3"
  },
  "language_info": {
   "codemirror_mode": {
    "name": "ipython",
    "version": 3
   },
   "file_extension": ".py",
   "mimetype": "text/x-python",
   "name": "python",
   "nbconvert_exporter": "python",
   "pygments_lexer": "ipython3",
   "version": "3.7.1"
  }
 },
 "nbformat": 4,
 "nbformat_minor": 2
}
