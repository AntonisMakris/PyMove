{
 "cells": [
  {
   "cell_type": "code",
   "execution_count": 1,
   "metadata": {},
   "outputs": [],
   "source": [
    "import pandas as pd\n",
    "import numpy as np\n",
    "from pymove.core.MoveDataFrame import MoveDataFrame"
   ]
  },
  {
   "cell_type": "code",
   "execution_count": 5,
   "metadata": {},
   "outputs": [
    {
     "data": {
      "text/html": [
       "<div>\n",
       "<style scoped>\n",
       "    .dataframe tbody tr th:only-of-type {\n",
       "        vertical-align: middle;\n",
       "    }\n",
       "\n",
       "    .dataframe tbody tr th {\n",
       "        vertical-align: top;\n",
       "    }\n",
       "\n",
       "    .dataframe thead th {\n",
       "        text-align: right;\n",
       "    }\n",
       "</style>\n",
       "<table border=\"1\" class=\"dataframe\">\n",
       "  <thead>\n",
       "    <tr style=\"text-align: right;\">\n",
       "      <th></th>\n",
       "      <th>lat</th>\n",
       "      <th>lon</th>\n",
       "      <th>datetime</th>\n",
       "      <th>id</th>\n",
       "    </tr>\n",
       "  </thead>\n",
       "  <tbody>\n",
       "    <tr>\n",
       "      <th>0</th>\n",
       "      <td>39.984094</td>\n",
       "      <td>116.319236</td>\n",
       "      <td>2008-10-23 05:53:05</td>\n",
       "      <td>1</td>\n",
       "    </tr>\n",
       "    <tr>\n",
       "      <th>1</th>\n",
       "      <td>39.984198</td>\n",
       "      <td>116.319322</td>\n",
       "      <td>2008-10-23 05:53:06</td>\n",
       "      <td>1</td>\n",
       "    </tr>\n",
       "    <tr>\n",
       "      <th>2</th>\n",
       "      <td>39.984224</td>\n",
       "      <td>116.319402</td>\n",
       "      <td>2008-10-23 05:53:11</td>\n",
       "      <td>1</td>\n",
       "    </tr>\n",
       "    <tr>\n",
       "      <th>3</th>\n",
       "      <td>39.984211</td>\n",
       "      <td>116.319389</td>\n",
       "      <td>2008-10-23 05:53:16</td>\n",
       "      <td>1</td>\n",
       "    </tr>\n",
       "    <tr>\n",
       "      <th>4</th>\n",
       "      <td>39.984217</td>\n",
       "      <td>116.319422</td>\n",
       "      <td>2008-10-23 05:53:21</td>\n",
       "      <td>1</td>\n",
       "    </tr>\n",
       "  </tbody>\n",
       "</table>\n",
       "</div>"
      ],
      "text/plain": [
       "         lat         lon            datetime  id\n",
       "0  39.984094  116.319236 2008-10-23 05:53:05   1\n",
       "1  39.984198  116.319322 2008-10-23 05:53:06   1\n",
       "2  39.984224  116.319402 2008-10-23 05:53:11   1\n",
       "3  39.984211  116.319389 2008-10-23 05:53:16   1\n",
       "4  39.984217  116.319422 2008-10-23 05:53:21   1"
      ]
     },
     "execution_count": 5,
     "metadata": {},
     "output_type": "execute_result"
    }
   ],
   "source": [
    "df = pd.read_csv('examples/geolife_sample.csv', parse_dates=['datetime'])\n",
    "df.head()"
   ]
  },
  {
   "cell_type": "code",
   "execution_count": null,
   "metadata": {},
   "outputs": [],
   "source": [
    "move_df = MoveDataFrame(data=df, latitude=\"lat\", longitude=\"lon\", datetime=\"datetime\")"
   ]
  },
  {
   "cell_type": "code",
   "execution_count": null,
   "metadata": {},
   "outputs": [],
   "source": [
    "move_df_dask = move_df.to_dask()"
   ]
  },
  {
   "cell_type": "code",
   "execution_count": null,
   "metadata": {},
   "outputs": [],
   "source": [
    "type(move_df)"
   ]
  },
  {
   "cell_type": "code",
   "execution_count": null,
   "metadata": {},
   "outputs": [],
   "source": [
    "move_df.get_users_number()"
   ]
  },
  {
   "cell_type": "code",
   "execution_count": null,
   "metadata": {},
   "outputs": [],
   "source": [
    "move_df.to_numpy()"
   ]
  },
  {
   "cell_type": "code",
   "execution_count": null,
   "metadata": {},
   "outputs": [],
   "source": [
    "move_df.write_file(\"teste.csv\")"
   ]
  },
  {
   "cell_type": "code",
   "execution_count": null,
   "metadata": {},
   "outputs": [],
   "source": [
    "move_df.len()"
   ]
  },
  {
   "cell_type": "code",
   "execution_count": null,
   "metadata": {},
   "outputs": [],
   "source": [
    "move_df.to_dict()"
   ]
  },
  {
   "cell_type": "code",
   "execution_count": null,
   "metadata": {},
   "outputs": [],
   "source": [
    "move_df.to_grid(8)"
   ]
  },
  {
   "cell_type": "markdown",
   "metadata": {},
   "source": []
  },
  {
   "cell_type": "code",
   "execution_count": null,
   "metadata": {},
   "outputs": [],
   "source": [
    "move_df.get_bbox()"
   ]
  },
  {
   "cell_type": "code",
   "execution_count": null,
   "metadata": {},
   "outputs": [],
   "source": [
    "move_df.generate_tid_based_on_id_datatime()"
   ]
  },
  {
   "cell_type": "code",
   "execution_count": null,
   "metadata": {},
   "outputs": [],
   "source": [
    "move_df.generate_date_features()"
   ]
  },
  {
   "cell_type": "code",
   "execution_count": null,
   "metadata": {},
   "outputs": [],
   "source": [
    "move_df.generate_hour_features()"
   ]
  },
  {
   "cell_type": "code",
   "execution_count": null,
   "metadata": {},
   "outputs": [],
   "source": [
    "move_df.generate_day_of_the_week_features()"
   ]
  },
  {
   "cell_type": "code",
   "execution_count": null,
   "metadata": {},
   "outputs": [],
   "source": [
    "move_df.generate_time_of_day_features()"
   ]
  },
  {
   "cell_type": "code",
   "execution_count": null,
   "metadata": {},
   "outputs": [],
   "source": [
    "move_df.generate_dist_features()"
   ]
  },
  {
   "cell_type": "code",
   "execution_count": null,
   "metadata": {},
   "outputs": [],
   "source": [
    "move_df.generate_dist_time_speed_features()"
   ]
  },
  {
   "cell_type": "code",
   "execution_count": null,
   "metadata": {},
   "outputs": [],
   "source": [
    "move_df.generate_move_and_stop_by_radius()"
   ]
  },
  {
   "cell_type": "code",
   "execution_count": null,
   "metadata": {},
   "outputs": [],
   "source": [
    "move_df.time_interval()"
   ]
  },
  {
   "cell_type": "code",
   "execution_count": null,
   "metadata": {},
   "outputs": [],
   "source": [
    "move_df.plot_all_features()"
   ]
  },
  {
   "cell_type": "code",
   "execution_count": null,
   "metadata": {},
   "outputs": [],
   "source": [
    "move_df.plot_trajs()"
   ]
  },
  {
   "cell_type": "code",
   "execution_count": null,
   "metadata": {},
   "outputs": [],
   "source": [
    "move_df.plot_traj_id(\"12008102305\")"
   ]
  },
  {
   "cell_type": "code",
   "execution_count": null,
   "metadata": {},
   "outputs": [],
   "source": [
    "move_df.show_trajectories_info()"
   ]
  },
  {
   "cell_type": "markdown",
   "metadata": {},
   "source": [
    "## Novas funções"
   ]
  },
  {
   "cell_type": "code",
   "execution_count": null,
   "metadata": {},
   "outputs": [],
   "source": [
    "move_df.max()"
   ]
  },
  {
   "cell_type": "code",
   "execution_count": null,
   "metadata": {},
   "outputs": [],
   "source": [
    "move_df.reset_index().head()"
   ]
  },
  {
   "cell_type": "code",
   "execution_count": null,
   "metadata": {},
   "outputs": [],
   "source": [
    "move_df.plot(x='lat', y='lon')"
   ]
  },
  {
   "cell_type": "code",
   "execution_count": null,
   "metadata": {},
   "outputs": [],
   "source": [
    "move_df.select_dtypes(include=['float64']).head()"
   ]
  },
  {
   "cell_type": "code",
   "execution_count": null,
   "metadata": {},
   "outputs": [],
   "source": [
    "move_df.sort_values(by=\"datetime\").head()"
   ]
  },
  {
   "cell_type": "code",
   "execution_count": null,
   "metadata": {},
   "outputs": [],
   "source": [
    "move_df.set_index(keys=[\"datetime\"]).head()"
   ]
  },
  {
   "cell_type": "code",
   "execution_count": null,
   "metadata": {},
   "outputs": [],
   "source": [
    "novo = move_df.drop(columns=[\"lat\"])"
   ]
  },
  {
   "cell_type": "code",
   "execution_count": null,
   "metadata": {},
   "outputs": [],
   "source": [
    "novo.head()"
   ]
  },
  {
   "cell_type": "code",
   "execution_count": null,
   "metadata": {},
   "outputs": [],
   "source": [
    "move_df.shift().head()"
   ]
  },
  {
   "cell_type": "code",
   "execution_count": null,
   "metadata": {},
   "outputs": [],
   "source": [
    "move_df.dropna().head()"
   ]
  },
  {
   "cell_type": "code",
   "execution_count": null,
   "metadata": {},
   "outputs": [],
   "source": [
    "move_df.append(move_df._data.loc[0])"
   ]
  },
  {
   "cell_type": "code",
   "execution_count": null,
   "metadata": {},
   "outputs": [],
   "source": [
    "move_df.to_csv(\"teste.csv\")"
   ]
  },
  {
   "cell_type": "code",
   "execution_count": null,
   "metadata": {},
   "outputs": [],
   "source": [
    "move_df.min()"
   ]
  },
  {
   "cell_type": "code",
   "execution_count": null,
   "metadata": {},
   "outputs": [],
   "source": [
    "move_df.count()"
   ]
  },
  {
   "cell_type": "code",
   "execution_count": null,
   "metadata": {},
   "outputs": [],
   "source": [
    "move_df.groupby(\"lat\").mean().head()"
   ]
  },
  {
   "cell_type": "code",
   "execution_count": null,
   "metadata": {},
   "outputs": [],
   "source": [
    "move_df.drop_duplicates().head()"
   ]
  },
  {
   "cell_type": "code",
   "execution_count": null,
   "metadata": {},
   "outputs": [],
   "source": [
    "move_df.astype({\"lat\":'float64'}).head()"
   ]
  },
  {
   "cell_type": "code",
   "execution_count": null,
   "metadata": {},
   "outputs": [],
   "source": [
    "move_df.duplicated().head()"
   ]
  },
  {
   "cell_type": "code",
   "execution_count": null,
   "metadata": {},
   "outputs": [],
   "source": [
    "move_df.any()"
   ]
  },
  {
   "cell_type": "code",
   "execution_count": null,
   "metadata": {},
   "outputs": [],
   "source": [
    "move_df.isin([39.984094]).head()"
   ]
  },
  {
   "cell_type": "code",
   "execution_count": null,
   "metadata": {},
   "outputs": [],
   "source": [
    "move_df.nunique()"
   ]
  },
  {
   "cell_type": "code",
   "execution_count": null,
   "metadata": {},
   "outputs": [],
   "source": [
    "move_df._data"
   ]
  },
  {
   "cell_type": "code",
   "execution_count": null,
   "metadata": {},
   "outputs": [],
   "source": [
    "type(move_df)"
   ]
  },
  {
   "cell_type": "code",
   "execution_count": null,
   "metadata": {},
   "outputs": [],
   "source": [
    "move_df.get_type()"
   ]
  },
  {
   "cell_type": "code",
   "execution_count": null,
   "metadata": {},
   "outputs": [],
   "source": [
    "import pymove"
   ]
  },
  {
   "cell_type": "code",
   "execution_count": null,
   "metadata": {},
   "outputs": [],
   "source": [
    "df1 = pymove.read_csv(\"teste.csv\")"
   ]
  },
  {
   "cell_type": "code",
   "execution_count": null,
   "metadata": {},
   "outputs": [],
   "source": [
    "type(df1)"
   ]
  },
  {
   "cell_type": "code",
   "execution_count": null,
   "metadata": {},
   "outputs": [],
   "source": [
    "df1.head()"
   ]
  },
  {
   "cell_type": "code",
   "execution_count": null,
   "metadata": {},
   "outputs": [],
   "source": [
    "df2 = pymove.read_csv(\"teste.csv\")"
   ]
  },
  {
   "cell_type": "code",
   "execution_count": null,
   "metadata": {},
   "outputs": [],
   "source": [
    "type(df2)"
   ]
  },
  {
   "cell_type": "code",
   "execution_count": null,
   "metadata": {},
   "outputs": [],
   "source": [
    "df2.head()"
   ]
  },
  {
   "cell_type": "markdown",
   "metadata": {},
   "source": [
    "----\n",
    "\n",
    "# Test new data structs"
   ]
  },
  {
   "cell_type": "code",
   "execution_count": 2,
   "metadata": {},
   "outputs": [],
   "source": [
    "data_list = [[39.984094, 116.319236, '2008-10-23 13:53:05', 1],\n",
    "             [39.984198, 116.319322, '2008-10-23 13:53:06', 1],\n",
    "             [39.984224, 116.319402, '2008-10-23 13:53:11', 1],\n",
    "             [39.984211, 116.319389, '2008-10-23 13:53:16', 1]]"
   ]
  },
  {
   "cell_type": "code",
   "execution_count": 3,
   "metadata": {},
   "outputs": [
    {
     "data": {
      "text/plain": [
       "[[39.984094, 116.319236, '2008-10-23 13:53:05', 1],\n",
       " [39.984198, 116.319322, '2008-10-23 13:53:06', 1],\n",
       " [39.984224, 116.319402, '2008-10-23 13:53:11', 1],\n",
       " [39.984211, 116.319389, '2008-10-23 13:53:16', 1]]"
      ]
     },
     "execution_count": 3,
     "metadata": {},
     "output_type": "execute_result"
    }
   ],
   "source": [
    "data_list"
   ]
  },
  {
   "cell_type": "code",
   "execution_count": 4,
   "metadata": {},
   "outputs": [
    {
     "name": "stdout",
     "output_type": "stream",
     "text": [
      "['lat', 'lon', 'datetime', 'id']\n",
      "         lat         lon             datetime  id\n",
      "0  39.984094  116.319236  2008-10-23 13:53:05   1\n",
      "1  39.984198  116.319322  2008-10-23 13:53:06   1\n",
      "2  39.984224  116.319402  2008-10-23 13:53:11   1\n",
      "3  39.984211  116.319389  2008-10-23 13:53:16   1\n"
     ]
    }
   ],
   "source": [
    "move_df = MoveDataFrame(data=data_list, latitude=\"lat\", longitude=\"lon\", datetime=\"datetime\")"
   ]
  },
  {
   "cell_type": "code",
   "execution_count": 8,
   "metadata": {},
   "outputs": [
    {
     "name": "stdout",
     "output_type": "stream",
     "text": [
      "              lat         lon            datetime  id\n",
      "0       39.984094  116.319236 2008-10-23 05:53:05   1\n",
      "1       39.984198  116.319322 2008-10-23 05:53:06   1\n",
      "2       39.984224  116.319402 2008-10-23 05:53:11   1\n",
      "3       39.984211  116.319389 2008-10-23 05:53:16   1\n",
      "4       39.984217  116.319422 2008-10-23 05:53:21   1\n",
      "5       39.984710  116.319865 2008-10-23 05:53:23   1\n",
      "6       39.984674  116.319810 2008-10-23 05:53:28   1\n",
      "7       39.984623  116.319773 2008-10-23 05:53:33   1\n",
      "8       39.984606  116.319732 2008-10-23 05:53:38   1\n",
      "9       39.984555  116.319728 2008-10-23 05:53:43   1\n",
      "10      39.984579  116.319769 2008-10-23 05:53:48   1\n",
      "11      39.984579  116.319769 2008-10-23 05:53:51   1\n",
      "12      39.984577  116.319766 2008-10-23 05:53:53   1\n",
      "13      39.984611  116.319822 2008-10-23 05:53:58   1\n",
      "14      39.984959  116.319969 2008-10-23 05:54:03   1\n",
      "15      39.985036  116.320056 2008-10-23 05:54:04   1\n",
      "16      39.984741  116.320037 2008-10-23 05:54:05   1\n",
      "17      39.984620  116.320120 2008-10-23 05:54:07   1\n",
      "18      39.984530  116.320242 2008-10-23 05:54:11   1\n",
      "19      39.984508  116.320331 2008-10-23 05:54:16   1\n",
      "20      39.984537  116.320443 2008-10-23 05:54:21   1\n",
      "21      39.984529  116.320573 2008-10-23 05:54:26   1\n",
      "22      39.984466  116.320683 2008-10-23 05:54:30   1\n",
      "23      39.984409  116.320778 2008-10-23 05:54:34   1\n",
      "24      39.984320  116.320808 2008-10-23 05:54:38   1\n",
      "25      39.984252  116.320826 2008-10-23 05:54:43   1\n",
      "26      39.984238  116.320844 2008-10-23 05:54:48   1\n",
      "27      39.984232  116.320853 2008-10-23 05:54:53   1\n",
      "28      39.984246  116.320870 2008-10-23 05:54:58   1\n",
      "29      39.984266  116.320876 2008-10-23 05:55:03   1\n",
      "...           ...         ...                 ...  ..\n",
      "217623  40.001137  116.326452 2009-03-19 05:44:02   5\n",
      "217624  40.001103  116.326519 2009-03-19 05:44:07   5\n",
      "217625  40.001126  116.326607 2009-03-19 05:44:12   5\n",
      "217626  40.001091  116.326667 2009-03-19 05:44:17   5\n",
      "217627  40.001073  116.326735 2009-03-19 05:44:22   5\n",
      "217628  40.001073  116.326821 2009-03-19 05:44:27   5\n",
      "217629  40.001080  116.326905 2009-03-19 05:44:32   5\n",
      "217630  40.001073  116.326977 2009-03-19 05:44:37   5\n",
      "217631  40.001064  116.327037 2009-03-19 05:44:42   5\n",
      "217632  40.001033  116.327062 2009-03-19 05:44:47   5\n",
      "217633  40.001022  116.327054 2009-03-19 05:44:52   5\n",
      "217634  40.001022  116.327054 2009-03-19 05:44:55   5\n",
      "217635  40.001023  116.327058 2009-03-19 05:44:57   5\n",
      "217636  40.001019  116.327071 2009-03-19 05:45:02   5\n",
      "217637  40.000759  116.327088 2009-03-19 05:45:07   5\n",
      "217638  40.000595  116.327066 2009-03-19 05:45:12   5\n",
      "217639  40.000514  116.327017 2009-03-19 05:45:17   5\n",
      "217640  40.000457  116.327019 2009-03-19 05:45:22   5\n",
      "217641  40.000368  116.327072 2009-03-19 05:45:27   5\n",
      "217642  40.000291  116.327100 2009-03-19 05:45:32   5\n",
      "217643  40.000205  116.327173 2009-03-19 05:45:37   5\n",
      "217644  40.000128  116.327171 2009-03-19 05:45:42   5\n",
      "217645  40.000069  116.327179 2009-03-19 05:45:47   5\n",
      "217646  40.000001  116.327219 2009-03-19 05:45:52   5\n",
      "217647  39.999919  116.327211 2009-03-19 05:45:57   5\n",
      "217648  39.999896  116.327290 2009-03-19 05:46:02   5\n",
      "217649  39.999899  116.327352 2009-03-19 05:46:07   5\n",
      "217650  39.999945  116.327394 2009-03-19 05:46:12   5\n",
      "217651  40.000015  116.327433 2009-03-19 05:46:17   5\n",
      "217652  39.999978  116.327460 2009-03-19 05:46:37   5\n",
      "\n",
      "[217653 rows x 4 columns]\n"
     ]
    }
   ],
   "source": [
    "data_dict = df.to_dict(orient='list')\n",
    "move_df = MoveDataFrame(data=data_dict, latitude=\"lat\", longitude=\"lon\", datetime=\"datetime\")"
   ]
  },
  {
   "cell_type": "code",
   "execution_count": 10,
   "metadata": {},
   "outputs": [
    {
     "data": {
      "text/plain": [
       "pymove.core.PandasMoveDataFrame.PandasMoveDataFrame"
      ]
     },
     "execution_count": 10,
     "metadata": {},
     "output_type": "execute_result"
    }
   ],
   "source": [
    "type(move_df)"
   ]
  },
  {
   "cell_type": "code",
   "execution_count": null,
   "metadata": {},
   "outputs": [],
   "source": []
  }
 ],
 "metadata": {
  "kernelspec": {
   "display_name": "Python 3",
   "language": "python",
   "name": "python3"
  },
  "language_info": {
   "codemirror_mode": {
    "name": "ipython",
    "version": 3
   },
   "file_extension": ".py",
   "mimetype": "text/x-python",
   "name": "python",
   "nbconvert_exporter": "python",
   "pygments_lexer": "ipython3",
   "version": "3.7.3"
  }
 },
 "nbformat": 4,
 "nbformat_minor": 2
}
