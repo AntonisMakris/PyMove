{
 "cells": [
  {
   "cell_type": "code",
   "execution_count": 1,
   "metadata": {},
   "outputs": [],
   "source": [
    "import pandas as pd\n",
    "import numpy as np\n",
    "from pymove.core.MoveDataFrame import MoveDataFrame"
   ]
  },
  {
   "cell_type": "code",
   "execution_count": 2,
   "metadata": {},
   "outputs": [
    {
     "data": {
      "text/html": [
       "<div>\n",
       "<style scoped>\n",
       "    .dataframe tbody tr th:only-of-type {\n",
       "        vertical-align: middle;\n",
       "    }\n",
       "\n",
       "    .dataframe tbody tr th {\n",
       "        vertical-align: top;\n",
       "    }\n",
       "\n",
       "    .dataframe thead th {\n",
       "        text-align: right;\n",
       "    }\n",
       "</style>\n",
       "<table border=\"1\" class=\"dataframe\">\n",
       "  <thead>\n",
       "    <tr style=\"text-align: right;\">\n",
       "      <th></th>\n",
       "      <th>lat</th>\n",
       "      <th>lon</th>\n",
       "      <th>datetime</th>\n",
       "      <th>id</th>\n",
       "    </tr>\n",
       "  </thead>\n",
       "  <tbody>\n",
       "    <tr>\n",
       "      <td>0</td>\n",
       "      <td>39.984094</td>\n",
       "      <td>116.319236</td>\n",
       "      <td>2008-10-23 05:53:05</td>\n",
       "      <td>1</td>\n",
       "    </tr>\n",
       "    <tr>\n",
       "      <td>1</td>\n",
       "      <td>39.984198</td>\n",
       "      <td>116.319322</td>\n",
       "      <td>2008-10-23 05:53:06</td>\n",
       "      <td>1</td>\n",
       "    </tr>\n",
       "    <tr>\n",
       "      <td>2</td>\n",
       "      <td>39.984224</td>\n",
       "      <td>116.319402</td>\n",
       "      <td>2008-10-23 05:53:11</td>\n",
       "      <td>1</td>\n",
       "    </tr>\n",
       "    <tr>\n",
       "      <td>3</td>\n",
       "      <td>39.984211</td>\n",
       "      <td>116.319389</td>\n",
       "      <td>2008-10-23 05:53:16</td>\n",
       "      <td>1</td>\n",
       "    </tr>\n",
       "    <tr>\n",
       "      <td>4</td>\n",
       "      <td>39.984217</td>\n",
       "      <td>116.319422</td>\n",
       "      <td>2008-10-23 05:53:21</td>\n",
       "      <td>1</td>\n",
       "    </tr>\n",
       "  </tbody>\n",
       "</table>\n",
       "</div>"
      ],
      "text/plain": [
       "         lat         lon            datetime  id\n",
       "0  39.984094  116.319236 2008-10-23 05:53:05   1\n",
       "1  39.984198  116.319322 2008-10-23 05:53:06   1\n",
       "2  39.984224  116.319402 2008-10-23 05:53:11   1\n",
       "3  39.984211  116.319389 2008-10-23 05:53:16   1\n",
       "4  39.984217  116.319422 2008-10-23 05:53:21   1"
      ]
     },
     "execution_count": 2,
     "metadata": {},
     "output_type": "execute_result"
    }
   ],
   "source": [
    "df = pd.read_csv('examples/geolife_sample.csv', parse_dates=['datetime'])\n",
    "df.head()"
   ]
  },
  {
   "cell_type": "code",
   "execution_count": 3,
   "metadata": {},
   "outputs": [],
   "source": [
    "move_df = MoveDataFrame(df, latitude=\"lat\", longitude=\"lon\", datetime=\"datetime\")"
   ]
  },
  {
   "cell_type": "code",
   "execution_count": null,
   "metadata": {},
   "outputs": [],
   "source": [
    "move_df.get_users_number()"
   ]
  },
  {
   "cell_type": "code",
   "execution_count": null,
   "metadata": {},
   "outputs": [],
   "source": [
    "move_df.to_numpy()"
   ]
  },
  {
   "cell_type": "code",
   "execution_count": null,
   "metadata": {},
   "outputs": [],
   "source": [
    "move_df.write_file(\"teste.csv\")"
   ]
  },
  {
   "cell_type": "code",
   "execution_count": null,
   "metadata": {},
   "outputs": [],
   "source": [
    "move_df.len()"
   ]
  },
  {
   "cell_type": "code",
   "execution_count": null,
   "metadata": {},
   "outputs": [],
   "source": [
    "move_df.to_dict()"
   ]
  },
  {
   "cell_type": "code",
   "execution_count": null,
   "metadata": {},
   "outputs": [],
   "source": [
    "move_df.to_grid(8)"
   ]
  },
  {
   "cell_type": "markdown",
   "metadata": {},
   "source": []
  },
  {
   "cell_type": "code",
   "execution_count": null,
   "metadata": {},
   "outputs": [],
   "source": [
    "move_df.get_bbox()"
   ]
  },
  {
   "cell_type": "code",
   "execution_count": 4,
   "metadata": {},
   "outputs": [
    {
     "name": "stdout",
     "output_type": "stream",
     "text": [
      "\n",
      "Creating or updating tid feature...\n",
      "\n",
      "...Sorting by id and datetime to increase performance\n",
      "\n",
      "\n",
      "...tid feature was created...\n",
      "\n"
     ]
    }
   ],
   "source": [
    "move_df.generate_tid_based_on_id_datatime()"
   ]
  },
  {
   "cell_type": "code",
   "execution_count": 5,
   "metadata": {},
   "outputs": [
    {
     "name": "stdout",
     "output_type": "stream",
     "text": [
      "Creating date features...\n",
      "..Date features was created...\n",
      "\n"
     ]
    }
   ],
   "source": [
    "move_df.generate_date_features()"
   ]
  },
  {
   "cell_type": "code",
   "execution_count": 6,
   "metadata": {},
   "outputs": [
    {
     "name": "stdout",
     "output_type": "stream",
     "text": [
      "\n",
      "Creating or updating a feature for hour...\n",
      "\n",
      "...Hour feature was created...\n",
      "\n"
     ]
    }
   ],
   "source": [
    "move_df.generate_hour_features()"
   ]
  },
  {
   "cell_type": "code",
   "execution_count": 7,
   "metadata": {},
   "outputs": [
    {
     "name": "stdout",
     "output_type": "stream",
     "text": [
      "\n",
      "Creating or updating day of the week feature...\n",
      "\n",
      "...the day of the week feature was created...\n",
      "\n"
     ]
    }
   ],
   "source": [
    "move_df.generate_day_of_the_week_features()"
   ]
  },
  {
   "cell_type": "code",
   "execution_count": 8,
   "metadata": {},
   "outputs": [
    {
     "name": "stdout",
     "output_type": "stream",
     "text": [
      "\n",
      "Creating or updating period feature\n",
      "...early morning from 0H to 6H\n",
      "...morning from 6H to 12H\n",
      "...afternoon from 12H to 18H\n",
      "...evening from 18H to 24H\n",
      "...the period of day feature was created\n"
     ]
    }
   ],
   "source": [
    "move_df.generate_time_of_day_features()"
   ]
  },
  {
   "cell_type": "code",
   "execution_count": 9,
   "metadata": {},
   "outputs": [
    {
     "name": "stdout",
     "output_type": "stream",
     "text": [
      "\n",
      "Creating or updating distance features in meters...\n",
      "\n",
      "...Sorting by id and datetime to increase performance\n",
      "\n",
      "...Set id as index to increase attribution performance\n",
      "\n",
      "(217653/217653) 100% in 00:00:00.044 - estimated end in 00:00:00.000\n",
      "...Reset index\n",
      "\n",
      "..Total Time: 0.045660972595214844\n"
     ]
    }
   ],
   "source": [
    "move_df.generate_dist_features()"
   ]
  },
  {
   "cell_type": "code",
   "execution_count": 10,
   "metadata": {},
   "outputs": [
    {
     "name": "stdout",
     "output_type": "stream",
     "text": [
      "\n",
      "Creating or updating distance, time and speed features in meters by seconds\n",
      "\n",
      "...Sorting by id and datetime to increase performance\n",
      "\n",
      "...Set id as index to a higher peformance\n",
      "\n",
      "(217653/217653) 100% in 00:00:00.123 - estimated end in 00:00:00.000\n",
      "...Reset index...\n",
      "\n",
      "..Total Time: 0.124\n"
     ]
    }
   ],
   "source": [
    "move_df.generate_dist_time_speed_features()"
   ]
  },
  {
   "cell_type": "code",
   "execution_count": 11,
   "metadata": {},
   "outputs": [
    {
     "name": "stdout",
     "output_type": "stream",
     "text": [
      "\n",
      "Creating or updating features MOVE and STOPS...\n",
      "\n",
      "\n",
      "....There are 14691 stops to this parameters\n",
      "\n"
     ]
    }
   ],
   "source": [
    "move_df.generate_move_and_stop_by_radius()"
   ]
  },
  {
   "cell_type": "code",
   "execution_count": 12,
   "metadata": {},
   "outputs": [
    {
     "data": {
      "text/plain": [
       "Timedelta('146 days 23:53:32')"
      ]
     },
     "execution_count": 12,
     "metadata": {},
     "output_type": "execute_result"
    }
   ],
   "source": [
    "move_df.time_interval()"
   ]
  },
  {
   "cell_type": "code",
   "execution_count": 13,
   "metadata": {},
   "outputs": [
    {
     "data": {
      "image/png": "[encoded data removed]",
      "text/plain": [
       "<Figure size 1512x1080 with 7 Axes>"
      ]
     },
     "metadata": {
      "needs_background": "light"
     },
     "output_type": "display_data"
    }
   ],
   "source": [
    "move_df.plot_all_features()"
   ]
  },
  {
   "cell_type": "code",
   "execution_count": 14,
   "metadata": {},
   "outputs": [
    {
     "data": {
      "image/png": "[encoded data removed]",
      "text/plain": [
       "<Figure size 720x720 with 1 Axes>"
      ]
     },
     "execution_count": 14,
     "metadata": {},
     "output_type": "execute_result"
    },
    {
     "data": {
      "image/png": "[encoded data removed]",
      "text/plain": [
       "<Figure size 720x720 with 1 Axes>"
      ]
     },
     "metadata": {
      "needs_background": "light"
     },
     "output_type": "display_data"
    }
   ],
   "source": [
    "move_df.plot_trajs()"
   ]
  },
  {
   "cell_type": "code",
   "execution_count": 18,
   "metadata": {},
   "outputs": [
    {
     "data": {
      "text/plain": [
       "(     id        lat         lon            datetime          tid        date  \\\n",
       " 0     1  39.984094  116.319236 2008-10-23 05:53:05  12008102305  2008-10-23   \n",
       " 1     1  39.984198  116.319322 2008-10-23 05:53:06  12008102305  2008-10-23   \n",
       " 2     1  39.984224  116.319402 2008-10-23 05:53:11  12008102305  2008-10-23   \n",
       " 3     1  39.984211  116.319389 2008-10-23 05:53:16  12008102305  2008-10-23   \n",
       " 4     1  39.984217  116.319422 2008-10-23 05:53:21  12008102305  2008-10-23   \n",
       " ..   ..        ...         ...                 ...          ...         ...   \n",
       " 109   1  39.979758  116.324513 2008-10-23 05:59:47  12008102305  2008-10-23   \n",
       " 110   1  39.979743  116.324668 2008-10-23 05:59:50  12008102305  2008-10-23   \n",
       " 111   1  39.979725  116.324794 2008-10-23 05:59:52  12008102305  2008-10-23   \n",
       " 112   1  39.979691  116.324938 2008-10-23 05:59:54  12008102305  2008-10-23   \n",
       " 113   1  39.979672  116.325033 2008-10-23 05:59:59  12008102305  2008-10-23   \n",
       " \n",
       "      hour       day         period  dist_to_prev  dist_to_next  \\\n",
       " 0       5  Thursday  early morning           NaN     13.690153   \n",
       " 1       5  Thursday  early morning     13.690153      7.403788   \n",
       " 2       5  Thursday  early morning      7.403788      1.821083   \n",
       " 3       5  Thursday  early morning      1.821083      2.889671   \n",
       " 4       5  Thursday  early morning      2.889671     66.555997   \n",
       " ..    ...       ...            ...           ...           ...   \n",
       " 109     5  Thursday  early morning     10.076360     13.311761   \n",
       " 110     5  Thursday  early morning     13.311761     10.920875   \n",
       " 111     5  Thursday  early morning     10.920875     12.838857   \n",
       " 112     5  Thursday  early morning     12.838857      8.365701   \n",
       " 113     5  Thursday  early morning      8.365701     10.656868   \n",
       " \n",
       "      dist_prev_to_next  time_to_prev  speed_to_prev situation  \n",
       " 0                  NaN           NaN            NaN       nan  \n",
       " 1            20.223428           1.0      13.690153      move  \n",
       " 2             5.888579           5.0       1.480758      move  \n",
       " 3             1.873356           5.0       0.364217      move  \n",
       " 4            68.727260           5.0       0.577934      move  \n",
       " ..                 ...           ...            ...       ...  \n",
       " 109          23.378015           2.0       5.038180      move  \n",
       " 110          24.222306           3.0       4.437254      move  \n",
       " 111          23.721005           2.0       5.460438      move  \n",
       " 112          21.199746           2.0       6.419429      move  \n",
       " 113          18.867725           5.0       1.673140      move  \n",
       " \n",
       " [114 rows x 15 columns], <Figure size 720x720 with 1 Axes>)"
      ]
     },
     "execution_count": 18,
     "metadata": {},
     "output_type": "execute_result"
    },
    {
     "data": {
      "image/png": "[encoded data removed]",
      "text/plain": [
       "<Figure size 720x720 with 1 Axes>"
      ]
     },
     "metadata": {
      "needs_background": "light"
     },
     "output_type": "display_data"
    }
   ],
   "source": [
    "move_df.plot_traj_id(\"12008102305\")"
   ]
  },
  {
   "cell_type": "code",
   "execution_count": 16,
   "metadata": {},
   "outputs": [
    {
     "name": "stdout",
     "output_type": "stream",
     "text": [
      "\n",
      "======================= INFORMATION ABOUT DATASET =======================\n",
      "\n",
      "Number of Points: 217653\n",
      "\n",
      "Number of IDs objects: 2\n",
      "\n",
      "Number of TIDs trajectory: 625\n",
      "\n",
      "Start Date:2008-10-23 05:53:05     End Date:2009-03-19 05:46:37\n",
      "\n",
      "Bounding Box:(22.147577, 113.54884299999999, 41.132062, 121.156224)\n",
      "\n",
      "Gap time MAX:3285256.0     Gap time MIN:1.0\n",
      "\n",
      "Speed MAX:915.609    Speed MIN:0.0\n",
      "\n",
      "Distance MAX:2001218.375    Distance MIN:0.0\n",
      "\n",
      "\n",
      "=========================================================================\n",
      "\n"
     ]
    }
   ],
   "source": [
    "move_df.show_trajectories_info()"
   ]
  },
  {
   "cell_type": "code",
   "execution_count": 17,
   "metadata": {},
   "outputs": [
    {
     "data": {
      "text/html": [
       "<div>\n",
       "<style scoped>\n",
       "    .dataframe tbody tr th:only-of-type {\n",
       "        vertical-align: middle;\n",
       "    }\n",
       "\n",
       "    .dataframe tbody tr th {\n",
       "        vertical-align: top;\n",
       "    }\n",
       "\n",
       "    .dataframe thead th {\n",
       "        text-align: right;\n",
       "    }\n",
       "</style>\n",
       "<table border=\"1\" class=\"dataframe\">\n",
       "  <thead>\n",
       "    <tr style=\"text-align: right;\">\n",
       "      <th></th>\n",
       "      <th>id</th>\n",
       "      <th>lat</th>\n",
       "      <th>lon</th>\n",
       "      <th>datetime</th>\n",
       "      <th>tid</th>\n",
       "      <th>date</th>\n",
       "      <th>hour</th>\n",
       "      <th>day</th>\n",
       "      <th>period</th>\n",
       "      <th>dist_to_prev</th>\n",
       "      <th>dist_to_next</th>\n",
       "      <th>dist_prev_to_next</th>\n",
       "      <th>time_to_prev</th>\n",
       "      <th>speed_to_prev</th>\n",
       "      <th>situation</th>\n",
       "    </tr>\n",
       "  </thead>\n",
       "  <tbody>\n",
       "    <tr>\n",
       "      <td>0</td>\n",
       "      <td>1</td>\n",
       "      <td>39.984094</td>\n",
       "      <td>116.319236</td>\n",
       "      <td>2008-10-23 05:53:05</td>\n",
       "      <td>12008102305</td>\n",
       "      <td>2008-10-23</td>\n",
       "      <td>5</td>\n",
       "      <td>Thursday</td>\n",
       "      <td>early morning</td>\n",
       "      <td>NaN</td>\n",
       "      <td>13.690153</td>\n",
       "      <td>NaN</td>\n",
       "      <td>NaN</td>\n",
       "      <td>NaN</td>\n",
       "      <td>nan</td>\n",
       "    </tr>\n",
       "    <tr>\n",
       "      <td>1</td>\n",
       "      <td>1</td>\n",
       "      <td>39.984198</td>\n",
       "      <td>116.319322</td>\n",
       "      <td>2008-10-23 05:53:06</td>\n",
       "      <td>12008102305</td>\n",
       "      <td>2008-10-23</td>\n",
       "      <td>5</td>\n",
       "      <td>Thursday</td>\n",
       "      <td>early morning</td>\n",
       "      <td>13.690153</td>\n",
       "      <td>7.403788</td>\n",
       "      <td>20.223428</td>\n",
       "      <td>1.0</td>\n",
       "      <td>13.690153</td>\n",
       "      <td>move</td>\n",
       "    </tr>\n",
       "    <tr>\n",
       "      <td>2</td>\n",
       "      <td>1</td>\n",
       "      <td>39.984224</td>\n",
       "      <td>116.319402</td>\n",
       "      <td>2008-10-23 05:53:11</td>\n",
       "      <td>12008102305</td>\n",
       "      <td>2008-10-23</td>\n",
       "      <td>5</td>\n",
       "      <td>Thursday</td>\n",
       "      <td>early morning</td>\n",
       "      <td>7.403788</td>\n",
       "      <td>1.821083</td>\n",
       "      <td>5.888579</td>\n",
       "      <td>5.0</td>\n",
       "      <td>1.480758</td>\n",
       "      <td>move</td>\n",
       "    </tr>\n",
       "    <tr>\n",
       "      <td>3</td>\n",
       "      <td>1</td>\n",
       "      <td>39.984211</td>\n",
       "      <td>116.319389</td>\n",
       "      <td>2008-10-23 05:53:16</td>\n",
       "      <td>12008102305</td>\n",
       "      <td>2008-10-23</td>\n",
       "      <td>5</td>\n",
       "      <td>Thursday</td>\n",
       "      <td>early morning</td>\n",
       "      <td>1.821083</td>\n",
       "      <td>2.889671</td>\n",
       "      <td>1.873356</td>\n",
       "      <td>5.0</td>\n",
       "      <td>0.364217</td>\n",
       "      <td>move</td>\n",
       "    </tr>\n",
       "    <tr>\n",
       "      <td>4</td>\n",
       "      <td>1</td>\n",
       "      <td>39.984217</td>\n",
       "      <td>116.319422</td>\n",
       "      <td>2008-10-23 05:53:21</td>\n",
       "      <td>12008102305</td>\n",
       "      <td>2008-10-23</td>\n",
       "      <td>5</td>\n",
       "      <td>Thursday</td>\n",
       "      <td>early morning</td>\n",
       "      <td>2.889671</td>\n",
       "      <td>66.555997</td>\n",
       "      <td>68.727260</td>\n",
       "      <td>5.0</td>\n",
       "      <td>0.577934</td>\n",
       "      <td>move</td>\n",
       "    </tr>\n",
       "    <tr>\n",
       "      <td>...</td>\n",
       "      <td>...</td>\n",
       "      <td>...</td>\n",
       "      <td>...</td>\n",
       "      <td>...</td>\n",
       "      <td>...</td>\n",
       "      <td>...</td>\n",
       "      <td>...</td>\n",
       "      <td>...</td>\n",
       "      <td>...</td>\n",
       "      <td>...</td>\n",
       "      <td>...</td>\n",
       "      <td>...</td>\n",
       "      <td>...</td>\n",
       "      <td>...</td>\n",
       "      <td>...</td>\n",
       "    </tr>\n",
       "    <tr>\n",
       "      <td>217648</td>\n",
       "      <td>5</td>\n",
       "      <td>39.999896</td>\n",
       "      <td>116.327290</td>\n",
       "      <td>2009-03-19 05:46:02</td>\n",
       "      <td>52009031905</td>\n",
       "      <td>2009-03-19</td>\n",
       "      <td>5</td>\n",
       "      <td>Thursday</td>\n",
       "      <td>early morning</td>\n",
       "      <td>7.198855</td>\n",
       "      <td>5.291709</td>\n",
       "      <td>12.214590</td>\n",
       "      <td>5.0</td>\n",
       "      <td>1.439771</td>\n",
       "      <td>move</td>\n",
       "    </tr>\n",
       "    <tr>\n",
       "      <td>217649</td>\n",
       "      <td>5</td>\n",
       "      <td>39.999899</td>\n",
       "      <td>116.327352</td>\n",
       "      <td>2009-03-19 05:46:07</td>\n",
       "      <td>52009031905</td>\n",
       "      <td>2009-03-19</td>\n",
       "      <td>5</td>\n",
       "      <td>Thursday</td>\n",
       "      <td>early morning</td>\n",
       "      <td>5.291709</td>\n",
       "      <td>6.241949</td>\n",
       "      <td>10.400206</td>\n",
       "      <td>5.0</td>\n",
       "      <td>1.058342</td>\n",
       "      <td>move</td>\n",
       "    </tr>\n",
       "    <tr>\n",
       "      <td>217650</td>\n",
       "      <td>5</td>\n",
       "      <td>39.999945</td>\n",
       "      <td>116.327394</td>\n",
       "      <td>2009-03-19 05:46:12</td>\n",
       "      <td>52009031905</td>\n",
       "      <td>2009-03-19</td>\n",
       "      <td>5</td>\n",
       "      <td>Thursday</td>\n",
       "      <td>early morning</td>\n",
       "      <td>6.241949</td>\n",
       "      <td>8.462920</td>\n",
       "      <td>14.628012</td>\n",
       "      <td>5.0</td>\n",
       "      <td>1.248390</td>\n",
       "      <td>move</td>\n",
       "    </tr>\n",
       "    <tr>\n",
       "      <td>217651</td>\n",
       "      <td>5</td>\n",
       "      <td>40.000015</td>\n",
       "      <td>116.327433</td>\n",
       "      <td>2009-03-19 05:46:17</td>\n",
       "      <td>52009031905</td>\n",
       "      <td>2009-03-19</td>\n",
       "      <td>5</td>\n",
       "      <td>Thursday</td>\n",
       "      <td>early morning</td>\n",
       "      <td>8.462920</td>\n",
       "      <td>4.713399</td>\n",
       "      <td>6.713456</td>\n",
       "      <td>5.0</td>\n",
       "      <td>1.692584</td>\n",
       "      <td>move</td>\n",
       "    </tr>\n",
       "    <tr>\n",
       "      <td>217652</td>\n",
       "      <td>5</td>\n",
       "      <td>39.999978</td>\n",
       "      <td>116.327460</td>\n",
       "      <td>2009-03-19 05:46:37</td>\n",
       "      <td>52009031905</td>\n",
       "      <td>2009-03-19</td>\n",
       "      <td>5</td>\n",
       "      <td>Thursday</td>\n",
       "      <td>early morning</td>\n",
       "      <td>4.713399</td>\n",
       "      <td>NaN</td>\n",
       "      <td>NaN</td>\n",
       "      <td>20.0</td>\n",
       "      <td>0.235670</td>\n",
       "      <td>move</td>\n",
       "    </tr>\n",
       "  </tbody>\n",
       "</table>\n",
       "<p>217653 rows × 15 columns</p>\n",
       "</div>"
      ],
      "text/plain": [
       "        id        lat         lon            datetime          tid  \\\n",
       "0        1  39.984094  116.319236 2008-10-23 05:53:05  12008102305   \n",
       "1        1  39.984198  116.319322 2008-10-23 05:53:06  12008102305   \n",
       "2        1  39.984224  116.319402 2008-10-23 05:53:11  12008102305   \n",
       "3        1  39.984211  116.319389 2008-10-23 05:53:16  12008102305   \n",
       "4        1  39.984217  116.319422 2008-10-23 05:53:21  12008102305   \n",
       "...     ..        ...         ...                 ...          ...   \n",
       "217648   5  39.999896  116.327290 2009-03-19 05:46:02  52009031905   \n",
       "217649   5  39.999899  116.327352 2009-03-19 05:46:07  52009031905   \n",
       "217650   5  39.999945  116.327394 2009-03-19 05:46:12  52009031905   \n",
       "217651   5  40.000015  116.327433 2009-03-19 05:46:17  52009031905   \n",
       "217652   5  39.999978  116.327460 2009-03-19 05:46:37  52009031905   \n",
       "\n",
       "              date  hour       day         period  dist_to_prev  dist_to_next  \\\n",
       "0       2008-10-23     5  Thursday  early morning           NaN     13.690153   \n",
       "1       2008-10-23     5  Thursday  early morning     13.690153      7.403788   \n",
       "2       2008-10-23     5  Thursday  early morning      7.403788      1.821083   \n",
       "3       2008-10-23     5  Thursday  early morning      1.821083      2.889671   \n",
       "4       2008-10-23     5  Thursday  early morning      2.889671     66.555997   \n",
       "...            ...   ...       ...            ...           ...           ...   \n",
       "217648  2009-03-19     5  Thursday  early morning      7.198855      5.291709   \n",
       "217649  2009-03-19     5  Thursday  early morning      5.291709      6.241949   \n",
       "217650  2009-03-19     5  Thursday  early morning      6.241949      8.462920   \n",
       "217651  2009-03-19     5  Thursday  early morning      8.462920      4.713399   \n",
       "217652  2009-03-19     5  Thursday  early morning      4.713399           NaN   \n",
       "\n",
       "        dist_prev_to_next  time_to_prev  speed_to_prev situation  \n",
       "0                     NaN           NaN            NaN       nan  \n",
       "1               20.223428           1.0      13.690153      move  \n",
       "2                5.888579           5.0       1.480758      move  \n",
       "3                1.873356           5.0       0.364217      move  \n",
       "4               68.727260           5.0       0.577934      move  \n",
       "...                   ...           ...            ...       ...  \n",
       "217648          12.214590           5.0       1.439771      move  \n",
       "217649          10.400206           5.0       1.058342      move  \n",
       "217650          14.628012           5.0       1.248390      move  \n",
       "217651           6.713456           5.0       1.692584      move  \n",
       "217652                NaN          20.0       0.235670      move  \n",
       "\n",
       "[217653 rows x 15 columns]"
      ]
     },
     "execution_count": 17,
     "metadata": {},
     "output_type": "execute_result"
    }
   ],
   "source": [
    "move_df"
   ]
  },
  {
   "cell_type": "code",
   "execution_count": null,
   "metadata": {},
   "outputs": [],
   "source": []
  }
 ],
 "metadata": {
  "kernelspec": {
   "display_name": "Python 3",
   "language": "python",
   "name": "python3"
  },
  "language_info": {
   "codemirror_mode": {
    "name": "ipython",
    "version": 3
   },
   "file_extension": ".py",
   "mimetype": "text/x-python",
   "name": "python",
   "nbconvert_exporter": "python",
   "pygments_lexer": "ipython3",
   "version": "3.7.4"
  }
 },
 "nbformat": 4,
 "nbformat_minor": 2
}
