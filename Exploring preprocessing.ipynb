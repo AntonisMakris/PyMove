{
 "cells": [
  {
   "cell_type": "markdown",
   "metadata": {},
   "source": [
    "## Preprocessing trajectory data"
   ]
  },
  {
   "cell_type": "markdown",
   "metadata": {},
   "source": [
    "Data preprocessing is a set of activities performed to prepare data for future analysis and data mining activities."
   ]
  },
  {
   "cell_type": "markdown",
   "metadata": {},
   "source": [
    "## Load data from file"
   ]
  },
  {
   "cell_type": "markdown",
   "metadata": {},
   "source": [
    "The dataset used in this tutorial is GeoLife GPS Trajectories. Available in https://www.microsoft.com/en-us/download/details.aspx?id=52367"
   ]
  },
  {
   "cell_type": "code",
   "execution_count": 39,
   "metadata": {},
   "outputs": [],
   "source": [
    "import pandas as pd\n",
    "import numpy as np\n",
    "from pymove import MoveDataFrame"
   ]
  },
  {
   "cell_type": "code",
   "execution_count": 40,
   "metadata": {},
   "outputs": [
    {
     "data": {
      "text/html": [
       "<div>\n",
       "<style scoped>\n",
       "    .dataframe tbody tr th:only-of-type {\n",
       "        vertical-align: middle;\n",
       "    }\n",
       "\n",
       "    .dataframe tbody tr th {\n",
       "        vertical-align: top;\n",
       "    }\n",
       "\n",
       "    .dataframe thead th {\n",
       "        text-align: right;\n",
       "    }\n",
       "</style>\n",
       "<table border=\"1\" class=\"dataframe\">\n",
       "  <thead>\n",
       "    <tr style=\"text-align: right;\">\n",
       "      <th></th>\n",
       "      <th>lat</th>\n",
       "      <th>lon</th>\n",
       "      <th>datetime</th>\n",
       "      <th>id</th>\n",
       "    </tr>\n",
       "  </thead>\n",
       "  <tbody>\n",
       "    <tr>\n",
       "      <th>0</th>\n",
       "      <td>39.984094</td>\n",
       "      <td>116.319236</td>\n",
       "      <td>2008-10-23 05:53:05</td>\n",
       "      <td>1</td>\n",
       "    </tr>\n",
       "    <tr>\n",
       "      <th>1</th>\n",
       "      <td>39.984198</td>\n",
       "      <td>116.319322</td>\n",
       "      <td>2008-10-23 05:53:06</td>\n",
       "      <td>1</td>\n",
       "    </tr>\n",
       "    <tr>\n",
       "      <th>2</th>\n",
       "      <td>39.984224</td>\n",
       "      <td>116.319402</td>\n",
       "      <td>2008-10-23 05:53:11</td>\n",
       "      <td>1</td>\n",
       "    </tr>\n",
       "    <tr>\n",
       "      <th>3</th>\n",
       "      <td>39.984211</td>\n",
       "      <td>116.319389</td>\n",
       "      <td>2008-10-23 05:53:16</td>\n",
       "      <td>1</td>\n",
       "    </tr>\n",
       "    <tr>\n",
       "      <th>4</th>\n",
       "      <td>39.984217</td>\n",
       "      <td>116.319422</td>\n",
       "      <td>2008-10-23 05:53:21</td>\n",
       "      <td>1</td>\n",
       "    </tr>\n",
       "  </tbody>\n",
       "</table>\n",
       "</div>"
      ],
      "text/plain": [
       "         lat         lon            datetime  id\n",
       "0  39.984094  116.319236 2008-10-23 05:53:05   1\n",
       "1  39.984198  116.319322 2008-10-23 05:53:06   1\n",
       "2  39.984224  116.319402 2008-10-23 05:53:11   1\n",
       "3  39.984211  116.319389 2008-10-23 05:53:16   1\n",
       "4  39.984217  116.319422 2008-10-23 05:53:21   1"
      ]
     },
     "execution_count": 40,
     "metadata": {},
     "output_type": "execute_result"
    }
   ],
   "source": [
    "df = pd.read_csv('examples/geolife_sample.csv', parse_dates=['datetime'])\n",
    "df.head()"
   ]
  },
  {
   "cell_type": "code",
   "execution_count": 41,
   "metadata": {},
   "outputs": [],
   "source": [
    "df_move = MoveDataFrame(df, latitude=\"lat\", longitude=\"lon\", datetime=\"datetime\")"
   ]
  },
  {
   "cell_type": "code",
   "execution_count": 4,
   "metadata": {},
   "outputs": [
    {
     "name": "stdout",
     "output_type": "stream",
     "text": [
      "\n",
      "======================= INFORMATION ABOUT DATASET =======================\n",
      "\n",
      "Number of Points: 217653\n",
      "\n",
      "Number of IDs objects: 2\n",
      "\n",
      "Start Date:2008-10-23 05:53:05     End Date:2009-03-19 05:46:37\n",
      "\n",
      "Bounding Box:(22.147577, 113.54884299999999, 41.132062, 121.156224)\n",
      "\n",
      "\n",
      "=========================================================================\n",
      "\n"
     ]
    }
   ],
   "source": [
    "df_move.show_trajectories_info()"
   ]
  },
  {
   "cell_type": "markdown",
   "metadata": {},
   "source": [
    "## Filtering"
   ]
  },
  {
   "cell_type": "markdown",
   "metadata": {},
   "source": [
    "The filters module provides functions to perform different types of data filtering."
   ]
  },
  {
   "cell_type": "markdown",
   "metadata": {},
   "source": [
    "Importing the module:"
   ]
  },
  {
   "cell_type": "code",
   "execution_count": 5,
   "metadata": {},
   "outputs": [],
   "source": [
    "from pymove import filters"
   ]
  },
  {
   "cell_type": "markdown",
   "metadata": {},
   "source": [
    "A bounding box (usually shortened to bbox) is an area defined by two longitudes and two latitudes. The function by_bbox, filters points of the trajectories according to a especified bounding box."
   ]
  },
  {
   "cell_type": "code",
   "execution_count": 6,
   "metadata": {},
   "outputs": [
    {
     "data": {
      "text/html": [
       "<div>\n",
       "<style scoped>\n",
       "    .dataframe tbody tr th:only-of-type {\n",
       "        vertical-align: middle;\n",
       "    }\n",
       "\n",
       "    .dataframe tbody tr th {\n",
       "        vertical-align: top;\n",
       "    }\n",
       "\n",
       "    .dataframe thead th {\n",
       "        text-align: right;\n",
       "    }\n",
       "</style>\n",
       "<table border=\"1\" class=\"dataframe\">\n",
       "  <thead>\n",
       "    <tr style=\"text-align: right;\">\n",
       "      <th></th>\n",
       "      <th>lat</th>\n",
       "      <th>lon</th>\n",
       "      <th>datetime</th>\n",
       "      <th>id</th>\n",
       "    </tr>\n",
       "  </thead>\n",
       "  <tbody>\n",
       "    <tr>\n",
       "      <th>0</th>\n",
       "      <td>39.984094</td>\n",
       "      <td>116.319236</td>\n",
       "      <td>2008-10-23 05:53:05</td>\n",
       "      <td>1</td>\n",
       "    </tr>\n",
       "    <tr>\n",
       "      <th>1</th>\n",
       "      <td>39.984198</td>\n",
       "      <td>116.319322</td>\n",
       "      <td>2008-10-23 05:53:06</td>\n",
       "      <td>1</td>\n",
       "    </tr>\n",
       "    <tr>\n",
       "      <th>2</th>\n",
       "      <td>39.984224</td>\n",
       "      <td>116.319402</td>\n",
       "      <td>2008-10-23 05:53:11</td>\n",
       "      <td>1</td>\n",
       "    </tr>\n",
       "    <tr>\n",
       "      <th>3</th>\n",
       "      <td>39.984211</td>\n",
       "      <td>116.319389</td>\n",
       "      <td>2008-10-23 05:53:16</td>\n",
       "      <td>1</td>\n",
       "    </tr>\n",
       "    <tr>\n",
       "      <th>4</th>\n",
       "      <td>39.984217</td>\n",
       "      <td>116.319422</td>\n",
       "      <td>2008-10-23 05:53:21</td>\n",
       "      <td>1</td>\n",
       "    </tr>\n",
       "  </tbody>\n",
       "</table>\n",
       "</div>"
      ],
      "text/plain": [
       "         lat         lon            datetime  id\n",
       "0  39.984094  116.319236 2008-10-23 05:53:05   1\n",
       "1  39.984198  116.319322 2008-10-23 05:53:06   1\n",
       "2  39.984224  116.319402 2008-10-23 05:53:11   1\n",
       "3  39.984211  116.319389 2008-10-23 05:53:16   1\n",
       "4  39.984217  116.319422 2008-10-23 05:53:21   1"
      ]
     },
     "execution_count": 6,
     "metadata": {},
     "output_type": "execute_result"
    }
   ],
   "source": [
    "bbox = (22.147577, 113.54884299999999, 41.132062, 121.156224)\n",
    "filt_df = filters.by_bbox(df_move, bbox)\n",
    "filt_df.head()"
   ]
  },
  {
   "cell_type": "markdown",
   "metadata": {},
   "source": [
    "by_datetime function filters point trajectories according to the time specified by the parameters: start_datetime and end_datetime."
   ]
  },
  {
   "cell_type": "code",
   "execution_count": 7,
   "metadata": {},
   "outputs": [
    {
     "data": {
      "text/html": [
       "<div>\n",
       "<style scoped>\n",
       "    .dataframe tbody tr th:only-of-type {\n",
       "        vertical-align: middle;\n",
       "    }\n",
       "\n",
       "    .dataframe tbody tr th {\n",
       "        vertical-align: top;\n",
       "    }\n",
       "\n",
       "    .dataframe thead th {\n",
       "        text-align: right;\n",
       "    }\n",
       "</style>\n",
       "<table border=\"1\" class=\"dataframe\">\n",
       "  <thead>\n",
       "    <tr style=\"text-align: right;\">\n",
       "      <th></th>\n",
       "      <th>lat</th>\n",
       "      <th>lon</th>\n",
       "      <th>datetime</th>\n",
       "      <th>id</th>\n",
       "    </tr>\n",
       "  </thead>\n",
       "  <tbody>\n",
       "    <tr>\n",
       "      <th>217644</th>\n",
       "      <td>40.000128</td>\n",
       "      <td>116.327171</td>\n",
       "      <td>2009-03-19 05:45:42</td>\n",
       "      <td>5</td>\n",
       "    </tr>\n",
       "    <tr>\n",
       "      <th>217645</th>\n",
       "      <td>40.000069</td>\n",
       "      <td>116.327179</td>\n",
       "      <td>2009-03-19 05:45:47</td>\n",
       "      <td>5</td>\n",
       "    </tr>\n",
       "    <tr>\n",
       "      <th>217646</th>\n",
       "      <td>40.000001</td>\n",
       "      <td>116.327219</td>\n",
       "      <td>2009-03-19 05:45:52</td>\n",
       "      <td>5</td>\n",
       "    </tr>\n",
       "    <tr>\n",
       "      <th>217647</th>\n",
       "      <td>39.999919</td>\n",
       "      <td>116.327211</td>\n",
       "      <td>2009-03-19 05:45:57</td>\n",
       "      <td>5</td>\n",
       "    </tr>\n",
       "    <tr>\n",
       "      <th>217648</th>\n",
       "      <td>39.999896</td>\n",
       "      <td>116.327290</td>\n",
       "      <td>2009-03-19 05:46:02</td>\n",
       "      <td>5</td>\n",
       "    </tr>\n",
       "    <tr>\n",
       "      <th>217649</th>\n",
       "      <td>39.999899</td>\n",
       "      <td>116.327352</td>\n",
       "      <td>2009-03-19 05:46:07</td>\n",
       "      <td>5</td>\n",
       "    </tr>\n",
       "    <tr>\n",
       "      <th>217650</th>\n",
       "      <td>39.999945</td>\n",
       "      <td>116.327394</td>\n",
       "      <td>2009-03-19 05:46:12</td>\n",
       "      <td>5</td>\n",
       "    </tr>\n",
       "    <tr>\n",
       "      <th>217651</th>\n",
       "      <td>40.000015</td>\n",
       "      <td>116.327433</td>\n",
       "      <td>2009-03-19 05:46:17</td>\n",
       "      <td>5</td>\n",
       "    </tr>\n",
       "  </tbody>\n",
       "</table>\n",
       "</div>"
      ],
      "text/plain": [
       "              lat         lon            datetime  id\n",
       "217644  40.000128  116.327171 2009-03-19 05:45:42   5\n",
       "217645  40.000069  116.327179 2009-03-19 05:45:47   5\n",
       "217646  40.000001  116.327219 2009-03-19 05:45:52   5\n",
       "217647  39.999919  116.327211 2009-03-19 05:45:57   5\n",
       "217648  39.999896  116.327290 2009-03-19 05:46:02   5\n",
       "217649  39.999899  116.327352 2009-03-19 05:46:07   5\n",
       "217650  39.999945  116.327394 2009-03-19 05:46:12   5\n",
       "217651  40.000015  116.327433 2009-03-19 05:46:17   5"
      ]
     },
     "execution_count": 7,
     "metadata": {},
     "output_type": "execute_result"
    }
   ],
   "source": [
    "filters.by_datetime(df_move,start_datetime = \"2009-03-19 05:45:37\", end_datetime = \"2009-03-19 05:46:17\")"
   ]
  },
  {
   "cell_type": "markdown",
   "metadata": {},
   "source": [
    "by label function filters trajectories points according to specified value and column label, set by value and label_name respectively."
   ]
  },
  {
   "cell_type": "code",
   "execution_count": 8,
   "metadata": {},
   "outputs": [
    {
     "data": {
      "text/html": [
       "<div>\n",
       "<style scoped>\n",
       "    .dataframe tbody tr th:only-of-type {\n",
       "        vertical-align: middle;\n",
       "    }\n",
       "\n",
       "    .dataframe tbody tr th {\n",
       "        vertical-align: top;\n",
       "    }\n",
       "\n",
       "    .dataframe thead th {\n",
       "        text-align: right;\n",
       "    }\n",
       "</style>\n",
       "<table border=\"1\" class=\"dataframe\">\n",
       "  <thead>\n",
       "    <tr style=\"text-align: right;\">\n",
       "      <th></th>\n",
       "      <th>lat</th>\n",
       "      <th>lon</th>\n",
       "      <th>datetime</th>\n",
       "      <th>id</th>\n",
       "    </tr>\n",
       "  </thead>\n",
       "  <tbody>\n",
       "    <tr>\n",
       "      <th>3066</th>\n",
       "      <td>39.979160</td>\n",
       "      <td>116.327219</td>\n",
       "      <td>2008-10-24 06:34:27</td>\n",
       "      <td>1</td>\n",
       "    </tr>\n",
       "    <tr>\n",
       "      <th>13911</th>\n",
       "      <td>39.975424</td>\n",
       "      <td>116.327219</td>\n",
       "      <td>2008-10-26 08:18:06</td>\n",
       "      <td>1</td>\n",
       "    </tr>\n",
       "    <tr>\n",
       "      <th>16396</th>\n",
       "      <td>39.980411</td>\n",
       "      <td>116.327219</td>\n",
       "      <td>2008-10-27 00:30:47</td>\n",
       "      <td>1</td>\n",
       "    </tr>\n",
       "    <tr>\n",
       "      <th>33935</th>\n",
       "      <td>39.975832</td>\n",
       "      <td>116.327219</td>\n",
       "      <td>2008-11-05 11:04:04</td>\n",
       "      <td>1</td>\n",
       "    </tr>\n",
       "    <tr>\n",
       "      <th>41636</th>\n",
       "      <td>39.976990</td>\n",
       "      <td>116.327219</td>\n",
       "      <td>2008-11-07 10:34:41</td>\n",
       "      <td>1</td>\n",
       "    </tr>\n",
       "  </tbody>\n",
       "</table>\n",
       "</div>"
      ],
      "text/plain": [
       "             lat         lon            datetime  id\n",
       "3066   39.979160  116.327219 2008-10-24 06:34:27   1\n",
       "13911  39.975424  116.327219 2008-10-26 08:18:06   1\n",
       "16396  39.980411  116.327219 2008-10-27 00:30:47   1\n",
       "33935  39.975832  116.327219 2008-11-05 11:04:04   1\n",
       "41636  39.976990  116.327219 2008-11-07 10:34:41   1"
      ]
     },
     "execution_count": 8,
     "metadata": {},
     "output_type": "execute_result"
    }
   ],
   "source": [
    "filters.by_label(df_move, value = 116.327219, label_name = \"lon\").head()"
   ]
  },
  {
   "cell_type": "markdown",
   "metadata": {},
   "source": [
    "by_id function filters trajectories points according to especified trajectory id."
   ]
  },
  {
   "cell_type": "code",
   "execution_count": 9,
   "metadata": {},
   "outputs": [
    {
     "data": {
      "text/html": [
       "<div>\n",
       "<style scoped>\n",
       "    .dataframe tbody tr th:only-of-type {\n",
       "        vertical-align: middle;\n",
       "    }\n",
       "\n",
       "    .dataframe tbody tr th {\n",
       "        vertical-align: top;\n",
       "    }\n",
       "\n",
       "    .dataframe thead th {\n",
       "        text-align: right;\n",
       "    }\n",
       "</style>\n",
       "<table border=\"1\" class=\"dataframe\">\n",
       "  <thead>\n",
       "    <tr style=\"text-align: right;\">\n",
       "      <th></th>\n",
       "      <th>lat</th>\n",
       "      <th>lon</th>\n",
       "      <th>datetime</th>\n",
       "      <th>id</th>\n",
       "    </tr>\n",
       "  </thead>\n",
       "  <tbody>\n",
       "    <tr>\n",
       "      <th>108607</th>\n",
       "      <td>40.004155</td>\n",
       "      <td>116.321337</td>\n",
       "      <td>2008-10-24 04:12:30</td>\n",
       "      <td>5</td>\n",
       "    </tr>\n",
       "    <tr>\n",
       "      <th>108608</th>\n",
       "      <td>40.003834</td>\n",
       "      <td>116.321462</td>\n",
       "      <td>2008-10-24 04:12:35</td>\n",
       "      <td>5</td>\n",
       "    </tr>\n",
       "    <tr>\n",
       "      <th>108609</th>\n",
       "      <td>40.003783</td>\n",
       "      <td>116.321431</td>\n",
       "      <td>2008-10-24 04:12:40</td>\n",
       "      <td>5</td>\n",
       "    </tr>\n",
       "    <tr>\n",
       "      <th>108610</th>\n",
       "      <td>40.003690</td>\n",
       "      <td>116.321429</td>\n",
       "      <td>2008-10-24 04:12:45</td>\n",
       "      <td>5</td>\n",
       "    </tr>\n",
       "    <tr>\n",
       "      <th>108611</th>\n",
       "      <td>40.003589</td>\n",
       "      <td>116.321427</td>\n",
       "      <td>2008-10-24 04:12:50</td>\n",
       "      <td>5</td>\n",
       "    </tr>\n",
       "  </tbody>\n",
       "</table>\n",
       "</div>"
      ],
      "text/plain": [
       "              lat         lon            datetime  id\n",
       "108607  40.004155  116.321337 2008-10-24 04:12:30   5\n",
       "108608  40.003834  116.321462 2008-10-24 04:12:35   5\n",
       "108609  40.003783  116.321431 2008-10-24 04:12:40   5\n",
       "108610  40.003690  116.321429 2008-10-24 04:12:45   5\n",
       "108611  40.003589  116.321427 2008-10-24 04:12:50   5"
      ]
     },
     "execution_count": 9,
     "metadata": {},
     "output_type": "execute_result"
    }
   ],
   "source": [
    "filters.by_id(df_move, id_=5).head()"
   ]
  },
  {
   "cell_type": "markdown",
   "metadata": {},
   "source": [
    "A tid is the result of concatenation between the id and date of a trajectory.\n",
    "The by_tid function filters trajectory points according to the tid specified by the tid_ parameter."
   ]
  },
  {
   "cell_type": "code",
   "execution_count": 10,
   "metadata": {},
   "outputs": [
    {
     "name": "stdout",
     "output_type": "stream",
     "text": [
      "\n",
      "Creating or updating tid feature...\n",
      "\n",
      "...Sorting by id and datetime to increase performance\n",
      "\n",
      "\n",
      "...tid feature was created...\n",
      "\n"
     ]
    },
    {
     "data": {
      "text/html": [
       "<div>\n",
       "<style scoped>\n",
       "    .dataframe tbody tr th:only-of-type {\n",
       "        vertical-align: middle;\n",
       "    }\n",
       "\n",
       "    .dataframe tbody tr th {\n",
       "        vertical-align: top;\n",
       "    }\n",
       "\n",
       "    .dataframe thead th {\n",
       "        text-align: right;\n",
       "    }\n",
       "</style>\n",
       "<table border=\"1\" class=\"dataframe\">\n",
       "  <thead>\n",
       "    <tr style=\"text-align: right;\">\n",
       "      <th></th>\n",
       "      <th>lat</th>\n",
       "      <th>lon</th>\n",
       "      <th>datetime</th>\n",
       "      <th>id</th>\n",
       "      <th>tid</th>\n",
       "    </tr>\n",
       "  </thead>\n",
       "  <tbody>\n",
       "    <tr>\n",
       "      <th>0</th>\n",
       "      <td>39.984094</td>\n",
       "      <td>116.319236</td>\n",
       "      <td>2008-10-23 05:53:05</td>\n",
       "      <td>1</td>\n",
       "      <td>12008102305</td>\n",
       "    </tr>\n",
       "    <tr>\n",
       "      <th>1</th>\n",
       "      <td>39.984198</td>\n",
       "      <td>116.319322</td>\n",
       "      <td>2008-10-23 05:53:06</td>\n",
       "      <td>1</td>\n",
       "      <td>12008102305</td>\n",
       "    </tr>\n",
       "    <tr>\n",
       "      <th>2</th>\n",
       "      <td>39.984224</td>\n",
       "      <td>116.319402</td>\n",
       "      <td>2008-10-23 05:53:11</td>\n",
       "      <td>1</td>\n",
       "      <td>12008102305</td>\n",
       "    </tr>\n",
       "    <tr>\n",
       "      <th>3</th>\n",
       "      <td>39.984211</td>\n",
       "      <td>116.319389</td>\n",
       "      <td>2008-10-23 05:53:16</td>\n",
       "      <td>1</td>\n",
       "      <td>12008102305</td>\n",
       "    </tr>\n",
       "    <tr>\n",
       "      <th>4</th>\n",
       "      <td>39.984217</td>\n",
       "      <td>116.319422</td>\n",
       "      <td>2008-10-23 05:53:21</td>\n",
       "      <td>1</td>\n",
       "      <td>12008102305</td>\n",
       "    </tr>\n",
       "  </tbody>\n",
       "</table>\n",
       "</div>"
      ],
      "text/plain": [
       "         lat         lon            datetime  id          tid\n",
       "0  39.984094  116.319236 2008-10-23 05:53:05   1  12008102305\n",
       "1  39.984198  116.319322 2008-10-23 05:53:06   1  12008102305\n",
       "2  39.984224  116.319402 2008-10-23 05:53:11   1  12008102305\n",
       "3  39.984211  116.319389 2008-10-23 05:53:16   1  12008102305\n",
       "4  39.984217  116.319422 2008-10-23 05:53:21   1  12008102305"
      ]
     },
     "execution_count": 10,
     "metadata": {},
     "output_type": "execute_result"
    }
   ],
   "source": [
    "df_move.generate_tid_based_on_id_datatime()\n",
    "filters.by_tid(df_move, \"12008102305\").head()"
   ]
  },
  {
   "cell_type": "markdown",
   "metadata": {},
   "source": [
    "outliers function filters trajectories points that are outliers."
   ]
  },
  {
   "cell_type": "code",
   "execution_count": 11,
   "metadata": {},
   "outputs": [
    {
     "name": "stdout",
     "output_type": "stream",
     "text": [
      "\n",
      "Creating or updating distance features in meters...\n",
      "\n",
      "...Sorting by id and datetime to increase performance\n",
      "\n",
      "...Set id as index to increase attribution performance\n",
      "\n",
      "(217653/217653) 100% in 00:00:00.066 - estimated end in 00:00:00.000\n",
      "...Reset index\n",
      "\n",
      "..Total Time: 0.07281041145324707\n",
      "...Filtring jumps \n",
      "\n"
     ]
    },
    {
     "data": {
      "text/html": [
       "<div>\n",
       "<style scoped>\n",
       "    .dataframe tbody tr th:only-of-type {\n",
       "        vertical-align: middle;\n",
       "    }\n",
       "\n",
       "    .dataframe tbody tr th {\n",
       "        vertical-align: top;\n",
       "    }\n",
       "\n",
       "    .dataframe thead th {\n",
       "        text-align: right;\n",
       "    }\n",
       "</style>\n",
       "<table border=\"1\" class=\"dataframe\">\n",
       "  <thead>\n",
       "    <tr style=\"text-align: right;\">\n",
       "      <th></th>\n",
       "      <th>id</th>\n",
       "      <th>lat</th>\n",
       "      <th>lon</th>\n",
       "      <th>datetime</th>\n",
       "      <th>tid</th>\n",
       "      <th>dist_to_prev</th>\n",
       "      <th>dist_to_next</th>\n",
       "      <th>dist_prev_to_next</th>\n",
       "    </tr>\n",
       "  </thead>\n",
       "  <tbody>\n",
       "    <tr>\n",
       "      <th>148</th>\n",
       "      <td>1</td>\n",
       "      <td>39.970511</td>\n",
       "      <td>116.341455</td>\n",
       "      <td>2008-10-23 10:32:53</td>\n",
       "      <td>12008102310</td>\n",
       "      <td>1452.319115</td>\n",
       "      <td>1470.641291</td>\n",
       "      <td>71.088460</td>\n",
       "    </tr>\n",
       "    <tr>\n",
       "      <th>338</th>\n",
       "      <td>1</td>\n",
       "      <td>39.995042</td>\n",
       "      <td>116.326465</td>\n",
       "      <td>2008-10-23 10:44:24</td>\n",
       "      <td>12008102310</td>\n",
       "      <td>10.801860</td>\n",
       "      <td>10.274331</td>\n",
       "      <td>1.465144</td>\n",
       "    </tr>\n",
       "    <tr>\n",
       "      <th>8133</th>\n",
       "      <td>1</td>\n",
       "      <td>39.991075</td>\n",
       "      <td>116.188395</td>\n",
       "      <td>2008-10-25 08:20:19</td>\n",
       "      <td>12008102508</td>\n",
       "      <td>5.090766</td>\n",
       "      <td>6.247860</td>\n",
       "      <td>1.295191</td>\n",
       "    </tr>\n",
       "    <tr>\n",
       "      <th>10175</th>\n",
       "      <td>1</td>\n",
       "      <td>40.015169</td>\n",
       "      <td>116.311045</td>\n",
       "      <td>2008-10-25 23:40:12</td>\n",
       "      <td>12008102523</td>\n",
       "      <td>23.454754</td>\n",
       "      <td>24.899678</td>\n",
       "      <td>3.766959</td>\n",
       "    </tr>\n",
       "    <tr>\n",
       "      <th>13849</th>\n",
       "      <td>1</td>\n",
       "      <td>39.977157</td>\n",
       "      <td>116.327151</td>\n",
       "      <td>2008-10-26 08:13:53</td>\n",
       "      <td>12008102608</td>\n",
       "      <td>11.212682</td>\n",
       "      <td>10.221164</td>\n",
       "      <td>1.004375</td>\n",
       "    </tr>\n",
       "  </tbody>\n",
       "</table>\n",
       "</div>"
      ],
      "text/plain": [
       "       id        lat         lon            datetime          tid  \\\n",
       "148     1  39.970511  116.341455 2008-10-23 10:32:53  12008102310   \n",
       "338     1  39.995042  116.326465 2008-10-23 10:44:24  12008102310   \n",
       "8133    1  39.991075  116.188395 2008-10-25 08:20:19  12008102508   \n",
       "10175   1  40.015169  116.311045 2008-10-25 23:40:12  12008102523   \n",
       "13849   1  39.977157  116.327151 2008-10-26 08:13:53  12008102608   \n",
       "\n",
       "       dist_to_prev  dist_to_next  dist_prev_to_next  \n",
       "148     1452.319115   1470.641291          71.088460  \n",
       "338       10.801860     10.274331           1.465144  \n",
       "8133       5.090766      6.247860           1.295191  \n",
       "10175     23.454754     24.899678           3.766959  \n",
       "13849     11.212682     10.221164           1.004375  "
      ]
     },
     "execution_count": 11,
     "metadata": {},
     "output_type": "execute_result"
    }
   ],
   "source": [
    "outliers_points = filters.outliers(df_move)\n",
    "outliers_points.head()"
   ]
  },
  {
   "cell_type": "markdown",
   "metadata": {},
   "source": [
    "clen_duplicates function removes the duplicate rows of the Dataframe, optionally only certaind columns can be consider."
   ]
  },
  {
   "cell_type": "code",
   "execution_count": 12,
   "metadata": {},
   "outputs": [
    {
     "name": "stdout",
     "output_type": "stream",
     "text": [
      "\n",
      "Remove rows duplicates by subset\n",
      "...Sorting by id and datetime to increase performance\n",
      "\n",
      "...There are no GPS points duplicated\n"
     ]
    }
   ],
   "source": [
    "filters.clean_duplicates(df_move)"
   ]
  },
  {
   "cell_type": "markdown",
   "metadata": {},
   "source": [
    "clean_consecutive_duplicates function removes consecutives duplicate rows of the Dataframe. Optionally only certaind columns can be consider, this is defined by the parameter subset, in this example only the lat column is considered."
   ]
  },
  {
   "cell_type": "code",
   "execution_count": 13,
   "metadata": {},
   "outputs": [
    {
     "data": {
      "text/plain": [
       "196142"
      ]
     },
     "execution_count": 13,
     "metadata": {},
     "output_type": "execute_result"
    }
   ],
   "source": [
    "filtered_df = filters.clean_consecutive_duplicates(df_move, subset = [\"lat\"])\n",
    "len(filtered_df)"
   ]
  },
  {
   "cell_type": "markdown",
   "metadata": {},
   "source": [
    "clean_nan_values function removes missing values from the dataframe."
   ]
  },
  {
   "cell_type": "code",
   "execution_count": 14,
   "metadata": {},
   "outputs": [
    {
     "data": {
      "text/plain": [
       "217649"
      ]
     },
     "execution_count": 14,
     "metadata": {},
     "output_type": "execute_result"
    }
   ],
   "source": [
    "filters.clean_nan_values(df_move)\n",
    "len(df_move)"
   ]
  },
  {
   "cell_type": "markdown",
   "metadata": {},
   "source": [
    "clean_gps_jumps_by_distance function removes from the dataframe the trajectories points that are outliers."
   ]
  },
  {
   "cell_type": "code",
   "execution_count": 15,
   "metadata": {},
   "outputs": [
    {
     "name": "stdout",
     "output_type": "stream",
     "text": [
      "\n",
      "Cleaning gps jumps by distance to jump_coefficient 3.0...\n",
      "\n",
      "...Filtring jumps \n",
      "\n",
      "...Dropping 383 rows of gps points\n",
      "\n",
      "...Rows before: 217649, Rows after:217266, Sum drop:383\n",
      "\n",
      "\n",
      "Cleaning gps jumps by distance to jump_coefficient 3.0...\n",
      "\n",
      "...Filtring jumps \n",
      "\n",
      "383 GPS points were dropped\n"
     ]
    }
   ],
   "source": [
    "filters.clean_gps_jumps_by_distance(df_move)"
   ]
  },
  {
   "cell_type": "markdown",
   "metadata": {},
   "source": [
    "clean_gps_nearby_points_by_distances function removes points from the trajectories when the distance between them and the point before is smaller than the parameter radius_area."
   ]
  },
  {
   "cell_type": "code",
   "execution_count": 16,
   "metadata": {},
   "outputs": [
    {
     "name": "stdout",
     "output_type": "stream",
     "text": [
      "\n",
      "Cleaning gps points from radius of 10 meters\n",
      "\n",
      "...There are 137478 gps points to drop\n",
      "\n",
      "...Dropping 137478 gps points\n",
      "\n",
      "...Rows before: 217266, Rows after:79788\n",
      "\n",
      "\n",
      "Cleaning gps points from radius of 10 meters\n",
      "\n",
      "...There are 0 gps points to drop\n",
      "\n"
     ]
    }
   ],
   "source": [
    "filters.clean_gps_nearby_points_by_distances(df_move, radius_area = 10)"
   ]
  },
  {
   "cell_type": "markdown",
   "metadata": {},
   "source": [
    "clean_gps_nearby_points_by_speed function removes points from the trajectories when the speed of travel between them\n",
    "and the point before is smaller than the value set by the parameter speed_radius."
   ]
  },
  {
   "cell_type": "code",
   "execution_count": 17,
   "metadata": {},
   "outputs": [
    {
     "name": "stdout",
     "output_type": "stream",
     "text": [
      "\n",
      "Creating or updating distance, time and speed features in meters by seconds\n",
      "\n",
      "...Sorting by id and datetime to increase performance\n",
      "\n",
      "...Set id as index to a higher peformance\n",
      "\n",
      "(79788/79788) 100% in 00:00:00.057 - estimated end in 00:00:00.000\n",
      "...Reset index...\n",
      "\n",
      "..Total Time: 0.063\n",
      "\n",
      "Cleaning gps points using 40.0 speed radius\n",
      "\n",
      "...There are 79586 gps points to drop\n",
      "\n",
      "...Dropping 79586 gps points\n",
      "\n",
      "...Rows before: 79788, Rows after:202\n",
      "\n",
      "\n",
      "Cleaning gps points using 0.0 speed radius\n",
      "\n",
      "...There are 0 gps points to drop\n",
      "\n"
     ]
    }
   ],
   "source": [
    "filters.clean_gps_nearby_points_by_speed(df_move, speed_radius=40.0)"
   ]
  },
  {
   "cell_type": "markdown",
   "metadata": {},
   "source": [
    "clean_gps_speed_max_radius function recursively removes trajectories points with speed higher than the value especifeid by the user.\n",
    "    Given any point p of the trajectory, the point will be removed if one of the following happens:\n",
    "    if the travel speed from the point before p to p is greater than the  max value of speed between adjacent\n",
    "    points set by the user. Or the travel speed between point p and the next point is greater than the value set by\n",
    "    the user. When the clening is done, the function will update the time and distance features in the dataframe and\n",
    "    will call itself again.\n",
    "    The function will finish processing when it can no longer find points disrespecting the limit of speed."
   ]
  },
  {
   "cell_type": "code",
   "execution_count": 18,
   "metadata": {},
   "outputs": [
    {
     "name": "stdout",
     "output_type": "stream",
     "text": [
      "\n",
      "Clean gps points with speed max > 50.0 meters by seconds\n",
      "...There 125 gps points with speed_max > 50.0\n",
      "\n",
      "...Dropping 125 rows of jumps by speed max\n",
      "\n",
      "...Rows before: 202, Rows after:77\n",
      "\n",
      "\n",
      "Clean gps points with speed max > 50.0 meters by seconds\n",
      "...There 0 gps points with speed_max > 50.0\n",
      "\n"
     ]
    }
   ],
   "source": [
    "filters.clean_gps_speed_max_radius(df_move)"
   ]
  },
  {
   "cell_type": "markdown",
   "metadata": {},
   "source": [
    "clean_trajectories_with_few_points function removes from the given dataframe, trajectories with fewer points than was specified by the parameter min_points_per_trajectory."
   ]
  },
  {
   "cell_type": "code",
   "execution_count": 19,
   "metadata": {},
   "outputs": [
    {
     "name": "stdout",
     "output_type": "stream",
     "text": [
      "\n",
      "...There are 44 ids with few points\n",
      "\n",
      "...Tids before drop: 57\n",
      "\n",
      "...Tids after drop: 13\n",
      "\n",
      "...Shape - before drop: (77, 10) - after drop: (33, 10)\n",
      "\n",
      "Creating or updating distance, time and speed features in meters by seconds\n",
      "\n",
      "...Sorting by tid and datetime to increase performance\n",
      "\n",
      "...Set tid as index to a higher peformance\n",
      "\n",
      "(33/33) 100% in 00:00:00.012 - estimated end in 00:00:00.000\n",
      "...Reset index...\n",
      "\n",
      "..Total Time: 0.017\n"
     ]
    }
   ],
   "source": [
    "filters.clean_trajectories_with_few_points(df_move)"
   ]
  },
  {
   "cell_type": "code",
   "execution_count": 20,
   "metadata": {},
   "outputs": [
    {
     "name": "stdout",
     "output_type": "stream",
     "text": [
      "\n",
      "Clean gps points with time max by id < 3600 seconds\n",
      "...Ids total: 2\n",
      "Ids to drop:1\n",
      "...Rows before drop: 33\n",
      " Rows after drop: 22\n"
     ]
    },
    {
     "data": {
      "text/plain": [
       "Int64Index([0, 1, 2, 3, 4, 5, 6, 7, 8, 9, 10], dtype='int64')"
      ]
     },
     "execution_count": 20,
     "metadata": {},
     "output_type": "execute_result"
    }
   ],
   "source": [
    "filters.clean_id_by_time_max(df_move)"
   ]
  },
  {
   "cell_type": "markdown",
   "metadata": {},
   "source": [
    "## Segmantation"
   ]
  },
  {
   "cell_type": "markdown",
   "metadata": {},
   "source": [
    "The segmentation module are used to segment trajectories based on different parameters."
   ]
  },
  {
   "cell_type": "markdown",
   "metadata": {},
   "source": [
    "Importing the module:"
   ]
  },
  {
   "cell_type": "code",
   "execution_count": 21,
   "metadata": {},
   "outputs": [],
   "source": [
    "from pymove import segmentation"
   ]
  },
  {
   "cell_type": "markdown",
   "metadata": {},
   "source": [
    "bbox_split function splits the bounding box in grids of the same size. The number of grids is defined by the parameter number_grids."
   ]
  },
  {
   "cell_type": "code",
   "execution_count": 22,
   "metadata": {},
   "outputs": [
    {
     "name": "stdout",
     "output_type": "stream",
     "text": [
      "const_lat: 4.74612125\n",
      "const_lon: 1.901845250000001\n"
     ]
    },
    {
     "data": {
      "text/html": [
       "<div>\n",
       "<style scoped>\n",
       "    .dataframe tbody tr th:only-of-type {\n",
       "        vertical-align: middle;\n",
       "    }\n",
       "\n",
       "    .dataframe tbody tr th {\n",
       "        vertical-align: top;\n",
       "    }\n",
       "\n",
       "    .dataframe thead th {\n",
       "        text-align: right;\n",
       "    }\n",
       "</style>\n",
       "<table border=\"1\" class=\"dataframe\">\n",
       "  <thead>\n",
       "    <tr style=\"text-align: right;\">\n",
       "      <th></th>\n",
       "      <th>lat_min</th>\n",
       "      <th>lon_min</th>\n",
       "      <th>lat_max</th>\n",
       "      <th>lon_max</th>\n",
       "    </tr>\n",
       "  </thead>\n",
       "  <tbody>\n",
       "    <tr>\n",
       "      <th>0</th>\n",
       "      <td>22.147577</td>\n",
       "      <td>113.548843</td>\n",
       "      <td>41.132062</td>\n",
       "      <td>115.450688</td>\n",
       "    </tr>\n",
       "    <tr>\n",
       "      <th>1</th>\n",
       "      <td>22.147577</td>\n",
       "      <td>115.450688</td>\n",
       "      <td>41.132062</td>\n",
       "      <td>117.352533</td>\n",
       "    </tr>\n",
       "    <tr>\n",
       "      <th>2</th>\n",
       "      <td>22.147577</td>\n",
       "      <td>117.352533</td>\n",
       "      <td>41.132062</td>\n",
       "      <td>119.254379</td>\n",
       "    </tr>\n",
       "    <tr>\n",
       "      <th>3</th>\n",
       "      <td>22.147577</td>\n",
       "      <td>119.254379</td>\n",
       "      <td>41.132062</td>\n",
       "      <td>121.156224</td>\n",
       "    </tr>\n",
       "  </tbody>\n",
       "</table>\n",
       "</div>"
      ],
      "text/plain": [
       "     lat_min     lon_min    lat_max     lon_max\n",
       "0  22.147577  113.548843  41.132062  115.450688\n",
       "1  22.147577  115.450688  41.132062  117.352533\n",
       "2  22.147577  117.352533  41.132062  119.254379\n",
       "3  22.147577  119.254379  41.132062  121.156224"
      ]
     },
     "execution_count": 22,
     "metadata": {},
     "output_type": "execute_result"
    }
   ],
   "source": [
    "bbox = (22.147577, 113.54884299999999, 41.132062, 121.156224)\n",
    "segmentation.bbox_split(bbox, number_grids=4)"
   ]
  },
  {
   "cell_type": "markdown",
   "metadata": {},
   "source": [
    "by_dist_time_speed functions segments the trajectories into clusters based on distance, time and speed. The distance, time and speed limits by the parameters by max_dist_between_adj_points, max_time_between_adj_points, max_speed_between_adj_points respectively. The column tid_part is added, it indicates the segment to which the point belongs to."
   ]
  },
  {
   "cell_type": "code",
   "execution_count": 23,
   "metadata": {},
   "outputs": [
    {
     "name": "stdout",
     "output_type": "stream",
     "text": [
      "\n",
      "Split trajectories\n",
      "...max_time_between_adj_points: 800\n",
      "...max_dist_between_adj_points: 5000\n",
      "...max_speed: 60.0\n",
      "...setting id as index\n"
     ]
    },
    {
     "name": "stderr",
     "output_type": "stream",
     "text": [
      "C:\\Users\\Arina\\Desktop\\PyMove\\pymove\\preprocessing\\segmentation.py:122: RuntimeWarning: invalid value encountered in greater\n",
      "  (move_data.at[idx, DIST_TO_PREV] > max_dist_between_adj_points) | \\\n",
      "C:\\Users\\Arina\\Desktop\\PyMove\\pymove\\preprocessing\\segmentation.py:123: RuntimeWarning: invalid value encountered in greater\n",
      "  (move_data.at[idx, SPEED_TO_PREV] > max_speed_between_adj_points)\n"
     ]
    },
    {
     "name": "stdout",
     "output_type": "stream",
     "text": [
      "(22/22) 100% in 00:00:00.005 - estimated end in 00:00:00.000\n",
      "... Reseting index\n",
      "\n",
      "...No trajs with only one point. (22, 11)\n"
     ]
    },
    {
     "data": {
      "text/html": [
       "<div>\n",
       "<style scoped>\n",
       "    .dataframe tbody tr th:only-of-type {\n",
       "        vertical-align: middle;\n",
       "    }\n",
       "\n",
       "    .dataframe tbody tr th {\n",
       "        vertical-align: top;\n",
       "    }\n",
       "\n",
       "    .dataframe thead th {\n",
       "        text-align: right;\n",
       "    }\n",
       "</style>\n",
       "<table border=\"1\" class=\"dataframe\">\n",
       "  <thead>\n",
       "    <tr style=\"text-align: right;\">\n",
       "      <th></th>\n",
       "      <th>id</th>\n",
       "      <th>tid</th>\n",
       "      <th>lat</th>\n",
       "      <th>lon</th>\n",
       "      <th>datetime</th>\n",
       "      <th>dist_to_prev</th>\n",
       "      <th>dist_to_next</th>\n",
       "      <th>dist_prev_to_next</th>\n",
       "      <th>time_to_prev</th>\n",
       "      <th>speed_to_prev</th>\n",
       "      <th>tid_part</th>\n",
       "    </tr>\n",
       "  </thead>\n",
       "  <tbody>\n",
       "    <tr>\n",
       "      <th>0</th>\n",
       "      <td>5</td>\n",
       "      <td>52008112104</td>\n",
       "      <td>40.009455</td>\n",
       "      <td>116.320434</td>\n",
       "      <td>2008-11-21 04:38:39</td>\n",
       "      <td>NaN</td>\n",
       "      <td>244.727171</td>\n",
       "      <td>447.043215</td>\n",
       "      <td>NaN</td>\n",
       "      <td>NaN</td>\n",
       "      <td>1</td>\n",
       "    </tr>\n",
       "    <tr>\n",
       "      <th>1</th>\n",
       "      <td>5</td>\n",
       "      <td>52008112104</td>\n",
       "      <td>40.010695</td>\n",
       "      <td>116.322808</td>\n",
       "      <td>2008-11-21 04:38:44</td>\n",
       "      <td>244.727171</td>\n",
       "      <td>9.996359</td>\n",
       "      <td>252.024213</td>\n",
       "      <td>5.0</td>\n",
       "      <td>48.945434</td>\n",
       "      <td>1</td>\n",
       "    </tr>\n",
       "    <tr>\n",
       "      <th>2</th>\n",
       "      <td>5</td>\n",
       "      <td>52008112608</td>\n",
       "      <td>40.001656</td>\n",
       "      <td>116.329943</td>\n",
       "      <td>2008-11-26 08:24:40</td>\n",
       "      <td>NaN</td>\n",
       "      <td>133.781130</td>\n",
       "      <td>281.429126</td>\n",
       "      <td>NaN</td>\n",
       "      <td>NaN</td>\n",
       "      <td>1</td>\n",
       "    </tr>\n",
       "    <tr>\n",
       "      <th>3</th>\n",
       "      <td>5</td>\n",
       "      <td>52008112608</td>\n",
       "      <td>40.000535</td>\n",
       "      <td>116.327103</td>\n",
       "      <td>2008-11-26 08:25:00</td>\n",
       "      <td>272.134164</td>\n",
       "      <td>27.292639</td>\n",
       "      <td>226.902202</td>\n",
       "      <td>20.0</td>\n",
       "      <td>13.606708</td>\n",
       "      <td>1</td>\n",
       "    </tr>\n",
       "    <tr>\n",
       "      <th>4</th>\n",
       "      <td>5</td>\n",
       "      <td>52009011410</td>\n",
       "      <td>39.998759</td>\n",
       "      <td>116.326371</td>\n",
       "      <td>2009-01-14 10:46:27</td>\n",
       "      <td>NaN</td>\n",
       "      <td>172.987008</td>\n",
       "      <td>217.745345</td>\n",
       "      <td>NaN</td>\n",
       "      <td>NaN</td>\n",
       "      <td>1</td>\n",
       "    </tr>\n",
       "  </tbody>\n",
       "</table>\n",
       "</div>"
      ],
      "text/plain": [
       "   id          tid        lat         lon            datetime  dist_to_prev  \\\n",
       "0   5  52008112104  40.009455  116.320434 2008-11-21 04:38:39           NaN   \n",
       "1   5  52008112104  40.010695  116.322808 2008-11-21 04:38:44    244.727171   \n",
       "2   5  52008112608  40.001656  116.329943 2008-11-26 08:24:40           NaN   \n",
       "3   5  52008112608  40.000535  116.327103 2008-11-26 08:25:00    272.134164   \n",
       "4   5  52009011410  39.998759  116.326371 2009-01-14 10:46:27           NaN   \n",
       "\n",
       "   dist_to_next  dist_prev_to_next  time_to_prev  speed_to_prev  tid_part  \n",
       "0    244.727171         447.043215           NaN            NaN         1  \n",
       "1      9.996359         252.024213           5.0      48.945434         1  \n",
       "2    133.781130         281.429126           NaN            NaN         1  \n",
       "3     27.292639         226.902202          20.0      13.606708         1  \n",
       "4    172.987008         217.745345           NaN            NaN         1  "
      ]
     },
     "execution_count": 23,
     "metadata": {},
     "output_type": "execute_result"
    }
   ],
   "source": [
    "segmentation.by_dist_time_speed(df_move, max_dist_between_adj_points=5000, \n",
    "                                max_time_between_adj_points=800,max_speed_between_adj_points=60.0)\n",
    "df_move.head()"
   ]
  },
  {
   "cell_type": "markdown",
   "metadata": {},
   "source": [
    "by_speed function segments the trajectories into clusters based on speed. The speed limit is defined by the parameter max_speed_between_adj_points. The column tid_speed is added, it indicates the segment to  which the point belongs to."
   ]
  },
  {
   "cell_type": "code",
   "execution_count": 24,
   "metadata": {},
   "outputs": [
    {
     "name": "stdout",
     "output_type": "stream",
     "text": [
      "\n",
      "Split trajectories by max_speed_between_adj_points: 70.0\n",
      "...setting id as index\n"
     ]
    },
    {
     "name": "stderr",
     "output_type": "stream",
     "text": [
      "C:\\Users\\Arina\\Desktop\\PyMove\\pymove\\preprocessing\\segmentation.py:230: RuntimeWarning: invalid value encountered in greater\n",
      "  speed = (move_data.at[idx, SPEED_TO_PREV] > max_speed_between_adj_points)\n"
     ]
    },
    {
     "name": "stdout",
     "output_type": "stream",
     "text": [
      "(22/22) 100% in 00:00:00.000 - estimated end in 00:00:00.000\n",
      "... Reseting index\n",
      "\n",
      "...No trajs with only one point. (22, 12)\n"
     ]
    },
    {
     "data": {
      "text/html": [
       "<div>\n",
       "<style scoped>\n",
       "    .dataframe tbody tr th:only-of-type {\n",
       "        vertical-align: middle;\n",
       "    }\n",
       "\n",
       "    .dataframe tbody tr th {\n",
       "        vertical-align: top;\n",
       "    }\n",
       "\n",
       "    .dataframe thead th {\n",
       "        text-align: right;\n",
       "    }\n",
       "</style>\n",
       "<table border=\"1\" class=\"dataframe\">\n",
       "  <thead>\n",
       "    <tr style=\"text-align: right;\">\n",
       "      <th></th>\n",
       "      <th>id</th>\n",
       "      <th>tid</th>\n",
       "      <th>lat</th>\n",
       "      <th>lon</th>\n",
       "      <th>datetime</th>\n",
       "      <th>dist_to_prev</th>\n",
       "      <th>dist_to_next</th>\n",
       "      <th>dist_prev_to_next</th>\n",
       "      <th>time_to_prev</th>\n",
       "      <th>speed_to_prev</th>\n",
       "      <th>tid_part</th>\n",
       "      <th>tid_speed</th>\n",
       "    </tr>\n",
       "  </thead>\n",
       "  <tbody>\n",
       "    <tr>\n",
       "      <th>0</th>\n",
       "      <td>5</td>\n",
       "      <td>52008112104</td>\n",
       "      <td>40.009455</td>\n",
       "      <td>116.320434</td>\n",
       "      <td>2008-11-21 04:38:39</td>\n",
       "      <td>NaN</td>\n",
       "      <td>244.727171</td>\n",
       "      <td>447.043215</td>\n",
       "      <td>NaN</td>\n",
       "      <td>NaN</td>\n",
       "      <td>1</td>\n",
       "      <td>1</td>\n",
       "    </tr>\n",
       "    <tr>\n",
       "      <th>1</th>\n",
       "      <td>5</td>\n",
       "      <td>52008112104</td>\n",
       "      <td>40.010695</td>\n",
       "      <td>116.322808</td>\n",
       "      <td>2008-11-21 04:38:44</td>\n",
       "      <td>244.727171</td>\n",
       "      <td>9.996359</td>\n",
       "      <td>252.024213</td>\n",
       "      <td>5.0</td>\n",
       "      <td>48.945434</td>\n",
       "      <td>1</td>\n",
       "      <td>1</td>\n",
       "    </tr>\n",
       "    <tr>\n",
       "      <th>2</th>\n",
       "      <td>5</td>\n",
       "      <td>52008112608</td>\n",
       "      <td>40.001656</td>\n",
       "      <td>116.329943</td>\n",
       "      <td>2008-11-26 08:24:40</td>\n",
       "      <td>NaN</td>\n",
       "      <td>133.781130</td>\n",
       "      <td>281.429126</td>\n",
       "      <td>NaN</td>\n",
       "      <td>NaN</td>\n",
       "      <td>1</td>\n",
       "      <td>1</td>\n",
       "    </tr>\n",
       "    <tr>\n",
       "      <th>3</th>\n",
       "      <td>5</td>\n",
       "      <td>52008112608</td>\n",
       "      <td>40.000535</td>\n",
       "      <td>116.327103</td>\n",
       "      <td>2008-11-26 08:25:00</td>\n",
       "      <td>272.134164</td>\n",
       "      <td>27.292639</td>\n",
       "      <td>226.902202</td>\n",
       "      <td>20.0</td>\n",
       "      <td>13.606708</td>\n",
       "      <td>1</td>\n",
       "      <td>1</td>\n",
       "    </tr>\n",
       "    <tr>\n",
       "      <th>4</th>\n",
       "      <td>5</td>\n",
       "      <td>52009011410</td>\n",
       "      <td>39.998759</td>\n",
       "      <td>116.326371</td>\n",
       "      <td>2009-01-14 10:46:27</td>\n",
       "      <td>NaN</td>\n",
       "      <td>172.987008</td>\n",
       "      <td>217.745345</td>\n",
       "      <td>NaN</td>\n",
       "      <td>NaN</td>\n",
       "      <td>1</td>\n",
       "      <td>1</td>\n",
       "    </tr>\n",
       "  </tbody>\n",
       "</table>\n",
       "</div>"
      ],
      "text/plain": [
       "   id          tid        lat         lon            datetime  dist_to_prev  \\\n",
       "0   5  52008112104  40.009455  116.320434 2008-11-21 04:38:39           NaN   \n",
       "1   5  52008112104  40.010695  116.322808 2008-11-21 04:38:44    244.727171   \n",
       "2   5  52008112608  40.001656  116.329943 2008-11-26 08:24:40           NaN   \n",
       "3   5  52008112608  40.000535  116.327103 2008-11-26 08:25:00    272.134164   \n",
       "4   5  52009011410  39.998759  116.326371 2009-01-14 10:46:27           NaN   \n",
       "\n",
       "   dist_to_next  dist_prev_to_next  time_to_prev  speed_to_prev  tid_part  \\\n",
       "0    244.727171         447.043215           NaN            NaN         1   \n",
       "1      9.996359         252.024213           5.0      48.945434         1   \n",
       "2    133.781130         281.429126           NaN            NaN         1   \n",
       "3     27.292639         226.902202          20.0      13.606708         1   \n",
       "4    172.987008         217.745345           NaN            NaN         1   \n",
       "\n",
       "   tid_speed  \n",
       "0          1  \n",
       "1          1  \n",
       "2          1  \n",
       "3          1  \n",
       "4          1  "
      ]
     },
     "execution_count": 24,
     "metadata": {},
     "output_type": "execute_result"
    }
   ],
   "source": [
    "segmentation.by_speed(df_move, max_speed_between_adj_points=70.0)\n",
    "df_move.head()"
   ]
  },
  {
   "cell_type": "markdown",
   "metadata": {},
   "source": [
    "by_time function segments the trajectories into clusters based on time. The time limit is defined by the parameter max_time_between_adj_points. The column tid_time is added, it indicates the segment to  which the point belongs to."
   ]
  },
  {
   "cell_type": "code",
   "execution_count": 25,
   "metadata": {},
   "outputs": [
    {
     "name": "stdout",
     "output_type": "stream",
     "text": [
      "\n",
      "Split trajectories by max_time_between_adj_points: 1000\n",
      "...setting id as index\n"
     ]
    },
    {
     "name": "stderr",
     "output_type": "stream",
     "text": [
      "C:\\Users\\Arina\\Desktop\\PyMove\\pymove\\preprocessing\\segmentation.py:333: RuntimeWarning: invalid value encountered in greater\n",
      "  times = (move_data.at[idx, TIME_TO_PREV] > max_time_between_adj_points)\n"
     ]
    },
    {
     "name": "stdout",
     "output_type": "stream",
     "text": [
      "(22/22) 100% in 00:00:00.001 - estimated end in 00:00:00.000\n",
      "... Reseting index\n",
      "\n",
      "...No trajs with only one point. (22, 13)\n"
     ]
    },
    {
     "data": {
      "text/html": [
       "<div>\n",
       "<style scoped>\n",
       "    .dataframe tbody tr th:only-of-type {\n",
       "        vertical-align: middle;\n",
       "    }\n",
       "\n",
       "    .dataframe tbody tr th {\n",
       "        vertical-align: top;\n",
       "    }\n",
       "\n",
       "    .dataframe thead th {\n",
       "        text-align: right;\n",
       "    }\n",
       "</style>\n",
       "<table border=\"1\" class=\"dataframe\">\n",
       "  <thead>\n",
       "    <tr style=\"text-align: right;\">\n",
       "      <th></th>\n",
       "      <th>id</th>\n",
       "      <th>tid</th>\n",
       "      <th>lat</th>\n",
       "      <th>lon</th>\n",
       "      <th>datetime</th>\n",
       "      <th>dist_to_prev</th>\n",
       "      <th>dist_to_next</th>\n",
       "      <th>dist_prev_to_next</th>\n",
       "      <th>time_to_prev</th>\n",
       "      <th>speed_to_prev</th>\n",
       "      <th>tid_part</th>\n",
       "      <th>tid_speed</th>\n",
       "      <th>tid_time</th>\n",
       "    </tr>\n",
       "  </thead>\n",
       "  <tbody>\n",
       "    <tr>\n",
       "      <th>0</th>\n",
       "      <td>5</td>\n",
       "      <td>52008112104</td>\n",
       "      <td>40.009455</td>\n",
       "      <td>116.320434</td>\n",
       "      <td>2008-11-21 04:38:39</td>\n",
       "      <td>NaN</td>\n",
       "      <td>244.727171</td>\n",
       "      <td>447.043215</td>\n",
       "      <td>NaN</td>\n",
       "      <td>NaN</td>\n",
       "      <td>1</td>\n",
       "      <td>1</td>\n",
       "      <td>1</td>\n",
       "    </tr>\n",
       "    <tr>\n",
       "      <th>1</th>\n",
       "      <td>5</td>\n",
       "      <td>52008112104</td>\n",
       "      <td>40.010695</td>\n",
       "      <td>116.322808</td>\n",
       "      <td>2008-11-21 04:38:44</td>\n",
       "      <td>244.727171</td>\n",
       "      <td>9.996359</td>\n",
       "      <td>252.024213</td>\n",
       "      <td>5.0</td>\n",
       "      <td>48.945434</td>\n",
       "      <td>1</td>\n",
       "      <td>1</td>\n",
       "      <td>1</td>\n",
       "    </tr>\n",
       "    <tr>\n",
       "      <th>2</th>\n",
       "      <td>5</td>\n",
       "      <td>52008112608</td>\n",
       "      <td>40.001656</td>\n",
       "      <td>116.329943</td>\n",
       "      <td>2008-11-26 08:24:40</td>\n",
       "      <td>NaN</td>\n",
       "      <td>133.781130</td>\n",
       "      <td>281.429126</td>\n",
       "      <td>NaN</td>\n",
       "      <td>NaN</td>\n",
       "      <td>1</td>\n",
       "      <td>1</td>\n",
       "      <td>1</td>\n",
       "    </tr>\n",
       "    <tr>\n",
       "      <th>3</th>\n",
       "      <td>5</td>\n",
       "      <td>52008112608</td>\n",
       "      <td>40.000535</td>\n",
       "      <td>116.327103</td>\n",
       "      <td>2008-11-26 08:25:00</td>\n",
       "      <td>272.134164</td>\n",
       "      <td>27.292639</td>\n",
       "      <td>226.902202</td>\n",
       "      <td>20.0</td>\n",
       "      <td>13.606708</td>\n",
       "      <td>1</td>\n",
       "      <td>1</td>\n",
       "      <td>1</td>\n",
       "    </tr>\n",
       "    <tr>\n",
       "      <th>4</th>\n",
       "      <td>5</td>\n",
       "      <td>52009011410</td>\n",
       "      <td>39.998759</td>\n",
       "      <td>116.326371</td>\n",
       "      <td>2009-01-14 10:46:27</td>\n",
       "      <td>NaN</td>\n",
       "      <td>172.987008</td>\n",
       "      <td>217.745345</td>\n",
       "      <td>NaN</td>\n",
       "      <td>NaN</td>\n",
       "      <td>1</td>\n",
       "      <td>1</td>\n",
       "      <td>1</td>\n",
       "    </tr>\n",
       "  </tbody>\n",
       "</table>\n",
       "</div>"
      ],
      "text/plain": [
       "   id          tid        lat         lon            datetime  dist_to_prev  \\\n",
       "0   5  52008112104  40.009455  116.320434 2008-11-21 04:38:39           NaN   \n",
       "1   5  52008112104  40.010695  116.322808 2008-11-21 04:38:44    244.727171   \n",
       "2   5  52008112608  40.001656  116.329943 2008-11-26 08:24:40           NaN   \n",
       "3   5  52008112608  40.000535  116.327103 2008-11-26 08:25:00    272.134164   \n",
       "4   5  52009011410  39.998759  116.326371 2009-01-14 10:46:27           NaN   \n",
       "\n",
       "   dist_to_next  dist_prev_to_next  time_to_prev  speed_to_prev  tid_part  \\\n",
       "0    244.727171         447.043215           NaN            NaN         1   \n",
       "1      9.996359         252.024213           5.0      48.945434         1   \n",
       "2    133.781130         281.429126           NaN            NaN         1   \n",
       "3     27.292639         226.902202          20.0      13.606708         1   \n",
       "4    172.987008         217.745345           NaN            NaN         1   \n",
       "\n",
       "   tid_speed  tid_time  \n",
       "0          1         1  \n",
       "1          1         1  \n",
       "2          1         1  \n",
       "3          1         1  \n",
       "4          1         1  "
      ]
     },
     "execution_count": 25,
     "metadata": {},
     "output_type": "execute_result"
    }
   ],
   "source": [
    "segmentation.by_time(df_move, max_time_between_adj_points = 1000)\n",
    "df_move.head()"
   ]
  },
  {
   "cell_type": "markdown",
   "metadata": {},
   "source": [
    "segment_traj_by_max_dist function segments the trajectories into clusters based on distance. The distance limit is defined by the parameter max_dist_between_adj_points. The column tid_dist is added, it indicates the segment to which the point belongs to."
   ]
  },
  {
   "cell_type": "code",
   "execution_count": 26,
   "metadata": {},
   "outputs": [
    {
     "name": "stdout",
     "output_type": "stream",
     "text": [
      "Split trajectories by max distance between adjacent points: 4000\n",
      "...setting id as index\n"
     ]
    },
    {
     "name": "stderr",
     "output_type": "stream",
     "text": [
      "C:\\Users\\Arina\\Desktop\\PyMove\\pymove\\preprocessing\\segmentation.py:427: RuntimeWarning: invalid value encountered in greater\n",
      "  dist = (move_data.at[idx, DIST_TO_PREV] > max_dist_between_adj_points)\n"
     ]
    },
    {
     "name": "stdout",
     "output_type": "stream",
     "text": [
      "(22/22) 100% in 00:00:00.000 - estimated end in 00:00:00.000\n",
      "... Reseting index\n",
      "\n",
      "Total Time: 0.01 seconds\n",
      "------------------------------------------\n",
      "\n"
     ]
    },
    {
     "data": {
      "text/html": [
       "<div>\n",
       "<style scoped>\n",
       "    .dataframe tbody tr th:only-of-type {\n",
       "        vertical-align: middle;\n",
       "    }\n",
       "\n",
       "    .dataframe tbody tr th {\n",
       "        vertical-align: top;\n",
       "    }\n",
       "\n",
       "    .dataframe thead th {\n",
       "        text-align: right;\n",
       "    }\n",
       "</style>\n",
       "<table border=\"1\" class=\"dataframe\">\n",
       "  <thead>\n",
       "    <tr style=\"text-align: right;\">\n",
       "      <th></th>\n",
       "      <th>id</th>\n",
       "      <th>tid</th>\n",
       "      <th>lat</th>\n",
       "      <th>lon</th>\n",
       "      <th>datetime</th>\n",
       "      <th>dist_to_prev</th>\n",
       "      <th>dist_to_next</th>\n",
       "      <th>dist_prev_to_next</th>\n",
       "      <th>time_to_prev</th>\n",
       "      <th>speed_to_prev</th>\n",
       "      <th>tid_part</th>\n",
       "      <th>tid_speed</th>\n",
       "      <th>tid_time</th>\n",
       "      <th>tid_dist</th>\n",
       "    </tr>\n",
       "  </thead>\n",
       "  <tbody>\n",
       "    <tr>\n",
       "      <th>0</th>\n",
       "      <td>5</td>\n",
       "      <td>52008112104</td>\n",
       "      <td>40.009455</td>\n",
       "      <td>116.320434</td>\n",
       "      <td>2008-11-21 04:38:39</td>\n",
       "      <td>NaN</td>\n",
       "      <td>244.727171</td>\n",
       "      <td>447.043215</td>\n",
       "      <td>NaN</td>\n",
       "      <td>NaN</td>\n",
       "      <td>1</td>\n",
       "      <td>1</td>\n",
       "      <td>1</td>\n",
       "      <td>1</td>\n",
       "    </tr>\n",
       "    <tr>\n",
       "      <th>1</th>\n",
       "      <td>5</td>\n",
       "      <td>52008112104</td>\n",
       "      <td>40.010695</td>\n",
       "      <td>116.322808</td>\n",
       "      <td>2008-11-21 04:38:44</td>\n",
       "      <td>244.727171</td>\n",
       "      <td>9.996359</td>\n",
       "      <td>252.024213</td>\n",
       "      <td>5.0</td>\n",
       "      <td>48.945434</td>\n",
       "      <td>1</td>\n",
       "      <td>1</td>\n",
       "      <td>1</td>\n",
       "      <td>1</td>\n",
       "    </tr>\n",
       "    <tr>\n",
       "      <th>2</th>\n",
       "      <td>5</td>\n",
       "      <td>52008112608</td>\n",
       "      <td>40.001656</td>\n",
       "      <td>116.329943</td>\n",
       "      <td>2008-11-26 08:24:40</td>\n",
       "      <td>NaN</td>\n",
       "      <td>133.781130</td>\n",
       "      <td>281.429126</td>\n",
       "      <td>NaN</td>\n",
       "      <td>NaN</td>\n",
       "      <td>1</td>\n",
       "      <td>1</td>\n",
       "      <td>1</td>\n",
       "      <td>1</td>\n",
       "    </tr>\n",
       "    <tr>\n",
       "      <th>3</th>\n",
       "      <td>5</td>\n",
       "      <td>52008112608</td>\n",
       "      <td>40.000535</td>\n",
       "      <td>116.327103</td>\n",
       "      <td>2008-11-26 08:25:00</td>\n",
       "      <td>272.134164</td>\n",
       "      <td>27.292639</td>\n",
       "      <td>226.902202</td>\n",
       "      <td>20.0</td>\n",
       "      <td>13.606708</td>\n",
       "      <td>1</td>\n",
       "      <td>1</td>\n",
       "      <td>1</td>\n",
       "      <td>1</td>\n",
       "    </tr>\n",
       "    <tr>\n",
       "      <th>4</th>\n",
       "      <td>5</td>\n",
       "      <td>52009011410</td>\n",
       "      <td>39.998759</td>\n",
       "      <td>116.326371</td>\n",
       "      <td>2009-01-14 10:46:27</td>\n",
       "      <td>NaN</td>\n",
       "      <td>172.987008</td>\n",
       "      <td>217.745345</td>\n",
       "      <td>NaN</td>\n",
       "      <td>NaN</td>\n",
       "      <td>1</td>\n",
       "      <td>1</td>\n",
       "      <td>1</td>\n",
       "      <td>1</td>\n",
       "    </tr>\n",
       "  </tbody>\n",
       "</table>\n",
       "</div>"
      ],
      "text/plain": [
       "   id          tid        lat         lon            datetime  dist_to_prev  \\\n",
       "0   5  52008112104  40.009455  116.320434 2008-11-21 04:38:39           NaN   \n",
       "1   5  52008112104  40.010695  116.322808 2008-11-21 04:38:44    244.727171   \n",
       "2   5  52008112608  40.001656  116.329943 2008-11-26 08:24:40           NaN   \n",
       "3   5  52008112608  40.000535  116.327103 2008-11-26 08:25:00    272.134164   \n",
       "4   5  52009011410  39.998759  116.326371 2009-01-14 10:46:27           NaN   \n",
       "\n",
       "   dist_to_next  dist_prev_to_next  time_to_prev  speed_to_prev  tid_part  \\\n",
       "0    244.727171         447.043215           NaN            NaN         1   \n",
       "1      9.996359         252.024213           5.0      48.945434         1   \n",
       "2    133.781130         281.429126           NaN            NaN         1   \n",
       "3     27.292639         226.902202          20.0      13.606708         1   \n",
       "4    172.987008         217.745345           NaN            NaN         1   \n",
       "\n",
       "   tid_speed  tid_time  tid_dist  \n",
       "0          1         1         1  \n",
       "1          1         1         1  \n",
       "2          1         1         1  \n",
       "3          1         1         1  \n",
       "4          1         1         1  "
      ]
     },
     "execution_count": 26,
     "metadata": {},
     "output_type": "execute_result"
    }
   ],
   "source": [
    "segmentation.by_max_dist(df_move, max_dist_between_adj_points = 4000)\n",
    "df_move.head()"
   ]
  },
  {
   "cell_type": "code",
   "execution_count": 27,
   "metadata": {},
   "outputs": [
    {
     "name": "stdout",
     "output_type": "stream",
     "text": [
      "Split trajectories by max_time_between_adj_points: 900.0\n",
      "...setting id as index\n"
     ]
    },
    {
     "name": "stderr",
     "output_type": "stream",
     "text": [
      "C:\\Users\\Arina\\Desktop\\PyMove\\pymove\\preprocessing\\segmentation.py:500: RuntimeWarning: invalid value encountered in greater\n",
      "  times = (move_data.at[idx, TIME_TO_PREV] > max_time_between_adj_points)\n"
     ]
    },
    {
     "name": "stdout",
     "output_type": "stream",
     "text": [
      "(22/22) 100% in 00:00:00.001 - estimated end in 00:00:00.000\n",
      "... Reseting index\n",
      "\n",
      "Total Time: 0.01 seconds\n",
      "------------------------------------------\n",
      "\n"
     ]
    }
   ],
   "source": [
    "segmentation.by_max_time(df_move)"
   ]
  },
  {
   "cell_type": "code",
   "execution_count": 28,
   "metadata": {},
   "outputs": [
    {
     "name": "stdout",
     "output_type": "stream",
     "text": [
      "Split trajectories by max_speed_between_adj_points: 50.0\n",
      "...setting id as index\n"
     ]
    },
    {
     "name": "stderr",
     "output_type": "stream",
     "text": [
      "C:\\Users\\Arina\\Desktop\\PyMove\\pymove\\preprocessing\\segmentation.py:586: RuntimeWarning: invalid value encountered in greater\n",
      "  speed = (move_data.at[idx, SPEED_TO_PREV] > max_speed_between_adj_points)\n"
     ]
    },
    {
     "name": "stdout",
     "output_type": "stream",
     "text": [
      "(22/22) 100% in 00:00:00.000 - estimated end in 00:00:00.000\n",
      "... Reseting index\n",
      "\n",
      "Total Time: 0.01 seconds\n",
      "------------------------------------------\n",
      "\n"
     ]
    }
   ],
   "source": [
    "segmentation.by_max_speed(df_move)"
   ]
  },
  {
   "cell_type": "markdown",
   "metadata": {},
   "source": [
    "## Stay point detection "
   ]
  },
  {
   "cell_type": "markdown",
   "metadata": {},
   "source": [
    "A stay point is location where a moving object has stayed for a while within a certain distance threshold. A stay point could stand different places such: a restaurant, a school, a work place."
   ]
  },
  {
   "cell_type": "markdown",
   "metadata": {},
   "source": [
    "Importing the module:"
   ]
  },
  {
   "cell_type": "code",
   "execution_count": 29,
   "metadata": {},
   "outputs": [],
   "source": [
    "from pymove import stay_point_detection"
   ]
  },
  {
   "cell_type": "markdown",
   "metadata": {},
   "source": [
    "stay_point_detection function converts the time data into a cyclical format. The columns hour_sin and hour_cos are added to the dataframe."
   ]
  },
  {
   "cell_type": "code",
   "execution_count": 45,
   "metadata": {},
   "outputs": [
    {
     "name": "stdout",
     "output_type": "stream",
     "text": [
      "Encoding cyclical continuous features - 24-hour time\n",
      "...hour_sin and  hour_cos features were created...\n",
      "\n"
     ]
    }
   ],
   "source": [
    "stay_point_detection.create_update_datetime_in_format_cyclical(df_move)"
   ]
  },
  {
   "cell_type": "code",
   "execution_count": 46,
   "metadata": {},
   "outputs": [
    {
     "data": {
      "text/html": [
       "<div>\n",
       "<style scoped>\n",
       "    .dataframe tbody tr th:only-of-type {\n",
       "        vertical-align: middle;\n",
       "    }\n",
       "\n",
       "    .dataframe tbody tr th {\n",
       "        vertical-align: top;\n",
       "    }\n",
       "\n",
       "    .dataframe thead th {\n",
       "        text-align: right;\n",
       "    }\n",
       "</style>\n",
       "<table border=\"1\" class=\"dataframe\">\n",
       "  <thead>\n",
       "    <tr style=\"text-align: right;\">\n",
       "      <th></th>\n",
       "      <th>id</th>\n",
       "      <th>lat</th>\n",
       "      <th>lon</th>\n",
       "      <th>datetime</th>\n",
       "      <th>dist_to_prev</th>\n",
       "      <th>dist_to_next</th>\n",
       "      <th>dist_prev_to_next</th>\n",
       "      <th>situation</th>\n",
       "      <th>hour_sin</th>\n",
       "      <th>hour_cos</th>\n",
       "    </tr>\n",
       "  </thead>\n",
       "  <tbody>\n",
       "    <tr>\n",
       "      <th>0</th>\n",
       "      <td>1</td>\n",
       "      <td>39.984094</td>\n",
       "      <td>116.319236</td>\n",
       "      <td>2008-10-23 05:53:05</td>\n",
       "      <td>NaN</td>\n",
       "      <td>13.690153</td>\n",
       "      <td>NaN</td>\n",
       "      <td>nan</td>\n",
       "      <td>0.979084</td>\n",
       "      <td>0.203456</td>\n",
       "    </tr>\n",
       "    <tr>\n",
       "      <th>1</th>\n",
       "      <td>1</td>\n",
       "      <td>39.984198</td>\n",
       "      <td>116.319322</td>\n",
       "      <td>2008-10-23 05:53:06</td>\n",
       "      <td>13.690153</td>\n",
       "      <td>7.403788</td>\n",
       "      <td>20.223428</td>\n",
       "      <td>move</td>\n",
       "      <td>0.979084</td>\n",
       "      <td>0.203456</td>\n",
       "    </tr>\n",
       "    <tr>\n",
       "      <th>2</th>\n",
       "      <td>1</td>\n",
       "      <td>39.984224</td>\n",
       "      <td>116.319402</td>\n",
       "      <td>2008-10-23 05:53:11</td>\n",
       "      <td>7.403788</td>\n",
       "      <td>1.821083</td>\n",
       "      <td>5.888579</td>\n",
       "      <td>move</td>\n",
       "      <td>0.979084</td>\n",
       "      <td>0.203456</td>\n",
       "    </tr>\n",
       "    <tr>\n",
       "      <th>3</th>\n",
       "      <td>1</td>\n",
       "      <td>39.984211</td>\n",
       "      <td>116.319389</td>\n",
       "      <td>2008-10-23 05:53:16</td>\n",
       "      <td>1.821083</td>\n",
       "      <td>2.889671</td>\n",
       "      <td>1.873356</td>\n",
       "      <td>stop</td>\n",
       "      <td>0.979084</td>\n",
       "      <td>0.203456</td>\n",
       "    </tr>\n",
       "    <tr>\n",
       "      <th>4</th>\n",
       "      <td>1</td>\n",
       "      <td>39.984217</td>\n",
       "      <td>116.319422</td>\n",
       "      <td>2008-10-23 05:53:21</td>\n",
       "      <td>2.889671</td>\n",
       "      <td>66.555997</td>\n",
       "      <td>68.727260</td>\n",
       "      <td>move</td>\n",
       "      <td>0.979084</td>\n",
       "      <td>0.203456</td>\n",
       "    </tr>\n",
       "  </tbody>\n",
       "</table>\n",
       "</div>"
      ],
      "text/plain": [
       "   id        lat         lon            datetime  dist_to_prev  dist_to_next  \\\n",
       "0   1  39.984094  116.319236 2008-10-23 05:53:05           NaN     13.690153   \n",
       "1   1  39.984198  116.319322 2008-10-23 05:53:06     13.690153      7.403788   \n",
       "2   1  39.984224  116.319402 2008-10-23 05:53:11      7.403788      1.821083   \n",
       "3   1  39.984211  116.319389 2008-10-23 05:53:16      1.821083      2.889671   \n",
       "4   1  39.984217  116.319422 2008-10-23 05:53:21      2.889671     66.555997   \n",
       "\n",
       "   dist_prev_to_next situation  hour_sin  hour_cos  \n",
       "0                NaN       nan  0.979084  0.203456  \n",
       "1          20.223428      move  0.979084  0.203456  \n",
       "2           5.888579      move  0.979084  0.203456  \n",
       "3           1.873356      stop  0.979084  0.203456  \n",
       "4          68.727260      move  0.979084  0.203456  "
      ]
     },
     "execution_count": 46,
     "metadata": {},
     "output_type": "execute_result"
    }
   ],
   "source": [
    "df_move.head()"
   ]
  },
  {
   "cell_type": "markdown",
   "metadata": {},
   "source": [
    "create_or_update_move_stop_by_dist_time function creates or updates the stay points of the trajectories, based on distance and time metrics. The column segment_stop is added to the dataframe, it indicates the trajectory segment to  which the point belongs to. The column stop is also added, it indicates is the point represents a stop, a place where the object was stationary."
   ]
  },
  {
   "cell_type": "code",
   "execution_count": 47,
   "metadata": {
    "scrolled": true
   },
   "outputs": [
    {
     "name": "stdout",
     "output_type": "stream",
     "text": [
      "Split trajectories by max distance between adjacent points: 40\n",
      "...setting id as index\n"
     ]
    },
    {
     "name": "stderr",
     "output_type": "stream",
     "text": [
      "C:\\Users\\Arina\\Desktop\\PyMove\\pymove\\preprocessing\\segmentation.py:427: RuntimeWarning: invalid value encountered in greater\n",
      "  dist = (move_data.at[idx, DIST_TO_PREV] > max_dist_between_adj_points)\n"
     ]
    },
    {
     "name": "stdout",
     "output_type": "stream",
     "text": [
      "(217653/217653) 100% in 00:00:00.066 - estimated end in 00:00:00.000\n",
      "... Reseting index\n",
      "\n",
      "Total Time: 0.07 seconds\n",
      "------------------------------------------\n",
      "\n",
      "\n",
      "Creating or updating distance, time and speed features in meters by seconds\n",
      "\n",
      "...Sorting by segment_stop and datetime to increase performance\n",
      "\n",
      "...Set segment_stop as index to a higher peformance\n",
      "\n",
      "(5/217653) 0% in 00:00:00.173 - estimated end in 02:05:45.476\n",
      "(43995/217653) 20% in 00:00:00.222 - estimated end in 00:00:00.877\n",
      "(88581/217653) 40% in 00:00:00.266 - estimated end in 00:00:00.387\n",
      "(130800/217653) 60% in 00:00:00.330 - estimated end in 00:00:00.219\n",
      "(174825/217653) 80% in 00:00:00.479 - estimated end in 00:00:00.117\n",
      "...Reset index...\n",
      "\n",
      "..Total Time: 0.585\n",
      "Create or update stop as True or False\n",
      "...Creating stop features as True or False using 1000 to time in seconds\n",
      "True     157738\n",
      "False     59915\n",
      "Name: stop, dtype: int64\n",
      "\n",
      "Total Time: 0.76 seconds\n",
      "-----------------------------------------------------\n",
      "\n"
     ]
    }
   ],
   "source": [
    "stay_point_detection.create_or_update_move_stop_by_dist_time(df_move, dist_radius=40, time_radius=1000)"
   ]
  },
  {
   "cell_type": "code",
   "execution_count": 33,
   "metadata": {},
   "outputs": [
    {
     "data": {
      "text/html": [
       "<div>\n",
       "<style scoped>\n",
       "    .dataframe tbody tr th:only-of-type {\n",
       "        vertical-align: middle;\n",
       "    }\n",
       "\n",
       "    .dataframe tbody tr th {\n",
       "        vertical-align: top;\n",
       "    }\n",
       "\n",
       "    .dataframe thead th {\n",
       "        text-align: right;\n",
       "    }\n",
       "</style>\n",
       "<table border=\"1\" class=\"dataframe\">\n",
       "  <thead>\n",
       "    <tr style=\"text-align: right;\">\n",
       "      <th></th>\n",
       "      <th>segment_stop</th>\n",
       "      <th>id</th>\n",
       "      <th>tid</th>\n",
       "      <th>lat</th>\n",
       "      <th>lon</th>\n",
       "      <th>datetime</th>\n",
       "      <th>dist_to_prev</th>\n",
       "      <th>dist_to_next</th>\n",
       "      <th>dist_prev_to_next</th>\n",
       "      <th>time_to_prev</th>\n",
       "      <th>speed_to_prev</th>\n",
       "      <th>tid_part</th>\n",
       "      <th>tid_speed</th>\n",
       "      <th>tid_time</th>\n",
       "      <th>tid_dist</th>\n",
       "      <th>hour_sin</th>\n",
       "      <th>hour_cos</th>\n",
       "      <th>stop</th>\n",
       "    </tr>\n",
       "  </thead>\n",
       "  <tbody>\n",
       "    <tr>\n",
       "      <th>0</th>\n",
       "      <td>1</td>\n",
       "      <td>5</td>\n",
       "      <td>52008112104</td>\n",
       "      <td>40.009455</td>\n",
       "      <td>116.320434</td>\n",
       "      <td>2008-11-21 04:38:39</td>\n",
       "      <td>NaN</td>\n",
       "      <td>244.727171</td>\n",
       "      <td>447.043215</td>\n",
       "      <td>NaN</td>\n",
       "      <td>NaN</td>\n",
       "      <td>1</td>\n",
       "      <td>1</td>\n",
       "      <td>1</td>\n",
       "      <td>1</td>\n",
       "      <td>0.887885</td>\n",
       "      <td>0.460065</td>\n",
       "      <td>False</td>\n",
       "    </tr>\n",
       "    <tr>\n",
       "      <th>1</th>\n",
       "      <td>2</td>\n",
       "      <td>5</td>\n",
       "      <td>52008112104</td>\n",
       "      <td>40.010695</td>\n",
       "      <td>116.322808</td>\n",
       "      <td>2008-11-21 04:38:44</td>\n",
       "      <td>NaN</td>\n",
       "      <td>9.996359</td>\n",
       "      <td>252.024213</td>\n",
       "      <td>NaN</td>\n",
       "      <td>NaN</td>\n",
       "      <td>1</td>\n",
       "      <td>1</td>\n",
       "      <td>1</td>\n",
       "      <td>1</td>\n",
       "      <td>0.887885</td>\n",
       "      <td>0.460065</td>\n",
       "      <td>True</td>\n",
       "    </tr>\n",
       "    <tr>\n",
       "      <th>2</th>\n",
       "      <td>2</td>\n",
       "      <td>5</td>\n",
       "      <td>52008112608</td>\n",
       "      <td>40.001656</td>\n",
       "      <td>116.329943</td>\n",
       "      <td>2008-11-26 08:24:40</td>\n",
       "      <td>1174.527381</td>\n",
       "      <td>133.781130</td>\n",
       "      <td>281.429126</td>\n",
       "      <td>445556.0</td>\n",
       "      <td>0.002636</td>\n",
       "      <td>1</td>\n",
       "      <td>1</td>\n",
       "      <td>1</td>\n",
       "      <td>1</td>\n",
       "      <td>0.816970</td>\n",
       "      <td>-0.576680</td>\n",
       "      <td>True</td>\n",
       "    </tr>\n",
       "    <tr>\n",
       "      <th>3</th>\n",
       "      <td>3</td>\n",
       "      <td>5</td>\n",
       "      <td>52008112608</td>\n",
       "      <td>40.000535</td>\n",
       "      <td>116.327103</td>\n",
       "      <td>2008-11-26 08:25:00</td>\n",
       "      <td>NaN</td>\n",
       "      <td>27.292639</td>\n",
       "      <td>226.902202</td>\n",
       "      <td>NaN</td>\n",
       "      <td>NaN</td>\n",
       "      <td>1</td>\n",
       "      <td>1</td>\n",
       "      <td>1</td>\n",
       "      <td>1</td>\n",
       "      <td>0.816970</td>\n",
       "      <td>-0.576680</td>\n",
       "      <td>True</td>\n",
       "    </tr>\n",
       "    <tr>\n",
       "      <th>4</th>\n",
       "      <td>3</td>\n",
       "      <td>5</td>\n",
       "      <td>52009011410</td>\n",
       "      <td>39.998759</td>\n",
       "      <td>116.326371</td>\n",
       "      <td>2009-01-14 10:46:27</td>\n",
       "      <td>207.091817</td>\n",
       "      <td>172.987008</td>\n",
       "      <td>217.745345</td>\n",
       "      <td>4242087.0</td>\n",
       "      <td>0.000049</td>\n",
       "      <td>1</td>\n",
       "      <td>1</td>\n",
       "      <td>1</td>\n",
       "      <td>1</td>\n",
       "      <td>0.398401</td>\n",
       "      <td>-0.917211</td>\n",
       "      <td>True</td>\n",
       "    </tr>\n",
       "  </tbody>\n",
       "</table>\n",
       "</div>"
      ],
      "text/plain": [
       "   segment_stop  id          tid        lat         lon            datetime  \\\n",
       "0             1   5  52008112104  40.009455  116.320434 2008-11-21 04:38:39   \n",
       "1             2   5  52008112104  40.010695  116.322808 2008-11-21 04:38:44   \n",
       "2             2   5  52008112608  40.001656  116.329943 2008-11-26 08:24:40   \n",
       "3             3   5  52008112608  40.000535  116.327103 2008-11-26 08:25:00   \n",
       "4             3   5  52009011410  39.998759  116.326371 2009-01-14 10:46:27   \n",
       "\n",
       "   dist_to_prev  dist_to_next  dist_prev_to_next  time_to_prev  speed_to_prev  \\\n",
       "0           NaN    244.727171         447.043215           NaN            NaN   \n",
       "1           NaN      9.996359         252.024213           NaN            NaN   \n",
       "2   1174.527381    133.781130         281.429126      445556.0       0.002636   \n",
       "3           NaN     27.292639         226.902202           NaN            NaN   \n",
       "4    207.091817    172.987008         217.745345     4242087.0       0.000049   \n",
       "\n",
       "   tid_part  tid_speed  tid_time  tid_dist  hour_sin  hour_cos   stop  \n",
       "0         1          1         1         1  0.887885  0.460065  False  \n",
       "1         1          1         1         1  0.887885  0.460065   True  \n",
       "2         1          1         1         1  0.816970 -0.576680   True  \n",
       "3         1          1         1         1  0.816970 -0.576680   True  \n",
       "4         1          1         1         1  0.398401 -0.917211   True  "
      ]
     },
     "execution_count": 33,
     "metadata": {},
     "output_type": "execute_result"
    }
   ],
   "source": [
    "df_move.head()"
   ]
  },
  {
   "cell_type": "markdown",
   "metadata": {},
   "source": [
    "create_update_move_and_stop_by_radius function creates or updates the stay points of the trajectories, based on distance. The column situation is also added, it indicates if the point represents a stop point or a moving point."
   ]
  },
  {
   "cell_type": "code",
   "execution_count": 43,
   "metadata": {},
   "outputs": [
    {
     "name": "stdout",
     "output_type": "stream",
     "text": [
      "\n",
      "Creating or updating features MOVE and STOPS...\n",
      "\n",
      "\n",
      "Creating or updating distance features in meters...\n",
      "\n",
      "...Sorting by id and datetime to increase performance\n",
      "\n",
      "...Set id as index to increase attribution performance\n",
      "\n",
      "(217653/217653) 100% in 00:00:00.067 - estimated end in 00:00:00.000\n",
      "...Reset index\n",
      "\n",
      "..Total Time: 0.07639217376708984\n",
      "\n",
      "....There are 58981 stops to this parameters\n",
      "\n"
     ]
    }
   ],
   "source": [
    "stay_point_detection.create_update_move_and_stop_by_radius(df_move, radius=2)"
   ]
  },
  {
   "cell_type": "code",
   "execution_count": 35,
   "metadata": {},
   "outputs": [
    {
     "data": {
      "text/html": [
       "<div>\n",
       "<style scoped>\n",
       "    .dataframe tbody tr th:only-of-type {\n",
       "        vertical-align: middle;\n",
       "    }\n",
       "\n",
       "    .dataframe tbody tr th {\n",
       "        vertical-align: top;\n",
       "    }\n",
       "\n",
       "    .dataframe thead th {\n",
       "        text-align: right;\n",
       "    }\n",
       "</style>\n",
       "<table border=\"1\" class=\"dataframe\">\n",
       "  <thead>\n",
       "    <tr style=\"text-align: right;\">\n",
       "      <th></th>\n",
       "      <th>segment_stop</th>\n",
       "      <th>id</th>\n",
       "      <th>tid</th>\n",
       "      <th>lat</th>\n",
       "      <th>lon</th>\n",
       "      <th>datetime</th>\n",
       "      <th>dist_to_prev</th>\n",
       "      <th>dist_to_next</th>\n",
       "      <th>dist_prev_to_next</th>\n",
       "      <th>time_to_prev</th>\n",
       "      <th>speed_to_prev</th>\n",
       "      <th>tid_part</th>\n",
       "      <th>tid_speed</th>\n",
       "      <th>tid_time</th>\n",
       "      <th>tid_dist</th>\n",
       "      <th>hour_sin</th>\n",
       "      <th>hour_cos</th>\n",
       "      <th>stop</th>\n",
       "      <th>situation</th>\n",
       "    </tr>\n",
       "  </thead>\n",
       "  <tbody>\n",
       "    <tr>\n",
       "      <th>0</th>\n",
       "      <td>1</td>\n",
       "      <td>5</td>\n",
       "      <td>52008112104</td>\n",
       "      <td>40.009455</td>\n",
       "      <td>116.320434</td>\n",
       "      <td>2008-11-21 04:38:39</td>\n",
       "      <td>NaN</td>\n",
       "      <td>244.727171</td>\n",
       "      <td>447.043215</td>\n",
       "      <td>NaN</td>\n",
       "      <td>NaN</td>\n",
       "      <td>1</td>\n",
       "      <td>1</td>\n",
       "      <td>1</td>\n",
       "      <td>1</td>\n",
       "      <td>0.887885</td>\n",
       "      <td>0.460065</td>\n",
       "      <td>False</td>\n",
       "      <td>nan</td>\n",
       "    </tr>\n",
       "    <tr>\n",
       "      <th>1</th>\n",
       "      <td>2</td>\n",
       "      <td>5</td>\n",
       "      <td>52008112104</td>\n",
       "      <td>40.010695</td>\n",
       "      <td>116.322808</td>\n",
       "      <td>2008-11-21 04:38:44</td>\n",
       "      <td>NaN</td>\n",
       "      <td>9.996359</td>\n",
       "      <td>252.024213</td>\n",
       "      <td>NaN</td>\n",
       "      <td>NaN</td>\n",
       "      <td>1</td>\n",
       "      <td>1</td>\n",
       "      <td>1</td>\n",
       "      <td>1</td>\n",
       "      <td>0.887885</td>\n",
       "      <td>0.460065</td>\n",
       "      <td>True</td>\n",
       "      <td>nan</td>\n",
       "    </tr>\n",
       "    <tr>\n",
       "      <th>2</th>\n",
       "      <td>2</td>\n",
       "      <td>5</td>\n",
       "      <td>52008112608</td>\n",
       "      <td>40.001656</td>\n",
       "      <td>116.329943</td>\n",
       "      <td>2008-11-26 08:24:40</td>\n",
       "      <td>1174.527381</td>\n",
       "      <td>133.781130</td>\n",
       "      <td>281.429126</td>\n",
       "      <td>445556.0</td>\n",
       "      <td>0.002636</td>\n",
       "      <td>1</td>\n",
       "      <td>1</td>\n",
       "      <td>1</td>\n",
       "      <td>1</td>\n",
       "      <td>0.816970</td>\n",
       "      <td>-0.576680</td>\n",
       "      <td>True</td>\n",
       "      <td>move</td>\n",
       "    </tr>\n",
       "    <tr>\n",
       "      <th>3</th>\n",
       "      <td>3</td>\n",
       "      <td>5</td>\n",
       "      <td>52008112608</td>\n",
       "      <td>40.000535</td>\n",
       "      <td>116.327103</td>\n",
       "      <td>2008-11-26 08:25:00</td>\n",
       "      <td>NaN</td>\n",
       "      <td>27.292639</td>\n",
       "      <td>226.902202</td>\n",
       "      <td>NaN</td>\n",
       "      <td>NaN</td>\n",
       "      <td>1</td>\n",
       "      <td>1</td>\n",
       "      <td>1</td>\n",
       "      <td>1</td>\n",
       "      <td>0.816970</td>\n",
       "      <td>-0.576680</td>\n",
       "      <td>True</td>\n",
       "      <td>nan</td>\n",
       "    </tr>\n",
       "    <tr>\n",
       "      <th>4</th>\n",
       "      <td>3</td>\n",
       "      <td>5</td>\n",
       "      <td>52009011410</td>\n",
       "      <td>39.998759</td>\n",
       "      <td>116.326371</td>\n",
       "      <td>2009-01-14 10:46:27</td>\n",
       "      <td>207.091817</td>\n",
       "      <td>172.987008</td>\n",
       "      <td>217.745345</td>\n",
       "      <td>4242087.0</td>\n",
       "      <td>0.000049</td>\n",
       "      <td>1</td>\n",
       "      <td>1</td>\n",
       "      <td>1</td>\n",
       "      <td>1</td>\n",
       "      <td>0.398401</td>\n",
       "      <td>-0.917211</td>\n",
       "      <td>True</td>\n",
       "      <td>move</td>\n",
       "    </tr>\n",
       "  </tbody>\n",
       "</table>\n",
       "</div>"
      ],
      "text/plain": [
       "   segment_stop  id          tid        lat         lon            datetime  \\\n",
       "0             1   5  52008112104  40.009455  116.320434 2008-11-21 04:38:39   \n",
       "1             2   5  52008112104  40.010695  116.322808 2008-11-21 04:38:44   \n",
       "2             2   5  52008112608  40.001656  116.329943 2008-11-26 08:24:40   \n",
       "3             3   5  52008112608  40.000535  116.327103 2008-11-26 08:25:00   \n",
       "4             3   5  52009011410  39.998759  116.326371 2009-01-14 10:46:27   \n",
       "\n",
       "   dist_to_prev  dist_to_next  dist_prev_to_next  time_to_prev  speed_to_prev  \\\n",
       "0           NaN    244.727171         447.043215           NaN            NaN   \n",
       "1           NaN      9.996359         252.024213           NaN            NaN   \n",
       "2   1174.527381    133.781130         281.429126      445556.0       0.002636   \n",
       "3           NaN     27.292639         226.902202           NaN            NaN   \n",
       "4    207.091817    172.987008         217.745345     4242087.0       0.000049   \n",
       "\n",
       "   tid_part  tid_speed  tid_time  tid_dist  hour_sin  hour_cos   stop  \\\n",
       "0         1          1         1         1  0.887885  0.460065  False   \n",
       "1         1          1         1         1  0.887885  0.460065   True   \n",
       "2         1          1         1         1  0.816970 -0.576680   True   \n",
       "3         1          1         1         1  0.816970 -0.576680   True   \n",
       "4         1          1         1         1  0.398401 -0.917211   True   \n",
       "\n",
       "  situation  \n",
       "0       nan  \n",
       "1       nan  \n",
       "2      move  \n",
       "3       nan  \n",
       "4      move  "
      ]
     },
     "execution_count": 35,
     "metadata": {},
     "output_type": "execute_result"
    }
   ],
   "source": [
    "df_move.head()"
   ]
  },
  {
   "cell_type": "markdown",
   "metadata": {},
   "source": [
    "## Compression"
   ]
  },
  {
   "cell_type": "markdown",
   "metadata": {},
   "source": [
    "Importing the module:"
   ]
  },
  {
   "cell_type": "code",
   "execution_count": 36,
   "metadata": {},
   "outputs": [],
   "source": [
    "from pymove import compression"
   ]
  },
  {
   "cell_type": "markdown",
   "metadata": {},
   "source": [
    "The function below is used to reduce the size of the trajectory, the stop points are used to make the compression. "
   ]
  },
  {
   "cell_type": "code",
   "execution_count": 37,
   "metadata": {},
   "outputs": [
    {
     "name": "stdout",
     "output_type": "stream",
     "text": [
      "...setting mean to lat and lon...\n",
      "...move segments will be dropped...\n",
      "...get only segments stop...\n"
     ]
    },
    {
     "data": {
      "application/vnd.jupyter.widget-view+json": {
       "model_id": "6e4a3dbc1513456ea11ef64283c19d44",
       "version_major": 2,
       "version_minor": 0
      },
      "text/plain": [
       "HBox(children=(IntProgress(value=0, max=6), HTML(value='')))"
      ]
     },
     "metadata": {},
     "output_type": "display_data"
    },
    {
     "name": "stdout",
     "output_type": "stream",
     "text": [
      "(6/12) 50% in 00:00:00.064 - estimated end in 00:00:00.064\n",
      "(12/12) 100% in 00:00:00.101 - estimated end in 00:00:00.000\n",
      "\n",
      "...Dropping 10 points...\n",
      "...Shape_before: 22\n",
      "...Current shape: 12\n",
      "...Compression time: 0.113 seconds\n",
      "-----------------------------------------------------\n",
      "\n"
     ]
    }
   ],
   "source": [
    "compression.compress_segment_stop_to_point(df_move)"
   ]
  },
  {
   "cell_type": "code",
   "execution_count": 48,
   "metadata": {},
   "outputs": [
    {
     "name": "stdout",
     "output_type": "stream",
     "text": [
      "...setting mean to lat and lon...\n",
      "...move segments will be dropped...\n",
      "...get only segments stop...\n"
     ]
    },
    {
     "data": {
      "application/vnd.jupyter.widget-view+json": {
       "model_id": "e0164ce582164f0ca4ceb8337d7531fc",
       "version_major": 2,
       "version_minor": 0
      },
      "text/plain": [
       "HBox(children=(IntProgress(value=0, max=254), HTML(value='')))"
      ]
     },
     "metadata": {},
     "output_type": "display_data"
    },
    {
     "name": "stdout",
     "output_type": "stream",
     "text": [
      "(364/157738) 0% in 00:00:00.059 - estimated end in 00:00:25.871\n",
      "(15982/157738) 10% in 00:00:00.223 - estimated end in 00:00:01.981\n",
      "(31984/157738) 20% in 00:00:00.432 - estimated end in 00:00:01.700\n",
      "(48029/157738) 30% in 00:00:00.617 - estimated end in 00:00:01.411\n",
      "(79310/157738) 50% in 00:00:00.951 - estimated end in 00:00:00.940\n",
      "(95470/157738) 60% in 00:00:01.111 - estimated end in 00:00:00.724\n",
      "(110658/157738) 70% in 00:00:01.372 - estimated end in 00:00:00.584\n",
      "(126313/157738) 80% in 00:00:01.772 - estimated end in 00:00:00.441\n",
      "(142093/157738) 90% in 00:00:02.108 - estimated end in 00:00:00.232\n",
      "(157738/157738) 100% in 00:00:02.411 - estimated end in 00:00:00.000\n",
      "\n",
      "...Dropping 217145 points...\n",
      "...Shape_before: 217653\n",
      "...Current shape: 508\n",
      "...Compression time: 2.540 seconds\n",
      "-----------------------------------------------------\n",
      "\n"
     ]
    }
   ],
   "source": [
    "compression.compress_segment_stop_to_point_optimizer(df_move)"
   ]
  },
  {
   "cell_type": "code",
   "execution_count": null,
   "metadata": {},
   "outputs": [],
   "source": [
    "from pymo"
   ]
  },
  {
   "cell_type": "code",
   "execution_count": null,
   "metadata": {},
   "outputs": [],
   "source": []
  }
 ],
 "metadata": {
  "kernelspec": {
   "display_name": "Python 3",
   "language": "python",
   "name": "python3"
  },
  "language_info": {
   "codemirror_mode": {
    "name": "ipython",
    "version": 3
   },
   "file_extension": ".py",
   "mimetype": "text/x-python",
   "name": "python",
   "nbconvert_exporter": "python",
   "pygments_lexer": "ipython3",
   "version": "3.7.1"
  }
 },
 "nbformat": 4,
 "nbformat_minor": 2
}
