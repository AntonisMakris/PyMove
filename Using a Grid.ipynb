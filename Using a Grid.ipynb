{
 "cells": [
  {
   "cell_type": "markdown",
   "metadata": {},
   "source": [
    "# Imports"
   ]
  },
  {
   "cell_type": "code",
   "execution_count": 1,
   "metadata": {},
   "outputs": [],
   "source": [
    "import math\n",
    "import pandas as pd\n",
    "import numpy as np\n",
    "from tqdm import tqdm_notebook as tqdm\n",
    "from shapely.geometry import Polygon\n",
    "import pickle"
   ]
  },
  {
   "cell_type": "markdown",
   "metadata": {},
   "source": [
    "# Load data"
   ]
  },
  {
   "cell_type": "code",
   "execution_count": 2,
   "metadata": {},
   "outputs": [
    {
     "data": {
      "text/html": [
       "<div>\n",
       "<style scoped>\n",
       "    .dataframe tbody tr th:only-of-type {\n",
       "        vertical-align: middle;\n",
       "    }\n",
       "\n",
       "    .dataframe tbody tr th {\n",
       "        vertical-align: top;\n",
       "    }\n",
       "\n",
       "    .dataframe thead th {\n",
       "        text-align: right;\n",
       "    }\n",
       "</style>\n",
       "<table border=\"1\" class=\"dataframe\">\n",
       "  <thead>\n",
       "    <tr style=\"text-align: right;\">\n",
       "      <th></th>\n",
       "      <th>lat</th>\n",
       "      <th>lon</th>\n",
       "      <th>datetime</th>\n",
       "      <th>id</th>\n",
       "    </tr>\n",
       "  </thead>\n",
       "  <tbody>\n",
       "    <tr>\n",
       "      <td>0</td>\n",
       "      <td>39.984094</td>\n",
       "      <td>116.319236</td>\n",
       "      <td>2008-10-23 05:53:05</td>\n",
       "      <td>1</td>\n",
       "    </tr>\n",
       "    <tr>\n",
       "      <td>1</td>\n",
       "      <td>39.984094</td>\n",
       "      <td>116.319236</td>\n",
       "      <td>2008-10-23 05:53:05</td>\n",
       "      <td>1</td>\n",
       "    </tr>\n",
       "    <tr>\n",
       "      <td>2</td>\n",
       "      <td>39.984198</td>\n",
       "      <td>116.319322</td>\n",
       "      <td>2008-10-23 05:53:06</td>\n",
       "      <td>1</td>\n",
       "    </tr>\n",
       "    <tr>\n",
       "      <td>3</td>\n",
       "      <td>39.984224</td>\n",
       "      <td>116.319402</td>\n",
       "      <td>2008-10-23 05:53:11</td>\n",
       "      <td>1</td>\n",
       "    </tr>\n",
       "    <tr>\n",
       "      <td>4</td>\n",
       "      <td>39.984211</td>\n",
       "      <td>116.319389</td>\n",
       "      <td>2008-10-23 05:53:16</td>\n",
       "      <td>1</td>\n",
       "    </tr>\n",
       "  </tbody>\n",
       "</table>\n",
       "</div>"
      ],
      "text/plain": [
       "         lat         lon            datetime  id\n",
       "0  39.984094  116.319236 2008-10-23 05:53:05   1\n",
       "1  39.984094  116.319236 2008-10-23 05:53:05   1\n",
       "2  39.984198  116.319322 2008-10-23 05:53:06   1\n",
       "3  39.984224  116.319402 2008-10-23 05:53:11   1\n",
       "4  39.984211  116.319389 2008-10-23 05:53:16   1"
      ]
     },
     "execution_count": 2,
     "metadata": {},
     "output_type": "execute_result"
    }
   ],
   "source": [
    "df = pd.read_csv('geolife_sample.csv', parse_dates=['datetime'])\n",
    "df.head()"
   ]
  },
  {
   "cell_type": "code",
   "execution_count": 3,
   "metadata": {},
   "outputs": [
    {
     "data": {
      "text/plain": [
       "pandas.core.frame.DataFrame"
      ]
     },
     "execution_count": 3,
     "metadata": {},
     "output_type": "execute_result"
    }
   ],
   "source": [
    "type(df)"
   ]
  },
  {
   "cell_type": "markdown",
   "metadata": {},
   "source": [
    "# Lat meters conversion"
   ]
  },
  {
   "cell_type": "code",
   "execution_count": 4,
   "metadata": {},
   "outputs": [],
   "source": [
    "from pymove.core.grid import lat_meters"
   ]
  },
  {
   "cell_type": "code",
   "execution_count": 5,
   "metadata": {},
   "outputs": [
    {
     "data": {
      "text/plain": [
       "110826.6722516857"
      ]
     },
     "execution_count": 5,
     "metadata": {},
     "output_type": "execute_result"
    }
   ],
   "source": [
    "lat_meters(-3.8162973555)"
   ]
  },
  {
   "cell_type": "markdown",
   "metadata": {},
   "source": [
    "# Create virtual Grid"
   ]
  },
  {
   "cell_type": "code",
   "execution_count": 6,
   "metadata": {},
   "outputs": [],
   "source": [
    "from pymove.core.grid import create_virtual_grid"
   ]
  },
  {
   "cell_type": "code",
   "execution_count": 7,
   "metadata": {},
   "outputs": [],
   "source": [
    "from pymove.utils.utils import dic_labels, dic_features_label, get_bbox"
   ]
  },
  {
   "cell_type": "code",
   "execution_count": 8,
   "metadata": {},
   "outputs": [
    {
     "name": "stdout",
     "output_type": "stream",
     "text": [
      "\n",
      "Creating a virtual grid without polygons\n",
      "...cell size by degree: 0.0001353464801860623\n",
      "...grid_size_lat_y:140266\n",
      "grid_size_lon_x:56207\n",
      "\n",
      "..A virtual grid was created\n"
     ]
    }
   ],
   "source": [
    "dic_grid = create_virtual_grid(15, get_bbox(df))"
   ]
  },
  {
   "cell_type": "code",
   "execution_count": 9,
   "metadata": {},
   "outputs": [
    {
     "data": {
      "text/plain": [
       "{'lon_min_x': 113.54884299999999,\n",
       " 'lat_min_y': 22.147577,\n",
       " 'grid_size_lat_y': 140266,\n",
       " 'grid_size_lon_x': 56207,\n",
       " 'cell_size_by_degree': 0.0001353464801860623}"
      ]
     },
     "execution_count": 9,
     "metadata": {},
     "output_type": "execute_result"
    }
   ],
   "source": [
    "dic_grid"
   ]
  },
  {
   "cell_type": "markdown",
   "metadata": {},
   "source": [
    "# Create one polygon to point on grid"
   ]
  },
  {
   "cell_type": "code",
   "execution_count": 10,
   "metadata": {},
   "outputs": [],
   "source": [
    "from pymove.core.grid import create_one_polygon_to_point_on_grid"
   ]
  },
  {
   "cell_type": "code",
   "execution_count": 11,
   "metadata": {},
   "outputs": [
    {
     "data": {
      "image/svg+xml": [
       "<svg xmlns=\"http://www.w3.org/2000/svg\" xmlns:xlink=\"http://www.w3.org/1999/xlink\" width=\"100.0\" height=\"100.0\" viewBox=\"22.147706932620977 113.54897293262097 0.00014617419859774827 0.00014617419861906455\" preserveAspectRatio=\"xMinYMin meet\"><g transform=\"matrix(1,0,0,-1,0,227.09809203944056)\"><path fill-rule=\"evenodd\" fill=\"#66cc99\" stroke=\"#555555\" stroke-width=\"2.923483972381291e-06\" opacity=\"0.6\" d=\"M 22.147712346480183,113.54897834648018 L 22.14784769296037,113.54897834648018 L 22.14784769296037,113.54911369296038 L 22.147712346480183,113.54911369296038 L 22.147712346480183,113.54897834648018 z\" /></g></svg>"
      ],
      "text/plain": [
       "<shapely.geometry.polygon.Polygon at 0x7f0c4317c470>"
      ]
     },
     "execution_count": 11,
     "metadata": {},
     "output_type": "execute_result"
    }
   ],
   "source": [
    "create_one_polygon_to_point_on_grid(dic_grid, 1, 1)"
   ]
  },
  {
   "cell_type": "markdown",
   "metadata": {},
   "source": [
    "# Create or update index grid feature"
   ]
  },
  {
   "cell_type": "code",
   "execution_count": 13,
   "metadata": {},
   "outputs": [
    {
     "name": "stdout",
     "output_type": "stream",
     "text": [
      "\n",
      "Creating or updating index of the grid feature..\n",
      "\n",
      "...[217654,217654] indexes were created to lat and lon\n"
     ]
    }
   ],
   "source": [
    "from pymove.core.grid import create_update_index_grid_feature\n",
    "\n",
    "create_update_index_grid_feature(df, dic_grid)"
   ]
  },
  {
   "cell_type": "markdown",
   "metadata": {},
   "source": [
    "# Create all polygons to all point on grid"
   ]
  },
  {
   "cell_type": "code",
   "execution_count": 13,
   "metadata": {},
   "outputs": [],
   "source": [
    "from pymove.core.grid import create_all_polygons_to_all_point_on_grid"
   ]
  },
  {
   "cell_type": "code",
   "execution_count": 14,
   "metadata": {},
   "outputs": [
    {
     "name": "stdout",
     "output_type": "stream",
     "text": [
      "\n",
      "Creating or updating index of the grid feature..\n",
      "\n",
      "...[217654,217654] indexes were created to lat and lon\n"
     ]
    },
    {
     "data": {
      "application/vnd.jupyter.widget-view+json": {
       "model_id": "d9d49a42e97b448bb2bace9edf031bbc",
       "version_major": 2,
       "version_minor": 0
      },
      "text/plain": [
       "HBox(children=(IntProgress(value=0, max=35450), HTML(value='')))"
      ]
     },
     "metadata": {},
     "output_type": "display_data"
    },
    {
     "name": "stdout",
     "output_type": "stream",
     "text": [
      "\n",
      "...polygons were created\n"
     ]
    },
    {
     "data": {
      "text/html": [
       "<div>\n",
       "<style scoped>\n",
       "    .dataframe tbody tr th:only-of-type {\n",
       "        vertical-align: middle;\n",
       "    }\n",
       "\n",
       "    .dataframe tbody tr th {\n",
       "        vertical-align: top;\n",
       "    }\n",
       "\n",
       "    .dataframe thead th {\n",
       "        text-align: right;\n",
       "    }\n",
       "</style>\n",
       "<table border=\"1\" class=\"dataframe\">\n",
       "  <thead>\n",
       "    <tr style=\"text-align: right;\">\n",
       "      <th></th>\n",
       "      <th>index_grid_lat</th>\n",
       "      <th>index_grid_lon</th>\n",
       "      <th>polygon</th>\n",
       "    </tr>\n",
       "  </thead>\n",
       "  <tbody>\n",
       "    <tr>\n",
       "      <td>0</td>\n",
       "      <td>131784</td>\n",
       "      <td>20468</td>\n",
       "      <td>POLYGON ((39.98407754484003 116.3191147564483,...</td>\n",
       "    </tr>\n",
       "    <tr>\n",
       "      <td>2</td>\n",
       "      <td>131784</td>\n",
       "      <td>20469</td>\n",
       "      <td>POLYGON ((39.98407754484003 116.3191147564483,...</td>\n",
       "    </tr>\n",
       "    <tr>\n",
       "      <td>3</td>\n",
       "      <td>131785</td>\n",
       "      <td>20470</td>\n",
       "      <td>POLYGON ((39.98407754484003 116.3192501029285,...</td>\n",
       "    </tr>\n",
       "    <tr>\n",
       "      <td>4</td>\n",
       "      <td>131784</td>\n",
       "      <td>20470</td>\n",
       "      <td>POLYGON ((39.98421289132022 116.3193854494087,...</td>\n",
       "    </tr>\n",
       "    <tr>\n",
       "      <td>6</td>\n",
       "      <td>131788</td>\n",
       "      <td>20473</td>\n",
       "      <td>POLYGON ((39.98407754484003 116.3193854494087,...</td>\n",
       "    </tr>\n",
       "    <tr>\n",
       "      <td>...</td>\n",
       "      <td>...</td>\n",
       "      <td>...</td>\n",
       "      <td>...</td>\n",
       "    </tr>\n",
       "    <tr>\n",
       "      <td>217585</td>\n",
       "      <td>131908</td>\n",
       "      <td>20499</td>\n",
       "      <td>POLYGON ((40.01371842400079 116.306527533791, ...</td>\n",
       "    </tr>\n",
       "    <tr>\n",
       "      <td>217588</td>\n",
       "      <td>131908</td>\n",
       "      <td>20501</td>\n",
       "      <td>POLYGON ((40.01371842400079 116.306527533791, ...</td>\n",
       "    </tr>\n",
       "    <tr>\n",
       "      <td>217590</td>\n",
       "      <td>131908</td>\n",
       "      <td>20502</td>\n",
       "      <td>POLYGON ((40.01371842400079 116.306527533791, ...</td>\n",
       "    </tr>\n",
       "    <tr>\n",
       "      <td>217616</td>\n",
       "      <td>131909</td>\n",
       "      <td>20518</td>\n",
       "      <td>POLYGON ((40.01371842400079 116.306527533791, ...</td>\n",
       "    </tr>\n",
       "    <tr>\n",
       "      <td>217620</td>\n",
       "      <td>131910</td>\n",
       "      <td>20520</td>\n",
       "      <td>POLYGON ((40.01371842400079 116.306527533791, ...</td>\n",
       "    </tr>\n",
       "  </tbody>\n",
       "</table>\n",
       "<p>35450 rows × 3 columns</p>\n",
       "</div>"
      ],
      "text/plain": [
       "        index_grid_lat  index_grid_lon  \\\n",
       "0               131784           20468   \n",
       "2               131784           20469   \n",
       "3               131785           20470   \n",
       "4               131784           20470   \n",
       "6               131788           20473   \n",
       "...                ...             ...   \n",
       "217585          131908           20499   \n",
       "217588          131908           20501   \n",
       "217590          131908           20502   \n",
       "217616          131909           20518   \n",
       "217620          131910           20520   \n",
       "\n",
       "                                                  polygon  \n",
       "0       POLYGON ((39.98407754484003 116.3191147564483,...  \n",
       "2       POLYGON ((39.98407754484003 116.3191147564483,...  \n",
       "3       POLYGON ((39.98407754484003 116.3192501029285,...  \n",
       "4       POLYGON ((39.98421289132022 116.3193854494087,...  \n",
       "6       POLYGON ((39.98407754484003 116.3193854494087,...  \n",
       "...                                                   ...  \n",
       "217585  POLYGON ((40.01371842400079 116.306527533791, ...  \n",
       "217588  POLYGON ((40.01371842400079 116.306527533791, ...  \n",
       "217590  POLYGON ((40.01371842400079 116.306527533791, ...  \n",
       "217616  POLYGON ((40.01371842400079 116.306527533791, ...  \n",
       "217620  POLYGON ((40.01371842400079 116.306527533791, ...  \n",
       "\n",
       "[35450 rows x 3 columns]"
      ]
     },
     "execution_count": 14,
     "metadata": {},
     "output_type": "execute_result"
    }
   ],
   "source": [
    "create_all_polygons_to_all_point_on_grid(df, dic_grid)"
   ]
  },
  {
   "cell_type": "markdown",
   "metadata": {},
   "source": [
    "# Create all polygons on grid"
   ]
  },
  {
   "cell_type": "code",
   "execution_count": 15,
   "metadata": {},
   "outputs": [],
   "source": [
    "from pymove.core.grid import create_all_polygons_on_grid"
   ]
  },
  {
   "cell_type": "code",
   "execution_count": null,
   "metadata": {},
   "outputs": [
    {
     "name": "stdout",
     "output_type": "stream",
     "text": [
      "\n",
      "Creating all polygons on virtual grid\n"
     ]
    }
   ],
   "source": [
    "create_all_polygons_on_grid(dic_grid)"
   ]
  },
  {
   "cell_type": "markdown",
   "metadata": {},
   "source": [
    "# Get point to index grid "
   ]
  },
  {
   "cell_type": "code",
   "execution_count": 12,
   "metadata": {},
   "outputs": [
    {
     "name": "stdout",
     "output_type": "stream",
     "text": [
      "...[1,1] indexes were created to lat and lon\n"
     ]
    },
    {
     "data": {
      "text/plain": [
       "(131784.0, 20468.0)"
      ]
     },
     "execution_count": 12,
     "metadata": {},
     "output_type": "execute_result"
    }
   ],
   "source": [
    "from pymove.core.grid import point_to_index_grid\n",
    "\n",
    "point_to_index_grid(39.984094, 116.319236, dic_grid)"
   ]
  },
  {
   "cell_type": "markdown",
   "metadata": {},
   "source": [
    "# Save grid to .pkl"
   ]
  },
  {
   "cell_type": "code",
   "execution_count": 14,
   "metadata": {},
   "outputs": [
    {
     "ename": "ImportError",
     "evalue": "cannot import name 'save_grid_pkl' from 'pymove.core.grid' (/home/384341/Área de Trabalho/PyMove/pymove/core/grid.py)",
     "output_type": "error",
     "traceback": [
      "\u001b[0;31m---------------------------------------------------------------------------\u001b[0m",
      "\u001b[0;31mImportError\u001b[0m                               Traceback (most recent call last)",
      "\u001b[0;32m<ipython-input-14-a0ecedcc5b7b>\u001b[0m in \u001b[0;36m<module>\u001b[0;34m\u001b[0m\n\u001b[0;32m----> 1\u001b[0;31m \u001b[0;32mfrom\u001b[0m \u001b[0mpymove\u001b[0m\u001b[0;34m.\u001b[0m\u001b[0mcore\u001b[0m\u001b[0;34m.\u001b[0m\u001b[0mgrid\u001b[0m \u001b[0;32mimport\u001b[0m \u001b[0msave_grid_pkl\u001b[0m\u001b[0;34m\u001b[0m\u001b[0;34m\u001b[0m\u001b[0m\n\u001b[0m\u001b[1;32m      2\u001b[0m \u001b[0;34m\u001b[0m\u001b[0m\n\u001b[1;32m      3\u001b[0m \u001b[0msave_grid_pkl\u001b[0m\u001b[0;34m(\u001b[0m\u001b[0;34m'teste.pkl'\u001b[0m\u001b[0;34m,\u001b[0m \u001b[0mdic_grid\u001b[0m\u001b[0;34m)\u001b[0m\u001b[0;34m\u001b[0m\u001b[0;34m\u001b[0m\u001b[0m\n",
      "\u001b[0;31mImportError\u001b[0m: cannot import name 'save_grid_pkl' from 'pymove.core.grid' (/home/384341/Área de Trabalho/PyMove/pymove/core/grid.py)"
     ]
    }
   ],
   "source": [
    "from pymove.core.grid import save_grid_pkl\n",
    "\n",
    "save_grid_pkl('teste.pkl', dic_grid)"
   ]
  },
  {
   "cell_type": "markdown",
   "metadata": {},
   "source": [
    "# Read .pkl to grid"
   ]
  },
  {
   "cell_type": "code",
   "execution_count": null,
   "metadata": {},
   "outputs": [],
   "source": [
    "from pymove.core.grid import read_grid_pkl\n",
    "\n",
    "read_grid_pkl('teste.pkl')"
   ]
  }
 ],
 "metadata": {
  "kernelspec": {
   "display_name": "Python 3",
   "language": "python",
   "name": "python3"
  },
  "language_info": {
   "codemirror_mode": {
    "name": "ipython",
    "version": 3
   },
   "file_extension": ".py",
   "mimetype": "text/x-python",
   "name": "python",
   "nbconvert_exporter": "python",
   "pygments_lexer": "ipython3",
   "version": "3.7.3"
  }
 },
 "nbformat": 4,
 "nbformat_minor": 2
}
