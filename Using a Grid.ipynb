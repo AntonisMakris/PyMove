{
 "cells": [
  {
   "cell_type": "markdown",
   "metadata": {},
   "source": [
    "# Imports"
   ]
  },
  {
   "cell_type": "code",
   "execution_count": 1,
   "metadata": {},
   "outputs": [],
   "source": [
    "import math\n",
    "import pandas as pd\n",
    "import numpy as np\n",
    "from tqdm import tqdm_notebook as tqdm\n",
    "from shapely.geometry import Polygon\n",
    "import pickle\n",
    "import matplotlib.pyplot as plt"
   ]
  },
  {
   "cell_type": "markdown",
   "metadata": {},
   "source": [
    "# Load data"
   ]
  },
  {
   "cell_type": "code",
   "execution_count": 2,
   "metadata": {},
   "outputs": [
    {
     "data": {
      "text/html": [
       "<div>\n",
       "<style scoped>\n",
       "    .dataframe tbody tr th:only-of-type {\n",
       "        vertical-align: middle;\n",
       "    }\n",
       "\n",
       "    .dataframe tbody tr th {\n",
       "        vertical-align: top;\n",
       "    }\n",
       "\n",
       "    .dataframe thead th {\n",
       "        text-align: right;\n",
       "    }\n",
       "</style>\n",
       "<table border=\"1\" class=\"dataframe\">\n",
       "  <thead>\n",
       "    <tr style=\"text-align: right;\">\n",
       "      <th></th>\n",
       "      <th>lat</th>\n",
       "      <th>lon</th>\n",
       "      <th>datetime</th>\n",
       "      <th>id</th>\n",
       "    </tr>\n",
       "  </thead>\n",
       "  <tbody>\n",
       "    <tr>\n",
       "      <th>0</th>\n",
       "      <td>39.984094</td>\n",
       "      <td>116.319236</td>\n",
       "      <td>2008-10-23 05:53:05</td>\n",
       "      <td>1</td>\n",
       "    </tr>\n",
       "    <tr>\n",
       "      <th>1</th>\n",
       "      <td>39.984198</td>\n",
       "      <td>116.319322</td>\n",
       "      <td>2008-10-23 05:53:06</td>\n",
       "      <td>1</td>\n",
       "    </tr>\n",
       "    <tr>\n",
       "      <th>2</th>\n",
       "      <td>39.984224</td>\n",
       "      <td>116.319402</td>\n",
       "      <td>2008-10-23 05:53:11</td>\n",
       "      <td>1</td>\n",
       "    </tr>\n",
       "    <tr>\n",
       "      <th>3</th>\n",
       "      <td>39.984211</td>\n",
       "      <td>116.319389</td>\n",
       "      <td>2008-10-23 05:53:16</td>\n",
       "      <td>1</td>\n",
       "    </tr>\n",
       "    <tr>\n",
       "      <th>4</th>\n",
       "      <td>39.984217</td>\n",
       "      <td>116.319422</td>\n",
       "      <td>2008-10-23 05:53:21</td>\n",
       "      <td>1</td>\n",
       "    </tr>\n",
       "  </tbody>\n",
       "</table>\n",
       "</div>"
      ],
      "text/plain": [
       "         lat         lon            datetime  id\n",
       "0  39.984094  116.319236 2008-10-23 05:53:05   1\n",
       "1  39.984198  116.319322 2008-10-23 05:53:06   1\n",
       "2  39.984224  116.319402 2008-10-23 05:53:11   1\n",
       "3  39.984211  116.319389 2008-10-23 05:53:16   1\n",
       "4  39.984217  116.319422 2008-10-23 05:53:21   1"
      ]
     },
     "execution_count": 2,
     "metadata": {},
     "output_type": "execute_result"
    }
   ],
   "source": [
    "df = pd.read_csv('geolife_sample.csv', parse_dates=['datetime'])\n",
    "df.head()"
   ]
  },
  {
   "cell_type": "code",
   "execution_count": 3,
   "metadata": {},
   "outputs": [
    {
     "data": {
      "text/plain": [
       "pandas.core.frame.DataFrame"
      ]
     },
     "execution_count": 3,
     "metadata": {},
     "output_type": "execute_result"
    }
   ],
   "source": [
    "type(df)"
   ]
  },
  {
   "cell_type": "markdown",
   "metadata": {},
   "source": [
    "# Lat meters conversion"
   ]
  },
  {
   "cell_type": "code",
   "execution_count": 4,
   "metadata": {},
   "outputs": [],
   "source": [
    "from pymove.core.grid import lat_meters"
   ]
  },
  {
   "cell_type": "code",
   "execution_count": 5,
   "metadata": {},
   "outputs": [
    {
     "data": {
      "text/plain": [
       "110826.6722516857"
      ]
     },
     "execution_count": 5,
     "metadata": {},
     "output_type": "execute_result"
    }
   ],
   "source": [
    "lat_meters(-3.8162973555)"
   ]
  },
  {
   "cell_type": "markdown",
   "metadata": {},
   "source": [
    "# Create virtual Grid"
   ]
  },
  {
   "cell_type": "code",
   "execution_count": 6,
   "metadata": {},
   "outputs": [],
   "source": [
    "from pymove.core.grid import create_virtual_grid"
   ]
  },
  {
   "cell_type": "code",
   "execution_count": 7,
   "metadata": {},
   "outputs": [],
   "source": [
    "from pymove.utils.traj_utils import get_bbox"
   ]
  },
  {
   "cell_type": "code",
   "execution_count": 8,
   "metadata": {},
   "outputs": [
    {
     "name": "stdout",
     "output_type": "stream",
     "text": [
      "\n",
      "Creating a virtual grid without polygons\n",
      "...cell size by degree: 0.0001353464801860623\n",
      "...grid_size_lat_y:140266\n",
      "grid_size_lon_x:56207\n",
      "\n",
      "..A virtual grid was created\n"
     ]
    }
   ],
   "source": [
    "dic_grid = create_virtual_grid(15, get_bbox(df))"
   ]
  },
  {
   "cell_type": "code",
   "execution_count": 9,
   "metadata": {},
   "outputs": [
    {
     "data": {
      "text/plain": [
       "{'lon_min_x': 113.54884299999999,\n",
       " 'lat_min_y': 22.147577,\n",
       " 'grid_size_lat_y': 140266,\n",
       " 'grid_size_lon_x': 56207,\n",
       " 'cell_size_by_degree': 0.0001353464801860623}"
      ]
     },
     "execution_count": 9,
     "metadata": {},
     "output_type": "execute_result"
    }
   ],
   "source": [
    "dic_grid"
   ]
  },
  {
   "cell_type": "markdown",
   "metadata": {},
   "source": [
    "# Create one polygon to point on grid"
   ]
  },
  {
   "cell_type": "code",
   "execution_count": 10,
   "metadata": {},
   "outputs": [],
   "source": [
    "from pymove.core.grid import create_one_polygon_to_point_on_grid"
   ]
  },
  {
   "cell_type": "code",
   "execution_count": 11,
   "metadata": {},
   "outputs": [
    {
     "data": {
      "image/svg+xml": [
       "<svg xmlns=\"http://www.w3.org/2000/svg\" xmlns:xlink=\"http://www.w3.org/1999/xlink\" width=\"100.0\" height=\"100.0\" viewBox=\"22.147706932620977 113.54897293262097 0.00014617419859774827 0.00014617419861906455\" preserveAspectRatio=\"xMinYMin meet\"><g transform=\"matrix(1,0,0,-1,0,227.09809203944056)\"><path fill-rule=\"evenodd\" fill=\"#66cc99\" stroke=\"#555555\" stroke-width=\"2.923483972381291e-06\" opacity=\"0.6\" d=\"M 22.147712346480183,113.54897834648018 L 22.14784769296037,113.54897834648018 L 22.14784769296037,113.54911369296038 L 22.147712346480183,113.54911369296038 L 22.147712346480183,113.54897834648018 z\" /></g></svg>"
      ],
      "text/plain": [
       "<shapely.geometry.polygon.Polygon at 0x114fccba8>"
      ]
     },
     "execution_count": 11,
     "metadata": {},
     "output_type": "execute_result"
    }
   ],
   "source": [
    "create_one_polygon_to_point_on_grid(dic_grid, 1, 1)"
   ]
  },
  {
   "cell_type": "markdown",
   "metadata": {},
   "source": [
    "# Create or update index grid feature"
   ]
  },
  {
   "cell_type": "code",
   "execution_count": 12,
   "metadata": {},
   "outputs": [
    {
     "name": "stdout",
     "output_type": "stream",
     "text": [
      "\n",
      "Creating or updating index of the grid feature..\n",
      "\n",
      "...[217653,217653] indexes were created to lat and lon\n"
     ]
    }
   ],
   "source": [
    "from pymove.core.grid import create_update_index_grid_feature\n",
    "\n",
    "create_update_index_grid_feature(df, dic_grid)"
   ]
  },
  {
   "cell_type": "markdown",
   "metadata": {},
   "source": [
    "# Create all polygons to all point on grid"
   ]
  },
  {
   "cell_type": "code",
   "execution_count": 13,
   "metadata": {},
   "outputs": [],
   "source": [
    "from pymove.core.grid import create_all_polygons_to_all_point_on_grid"
   ]
  },
  {
   "cell_type": "code",
   "execution_count": 14,
   "metadata": {},
   "outputs": [
    {
     "name": "stdout",
     "output_type": "stream",
     "text": [
      "\n",
      "Creating or updating index of the grid feature..\n",
      "\n",
      "...[217653,217653] indexes were created to lat and lon\n"
     ]
    },
    {
     "data": {
      "application/vnd.jupyter.widget-view+json": {
       "model_id": "e11e4e9039564415852a5dadcb798015",
       "version_major": 2,
       "version_minor": 0
      },
      "text/plain": [
       "HBox(children=(IntProgress(value=0, max=35450), HTML(value='')))"
      ]
     },
     "metadata": {},
     "output_type": "display_data"
    },
    {
     "name": "stdout",
     "output_type": "stream",
     "text": [
      "\n",
      "...polygons were created\n"
     ]
    },
    {
     "data": {
      "text/html": [
       "<div>\n",
       "<style scoped>\n",
       "    .dataframe tbody tr th:only-of-type {\n",
       "        vertical-align: middle;\n",
       "    }\n",
       "\n",
       "    .dataframe tbody tr th {\n",
       "        vertical-align: top;\n",
       "    }\n",
       "\n",
       "    .dataframe thead th {\n",
       "        text-align: right;\n",
       "    }\n",
       "</style>\n",
       "<table border=\"1\" class=\"dataframe\">\n",
       "  <thead>\n",
       "    <tr style=\"text-align: right;\">\n",
       "      <th></th>\n",
       "      <th>index_grid_lat</th>\n",
       "      <th>index_grid_lon</th>\n",
       "      <th>polygon</th>\n",
       "    </tr>\n",
       "  </thead>\n",
       "  <tbody>\n",
       "    <tr>\n",
       "      <th>0</th>\n",
       "      <td>131784</td>\n",
       "      <td>20468</td>\n",
       "      <td>POLYGON ((39.98407754484003 116.3191147564483,...</td>\n",
       "    </tr>\n",
       "    <tr>\n",
       "      <th>1</th>\n",
       "      <td>131784</td>\n",
       "      <td>20469</td>\n",
       "      <td>POLYGON ((39.98407754484003 116.3192501029285,...</td>\n",
       "    </tr>\n",
       "    <tr>\n",
       "      <th>2</th>\n",
       "      <td>131785</td>\n",
       "      <td>20470</td>\n",
       "      <td>POLYGON ((39.98421289132022 116.3193854494087,...</td>\n",
       "    </tr>\n",
       "    <tr>\n",
       "      <th>3</th>\n",
       "      <td>131784</td>\n",
       "      <td>20470</td>\n",
       "      <td>POLYGON ((39.98407754484003 116.3193854494087,...</td>\n",
       "    </tr>\n",
       "    <tr>\n",
       "      <th>5</th>\n",
       "      <td>131788</td>\n",
       "      <td>20473</td>\n",
       "      <td>POLYGON ((39.98421289132022 116.3193854494087,...</td>\n",
       "    </tr>\n",
       "    <tr>\n",
       "      <th>7</th>\n",
       "      <td>131788</td>\n",
       "      <td>20472</td>\n",
       "      <td>POLYGON ((39.98461893076077 116.3197914888492,...</td>\n",
       "    </tr>\n",
       "    <tr>\n",
       "      <th>8</th>\n",
       "      <td>131787</td>\n",
       "      <td>20472</td>\n",
       "      <td>POLYGON ((39.98461893076077 116.3197914888492,...</td>\n",
       "    </tr>\n",
       "    <tr>\n",
       "      <th>13</th>\n",
       "      <td>131787</td>\n",
       "      <td>20473</td>\n",
       "      <td>POLYGON ((39.98461893076077 116.3196561423691,...</td>\n",
       "    </tr>\n",
       "    <tr>\n",
       "      <th>14</th>\n",
       "      <td>131790</td>\n",
       "      <td>20474</td>\n",
       "      <td>POLYGON ((39.98448358428059 116.3196561423691,...</td>\n",
       "    </tr>\n",
       "    <tr>\n",
       "      <th>15</th>\n",
       "      <td>131791</td>\n",
       "      <td>20474</td>\n",
       "      <td>POLYGON ((39.98448358428059 116.3196561423691,...</td>\n",
       "    </tr>\n",
       "    <tr>\n",
       "      <th>16</th>\n",
       "      <td>131788</td>\n",
       "      <td>20474</td>\n",
       "      <td>POLYGON ((39.98448358428059 116.3196561423691,...</td>\n",
       "    </tr>\n",
       "    <tr>\n",
       "      <th>17</th>\n",
       "      <td>131788</td>\n",
       "      <td>20475</td>\n",
       "      <td>POLYGON ((39.98448358428059 116.3196561423691,...</td>\n",
       "    </tr>\n",
       "    <tr>\n",
       "      <th>18</th>\n",
       "      <td>131787</td>\n",
       "      <td>20476</td>\n",
       "      <td>POLYGON ((39.98448358428059 116.3196561423691,...</td>\n",
       "    </tr>\n",
       "    <tr>\n",
       "      <th>20</th>\n",
       "      <td>131787</td>\n",
       "      <td>20477</td>\n",
       "      <td>POLYGON ((39.98448358428059 116.3197914888492,...</td>\n",
       "    </tr>\n",
       "    <tr>\n",
       "      <th>21</th>\n",
       "      <td>131787</td>\n",
       "      <td>20478</td>\n",
       "      <td>POLYGON ((39.98488962372114 116.3199268353294,...</td>\n",
       "    </tr>\n",
       "    <tr>\n",
       "      <th>22</th>\n",
       "      <td>131786</td>\n",
       "      <td>20479</td>\n",
       "      <td>POLYGON ((39.98502497020134 116.3199268353294,...</td>\n",
       "    </tr>\n",
       "    <tr>\n",
       "      <th>23</th>\n",
       "      <td>131786</td>\n",
       "      <td>20480</td>\n",
       "      <td>POLYGON ((39.98461893076077 116.3199268353294,...</td>\n",
       "    </tr>\n",
       "    <tr>\n",
       "      <th>24</th>\n",
       "      <td>131785</td>\n",
       "      <td>20480</td>\n",
       "      <td>POLYGON ((39.98461893076077 116.3200621818096,...</td>\n",
       "    </tr>\n",
       "    <tr>\n",
       "      <th>29</th>\n",
       "      <td>131785</td>\n",
       "      <td>20481</td>\n",
       "      <td>POLYGON ((39.98448358428059 116.3201975282898,...</td>\n",
       "    </tr>\n",
       "    <tr>\n",
       "      <th>31</th>\n",
       "      <td>131786</td>\n",
       "      <td>20481</td>\n",
       "      <td>POLYGON ((39.98448358428059 116.3201975282898,...</td>\n",
       "    </tr>\n",
       "    <tr>\n",
       "      <th>35</th>\n",
       "      <td>131784</td>\n",
       "      <td>20481</td>\n",
       "      <td>POLYGON ((39.98448358428059 116.32033287477, 3...</td>\n",
       "    </tr>\n",
       "    <tr>\n",
       "      <th>36</th>\n",
       "      <td>131783</td>\n",
       "      <td>20481</td>\n",
       "      <td>POLYGON ((39.98448358428059 116.3204682212502,...</td>\n",
       "    </tr>\n",
       "    <tr>\n",
       "      <th>37</th>\n",
       "      <td>131782</td>\n",
       "      <td>20481</td>\n",
       "      <td>POLYGON ((39.9843482378004 116.3206035677304, ...</td>\n",
       "    </tr>\n",
       "    <tr>\n",
       "      <th>39</th>\n",
       "      <td>131781</td>\n",
       "      <td>20481</td>\n",
       "      <td>POLYGON ((39.9843482378004 116.3207389142106, ...</td>\n",
       "    </tr>\n",
       "    <tr>\n",
       "      <th>40</th>\n",
       "      <td>131780</td>\n",
       "      <td>20482</td>\n",
       "      <td>POLYGON ((39.98421289132022 116.3207389142106,...</td>\n",
       "    </tr>\n",
       "    <tr>\n",
       "      <th>41</th>\n",
       "      <td>131779</td>\n",
       "      <td>20482</td>\n",
       "      <td>POLYGON ((39.98421289132022 116.3207389142106,...</td>\n",
       "    </tr>\n",
       "    <tr>\n",
       "      <th>43</th>\n",
       "      <td>131778</td>\n",
       "      <td>20482</td>\n",
       "      <td>POLYGON ((39.98421289132022 116.3207389142106,...</td>\n",
       "    </tr>\n",
       "    <tr>\n",
       "      <th>44</th>\n",
       "      <td>131777</td>\n",
       "      <td>20482</td>\n",
       "      <td>POLYGON ((39.98421289132022 116.3207389142106,...</td>\n",
       "    </tr>\n",
       "    <tr>\n",
       "      <th>45</th>\n",
       "      <td>131776</td>\n",
       "      <td>20482</td>\n",
       "      <td>POLYGON ((39.98421289132022 116.3207389142106,...</td>\n",
       "    </tr>\n",
       "    <tr>\n",
       "      <th>46</th>\n",
       "      <td>131775</td>\n",
       "      <td>20482</td>\n",
       "      <td>POLYGON ((39.98421289132022 116.3208742606907,...</td>\n",
       "    </tr>\n",
       "    <tr>\n",
       "      <th>...</th>\n",
       "      <td>...</td>\n",
       "      <td>...</td>\n",
       "      <td>...</td>\n",
       "    </tr>\n",
       "    <tr>\n",
       "      <th>217518</th>\n",
       "      <td>131920</td>\n",
       "      <td>20472</td>\n",
       "      <td>POLYGON ((40.01371842400079 116.306527533791, ...</td>\n",
       "    </tr>\n",
       "    <tr>\n",
       "      <th>217519</th>\n",
       "      <td>131921</td>\n",
       "      <td>20472</td>\n",
       "      <td>POLYGON ((40.01371842400079 116.306527533791, ...</td>\n",
       "    </tr>\n",
       "    <tr>\n",
       "      <th>217521</th>\n",
       "      <td>131921</td>\n",
       "      <td>20473</td>\n",
       "      <td>POLYGON ((40.01371842400079 116.306527533791, ...</td>\n",
       "    </tr>\n",
       "    <tr>\n",
       "      <th>217523</th>\n",
       "      <td>131921</td>\n",
       "      <td>20474</td>\n",
       "      <td>POLYGON ((40.01371842400079 116.306527533791, ...</td>\n",
       "    </tr>\n",
       "    <tr>\n",
       "      <th>217524</th>\n",
       "      <td>131920</td>\n",
       "      <td>20474</td>\n",
       "      <td>POLYGON ((40.01371842400079 116.306527533791, ...</td>\n",
       "    </tr>\n",
       "    <tr>\n",
       "      <th>217527</th>\n",
       "      <td>131919</td>\n",
       "      <td>20474</td>\n",
       "      <td>POLYGON ((40.01371842400079 116.306527533791, ...</td>\n",
       "    </tr>\n",
       "    <tr>\n",
       "      <th>217530</th>\n",
       "      <td>131918</td>\n",
       "      <td>20474</td>\n",
       "      <td>POLYGON ((40.01371842400079 116.306527533791, ...</td>\n",
       "    </tr>\n",
       "    <tr>\n",
       "      <th>217533</th>\n",
       "      <td>131917</td>\n",
       "      <td>20474</td>\n",
       "      <td>POLYGON ((40.01371842400079 116.306527533791, ...</td>\n",
       "    </tr>\n",
       "    <tr>\n",
       "      <th>217535</th>\n",
       "      <td>131916</td>\n",
       "      <td>20474</td>\n",
       "      <td>POLYGON ((40.01371842400079 116.306527533791, ...</td>\n",
       "    </tr>\n",
       "    <tr>\n",
       "      <th>217537</th>\n",
       "      <td>131915</td>\n",
       "      <td>20475</td>\n",
       "      <td>POLYGON ((40.01371842400079 116.306527533791, ...</td>\n",
       "    </tr>\n",
       "    <tr>\n",
       "      <th>217539</th>\n",
       "      <td>131914</td>\n",
       "      <td>20474</td>\n",
       "      <td>POLYGON ((40.01371842400079 116.306527533791, ...</td>\n",
       "    </tr>\n",
       "    <tr>\n",
       "      <th>217540</th>\n",
       "      <td>131914</td>\n",
       "      <td>20475</td>\n",
       "      <td>POLYGON ((40.01371842400079 116.306527533791, ...</td>\n",
       "    </tr>\n",
       "    <tr>\n",
       "      <th>217541</th>\n",
       "      <td>131913</td>\n",
       "      <td>20475</td>\n",
       "      <td>POLYGON ((40.01371842400079 116.306527533791, ...</td>\n",
       "    </tr>\n",
       "    <tr>\n",
       "      <th>217543</th>\n",
       "      <td>131913</td>\n",
       "      <td>20476</td>\n",
       "      <td>POLYGON ((40.01371842400079 116.306527533791, ...</td>\n",
       "    </tr>\n",
       "    <tr>\n",
       "      <th>217547</th>\n",
       "      <td>131913</td>\n",
       "      <td>20479</td>\n",
       "      <td>POLYGON ((40.01371842400079 116.306527533791, ...</td>\n",
       "    </tr>\n",
       "    <tr>\n",
       "      <th>217549</th>\n",
       "      <td>131913</td>\n",
       "      <td>20480</td>\n",
       "      <td>POLYGON ((40.01371842400079 116.306527533791, ...</td>\n",
       "    </tr>\n",
       "    <tr>\n",
       "      <th>217550</th>\n",
       "      <td>131912</td>\n",
       "      <td>20480</td>\n",
       "      <td>POLYGON ((40.01371842400079 116.306527533791, ...</td>\n",
       "    </tr>\n",
       "    <tr>\n",
       "      <th>217551</th>\n",
       "      <td>131912</td>\n",
       "      <td>20481</td>\n",
       "      <td>POLYGON ((40.01371842400079 116.306527533791, ...</td>\n",
       "    </tr>\n",
       "    <tr>\n",
       "      <th>217554</th>\n",
       "      <td>131912</td>\n",
       "      <td>20482</td>\n",
       "      <td>POLYGON ((40.01371842400079 116.306527533791, ...</td>\n",
       "    </tr>\n",
       "    <tr>\n",
       "      <th>217556</th>\n",
       "      <td>131912</td>\n",
       "      <td>20483</td>\n",
       "      <td>POLYGON ((40.01371842400079 116.306527533791, ...</td>\n",
       "    </tr>\n",
       "    <tr>\n",
       "      <th>217571</th>\n",
       "      <td>131908</td>\n",
       "      <td>20491</td>\n",
       "      <td>POLYGON ((40.01371842400079 116.306527533791, ...</td>\n",
       "    </tr>\n",
       "    <tr>\n",
       "      <th>217573</th>\n",
       "      <td>131908</td>\n",
       "      <td>20492</td>\n",
       "      <td>POLYGON ((40.01371842400079 116.306527533791, ...</td>\n",
       "    </tr>\n",
       "    <tr>\n",
       "      <th>217576</th>\n",
       "      <td>131909</td>\n",
       "      <td>20494</td>\n",
       "      <td>POLYGON ((40.01371842400079 116.306527533791, ...</td>\n",
       "    </tr>\n",
       "    <tr>\n",
       "      <th>217578</th>\n",
       "      <td>131909</td>\n",
       "      <td>20495</td>\n",
       "      <td>POLYGON ((40.01371842400079 116.306527533791, ...</td>\n",
       "    </tr>\n",
       "    <tr>\n",
       "      <th>217579</th>\n",
       "      <td>131909</td>\n",
       "      <td>20496</td>\n",
       "      <td>POLYGON ((40.01371842400079 116.306527533791, ...</td>\n",
       "    </tr>\n",
       "    <tr>\n",
       "      <th>217584</th>\n",
       "      <td>131908</td>\n",
       "      <td>20499</td>\n",
       "      <td>POLYGON ((40.01371842400079 116.306527533791, ...</td>\n",
       "    </tr>\n",
       "    <tr>\n",
       "      <th>217587</th>\n",
       "      <td>131908</td>\n",
       "      <td>20501</td>\n",
       "      <td>POLYGON ((40.01371842400079 116.306527533791, ...</td>\n",
       "    </tr>\n",
       "    <tr>\n",
       "      <th>217589</th>\n",
       "      <td>131908</td>\n",
       "      <td>20502</td>\n",
       "      <td>POLYGON ((40.01371842400079 116.306527533791, ...</td>\n",
       "    </tr>\n",
       "    <tr>\n",
       "      <th>217615</th>\n",
       "      <td>131909</td>\n",
       "      <td>20518</td>\n",
       "      <td>POLYGON ((40.01371842400079 116.306527533791, ...</td>\n",
       "    </tr>\n",
       "    <tr>\n",
       "      <th>217619</th>\n",
       "      <td>131910</td>\n",
       "      <td>20520</td>\n",
       "      <td>POLYGON ((40.01371842400079 116.306527533791, ...</td>\n",
       "    </tr>\n",
       "  </tbody>\n",
       "</table>\n",
       "<p>35450 rows × 3 columns</p>\n",
       "</div>"
      ],
      "text/plain": [
       "        index_grid_lat  index_grid_lon  \\\n",
       "0               131784           20468   \n",
       "1               131784           20469   \n",
       "2               131785           20470   \n",
       "3               131784           20470   \n",
       "5               131788           20473   \n",
       "...                ...             ...   \n",
       "217584          131908           20499   \n",
       "217587          131908           20501   \n",
       "217589          131908           20502   \n",
       "217615          131909           20518   \n",
       "217619          131910           20520   \n",
       "\n",
       "                                                  polygon  \n",
       "0       POLYGON ((39.98407754484003 116.3191147564483,...  \n",
       "1       POLYGON ((39.98407754484003 116.3192501029285,...  \n",
       "2       POLYGON ((39.98421289132022 116.3193854494087,...  \n",
       "3       POLYGON ((39.98407754484003 116.3193854494087,...  \n",
       "5       POLYGON ((39.98421289132022 116.3193854494087,...  \n",
       "...                                                   ...  \n",
       "217584  POLYGON ((40.01371842400079 116.306527533791, ...  \n",
       "217587  POLYGON ((40.01371842400079 116.306527533791, ...  \n",
       "217589  POLYGON ((40.01371842400079 116.306527533791, ...  \n",
       "217615  POLYGON ((40.01371842400079 116.306527533791, ...  \n",
       "217619  POLYGON ((40.01371842400079 116.306527533791, ...  \n",
       "\n",
       "[35450 rows x 3 columns]"
      ]
     },
     "execution_count": 14,
     "metadata": {},
     "output_type": "execute_result"
    }
   ],
   "source": [
    "create_all_polygons_to_all_point_on_grid(df, dic_grid)"
   ]
  },
  {
   "cell_type": "markdown",
   "metadata": {},
   "source": [
    "# Create all polygons on grid"
   ]
  },
  {
   "cell_type": "code",
   "execution_count": 15,
   "metadata": {},
   "outputs": [],
   "source": [
    "from pymove.core.grid import create_all_polygons_on_grid"
   ]
  },
  {
   "cell_type": "code",
   "execution_count": null,
   "metadata": {},
   "outputs": [
    {
     "name": "stdout",
     "output_type": "stream",
     "text": [
      "\n",
      "Creating all polygons on virtual grid\n"
     ]
    }
   ],
   "source": [
    "create_all_polygons_on_grid(dic_grid)"
   ]
  },
  {
   "cell_type": "markdown",
   "metadata": {},
   "source": [
    "# Get point to index grid "
   ]
  },
  {
   "cell_type": "code",
   "execution_count": null,
   "metadata": {},
   "outputs": [],
   "source": [
    "from pymove.core.grid import point_to_index_grid\n",
    "\n",
    "point_to_index_grid(39.984094, 116.319236, dic_grid)"
   ]
  },
  {
   "cell_type": "markdown",
   "metadata": {},
   "source": [
    "# Save grid to .pkl"
   ]
  },
  {
   "cell_type": "code",
   "execution_count": null,
   "metadata": {},
   "outputs": [],
   "source": [
    "from pymove.core.grid import save_grid_pkl\n",
    "\n",
    "save_grid_pkl('teste.pkl', dic_grid)"
   ]
  },
  {
   "cell_type": "markdown",
   "metadata": {},
   "source": [
    "# Read .pkl to grid"
   ]
  },
  {
   "cell_type": "code",
   "execution_count": null,
   "metadata": {},
   "outputs": [],
   "source": [
    "from pymove.core.grid import read_grid_pkl\n",
    "\n",
    "read_grid_pkl('teste.pkl')"
   ]
  },
  {
   "cell_type": "markdown",
   "metadata": {},
   "source": [
    "# Show a grid polygons"
   ]
  },
  {
   "cell_type": "code",
   "execution_count": null,
   "metadata": {},
   "outputs": [],
   "source": [
    "from pymove.core.grid import show_grid_polygons\n",
    "\n",
    "show_grid_polygons(df, '1')"
   ]
  },
  {
   "cell_type": "code",
   "execution_count": null,
   "metadata": {},
   "outputs": [],
   "source": []
  },
  {
   "cell_type": "code",
   "execution_count": null,
   "metadata": {},
   "outputs": [],
   "source": []
  }
 ],
 "metadata": {
  "kernelspec": {
   "display_name": "Python 3",
   "language": "python",
   "name": "python3"
  },
  "language_info": {
   "codemirror_mode": {
    "name": "ipython",
    "version": 3
   },
   "file_extension": ".py",
   "mimetype": "text/x-python",
   "name": "python",
   "nbconvert_exporter": "python",
   "pygments_lexer": "ipython3",
   "version": "3.7.3"
  }
 },
 "nbformat": 4,
 "nbformat_minor": 2
}
