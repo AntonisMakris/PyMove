{
 "cells": [
  {
   "cell_type": "code",
   "execution_count": 5,
   "metadata": {},
   "outputs": [],
   "source": [
    "import numpy as np\n",
    "import mplleaflet as mpl\n",
    "import matplotlib.pyplot as plt\n",
    "from pymove import trajutils, maputils\n",
    "from tqdm import tqdm_notebook as tqdm"
   ]
  },
  {
   "cell_type": "code",
   "execution_count": 6,
   "metadata": {},
   "outputs": [],
   "source": [
    "import dask.dataframe as dd\n",
    "#import modin.pandas as mp\n",
    "import pandas as pd"
   ]
  },
  {
   "cell_type": "markdown",
   "metadata": {},
   "source": [
    "# 1. Read and presentation of the data "
   ]
  },
  {
   "cell_type": "markdown",
   "metadata": {},
   "source": [
    "### 1.1 Read dataset"
   ]
  },
  {
   "cell_type": "code",
   "execution_count": 7,
   "metadata": {},
   "outputs": [],
   "source": [
    "filename = '/Users/nickssonarrais/datasets/tnz/raw/tnz2019_05_599.csv.gz'\n",
    "usecols=[0, 1, 2, 3]"
   ]
  },
  {
   "cell_type": "code",
   "execution_count": 9,
   "metadata": {},
   "outputs": [],
   "source": [
    "names = ['id', 'datetime', 'lat', 'lon']\n",
    "dtype = {'lat':'float32', 'lon':'float32'}\n",
    "parse_dates= [1]\n",
    "header=1"
   ]
  },
  {
   "cell_type": "markdown",
   "metadata": {},
   "source": [
    "###### Read CSV"
   ]
  },
  {
   "cell_type": "code",
   "execution_count": 17,
   "metadata": {},
   "outputs": [],
   "source": [
    "df = pd.read_csv(filename, names=names, dtype=dtype, nrows=50000, header=header, usecols=usecols, parse_dates=parse_dates)"
   ]
  },
  {
   "cell_type": "code",
   "execution_count": 18,
   "metadata": {},
   "outputs": [
    {
     "name": "stdout",
     "output_type": "stream",
     "text": [
      "<class 'pandas.core.frame.DataFrame'>\n",
      "RangeIndex: 50000 entries, 0 to 49999\n",
      "Data columns (total 4 columns):\n",
      "id          50000 non-null object\n",
      "datetime    50000 non-null datetime64[ns]\n",
      "lat         50000 non-null float32\n",
      "lon         50000 non-null float32\n",
      "dtypes: datetime64[ns](1), float32(2), object(1)\n",
      "memory usage: 1.1+ MB\n"
     ]
    }
   ],
   "source": [
    "df.info()"
   ]
  },
  {
   "cell_type": "markdown",
   "metadata": {},
   "source": [
    "#### Sort Values"
   ]
  },
  {
   "cell_type": "code",
   "execution_count": 19,
   "metadata": {},
   "outputs": [
    {
     "name": "stdout",
     "output_type": "stream",
     "text": [
      "CPU times: user 24.2 ms, sys: 4.11 ms, total: 28.3 ms\n",
      "Wall time: 29.2 ms\n"
     ]
    }
   ],
   "source": [
    "%%time\n",
    "by = ['id', 'datetime']\n",
    "df.sort_values(by, inplace=True)"
   ]
  },
  {
   "cell_type": "code",
   "execution_count": 20,
   "metadata": {},
   "outputs": [],
   "source": [
    "#%%time\n",
    "#trajutils.clean_duplicates(df, subset=by, return_idx=False)"
   ]
  },
  {
   "cell_type": "markdown",
   "metadata": {},
   "source": [
    "## 1.2 Show Data"
   ]
  },
  {
   "cell_type": "markdown",
   "metadata": {},
   "source": [
    "###### General information"
   ]
  },
  {
   "cell_type": "code",
   "execution_count": 21,
   "metadata": {},
   "outputs": [
    {
     "name": "stdout",
     "output_type": "stream",
     "text": [
      "\n",
      "======================= INFORMATION ABOUT DATASET =======================\n",
      "\n",
      "Number of Points: 50000\n",
      "\n",
      "Number of IDs objects: 2\n",
      "\n",
      "Start Date:2019-06-01 00:00:32     End Date:2019-06-30 23:59:18\n",
      "\n",
      "Bounding Box:(-3.89488, -38.61248, -3.72492, -38.51148)\n",
      "\n",
      "\n",
      "=========================================================================\n",
      "\n"
     ]
    }
   ],
   "source": [
    "trajutils.show_trajectories_info(df)"
   ]
  },
  {
   "cell_type": "markdown",
   "metadata": {},
   "source": [
    "# 2. Show points"
   ]
  },
  {
   "cell_type": "markdown",
   "metadata": {},
   "source": [
    "### plotting all data"
   ]
  },
  {
   "cell_type": "code",
   "execution_count": 22,
   "metadata": {
    "scrolled": true
   },
   "outputs": [
    {
     "data": {
      "image/png": "[encoded data removed]",
      "text/plain": [
       "<Figure size 1440x360 with 1 Axes>"
      ]
     },
     "metadata": {
      "needs_background": "light"
     },
     "output_type": "display_data"
    }
   ],
   "source": [
    "maputils.show_lat_lon_GPS(df, save_fig=False, figsize=(20,5), name='_show_lat_lon.png')"
   ]
  },
  {
   "cell_type": "markdown",
   "metadata": {},
   "source": [
    "### Number of id for each date"
   ]
  },
  {
   "cell_type": "code",
   "execution_count": 24,
   "metadata": {},
   "outputs": [
    {
     "name": "stdout",
     "output_type": "stream",
     "text": [
      "Creating date features...\n",
      "..Date features was created...\n",
      "\n",
      "\n",
      "Creating or updating day of the week feature...\n",
      "\n",
      "...the day of the week feature was created...\n",
      "\n",
      "\n",
      "Creating or updating a feature for hour...\n",
      "\n",
      "...Hour feature was created...\n",
      "\n",
      "\n",
      "Creating or updating period feature\n",
      "...early morning from 0H to 6H\n",
      "...morning from 6H to 12H\n",
      "...afternoon from 12H to 18H\n",
      "...evening from 18H to 24H\n",
      "...the period of day feature was created\n"
     ]
    },
    {
     "data": {
      "image/png": "[encoded data removed]",
      "text/plain": [
       "<Figure size 1512x648 with 4 Axes>"
      ]
     },
     "metadata": {
      "needs_background": "light"
     },
     "output_type": "display_data"
    }
   ],
   "source": [
    "maputils.show_object_id_by_date(df, create_features=True, kind=['bar', 'bar', 'bar', 'bar'], figsize=(21, 9), low_memory=False)"
   ]
  },
  {
   "cell_type": "code",
   "execution_count": 25,
   "metadata": {},
   "outputs": [],
   "source": [
    "del df['day']\n",
    "del df['period']\n",
    "del df['hour']  \n",
    "del df['date']"
   ]
  },
  {
   "cell_type": "code",
   "execution_count": 26,
   "metadata": {},
   "outputs": [
    {
     "data": {
      "text/html": [
       "<div>\n",
       "<style scoped>\n",
       "    .dataframe tbody tr th:only-of-type {\n",
       "        vertical-align: middle;\n",
       "    }\n",
       "\n",
       "    .dataframe tbody tr th {\n",
       "        vertical-align: top;\n",
       "    }\n",
       "\n",
       "    .dataframe thead th {\n",
       "        text-align: right;\n",
       "    }\n",
       "</style>\n",
       "<table border=\"1\" class=\"dataframe\">\n",
       "  <thead>\n",
       "    <tr style=\"text-align: right;\">\n",
       "      <th></th>\n",
       "      <th>id</th>\n",
       "      <th>datetime</th>\n",
       "      <th>lat</th>\n",
       "      <th>lon</th>\n",
       "    </tr>\n",
       "  </thead>\n",
       "  <tbody>\n",
       "    <tr>\n",
       "      <th>0</th>\n",
       "      <td>M80001</td>\n",
       "      <td>2019-06-01 00:01:54</td>\n",
       "      <td>-3.79239</td>\n",
       "      <td>-38.593380</td>\n",
       "    </tr>\n",
       "    <tr>\n",
       "      <th>1</th>\n",
       "      <td>M80001</td>\n",
       "      <td>2019-06-01 00:02:54</td>\n",
       "      <td>-3.79237</td>\n",
       "      <td>-38.593361</td>\n",
       "    </tr>\n",
       "    <tr>\n",
       "      <th>2</th>\n",
       "      <td>M80001</td>\n",
       "      <td>2019-06-01 00:03:54</td>\n",
       "      <td>-3.79240</td>\n",
       "      <td>-38.593380</td>\n",
       "    </tr>\n",
       "    <tr>\n",
       "      <th>3</th>\n",
       "      <td>M80001</td>\n",
       "      <td>2019-06-01 00:04:54</td>\n",
       "      <td>-3.79244</td>\n",
       "      <td>-38.593380</td>\n",
       "    </tr>\n",
       "    <tr>\n",
       "      <th>4</th>\n",
       "      <td>M80001</td>\n",
       "      <td>2019-06-01 00:05:54</td>\n",
       "      <td>-3.79238</td>\n",
       "      <td>-38.593361</td>\n",
       "    </tr>\n",
       "  </tbody>\n",
       "</table>\n",
       "</div>"
      ],
      "text/plain": [
       "       id            datetime      lat        lon\n",
       "0  M80001 2019-06-01 00:01:54 -3.79239 -38.593380\n",
       "1  M80001 2019-06-01 00:02:54 -3.79237 -38.593361\n",
       "2  M80001 2019-06-01 00:03:54 -3.79240 -38.593380\n",
       "3  M80001 2019-06-01 00:04:54 -3.79244 -38.593380\n",
       "4  M80001 2019-06-01 00:05:54 -3.79238 -38.593361"
      ]
     },
     "execution_count": 26,
     "metadata": {},
     "output_type": "execute_result"
    }
   ],
   "source": [
    "df.head()"
   ]
  },
  {
   "cell_type": "markdown",
   "metadata": {},
   "source": [
    "# 3. Create Features"
   ]
  },
  {
   "cell_type": "code",
   "execution_count": 27,
   "metadata": {},
   "outputs": [
    {
     "name": "stdout",
     "output_type": "stream",
     "text": [
      "Creating or updating distance, time and speed features in meters by seconds\n",
      "...Sorting by id and datetime to increase performance\n",
      "...Set id as index to a higher peformance\n",
      "(50000/50000) 100% in 00:00:00.055 - estimated end in 00:00:00.000\n",
      "...Reset index...\n",
      "\n",
      "Total Time: 0.06 seconds\n",
      "-----------------------------------------------------\n",
      "\n",
      "CPU times: user 54.5 ms, sys: 8.68 ms, total: 63.2 ms\n",
      "Wall time: 59.5 ms\n"
     ]
    }
   ],
   "source": [
    "%%time\n",
    "trajutils.create_update_dist_time_speed_features(df)"
   ]
  },
  {
   "cell_type": "code",
   "execution_count": 29,
   "metadata": {},
   "outputs": [
    {
     "data": {
      "text/html": [
       "<div>\n",
       "<style scoped>\n",
       "    .dataframe tbody tr th:only-of-type {\n",
       "        vertical-align: middle;\n",
       "    }\n",
       "\n",
       "    .dataframe tbody tr th {\n",
       "        vertical-align: top;\n",
       "    }\n",
       "\n",
       "    .dataframe thead th {\n",
       "        text-align: right;\n",
       "    }\n",
       "</style>\n",
       "<table border=\"1\" class=\"dataframe\">\n",
       "  <thead>\n",
       "    <tr style=\"text-align: right;\">\n",
       "      <th></th>\n",
       "      <th>lat</th>\n",
       "      <th>lon</th>\n",
       "      <th>dist_to_prev</th>\n",
       "      <th>time_to_prev</th>\n",
       "      <th>speed_to_prev</th>\n",
       "    </tr>\n",
       "  </thead>\n",
       "  <tbody>\n",
       "    <tr>\n",
       "      <th>count</th>\n",
       "      <td>50000.000000</td>\n",
       "      <td>50000.000000</td>\n",
       "      <td>49998.000000</td>\n",
       "      <td>49998.000000</td>\n",
       "      <td>49998.000000</td>\n",
       "    </tr>\n",
       "    <tr>\n",
       "      <th>mean</th>\n",
       "      <td>-3.807915</td>\n",
       "      <td>-38.596035</td>\n",
       "      <td>4.317820</td>\n",
       "      <td>61.160326</td>\n",
       "      <td>0.068065</td>\n",
       "    </tr>\n",
       "    <tr>\n",
       "      <th>std</th>\n",
       "      <td>0.037209</td>\n",
       "      <td>0.008076</td>\n",
       "      <td>62.633482</td>\n",
       "      <td>235.951176</td>\n",
       "      <td>0.583485</td>\n",
       "    </tr>\n",
       "    <tr>\n",
       "      <th>min</th>\n",
       "      <td>-3.894880</td>\n",
       "      <td>-38.612480</td>\n",
       "      <td>0.000000</td>\n",
       "      <td>27.000000</td>\n",
       "      <td>0.000000</td>\n",
       "    </tr>\n",
       "    <tr>\n",
       "      <th>25%</th>\n",
       "      <td>-3.792370</td>\n",
       "      <td>-38.593369</td>\n",
       "      <td>0.000000</td>\n",
       "      <td>60.000000</td>\n",
       "      <td>0.000000</td>\n",
       "    </tr>\n",
       "    <tr>\n",
       "      <th>50%</th>\n",
       "      <td>-3.792270</td>\n",
       "      <td>-38.593330</td>\n",
       "      <td>2.183512</td>\n",
       "      <td>60.000000</td>\n",
       "      <td>0.036392</td>\n",
       "    </tr>\n",
       "    <tr>\n",
       "      <th>75%</th>\n",
       "      <td>-3.792220</td>\n",
       "      <td>-38.593308</td>\n",
       "      <td>4.727092</td>\n",
       "      <td>60.000000</td>\n",
       "      <td>0.078785</td>\n",
       "    </tr>\n",
       "    <tr>\n",
       "      <th>max</th>\n",
       "      <td>-3.724920</td>\n",
       "      <td>-38.511478</td>\n",
       "      <td>11616.963923</td>\n",
       "      <td>52772.000000</td>\n",
       "      <td>106.042283</td>\n",
       "    </tr>\n",
       "  </tbody>\n",
       "</table>\n",
       "</div>"
      ],
      "text/plain": [
       "                lat           lon  dist_to_prev  time_to_prev  speed_to_prev\n",
       "count  50000.000000  50000.000000  49998.000000  49998.000000   49998.000000\n",
       "mean      -3.807915    -38.596035      4.317820     61.160326       0.068065\n",
       "std        0.037209      0.008076     62.633482    235.951176       0.583485\n",
       "min       -3.894880    -38.612480      0.000000     27.000000       0.000000\n",
       "25%       -3.792370    -38.593369      0.000000     60.000000       0.000000\n",
       "50%       -3.792270    -38.593330      2.183512     60.000000       0.036392\n",
       "75%       -3.792220    -38.593308      4.727092     60.000000       0.078785\n",
       "max       -3.724920    -38.511478  11616.963923  52772.000000     106.042283"
      ]
     },
     "execution_count": 29,
     "metadata": {},
     "output_type": "execute_result"
    }
   ],
   "source": [
    "df.describe()"
   ]
  },
  {
   "cell_type": "code",
   "execution_count": 28,
   "metadata": {},
   "outputs": [
    {
     "ename": "NameError",
     "evalue": "name 'file' is not defined",
     "output_type": "error",
     "traceback": [
      "\u001b[0;31m---------------------------------------------------------------------------\u001b[0m",
      "\u001b[0;31mNameError\u001b[0m                                 Traceback (most recent call last)",
      "\u001b[0;32m<ipython-input-28-114b4bc97fad>\u001b[0m in \u001b[0;36m<module>\u001b[0;34m\u001b[0m\n\u001b[0;32m----> 1\u001b[0;31m \u001b[0mmaputils\u001b[0m\u001b[0;34m.\u001b[0m\u001b[0mshow_all_features\u001b[0m\u001b[0;34m(\u001b[0m\u001b[0mdf\u001b[0m\u001b[0;34m,\u001b[0m \u001b[0msave_fig\u001b[0m\u001b[0;34m=\u001b[0m\u001b[0;32mTrue\u001b[0m\u001b[0;34m,\u001b[0m \u001b[0mname\u001b[0m\u001b[0;34m=\u001b[0m\u001b[0mfile\u001b[0m\u001b[0;34m+\u001b[0m\u001b[0;34m\"_show_all_features.png\"\u001b[0m\u001b[0;34m)\u001b[0m\u001b[0;34m\u001b[0m\u001b[0;34m\u001b[0m\u001b[0m\n\u001b[0m",
      "\u001b[0;31mNameError\u001b[0m: name 'file' is not defined"
     ]
    }
   ],
   "source": [
    "maputils.show_all_features(df, save_fig=True, name=file+\"_show_all_features.png\")"
   ]
  },
  {
   "cell_type": "code",
   "execution_count": null,
   "metadata": {},
   "outputs": [],
   "source": [
    "df.info()"
   ]
  },
  {
   "cell_type": "markdown",
   "metadata": {},
   "source": [
    "# 4. Save a csv file"
   ]
  },
  {
   "cell_type": "code",
   "execution_count": null,
   "metadata": {},
   "outputs": [],
   "source": [
    "df.describe(percentiles=[0.75, 0.85, 0.95, 0.99]).to_csv(path_or_buf=file+'_describe.csv', float_format='%.5f', decimal=',')"
   ]
  }
 ],
 "metadata": {
  "kernelspec": {
   "display_name": "Python 3",
   "language": "python",
   "name": "python3"
  },
  "language_info": {
   "codemirror_mode": {
    "name": "ipython",
    "version": 3
   },
   "file_extension": ".py",
   "mimetype": "text/x-python",
   "name": "python",
   "nbconvert_exporter": "python",
   "pygments_lexer": "ipython3",
   "version": "3.7.1"
  }
 },
 "nbformat": 4,
 "nbformat_minor": 2
}
