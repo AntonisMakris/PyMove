{
 "cells": [
  {
   "cell_type": "code",
   "execution_count": 1,
   "metadata": {},
   "outputs": [],
   "source": [
    "import pandas as pd\n",
    "import numpy as np\n",
    "import mplleaflet as mpl\n",
    "import matplotlib.pyplot as plt\n",
    "from pymove import trajutils, maputils, semantic\n",
    "from tqdm import tqdm_notebook as tqd\n",
    "import time"
   ]
  },
  {
   "cell_type": "markdown",
   "metadata": {},
   "source": [
    "# 1. Read and presentation of the data "
   ]
  },
  {
   "cell_type": "markdown",
   "metadata": {},
   "source": [
    "### 1.1 Read dataset"
   ]
  },
  {
   "cell_type": "code",
   "execution_count": 10,
   "metadata": {},
   "outputs": [],
   "source": [
    "lib_read_csv = 0  #0 -- 'pandas', #1 -- 'dask', #2 -- 'modin\n",
    "filename = '/Users/nickssonarrais/datasets/tnz/raw/tnz2019_05_599.csv.gz'\n",
    "usecols=[0, 1, 2, 3]"
   ]
  },
  {
   "cell_type": "markdown",
   "metadata": {},
   "source": [
    "##### Get number of rows in the file"
   ]
  },
  {
   "cell_type": "code",
   "execution_count": 12,
   "metadata": {},
   "outputs": [
    {
     "name": "stdout",
     "output_type": "stream",
     "text": [
      "rows: [\"zcat: can't stat: /Users/nickssonarrais/datasets/tnz/raw/tnz2019_05_599.csv.gz (/Users/nickssonarrais/datasets/tnz/raw/tnz2019_05_599.csv.gz.Z): No such file or directory\", '       0']\n"
     ]
    }
   ],
   "source": [
    "compression = filename.split('.')[-1]\n",
    "n_rows = ''\n",
    "if compression == 'gz':\n",
    "    n_rows = !zcat {filename} | wc -l\n",
    "    compression = 'gzip'\n",
    "elif compression == 'zip':\n",
    "    n_rows = !zcat {filename} | wc -l\n",
    "elif compression == 'csv':\n",
    "    n_rows = !cat {filename} | wc -l\n",
    "\n",
    "#n_rows = int(n_rows[0])\n",
    "print(\"rows: {}\".format(n_rows))"
   ]
  },
  {
   "cell_type": "code",
   "execution_count": 13,
   "metadata": {},
   "outputs": [
    {
     "name": "stdout",
     "output_type": "stream",
     "text": [
      "id,datetime,lat,lon\r\n",
      "M80001,2019-06-01 00:00:54,-3.79239,-38.593379999999996\r\n",
      "M80001,2019-06-01 00:01:54,-3.79239,-38.593379999999996\r\n",
      "M80001,2019-06-01 00:02:54,-3.7923699999999996,-38.59336\r\n",
      "M80001,2019-06-01 00:03:54,-3.7924,-38.593379999999996\r\n",
      "M80001,2019-06-01 00:04:54,-3.79244,-38.593379999999996\r\n",
      "M80001,2019-06-01 00:05:54,-3.79238,-38.59336\r\n",
      "M80001,2019-06-01 00:06:54,-3.79238,-38.59336\r\n",
      "M80001,2019-06-01 00:07:54,-3.79238,-38.59336\r\n",
      "M80001,2019-06-01 00:08:54,-3.79238,-38.59336\r\n",
      "gzip: error writing to output: Broken pipe\r\n",
      "gzip: /Users/nickssonarrais/datasets/tnz/raw/tnz2019_05_599.csv.gz: uncompress failed\r\n"
     ]
    }
   ],
   "source": [
    "if compression == 'csv':\n",
    "    !head {filename}\n",
    "    compression = None\n",
    "elif compression == 'gzip':\n",
    "    !gzip -cd {filename} | head"
   ]
  },
  {
   "cell_type": "code",
   "execution_count": 21,
   "metadata": {},
   "outputs": [],
   "source": [
    "names = ['id', 'datetime', 'lat', 'lon']\n",
    "dtype = {'lat':'float32', 'lon':'float32'}\n",
    "parse_dates= [1]\n",
    "header=1\n",
    "usecols=[0, 1, 2, 3]"
   ]
  },
  {
   "cell_type": "markdown",
   "metadata": {},
   "source": [
    "###### Read CSV"
   ]
  },
  {
   "cell_type": "code",
   "execution_count": 22,
   "metadata": {},
   "outputs": [
    {
     "name": "stdout",
     "output_type": "stream",
     "text": [
      "CPU times: user 32.2 s, sys: 1.74 s, total: 33.9 s\n",
      "Wall time: 33.9 s\n"
     ]
    }
   ],
   "source": [
    "%%time\n",
    "if lib_read_csv == 0:\n",
    "    df = pd.read_csv(filename, names=names, dtype=dtype, header=header, compression=compression, usecols=usecols, parse_dates=parse_dates)\n",
    "#elif lib_read_csv == 1: \n",
    "#    df = dd.read_csv(filename, names=names, dtype=dtype, header=header, compression=compression, usecols=usecols, parse_dates=parse_dates)\n",
    "#elif lib_read_csv == 2:\n",
    "#    df = mp.read_csv(filename, names=names, dtype=dtype, header=header, compression=compression, usecols=usecols, parse_dates=parse_dates)  "
   ]
  },
  {
   "cell_type": "markdown",
   "metadata": {},
   "source": [
    "#### Sort Values"
   ]
  },
  {
   "cell_type": "code",
   "execution_count": 23,
   "metadata": {},
   "outputs": [
    {
     "name": "stdout",
     "output_type": "stream",
     "text": [
      "CPU times: user 12.2 s, sys: 2.68 s, total: 14.9 s\n",
      "Wall time: 14.5 s\n"
     ]
    }
   ],
   "source": [
    "%%time\n",
    "df.sort_values(['id', 'datetime'], inplace=True)"
   ]
  },
  {
   "cell_type": "code",
   "execution_count": 25,
   "metadata": {},
   "outputs": [
    {
     "data": {
      "text/html": [
       "<div>\n",
       "<style scoped>\n",
       "    .dataframe tbody tr th:only-of-type {\n",
       "        vertical-align: middle;\n",
       "    }\n",
       "\n",
       "    .dataframe tbody tr th {\n",
       "        vertical-align: top;\n",
       "    }\n",
       "\n",
       "    .dataframe thead th {\n",
       "        text-align: right;\n",
       "    }\n",
       "</style>\n",
       "<table border=\"1\" class=\"dataframe\">\n",
       "  <thead>\n",
       "    <tr style=\"text-align: right;\">\n",
       "      <th></th>\n",
       "      <th>id</th>\n",
       "      <th>datetime</th>\n",
       "      <th>lat</th>\n",
       "      <th>lon</th>\n",
       "    </tr>\n",
       "  </thead>\n",
       "  <tbody>\n",
       "    <tr>\n",
       "      <th>0</th>\n",
       "      <td>M80001</td>\n",
       "      <td>2019-06-01 00:01:54</td>\n",
       "      <td>-3.79239</td>\n",
       "      <td>-38.593380</td>\n",
       "    </tr>\n",
       "    <tr>\n",
       "      <th>1</th>\n",
       "      <td>M80001</td>\n",
       "      <td>2019-06-01 00:02:54</td>\n",
       "      <td>-3.79237</td>\n",
       "      <td>-38.593361</td>\n",
       "    </tr>\n",
       "    <tr>\n",
       "      <th>2</th>\n",
       "      <td>M80001</td>\n",
       "      <td>2019-06-01 00:03:54</td>\n",
       "      <td>-3.79240</td>\n",
       "      <td>-38.593380</td>\n",
       "    </tr>\n",
       "    <tr>\n",
       "      <th>3</th>\n",
       "      <td>M80001</td>\n",
       "      <td>2019-06-01 00:04:54</td>\n",
       "      <td>-3.79244</td>\n",
       "      <td>-38.593380</td>\n",
       "    </tr>\n",
       "    <tr>\n",
       "      <th>4</th>\n",
       "      <td>M80001</td>\n",
       "      <td>2019-06-01 00:05:54</td>\n",
       "      <td>-3.79238</td>\n",
       "      <td>-38.593361</td>\n",
       "    </tr>\n",
       "  </tbody>\n",
       "</table>\n",
       "</div>"
      ],
      "text/plain": [
       "       id            datetime      lat        lon\n",
       "0  M80001 2019-06-01 00:01:54 -3.79239 -38.593380\n",
       "1  M80001 2019-06-01 00:02:54 -3.79237 -38.593361\n",
       "2  M80001 2019-06-01 00:03:54 -3.79240 -38.593380\n",
       "3  M80001 2019-06-01 00:04:54 -3.79244 -38.593380\n",
       "4  M80001 2019-06-01 00:05:54 -3.79238 -38.593361"
      ]
     },
     "execution_count": 25,
     "metadata": {},
     "output_type": "execute_result"
    }
   ],
   "source": [
    "df.head()"
   ]
  },
  {
   "cell_type": "markdown",
   "metadata": {},
   "source": [
    "## 1.2 Show Data"
   ]
  },
  {
   "cell_type": "markdown",
   "metadata": {},
   "source": [
    "###### General information"
   ]
  },
  {
   "cell_type": "code",
   "execution_count": 26,
   "metadata": {},
   "outputs": [
    {
     "name": "stdout",
     "output_type": "stream",
     "text": [
      "\n",
      "======================= INFORMATION ABOUT DATASET =======================\n",
      "\n",
      "Number of Points: 22570857\n",
      "\n",
      "Number of IDs objects: 599\n",
      "\n",
      "Start Date:2019-06-01 00:00:00     End Date:2019-06-30 23:59:50\n",
      "\n",
      "Bounding Box:(-25.56655, -49.34667, -2.52435, -37.76569)\n",
      "\n",
      "\n",
      "=========================================================================\n",
      "\n"
     ]
    }
   ],
   "source": [
    "trajutils.show_trajectories_info(df)"
   ]
  },
  {
   "cell_type": "markdown",
   "metadata": {},
   "source": [
    "##### Information about dataset dtypes"
   ]
  },
  {
   "cell_type": "code",
   "execution_count": 27,
   "metadata": {},
   "outputs": [
    {
     "data": {
      "text/html": [
       "<div>\n",
       "<style scoped>\n",
       "    .dataframe tbody tr th:only-of-type {\n",
       "        vertical-align: middle;\n",
       "    }\n",
       "\n",
       "    .dataframe tbody tr th {\n",
       "        vertical-align: top;\n",
       "    }\n",
       "\n",
       "    .dataframe thead th {\n",
       "        text-align: right;\n",
       "    }\n",
       "</style>\n",
       "<table border=\"1\" class=\"dataframe\">\n",
       "  <thead>\n",
       "    <tr style=\"text-align: right;\">\n",
       "      <th></th>\n",
       "      <th>id</th>\n",
       "      <th>datetime</th>\n",
       "      <th>lat</th>\n",
       "      <th>lon</th>\n",
       "    </tr>\n",
       "  </thead>\n",
       "  <tbody>\n",
       "    <tr>\n",
       "      <th>0</th>\n",
       "      <td>M80001</td>\n",
       "      <td>2019-06-01 00:01:54</td>\n",
       "      <td>-3.79239</td>\n",
       "      <td>-38.593380</td>\n",
       "    </tr>\n",
       "    <tr>\n",
       "      <th>1</th>\n",
       "      <td>M80001</td>\n",
       "      <td>2019-06-01 00:02:54</td>\n",
       "      <td>-3.79237</td>\n",
       "      <td>-38.593361</td>\n",
       "    </tr>\n",
       "    <tr>\n",
       "      <th>2</th>\n",
       "      <td>M80001</td>\n",
       "      <td>2019-06-01 00:03:54</td>\n",
       "      <td>-3.79240</td>\n",
       "      <td>-38.593380</td>\n",
       "    </tr>\n",
       "    <tr>\n",
       "      <th>3</th>\n",
       "      <td>M80001</td>\n",
       "      <td>2019-06-01 00:04:54</td>\n",
       "      <td>-3.79244</td>\n",
       "      <td>-38.593380</td>\n",
       "    </tr>\n",
       "    <tr>\n",
       "      <th>4</th>\n",
       "      <td>M80001</td>\n",
       "      <td>2019-06-01 00:05:54</td>\n",
       "      <td>-3.79238</td>\n",
       "      <td>-38.593361</td>\n",
       "    </tr>\n",
       "  </tbody>\n",
       "</table>\n",
       "</div>"
      ],
      "text/plain": [
       "       id            datetime      lat        lon\n",
       "0  M80001 2019-06-01 00:01:54 -3.79239 -38.593380\n",
       "1  M80001 2019-06-01 00:02:54 -3.79237 -38.593361\n",
       "2  M80001 2019-06-01 00:03:54 -3.79240 -38.593380\n",
       "3  M80001 2019-06-01 00:04:54 -3.79244 -38.593380\n",
       "4  M80001 2019-06-01 00:05:54 -3.79238 -38.593361"
      ]
     },
     "execution_count": 27,
     "metadata": {},
     "output_type": "execute_result"
    }
   ],
   "source": [
    "df.head()"
   ]
  },
  {
   "cell_type": "code",
   "execution_count": 28,
   "metadata": {},
   "outputs": [
    {
     "name": "stdout",
     "output_type": "stream",
     "text": [
      "Creating or updating distance, time and speed features in meters by seconds\n",
      "...Sorting by id and datetime to increase performance\n",
      "...Set id as index to a higher peformance\n",
      "(42231/22570857) 0% in 00:00:17.979 - estimated end in 02:39:51.388\n",
      "(4519952/22570857) 20% in 00:00:18.298 - estimated end in 00:01:13.076\n",
      "(9041295/22570857) 40% in 00:00:18.594 - estimated end in 00:00:27.824\n",
      "(13567467/22570857) 60% in 00:00:18.963 - estimated end in 00:00:12.583\n",
      "(18067360/22570857) 80% in 00:00:19.266 - estimated end in 00:00:04.802\n",
      "(22570857/22570857) 100% in 00:00:19.563 - estimated end in 00:00:00.000\n",
      "...Reset index...\n",
      "\n",
      "Total Time: 20.20 seconds\n",
      "-----------------------------------------------------\n",
      "\n"
     ]
    }
   ],
   "source": [
    "trajutils.create_update_dist_time_speed_features(df)"
   ]
  },
  {
   "cell_type": "code",
   "execution_count": null,
   "metadata": {},
   "outputs": [],
   "source": []
  },
  {
   "cell_type": "code",
   "execution_count": 111,
   "metadata": {},
   "outputs": [
    {
     "data": {
      "text/plain": [
       "array(['M60145', 'M60148', 'M60153', 'M60171', 'M60180', 'M60213',\n",
       "       'M60233', 'M60239', 'M60281', 'M60394', 'M60421', 'M60445',\n",
       "       'M60455', 'M60512', 'M60589', 'M60655', 'M60657', 'M60663',\n",
       "       'M60766', 'M60767'], dtype=object)"
      ]
     },
     "execution_count": 111,
     "metadata": {},
     "output_type": "execute_result"
    }
   ],
   "source": [
    "df['id'].unique()[0:20]"
   ]
  },
  {
   "cell_type": "code",
   "execution_count": 38,
   "metadata": {},
   "outputs": [],
   "source": [
    "filter_ = (df['id']== 'M79074') & (df['speed_to_prev'] > 10)\n",
    "start=0\n",
    "end=15\n",
    "plt.plot(df[filter_].iloc[start:end]['lon'],df[filter_].iloc[start:end]['lat'], '-o')\n",
    "plt.plot(df[filter_].iloc[start:end]['lon'],df[filter_].iloc[start:end]['lat'], 'ro')\n",
    "plt.xlabel('Longitude')\n",
    "plt.ylabel('Latitude')\n",
    "plt.grid(True)\n",
    "#plt.savefig('trajectory_example_line.png')"
   ]
  },
  {
   "cell_type": "code",
   "execution_count": 85,
   "metadata": {},
   "outputs": [],
   "source": [
    "filter_2 = (df['speed_to_prev'] > 2000)"
   ]
  },
  {
   "cell_type": "code",
   "execution_count": 120,
   "metadata": {},
   "outputs": [],
   "source": [
    "df = trajutils.filter_bbox(df, [-3.90, -38.67, -3.68, -38.38], inplace=True)"
   ]
  },
  {
   "cell_type": "code",
   "execution_count": 127,
   "metadata": {},
   "outputs": [
    {
     "data": {
      "image/png": "[encoded data removed]",
      "text/plain": [
       "<Figure size 432x288 with 1 Axes>"
      ]
     },
     "metadata": {
      "needs_background": "light"
     },
     "output_type": "display_data"
    }
   ],
   "source": [
    "start=0\n",
    "end=500\n",
    "ids = df['id'].unique()[0:8] #['M74017', 'M76627', 'M79140','M79558']\n",
    "for i in ids:\n",
    "    filter_2 = (df['id']== i) & (df['speed_to_prev'] > 10)\n",
    "    plt.plot(df[filter_2].iloc[start:end]['lon'],df[filter_2].iloc[start:end]['lat'], '-o')\n",
    "    #plt.plot(df[filter_2].iloc[start:end]['lon'],df[filter_2].iloc[start:end]['lat'], 'ro')\n",
    "    plt.xlabel('Longitude')\n",
    "    plt.ylabel('Latitude')\n",
    "    plt.grid(True)\n",
    "plt.savefig('trajectory_example_profiles_3.png')"
   ]
  },
  {
   "cell_type": "code",
   "execution_count": 124,
   "metadata": {},
   "outputs": [
    {
     "data": {
      "text/plain": [
       "<Figure size 432x288 with 0 Axes>"
      ]
     },
     "metadata": {},
     "output_type": "display_data"
    }
   ],
   "source": []
  },
  {
   "cell_type": "code",
   "execution_count": null,
   "metadata": {},
   "outputs": [],
   "source": [
    "#filter_ = (df['id'] == 'M63708') & (df['speed_to_prev'] > 200) \n",
    "#df[filter_]"
   ]
  },
  {
   "cell_type": "code",
   "execution_count": null,
   "metadata": {},
   "outputs": [],
   "source": [
    "df[filter_]['id'].unique()"
   ]
  },
  {
   "cell_type": "code",
   "execution_count": null,
   "metadata": {},
   "outputs": [],
   "source": [
    "fig = maputils.show_traj(df[filter_], label_tid='id', figsize=(10,10),markersize=10,)"
   ]
  },
  {
   "cell_type": "code",
   "execution_count": null,
   "metadata": {},
   "outputs": [],
   "source": [
    "mpl.show(fig)"
   ]
  },
  {
   "cell_type": "markdown",
   "metadata": {},
   "source": [
    "# 2.  Data Cleaning"
   ]
  },
  {
   "cell_type": "markdown",
   "metadata": {},
   "source": [
    "Creating a dicionary to store current state of the dataset"
   ]
  },
  {
   "cell_type": "code",
   "execution_count": null,
   "metadata": {},
   "outputs": [],
   "source": [
    "dic_database = {}\n",
    "dic_database['total size'] = df.shape[0]"
   ]
  },
  {
   "cell_type": "markdown",
   "metadata": {},
   "source": [
    "### 2.1 Drop duplicates points GPS to each id\n",
    "Since this data is captured by space-time requests, duplicate data may exist when there is more than one request"
   ]
  },
  {
   "cell_type": "code",
   "execution_count": null,
   "metadata": {},
   "outputs": [],
   "source": [
    "subset = ['id', 'datetime']\n",
    "trajutils.clean_duplicates(df, subset)\n",
    "dic_database['rows duplicates'] = df.shape[0]"
   ]
  },
  {
   "cell_type": "markdown",
   "metadata": {},
   "source": [
    "### 2.2 Drop consecutives duplicates by subset"
   ]
  },
  {
   "cell_type": "code",
   "execution_count": null,
   "metadata": {},
   "outputs": [],
   "source": [
    "subset = ['lat','lon']\n",
    "trajutils.clean_consecutive_duplicates(df, subset, inplace=True)\n",
    "dic_database['consecutives duplicates'] = df.shape[0]"
   ]
  },
  {
   "cell_type": "markdown",
   "metadata": {},
   "source": [
    "### 2.3 Drop filter Bbox points"
   ]
  },
  {
   "cell_type": "code",
   "execution_count": null,
   "metadata": {},
   "outputs": [],
   "source": [
    "#bboxCeara = [-7.89, -41.45,-2.74, -37.18] # https://boundingbox.klokantech.com/\n",
    "bbox_Fortaleza = [-3.90, -38.67, -3.68, -38.38]\n",
    "#bbox_Total = [-4.379821, -41.00834, -2.88384, -38.38159]"
   ]
  },
  {
   "cell_type": "code",
   "execution_count": null,
   "metadata": {},
   "outputs": [],
   "source": [
    "trajutils.filter_bbox(df, bbox_Fortaleza, inplace=True)\n",
    "dic_database['bbox Ceará'] = df.shape[0]"
   ]
  },
  {
   "cell_type": "code",
   "execution_count": null,
   "metadata": {},
   "outputs": [],
   "source": [
    "#maputils.show_lat_lon_GPS(df)"
   ]
  },
  {
   "cell_type": "markdown",
   "metadata": {},
   "source": [
    "# 3. Segmentation trajectory to drop"
   ]
  },
  {
   "cell_type": "code",
   "execution_count": null,
   "metadata": {},
   "outputs": [],
   "source": [
    "trajutils.create_update_dist_time_speed_features(df)"
   ]
  },
  {
   "cell_type": "code",
   "execution_count": null,
   "metadata": {},
   "outputs": [],
   "source": [
    "%%time\n",
    "trajutils.segment_traj_by_max_speed(df, max_speed_between_adj_points=50.0, update_features_by_segment=False)"
   ]
  },
  {
   "cell_type": "code",
   "execution_count": null,
   "metadata": {},
   "outputs": [],
   "source": [
    "#df[df['tid_speed'] == 171]\n",
    "df['tid_speed'].nunique()"
   ]
  },
  {
   "cell_type": "code",
   "execution_count": null,
   "metadata": {},
   "outputs": [],
   "source": [
    "df.groupby(['id', 'tid_speed']).tid_speed.nunique().groupby(['id']).count().sort_values(ascending=False).head(20)\n",
    "#.to_csv(file+'_anomalos_by_speed.csv')"
   ]
  },
  {
   "cell_type": "code",
   "execution_count": null,
   "metadata": {},
   "outputs": [],
   "source": [
    "#df[df['id'] == 'M00536']"
   ]
  },
  {
   "cell_type": "code",
   "execution_count": null,
   "metadata": {},
   "outputs": [],
   "source": []
  },
  {
   "cell_type": "code",
   "execution_count": null,
   "metadata": {},
   "outputs": [],
   "source": [
    "#df[df['tid_speed'] == 16] # 2019-06-17 11:49:02"
   ]
  },
  {
   "cell_type": "code",
   "execution_count": null,
   "metadata": {},
   "outputs": [],
   "source": [
    "df_aux, fig_ = maputils.show_traj_id(df, 17, label_tid='tid_speed')\n",
    "mpl.show(fig_)"
   ]
  },
  {
   "cell_type": "code",
   "execution_count": null,
   "metadata": {},
   "outputs": [],
   "source": [
    "#%%time\n",
    "# dist = 3000m\n",
    "# time = 7200s -> 2h\n",
    "# speed = 50 m/s -> 180km/h\n",
    "#trajutils.segment_trajectory_by_dist_time_speed(df, label_id='id', max_dist_between_adj_points=30000,\n",
    " #   max_time_between_adj_points=7200, max_speed_between_adj_points=50.0, drop_single_points=True, update_features_by_segment=False)"
   ]
  },
  {
   "cell_type": "markdown",
   "metadata": {},
   "source": [
    "## Get id with more segment"
   ]
  },
  {
   "cell_type": "code",
   "execution_count": null,
   "metadata": {},
   "outputs": [],
   "source": [
    "#df[df['id'] == 'M83696']\n",
    "#id_ = 'M83696'\n",
    "#df_aux, fig = maputils.show_traj_id(df,id_,  label_tid='id')\n",
    "#mpl.show(fig = fig, path=id_+'_'+'.html')\n",
    "#df.groupby(['id', 'tid_speed']).tid_speed.nunique().groupby(['id']).count().sort_values(ascending=False)"
   ]
  },
  {
   "cell_type": "markdown",
   "metadata": {},
   "source": [
    "### 3.1 Clean id by time_max"
   ]
  },
  {
   "cell_type": "code",
   "execution_count": null,
   "metadata": {},
   "outputs": [],
   "source": [
    "# 10 dias em segundos\n",
    "time_max_to_id = 60 * 60 * 24 * 10"
   ]
  },
  {
   "cell_type": "code",
   "execution_count": null,
   "metadata": {},
   "outputs": [],
   "source": [
    "clean_id_by_time_max()"
   ]
  },
  {
   "cell_type": "code",
   "execution_count": null,
   "metadata": {},
   "outputs": [],
   "source": [
    "df_id_drop = df.groupby(['id'], as_index=False).agg({'time_to_prev':'sum'}).query('time_to_prev < {}'.format(time_max_to_id))"
   ]
  },
  {
   "cell_type": "code",
   "execution_count": null,
   "metadata": {},
   "outputs": [],
   "source": [
    "df[df['id'].isin(df_id_drop['id'])].index"
   ]
  },
  {
   "cell_type": "code",
   "execution_count": null,
   "metadata": {},
   "outputs": [],
   "source": [
    "df_id_drop.to_csv('ids_drop_by_time_max_'+str(time_max_to_id+'_.csv')"
   ]
  },
  {
   "cell_type": "code",
   "execution_count": null,
   "metadata": {},
   "outputs": [],
   "source": [
    "dic_database['id_by_time_max'] = df.shape[0]"
   ]
  },
  {
   "cell_type": "code",
   "execution_count": null,
   "metadata": {},
   "outputs": [],
   "source": [
    "maputils.show_lat_lon_GPS(df)"
   ]
  },
  {
   "cell_type": "code",
   "execution_count": null,
   "metadata": {},
   "outputs": [],
   "source": [
    "trajutilsutilsutilsutilsjutilsjutilsutilsutilsutilsutilsutilsjutilsjutilslslslsutilsutilsutilsutilstilstilstilstilstilsutilsutilsutilsutils"
   ]
  },
  {
   "cell_type": "markdown",
   "metadata": {},
   "source": [
    "### 3.2 Clean trajectory with few points"
   ]
  },
  {
   "cell_type": "code",
   "execution_count": null,
   "metadata": {},
   "outputs": [],
   "source": [
    "#trajutils.clean_(df, label_tid='tid_speed',  min_points_per_trajectory=300)\n",
    "#dic_database['tid_few_points'] = df.shape[0]"
   ]
  },
  {
   "cell_type": "code",
   "execution_count": null,
   "metadata": {},
   "outputs": [],
   "source": [
    "#tid_part = 561\n",
    "#df_aux, fig_ = maputils.show_traj_id(df, tid_part, label_tid=\"tid_part\")\n",
    "#mpl.show(fig=fig_, path=str(tid_part)+'_map.html')\n",
    "\n",
    "#df[df['tid_part'] == tid_part]"
   ]
  },
  {
   "cell_type": "code",
   "execution_count": null,
   "metadata": {},
   "outputs": [],
   "source": [
    "#maputils.show_lat_lon_GPS(df, save_fig=False)"
   ]
  },
  {
   "cell_type": "markdown",
   "metadata": {},
   "source": [
    "### 3.3 Clean Trajectory out Bbox"
   ]
  },
  {
   "cell_type": "code",
   "execution_count": null,
   "metadata": {},
   "outputs": [],
   "source": [
    "#bbox_Total = [-4.379821, -41.00834, -2.88384, -38.38159]\n",
    "#bbox_Fortaleza = [-3.90, -38.67, -3.68, -38.38]"
   ]
  },
  {
   "cell_type": "code",
   "execution_count": null,
   "metadata": {},
   "outputs": [],
   "source": [
    "#tid_out_bbox = trajutils.filter_bbox(df, bbox_Fortaleza, filter_out=True, inplace=False) \n",
    "#tid_out_bbox.head()"
   ]
  },
  {
   "cell_type": "code",
   "execution_count": null,
   "metadata": {},
   "outputs": [],
   "source": [
    "#def clean_trajectory_outside_the_bbox(df_,  label_tid='tid', bbox=None):\n",
    " #   print('\\Clean_trajectory_outside_the_bbox...')\n",
    "    \n",
    "  #  if df_.index.name is not None:\n",
    "   #     print('reseting index')\n",
    "    #    df_.reset_index(inplace=True)\n",
    "        \n",
    "    #print('\\n...Dropping unnecessary trajectories...')\n",
    "    #tids = trajutils.filter_bbox(df, bbox, filter_out=True, inplace=False)[label_tid].unique()\n",
    "    \n",
    "    #idx = df[df[label_tid].isin(tids) ].index\n",
    "\n",
    "    #if idx.shape[0] > 0:           \n",
    "     #   shape_before_drop = df_.shape\n",
    "      #  tid_before_drop = df_[label_tid].nunique()\n",
    "       # df_.drop(index=idx, inplace=True)\n",
    "        #print('\\n...Tids - before drop: {} - after drop: {}'.format(tid_before_drop, df_[label_tid].nunique()))\n",
    "       # print('\\n...Shape - before drop: {} - after drop: {}'.format(shape_before_drop, df_.shape))"
   ]
  },
  {
   "cell_type": "code",
   "execution_count": null,
   "metadata": {},
   "outputs": [],
   "source": [
    "#clean_trajectory_outside_the_bbox(df, 'tid_part', bbox_Fortaleza)\n",
    "#dic_database['tid_out_bbox'] = df.shape[0]"
   ]
  },
  {
   "cell_type": "code",
   "execution_count": null,
   "metadata": {},
   "outputs": [],
   "source": [
    "#maputils.show_lat_lon_GPS(df, save_fig=True, name=file+'_show_lat_lon_clean.png')"
   ]
  },
  {
   "cell_type": "code",
   "execution_count": null,
   "metadata": {},
   "outputs": [],
   "source": [
    "import matplotlib.pyplot as plt\n",
    "percentages = []\n",
    "for key in dic_database:\n",
    "    percentages.append(100-(dic_database[key]*100/dic_database['total size'])) \n",
    "plt.figure(figsize=(9, 6))\n",
    "bars = plt.bar(dic_database.keys(), dic_database.values(), align='center', color=\"blue\")\n",
    "\n",
    "for bar in bars:\n",
    "    plt.text(bar.get_x(),  bar.get_height() + .005, bar.get_height(), va='bottom', fontsize=14)\n",
    "\n",
    "name = file+'_data_cleaning'\n",
    "\n",
    "plt.savefig(name+'.png',dpi=400)"
   ]
  },
  {
   "cell_type": "code",
   "execution_count": null,
   "metadata": {},
   "outputs": [],
   "source": [
    "trajutils.show_trajectories_info(df)"
   ]
  },
  {
   "cell_type": "code",
   "execution_count": null,
   "metadata": {},
   "outputs": [],
   "source": [
    "df.head()"
   ]
  },
  {
   "cell_type": "code",
   "execution_count": null,
   "metadata": {},
   "outputs": [],
   "source": [
    "del df['tid_speed']\n",
    "del df['dist_to_prev']\n",
    "del df['time_to_prev']\n",
    "del df['speed_to_prev']"
   ]
  },
  {
   "cell_type": "markdown",
   "metadata": {},
   "source": [
    "# 4. Save CSV"
   ]
  },
  {
   "cell_type": "code",
   "execution_count": null,
   "metadata": {},
   "outputs": [],
   "source": [
    "%%time\n",
    "df.to_csv(path_or_buf=file+'clean_2.csv.gz', compression='gzip', index=False)"
   ]
  },
  {
   "cell_type": "markdown",
   "metadata": {},
   "source": [
    "# Create rank"
   ]
  },
  {
   "cell_type": "code",
   "execution_count": null,
   "metadata": {},
   "outputs": [],
   "source": [
    "\"\"\"\n",
    "import pandas as pd\n",
    "from sklearn import preprocessing\n",
    "\n",
    "x = df['lon'].values #returns a numpy array\n",
    "min_max_scaler = preprocessing.MinMaxScaler()\n",
    "x_scaled = min_max_scaler.fit_transform(x.reshape(-1, 1))\n",
    "df['lon_'] = x_scaled\n",
    "df['lat_'] = x_scaled\n",
    "pesos = (df['lat_'] * 2 + df['lon_'] * 1) / 3 * 100\n",
    "df['pesos'] = pesos\n",
    "df.sort_values(['pesos'], ascending=False)\"\"\""
   ]
  },
  {
   "cell_type": "markdown",
   "metadata": {},
   "source": [
    "# CLUSTERING"
   ]
  },
  {
   "cell_type": "code",
   "execution_count": null,
   "metadata": {},
   "outputs": [],
   "source": []
  },
  {
   "cell_type": "code",
   "execution_count": null,
   "metadata": {},
   "outputs": [],
   "source": [
    "#from sklearn.cluster import DBSCAN\n",
    "#eps = 0.1 # the macimum distance between two samples for them to be clustered in the same neighborrhood\n",
    "#min_samples = 5 # minimum number of sample in a neighborhood for a data point to qualify as a core point\n",
    "#algorithm='ball_tree'\n",
    "#metric='haversine'\n",
    "#db = DBSCAN(eps=eps,min_samples=min_samples, algorithm='auto', metric=metric)\n",
    "#points = df[['lat', 'lon']].values.tolist()\n",
    "#outliers = db.fit_predict(np.radians(points))\n",
    "#df['cluster'] = outliers\n",
    "#plt.scatter(df['lat'], df['lon'], c=df['cluster'])\n",
    "#plt.show()"
   ]
  },
  {
   "cell_type": "markdown",
   "metadata": {},
   "source": [
    "\"\"\"\n",
    "def outlier_detection(df_, label_id='id', speed_stop=0.0, speed_max=50.0, gap_time=7200, bbox=None, sort=True):\n",
    "    # create dist, time and speed features\n",
    "    trajutils.create_update_dist_time_speed_features(df, label_id)\n",
    "    \n",
    "    if sort is True:\n",
    "        print('...Sorting by {} and {} to increase performance\\n'.format(label_id, trajutils.dic_labels['datetime']))\n",
    "        df_.sort_values([label_id, trajutils.dic_labels['datetime']], inplace=True)\n",
    "\n",
    "    if df_.index.name is not None:\n",
    "        print('...Set {} as index to increase attribution performance\\n'.format(label_id))\n",
    "        df_.reset_index(inplace=True)\n",
    "    \n",
    " \n",
    "    ids = df_.index.unique()\n",
    "    df_size = df_.shape[0]\n",
    "    code = 0\n",
    "    \n",
    "    # verify stop and move\n",
    "    if(speed_stop is not None):\n",
    "           #create ou update colum to code\n",
    "        print('...Creating speed_stop code\\n')\n",
    "        df_['speed_stop'] = 0 #0 = não suspeito, stop=1, speed_max=2, missing_data=4, bbox=8, \n",
    "        idx = df_[(df_[trajutils.dic_features_label['speed_to_prev']] <= speed_stop)].index\n",
    "        df.at[idx, 'speed_stop'] =  1 \n",
    "        \n",
    "        outlier_detection(df)\"\"\""
   ]
  }
 ],
 "metadata": {
  "kernelspec": {
   "display_name": "Python 3",
   "language": "python",
   "name": "python3"
  },
  "language_info": {
   "codemirror_mode": {
    "name": "ipython",
    "version": 3
   },
   "file_extension": ".py",
   "mimetype": "text/x-python",
   "name": "python",
   "nbconvert_exporter": "python",
   "pygments_lexer": "ipython3",
   "version": "3.7.1"
  }
 },
 "nbformat": 4,
 "nbformat_minor": 2
}
