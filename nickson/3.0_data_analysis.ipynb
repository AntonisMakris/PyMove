{
 "cells": [
  {
   "cell_type": "code",
   "execution_count": 1,
   "metadata": {},
   "outputs": [],
   "source": [
    "from pymove import maputils, trajutils\n",
    "from tqdm import tqdm_notebook as tqdm\n",
    "import matplotlib.pyplot as plt\n",
    "import mplleaflet as mpl"
   ]
  },
  {
   "cell_type": "code",
   "execution_count": 3,
   "metadata": {},
   "outputs": [],
   "source": [
    "import dask.dataframe as dd\n",
    "#import modin.pandas as mp\n",
    "import pandas as pd"
   ]
  },
  {
   "cell_type": "markdown",
   "metadata": {},
   "source": [
    "# 1. Read and presentation of the data "
   ]
  },
  {
   "cell_type": "code",
   "execution_count": 5,
   "metadata": {},
   "outputs": [],
   "source": [
    "filename = '/Users/nickssonarrais/datasets/tnz/Compress/tnz2019_01_full_integration.csv.zip'\n",
    "usecols=[0, 1, 2, 3]"
   ]
  },
  {
   "cell_type": "code",
   "execution_count": null,
   "metadata": {},
   "outputs": [],
   "source": []
  },
  {
   "cell_type": "code",
   "execution_count": 7,
   "metadata": {},
   "outputs": [
    {
     "name": "stdout",
     "output_type": "stream",
     "text": [
      "rows: [\"zcat: can't stat: /Users/nickssonarrais/datasets/tnz/Compress/tnz2019_01_full_integration.csv.zip (/Users/nickssonarrais/datasets/tnz/Compress/tnz2019_01_full_integration.csv.zip.Z): No such file or directory\", '       0']\n"
     ]
    }
   ],
   "source": [
    "compression = filename.split('.')[-1]\n",
    "n_rows = ''\n",
    "if compression == 'gz':\n",
    "    n_rows = !zcat {filename} | wc -l\n",
    "    compression = 'gzip'\n",
    "elif compression == 'zip':\n",
    "    n_rows = !zcat {filename} | wc -l\n",
    "elif compression == 'csv':\n",
    "    n_rows = !cat {filename} | wc -l\n",
    "\n",
    "#n_rows = int(n_rows[0])\n",
    "print(\"rows: {}\".format(n_rows))"
   ]
  },
  {
   "cell_type": "code",
   "execution_count": 8,
   "metadata": {},
   "outputs": [
    {
     "data": {
      "text/plain": [
       "[\"zcat: can't stat: /Users/nickssonarrais/datasets/tnz/Compress/tnz2019_01_full_integration.csv.zip (/Users/nickssonarrais/datasets/tnz/Compress/tnz2019_01_full_integration.csv.zip.Z): No such file or directory\",\n",
       " '       0']"
      ]
     },
     "execution_count": 8,
     "metadata": {},
     "output_type": "execute_result"
    }
   ],
   "source": [
    "n_rows"
   ]
  },
  {
   "cell_type": "code",
   "execution_count": 6,
   "metadata": {},
   "outputs": [
    {
     "name": "stdout",
     "output_type": "stream",
     "text": [
      "id,datetime,lat,lon\r\n",
      "M00038,2019-06-01 00:33:08,-3.76126,-38.51268\r\n",
      "M00038,2019-06-01 00:34:08,-3.76127,-38.51263\r\n",
      "M00038,2019-06-01 00:35:08,-3.76125,-38.51264\r\n",
      "M00038,2019-06-01 00:36:08,-3.76128,-38.51264\r\n",
      "M00038,2019-06-01 00:41:08,-3.76125,-38.51261\r\n",
      "M00038,2019-06-01 00:43:08,-3.76123,-38.51258\r\n",
      "M00038,2019-06-01 00:44:08,-3.76125,-38.5126\r\n",
      "M00038,2019-06-01 00:45:08,-3.76129,-38.51258\r\n",
      "M00038,2019-06-01 00:46:08,-3.76122,-38.51257\r\n",
      "\r\n",
      "gzip: stdout: Broken pipe\r\n"
     ]
    }
   ],
   "source": [
    "if compression == 'csv':\n",
    "    !head {filename}\n",
    "    compression = None\n",
    "elif compression == 'gzip':\n",
    "    !gzip -cd {filename} | head"
   ]
  },
  {
   "cell_type": "code",
   "execution_count": 30,
   "metadata": {},
   "outputs": [],
   "source": [
    "names = ['id', 'datetime', 'lat', 'lon']\n",
    "dtype = {'lat':'float32', 'lon':'float32'}\n",
    "parse_dates= ['datetime']\n",
    "header=1"
   ]
  },
  {
   "cell_type": "code",
   "execution_count": 31,
   "metadata": {},
   "outputs": [],
   "source": [
    "df = pd.read_csv(filename, dtype=dtype, parse_dates=parse_dates)"
   ]
  },
  {
   "cell_type": "code",
   "execution_count": 16,
   "metadata": {},
   "outputs": [
    {
     "name": "stdout",
     "output_type": "stream",
     "text": [
      "<class 'pandas.core.frame.DataFrame'>\n",
      "RangeIndex: 2623117 entries, 0 to 2623116\n",
      "Data columns (total 25 columns):\n",
      "id                      object\n",
      "segment_stop            object\n",
      "datetime                object\n",
      "lat                     float32\n",
      "lon                     float32\n",
      "stop                    bool\n",
      "event_id                int64\n",
      "event_type              object\n",
      "dist_cvp                float64\n",
      "Home                    float64\n",
      "Delegacias              float64\n",
      "Praças e Parques        float64\n",
      "Ponto de Ônibus         float64\n",
      "Posto de Combustível    float64\n",
      "Supermercados           float64\n",
      "Bancos                  float64\n",
      "Hospital                float64\n",
      "Farmácia                float64\n",
      "Loja de Bicicleta       float64\n",
      "Loja de Eletrônicos     float64\n",
      "Oficinas                float64\n",
      "Courthouse              float64\n",
      "Forum                   float64\n",
      "police                  float64\n",
      "Presidio                float64\n",
      "dtypes: bool(1), float32(2), float64(17), int64(1), object(4)\n",
      "memory usage: 462.8+ MB\n"
     ]
    }
   ],
   "source": [
    "df.info()"
   ]
  },
  {
   "cell_type": "code",
   "execution_count": 18,
   "metadata": {},
   "outputs": [],
   "source": [
    "df.sort_values(['id', 'datetime'], inplace=True)"
   ]
  },
  {
   "cell_type": "markdown",
   "metadata": {},
   "source": [
    "### Test pandasql"
   ]
  },
  {
   "cell_type": "code",
   "execution_count": 22,
   "metadata": {},
   "outputs": [],
   "source": [
    "import pandasql as pdsql"
   ]
  },
  {
   "cell_type": "code",
   "execution_count": 23,
   "metadata": {},
   "outputs": [],
   "source": [
    "pysql = lambda q: pdsql.sqldf(q, globals())"
   ]
  },
  {
   "cell_type": "code",
   "execution_count": 25,
   "metadata": {},
   "outputs": [],
   "source": [
    "#pysql('select * from df limit 5')"
   ]
  },
  {
   "cell_type": "code",
   "execution_count": 26,
   "metadata": {},
   "outputs": [
    {
     "data": {
      "text/html": [
       "<div>\n",
       "<style scoped>\n",
       "    .dataframe tbody tr th:only-of-type {\n",
       "        vertical-align: middle;\n",
       "    }\n",
       "\n",
       "    .dataframe tbody tr th {\n",
       "        vertical-align: top;\n",
       "    }\n",
       "\n",
       "    .dataframe thead th {\n",
       "        text-align: right;\n",
       "    }\n",
       "</style>\n",
       "<table border=\"1\" class=\"dataframe\">\n",
       "  <thead>\n",
       "    <tr style=\"text-align: right;\">\n",
       "      <th></th>\n",
       "      <th>id</th>\n",
       "      <th>segment_stop</th>\n",
       "      <th>datetime</th>\n",
       "      <th>lat</th>\n",
       "      <th>lon</th>\n",
       "      <th>stop</th>\n",
       "      <th>event_id</th>\n",
       "      <th>event_type</th>\n",
       "      <th>dist_cvp</th>\n",
       "      <th>Home</th>\n",
       "      <th>...</th>\n",
       "      <th>Bancos</th>\n",
       "      <th>Hospital</th>\n",
       "      <th>Farmácia</th>\n",
       "      <th>Loja de Bicicleta</th>\n",
       "      <th>Loja de Eletrônicos</th>\n",
       "      <th>Oficinas</th>\n",
       "      <th>Courthouse</th>\n",
       "      <th>Forum</th>\n",
       "      <th>police</th>\n",
       "      <th>Presidio</th>\n",
       "    </tr>\n",
       "  </thead>\n",
       "  <tbody>\n",
       "    <tr>\n",
       "      <th>0</th>\n",
       "      <td>M00038</td>\n",
       "      <td>1</td>\n",
       "      <td>2019-06-01 00:01:08</td>\n",
       "      <td>-3.76128</td>\n",
       "      <td>-38.512562</td>\n",
       "      <td>False</td>\n",
       "      <td>4636487</td>\n",
       "      <td>ROUBO DE VEÍCULO</td>\n",
       "      <td>4694.654</td>\n",
       "      <td>5.615985</td>\n",
       "      <td>...</td>\n",
       "      <td>876.001277</td>\n",
       "      <td>985.981317</td>\n",
       "      <td>594.763013</td>\n",
       "      <td>813.104325</td>\n",
       "      <td>181.362425</td>\n",
       "      <td>315.824056</td>\n",
       "      <td>1378.026735</td>\n",
       "      <td>3245.412483</td>\n",
       "      <td>442.072751</td>\n",
       "      <td>15364.061617</td>\n",
       "    </tr>\n",
       "    <tr>\n",
       "      <th>1</th>\n",
       "      <td>M00038</td>\n",
       "      <td>1</td>\n",
       "      <td>2019-06-01 00:33:08</td>\n",
       "      <td>-3.76126</td>\n",
       "      <td>-38.512680</td>\n",
       "      <td>False</td>\n",
       "      <td>4636550</td>\n",
       "      <td>ROUBO TENTATIVA</td>\n",
       "      <td>15505.423</td>\n",
       "      <td>16.821225</td>\n",
       "      <td>...</td>\n",
       "      <td>888.151605</td>\n",
       "      <td>994.751707</td>\n",
       "      <td>592.274345</td>\n",
       "      <td>819.471294</td>\n",
       "      <td>191.805575</td>\n",
       "      <td>317.405298</td>\n",
       "      <td>1364.703808</td>\n",
       "      <td>3243.865334</td>\n",
       "      <td>452.741893</td>\n",
       "      <td>15366.924510</td>\n",
       "    </tr>\n",
       "    <tr>\n",
       "      <th>2</th>\n",
       "      <td>M00038</td>\n",
       "      <td>1</td>\n",
       "      <td>2019-06-01 00:34:08</td>\n",
       "      <td>-3.76127</td>\n",
       "      <td>-38.512630</td>\n",
       "      <td>False</td>\n",
       "      <td>4636550</td>\n",
       "      <td>ROUBO TENTATIVA</td>\n",
       "      <td>15510.877</td>\n",
       "      <td>11.480145</td>\n",
       "      <td>...</td>\n",
       "      <td>882.976611</td>\n",
       "      <td>991.066752</td>\n",
       "      <td>593.440501</td>\n",
       "      <td>816.828681</td>\n",
       "      <td>187.349410</td>\n",
       "      <td>316.788706</td>\n",
       "      <td>1370.417263</td>\n",
       "      <td>3244.657080</td>\n",
       "      <td>448.051960</td>\n",
       "      <td>15365.559815</td>\n",
       "    </tr>\n",
       "    <tr>\n",
       "      <th>3</th>\n",
       "      <td>M00038</td>\n",
       "      <td>1</td>\n",
       "      <td>2019-06-01 00:35:08</td>\n",
       "      <td>-3.76125</td>\n",
       "      <td>-38.512642</td>\n",
       "      <td>False</td>\n",
       "      <td>4636550</td>\n",
       "      <td>ROUBO TENTATIVA</td>\n",
       "      <td>15509.696</td>\n",
       "      <td>12.552038</td>\n",
       "      <td>...</td>\n",
       "      <td>883.830565</td>\n",
       "      <td>990.810965</td>\n",
       "      <td>591.184583</td>\n",
       "      <td>816.001520</td>\n",
       "      <td>187.596726</td>\n",
       "      <td>315.085850</td>\n",
       "      <td>1368.837573</td>\n",
       "      <td>3242.508056</td>\n",
       "      <td>450.717194</td>\n",
       "      <td>15367.861996</td>\n",
       "    </tr>\n",
       "    <tr>\n",
       "      <th>4</th>\n",
       "      <td>M00038</td>\n",
       "      <td>1</td>\n",
       "      <td>2019-06-01 00:36:08</td>\n",
       "      <td>-3.76128</td>\n",
       "      <td>-38.512642</td>\n",
       "      <td>False</td>\n",
       "      <td>4636550</td>\n",
       "      <td>ROUBO TENTATIVA</td>\n",
       "      <td>15509.564</td>\n",
       "      <td>13.276701</td>\n",
       "      <td>...</td>\n",
       "      <td>884.745708</td>\n",
       "      <td>992.960637</td>\n",
       "      <td>594.554415</td>\n",
       "      <td>818.658503</td>\n",
       "      <td>189.229053</td>\n",
       "      <td>318.312885</td>\n",
       "      <td>1368.936773</td>\n",
       "      <td>3245.873438</td>\n",
       "      <td>448.257684</td>\n",
       "      <td>15364.494760</td>\n",
       "    </tr>\n",
       "  </tbody>\n",
       "</table>\n",
       "<p>5 rows × 25 columns</p>\n",
       "</div>"
      ],
      "text/plain": [
       "       id segment_stop             datetime      lat        lon   stop  \\\n",
       "0  M00038            1  2019-06-01 00:01:08 -3.76128 -38.512562  False   \n",
       "1  M00038            1  2019-06-01 00:33:08 -3.76126 -38.512680  False   \n",
       "2  M00038            1  2019-06-01 00:34:08 -3.76127 -38.512630  False   \n",
       "3  M00038            1  2019-06-01 00:35:08 -3.76125 -38.512642  False   \n",
       "4  M00038            1  2019-06-01 00:36:08 -3.76128 -38.512642  False   \n",
       "\n",
       "   event_id        event_type   dist_cvp       Home  ...      Bancos  \\\n",
       "0   4636487  ROUBO DE VEÍCULO   4694.654   5.615985  ...  876.001277   \n",
       "1   4636550   ROUBO TENTATIVA  15505.423  16.821225  ...  888.151605   \n",
       "2   4636550   ROUBO TENTATIVA  15510.877  11.480145  ...  882.976611   \n",
       "3   4636550   ROUBO TENTATIVA  15509.696  12.552038  ...  883.830565   \n",
       "4   4636550   ROUBO TENTATIVA  15509.564  13.276701  ...  884.745708   \n",
       "\n",
       "     Hospital    Farmácia  Loja de Bicicleta  Loja de Eletrônicos    Oficinas  \\\n",
       "0  985.981317  594.763013         813.104325           181.362425  315.824056   \n",
       "1  994.751707  592.274345         819.471294           191.805575  317.405298   \n",
       "2  991.066752  593.440501         816.828681           187.349410  316.788706   \n",
       "3  990.810965  591.184583         816.001520           187.596726  315.085850   \n",
       "4  992.960637  594.554415         818.658503           189.229053  318.312885   \n",
       "\n",
       "    Courthouse        Forum      police      Presidio  \n",
       "0  1378.026735  3245.412483  442.072751  15364.061617  \n",
       "1  1364.703808  3243.865334  452.741893  15366.924510  \n",
       "2  1370.417263  3244.657080  448.051960  15365.559815  \n",
       "3  1368.837573  3242.508056  450.717194  15367.861996  \n",
       "4  1368.936773  3245.873438  448.257684  15364.494760  \n",
       "\n",
       "[5 rows x 25 columns]"
      ]
     },
     "execution_count": 26,
     "metadata": {},
     "output_type": "execute_result"
    }
   ],
   "source": [
    "df.head()"
   ]
  },
  {
   "cell_type": "markdown",
   "metadata": {},
   "source": [
    "# 2. processing"
   ]
  },
  {
   "cell_type": "code",
   "execution_count": 29,
   "metadata": {},
   "outputs": [
    {
     "name": "stdout",
     "output_type": "stream",
     "text": [
      "<class 'pandas.core.frame.DataFrame'>\n",
      "Int64Index: 2623117 entries, 0 to 2623116\n",
      "Data columns (total 25 columns):\n",
      "id                      object\n",
      "segment_stop            object\n",
      "datetime                object\n",
      "lat                     float32\n",
      "lon                     float32\n",
      "stop                    bool\n",
      "event_id                int64\n",
      "event_type              object\n",
      "dist_cvp                float64\n",
      "Home                    float64\n",
      "Delegacias              float64\n",
      "Praças e Parques        float64\n",
      "Ponto de Ônibus         float64\n",
      "Posto de Combustível    float64\n",
      "Supermercados           float64\n",
      "Bancos                  float64\n",
      "Hospital                float64\n",
      "Farmácia                float64\n",
      "Loja de Bicicleta       float64\n",
      "Loja de Eletrônicos     float64\n",
      "Oficinas                float64\n",
      "Courthouse              float64\n",
      "Forum                   float64\n",
      "police                  float64\n",
      "Presidio                float64\n",
      "dtypes: bool(1), float32(2), float64(17), int64(1), object(4)\n",
      "memory usage: 482.8+ MB\n"
     ]
    }
   ],
   "source": [
    "df.info()"
   ]
  },
  {
   "cell_type": "markdown",
   "metadata": {},
   "source": [
    "#### Create index to trajectory"
   ]
  },
  {
   "cell_type": "code",
   "execution_count": 32,
   "metadata": {},
   "outputs": [
    {
     "name": "stdout",
     "output_type": "stream",
     "text": [
      "\n",
      "Creating or updating tid feature...\n",
      "\n",
      "...Sorting by id and datetime to increase performance\n",
      "\n",
      "\n",
      "...tid feature was created...\n",
      "\n"
     ]
    }
   ],
   "source": [
    "trajutils.create_update_tid_based_on_id_datatime(df, str_format='%Y%m%d')"
   ]
  },
  {
   "cell_type": "code",
   "execution_count": null,
   "metadata": {},
   "outputs": [],
   "source": [
    "%%time\n",
    "trajutils.segment_trajectory_by_dist_time_speed(df, label_id='id', max_dist_between_adj_points=3000,\n",
    "    max_time_between_adj_points=7200, max_speed_between_adj_points=50.0, drop_single_points=True)"
   ]
  },
  {
   "cell_type": "markdown",
   "metadata": {},
   "source": [
    "#### Create dist, time and speed"
   ]
  },
  {
   "cell_type": "code",
   "execution_count": 54,
   "metadata": {},
   "outputs": [
    {
     "name": "stdout",
     "output_type": "stream",
     "text": [
      "Creating or updating distance, time and speed features in meters by seconds\n",
      "...Sorting by id and datetime to increase performance\n",
      "...Set id as index to a higher peformance\n",
      "(2761/2623117) 0% in 00:00:02.757 - estimated end in 00:43:37.445\n",
      "(526879/2623117) 20% in 00:00:02.821 - estimated end in 00:00:11.224\n",
      "(1053548/2623117) 40% in 00:00:02.874 - estimated end in 00:00:04.282\n",
      "(1574090/2623117) 60% in 00:00:02.928 - estimated end in 00:00:01.951\n",
      "(2100727/2623117) 80% in 00:00:03.006 - estimated end in 00:00:00.747\n",
      "(2623117/2623117) 100% in 00:00:03.066 - estimated end in 00:00:00.000\n",
      "...Reset index...\n",
      "\n",
      "Total Time: 3.17 seconds\n",
      "-----------------------------------------------------\n",
      "\n"
     ]
    }
   ],
   "source": [
    "trajutils.create_update_dist_time_speed_features(df, sort=True)"
   ]
  },
  {
   "cell_type": "code",
   "execution_count": 37,
   "metadata": {},
   "outputs": [],
   "source": [
    "#df[df['tid_part'] == 1]"
   ]
  },
  {
   "cell_type": "markdown",
   "metadata": {},
   "source": [
    "###### Create a date feature"
   ]
  },
  {
   "cell_type": "code",
   "execution_count": 38,
   "metadata": {},
   "outputs": [
    {
     "name": "stdout",
     "output_type": "stream",
     "text": [
      "CPU times: user 774 ms, sys: 32.7 ms, total: 806 ms\n",
      "Wall time: 813 ms\n"
     ]
    }
   ],
   "source": [
    "%%time\n",
    "df['date'] = df['datetime'].dt.date"
   ]
  },
  {
   "cell_type": "markdown",
   "metadata": {},
   "source": [
    "# 3. Analysis of the entire dataset"
   ]
  },
  {
   "cell_type": "markdown",
   "metadata": {},
   "source": [
    "### 3.1 Amount of trajectories"
   ]
  },
  {
   "cell_type": "markdown",
   "metadata": {},
   "source": [
    "###### 3.1.1 Total Trajectories"
   ]
  },
  {
   "cell_type": "code",
   "execution_count": 39,
   "metadata": {},
   "outputs": [],
   "source": [
    "df.sort_values(['tid'], ascending=True, inplace=True)"
   ]
  },
  {
   "cell_type": "code",
   "execution_count": null,
   "metadata": {},
   "outputs": [],
   "source": [
    "del df['tid']"
   ]
  },
  {
   "cell_type": "markdown",
   "metadata": {},
   "source": [
    "##### 3.1.2 Count the number of trajectories for each id"
   ]
  },
  {
   "cell_type": "code",
   "execution_count": 40,
   "metadata": {},
   "outputs": [
    {
     "data": {
      "text/plain": [
       "597"
      ]
     },
     "execution_count": 40,
     "metadata": {},
     "output_type": "execute_result"
    }
   ],
   "source": [
    "df_amount = df.loc[:,['id', 'tid']].groupby(['tid','id']).count().reset_index().groupby(['id']).count().reset_index().sort_values(['tid'], ascending=False).reset_index()\n",
    "df_amount.shape[0]\n",
    "# to save in csv\n",
    "#df_amount.to_csv('amount_trajectories_to_each_id.csv', index=False)"
   ]
  },
  {
   "cell_type": "code",
   "execution_count": 41,
   "metadata": {},
   "outputs": [
    {
     "data": {
      "image/png": "[encoded data removed]",
      "text/plain": [
       "<Figure size 648x432 with 1 Axes>"
      ]
     },
     "metadata": {
      "needs_background": "light"
     },
     "output_type": "display_data"
    }
   ],
   "source": [
    "plt.figure(figsize=(9, 6))\n",
    "plt.plot(df_amount['tid'])\n",
    "plt.ylabel('Count the number of trajectories for each id')\n",
    "plt.xlabel('Number of ids')\n",
    "name = 'Count the number of trajectories for each id'\n",
    "plt.savefig(name+'.png',dpi=400)"
   ]
  },
  {
   "cell_type": "code",
   "execution_count": 42,
   "metadata": {},
   "outputs": [
    {
     "data": {
      "text/html": [
       "<div>\n",
       "<style scoped>\n",
       "    .dataframe tbody tr th:only-of-type {\n",
       "        vertical-align: middle;\n",
       "    }\n",
       "\n",
       "    .dataframe tbody tr th {\n",
       "        vertical-align: top;\n",
       "    }\n",
       "\n",
       "    .dataframe thead th {\n",
       "        text-align: right;\n",
       "    }\n",
       "</style>\n",
       "<table border=\"1\" class=\"dataframe\">\n",
       "  <thead>\n",
       "    <tr style=\"text-align: right;\">\n",
       "      <th></th>\n",
       "      <th>date</th>\n",
       "      <th>id</th>\n",
       "    </tr>\n",
       "  </thead>\n",
       "  <tbody>\n",
       "    <tr>\n",
       "      <th>29</th>\n",
       "      <td>2019-06-30</td>\n",
       "      <td>532</td>\n",
       "    </tr>\n",
       "    <tr>\n",
       "      <th>28</th>\n",
       "      <td>2019-06-29</td>\n",
       "      <td>468</td>\n",
       "    </tr>\n",
       "    <tr>\n",
       "      <th>27</th>\n",
       "      <td>2019-06-28</td>\n",
       "      <td>492</td>\n",
       "    </tr>\n",
       "    <tr>\n",
       "      <th>26</th>\n",
       "      <td>2019-06-27</td>\n",
       "      <td>497</td>\n",
       "    </tr>\n",
       "    <tr>\n",
       "      <th>25</th>\n",
       "      <td>2019-06-26</td>\n",
       "      <td>480</td>\n",
       "    </tr>\n",
       "  </tbody>\n",
       "</table>\n",
       "</div>"
      ],
      "text/plain": [
       "          date   id\n",
       "29  2019-06-30  532\n",
       "28  2019-06-29  468\n",
       "27  2019-06-28  492\n",
       "26  2019-06-27  497\n",
       "25  2019-06-26  480"
      ]
     },
     "execution_count": 42,
     "metadata": {},
     "output_type": "execute_result"
    }
   ],
   "source": [
    "df_id_foreach_date = df.loc[:,['date', 'id']].groupby(['id','date']).count().reset_index().groupby(['date']).count().reset_index().sort_values(['date'], ascending=False)\n",
    "df_id_foreach_date.head()\n",
    "# to save in csv\n",
    "#df_id_foreach_date.to_csv('amount_trajectories_by_date_to_all_id.csv', index=False)"
   ]
  },
  {
   "cell_type": "code",
   "execution_count": 43,
   "metadata": {},
   "outputs": [],
   "source": [
    "df_id_foreach_date.set_index(['date'], inplace=True)"
   ]
  },
  {
   "cell_type": "code",
   "execution_count": 44,
   "metadata": {},
   "outputs": [],
   "source": [
    "df_id_foreach_date.sort_values(['date'], ascending=True, inplace=True)"
   ]
  },
  {
   "cell_type": "code",
   "execution_count": 45,
   "metadata": {},
   "outputs": [
    {
     "data": {
      "text/plain": [
       "<matplotlib.legend.Legend at 0xd3a79cf50>"
      ]
     },
     "execution_count": 45,
     "metadata": {},
     "output_type": "execute_result"
    },
    {
     "data": {
      "image/png": "[encoded data removed]",
      "text/plain": [
       "<Figure size 1296x648 with 1 Axes>"
      ]
     },
     "metadata": {
      "needs_background": "light"
     },
     "output_type": "display_data"
    }
   ],
   "source": [
    "fig, ax = plt.subplots()\n",
    "df_id_foreach_date.plot(ax=ax, kind='bar', legend=False, figsize=(18,9))\n",
    "fig.autofmt_xdate(bottom=0.1, rotation=90)\n",
    "ax.legend(loc='best')\n",
    "#plt.savefig('df_id_foreach_date.png')"
   ]
  },
  {
   "cell_type": "markdown",
   "metadata": {},
   "source": [
    "##### 3.1.3 Count the number of trajectories for each day of the week"
   ]
  },
  {
   "cell_type": "code",
   "execution_count": 46,
   "metadata": {},
   "outputs": [
    {
     "name": "stderr",
     "output_type": "stream",
     "text": [
      "/Users/nickssonarrais/opt/anaconda3/envs/tnz/lib/python3.7/site-packages/pandas/core/indexing.py:1418: FutureWarning: \n",
      "Passing list-likes to .loc or [] with any missing label will raise\n",
      "KeyError in the future, you can use .reindex() as an alternative.\n",
      "\n",
      "See the documentation here:\n",
      "https://pandas.pydata.org/pandas-docs/stable/user_guide/indexing.html#deprecate-loc-reindex-listlike\n",
      "  return self._getitem_tuple(key)\n"
     ]
    },
    {
     "data": {
      "text/html": [
       "<div>\n",
       "<style scoped>\n",
       "    .dataframe tbody tr th:only-of-type {\n",
       "        vertical-align: middle;\n",
       "    }\n",
       "\n",
       "    .dataframe tbody tr th {\n",
       "        vertical-align: top;\n",
       "    }\n",
       "\n",
       "    .dataframe thead th {\n",
       "        text-align: right;\n",
       "    }\n",
       "</style>\n",
       "<table border=\"1\" class=\"dataframe\">\n",
       "  <thead>\n",
       "    <tr style=\"text-align: right;\">\n",
       "      <th></th>\n",
       "      <th>day</th>\n",
       "      <th>id</th>\n",
       "    </tr>\n",
       "  </thead>\n",
       "  <tbody>\n",
       "  </tbody>\n",
       "</table>\n",
       "</div>"
      ],
      "text/plain": [
       "Empty DataFrame\n",
       "Columns: [day, id]\n",
       "Index: []"
      ]
     },
     "execution_count": 46,
     "metadata": {},
     "output_type": "execute_result"
    }
   ],
   "source": [
    "df_id_foreach_day = df.loc[:,['day', 'id']].groupby(['id','day']).count().reset_index().groupby(['day']).count().reset_index().sort_values(['id'], ascending=False)\n",
    "df_id_foreach_day.head(7)\n",
    "# to save in csv"
   ]
  },
  {
   "cell_type": "code",
   "execution_count": 47,
   "metadata": {},
   "outputs": [],
   "source": [
    "df_id_foreach_day.set_index(['day'], inplace=True)"
   ]
  },
  {
   "cell_type": "code",
   "execution_count": 48,
   "metadata": {},
   "outputs": [
    {
     "ename": "TypeError",
     "evalue": "no numeric data to plot",
     "output_type": "error",
     "traceback": [
      "\u001b[0;31m---------------------------------------------------------------------------\u001b[0m",
      "\u001b[0;31mTypeError\u001b[0m                                 Traceback (most recent call last)",
      "\u001b[0;32m<ipython-input-48-99e5d01f5cb6>\u001b[0m in \u001b[0;36m<module>\u001b[0;34m\u001b[0m\n\u001b[1;32m      1\u001b[0m \u001b[0mfig\u001b[0m\u001b[0;34m,\u001b[0m \u001b[0max\u001b[0m \u001b[0;34m=\u001b[0m \u001b[0mplt\u001b[0m\u001b[0;34m.\u001b[0m\u001b[0msubplots\u001b[0m\u001b[0;34m(\u001b[0m\u001b[0;34m)\u001b[0m\u001b[0;34m\u001b[0m\u001b[0;34m\u001b[0m\u001b[0m\n\u001b[0;32m----> 2\u001b[0;31m \u001b[0mdf_id_foreach_day\u001b[0m\u001b[0;34m.\u001b[0m\u001b[0mplot\u001b[0m\u001b[0;34m(\u001b[0m\u001b[0max\u001b[0m\u001b[0;34m=\u001b[0m\u001b[0max\u001b[0m\u001b[0;34m,\u001b[0m \u001b[0mkind\u001b[0m\u001b[0;34m=\u001b[0m\u001b[0;34m'bar'\u001b[0m\u001b[0;34m,\u001b[0m \u001b[0mlegend\u001b[0m\u001b[0;34m=\u001b[0m\u001b[0;32mFalse\u001b[0m\u001b[0;34m,\u001b[0m \u001b[0mfigsize\u001b[0m\u001b[0;34m=\u001b[0m\u001b[0;34m(\u001b[0m\u001b[0;36m18\u001b[0m\u001b[0;34m,\u001b[0m\u001b[0;36m9\u001b[0m\u001b[0;34m)\u001b[0m\u001b[0;34m)\u001b[0m\u001b[0;34m\u001b[0m\u001b[0;34m\u001b[0m\u001b[0m\n\u001b[0m\u001b[1;32m      3\u001b[0m \u001b[0mfig\u001b[0m\u001b[0;34m.\u001b[0m\u001b[0mautofmt_xdate\u001b[0m\u001b[0;34m(\u001b[0m\u001b[0mbottom\u001b[0m\u001b[0;34m=\u001b[0m\u001b[0;36m0.3\u001b[0m\u001b[0;34m,\u001b[0m \u001b[0mrotation\u001b[0m\u001b[0;34m=\u001b[0m\u001b[0;36m60\u001b[0m\u001b[0;34m)\u001b[0m\u001b[0;34m\u001b[0m\u001b[0;34m\u001b[0m\u001b[0m\n\u001b[1;32m      4\u001b[0m \u001b[0max\u001b[0m\u001b[0;34m.\u001b[0m\u001b[0mlegend\u001b[0m\u001b[0;34m(\u001b[0m\u001b[0mloc\u001b[0m\u001b[0;34m=\u001b[0m\u001b[0;34m'best'\u001b[0m\u001b[0;34m)\u001b[0m\u001b[0;34m\u001b[0m\u001b[0;34m\u001b[0m\u001b[0m\n\u001b[1;32m      5\u001b[0m \u001b[0mplt\u001b[0m\u001b[0;34m.\u001b[0m\u001b[0msavefig\u001b[0m\u001b[0;34m(\u001b[0m\u001b[0;34m'Count the number of trajectories for each day of the week.png'\u001b[0m\u001b[0;34m)\u001b[0m\u001b[0;34m\u001b[0m\u001b[0;34m\u001b[0m\u001b[0m\n",
      "\u001b[0;32m~/opt/anaconda3/envs/tnz/lib/python3.7/site-packages/pandas/plotting/_core.py\u001b[0m in \u001b[0;36m__call__\u001b[0;34m(self, *args, **kwargs)\u001b[0m\n\u001b[1;32m    792\u001b[0m                     \u001b[0mdata\u001b[0m\u001b[0;34m.\u001b[0m\u001b[0mcolumns\u001b[0m \u001b[0;34m=\u001b[0m \u001b[0mlabel_name\u001b[0m\u001b[0;34m\u001b[0m\u001b[0;34m\u001b[0m\u001b[0m\n\u001b[1;32m    793\u001b[0m \u001b[0;34m\u001b[0m\u001b[0m\n\u001b[0;32m--> 794\u001b[0;31m         \u001b[0;32mreturn\u001b[0m \u001b[0mplot_backend\u001b[0m\u001b[0;34m.\u001b[0m\u001b[0mplot\u001b[0m\u001b[0;34m(\u001b[0m\u001b[0mdata\u001b[0m\u001b[0;34m,\u001b[0m \u001b[0mkind\u001b[0m\u001b[0;34m=\u001b[0m\u001b[0mkind\u001b[0m\u001b[0;34m,\u001b[0m \u001b[0;34m**\u001b[0m\u001b[0mkwargs\u001b[0m\u001b[0;34m)\u001b[0m\u001b[0;34m\u001b[0m\u001b[0;34m\u001b[0m\u001b[0m\n\u001b[0m\u001b[1;32m    795\u001b[0m \u001b[0;34m\u001b[0m\u001b[0m\n\u001b[1;32m    796\u001b[0m     \u001b[0;32mdef\u001b[0m \u001b[0mline\u001b[0m\u001b[0;34m(\u001b[0m\u001b[0mself\u001b[0m\u001b[0;34m,\u001b[0m \u001b[0mx\u001b[0m\u001b[0;34m=\u001b[0m\u001b[0;32mNone\u001b[0m\u001b[0;34m,\u001b[0m \u001b[0my\u001b[0m\u001b[0;34m=\u001b[0m\u001b[0;32mNone\u001b[0m\u001b[0;34m,\u001b[0m \u001b[0;34m**\u001b[0m\u001b[0mkwargs\u001b[0m\u001b[0;34m)\u001b[0m\u001b[0;34m:\u001b[0m\u001b[0;34m\u001b[0m\u001b[0;34m\u001b[0m\u001b[0m\n",
      "\u001b[0;32m~/opt/anaconda3/envs/tnz/lib/python3.7/site-packages/pandas/plotting/_matplotlib/__init__.py\u001b[0m in \u001b[0;36mplot\u001b[0;34m(data, kind, **kwargs)\u001b[0m\n\u001b[1;32m     60\u001b[0m             \u001b[0mkwargs\u001b[0m\u001b[0;34m[\u001b[0m\u001b[0;34m\"ax\"\u001b[0m\u001b[0;34m]\u001b[0m \u001b[0;34m=\u001b[0m \u001b[0mgetattr\u001b[0m\u001b[0;34m(\u001b[0m\u001b[0max\u001b[0m\u001b[0;34m,\u001b[0m \u001b[0;34m\"left_ax\"\u001b[0m\u001b[0;34m,\u001b[0m \u001b[0max\u001b[0m\u001b[0;34m)\u001b[0m\u001b[0;34m\u001b[0m\u001b[0;34m\u001b[0m\u001b[0m\n\u001b[1;32m     61\u001b[0m     \u001b[0mplot_obj\u001b[0m \u001b[0;34m=\u001b[0m \u001b[0mPLOT_CLASSES\u001b[0m\u001b[0;34m[\u001b[0m\u001b[0mkind\u001b[0m\u001b[0;34m]\u001b[0m\u001b[0;34m(\u001b[0m\u001b[0mdata\u001b[0m\u001b[0;34m,\u001b[0m \u001b[0;34m**\u001b[0m\u001b[0mkwargs\u001b[0m\u001b[0;34m)\u001b[0m\u001b[0;34m\u001b[0m\u001b[0;34m\u001b[0m\u001b[0m\n\u001b[0;32m---> 62\u001b[0;31m     \u001b[0mplot_obj\u001b[0m\u001b[0;34m.\u001b[0m\u001b[0mgenerate\u001b[0m\u001b[0;34m(\u001b[0m\u001b[0;34m)\u001b[0m\u001b[0;34m\u001b[0m\u001b[0;34m\u001b[0m\u001b[0m\n\u001b[0m\u001b[1;32m     63\u001b[0m     \u001b[0mplot_obj\u001b[0m\u001b[0;34m.\u001b[0m\u001b[0mdraw\u001b[0m\u001b[0;34m(\u001b[0m\u001b[0;34m)\u001b[0m\u001b[0;34m\u001b[0m\u001b[0;34m\u001b[0m\u001b[0m\n\u001b[1;32m     64\u001b[0m     \u001b[0;32mreturn\u001b[0m \u001b[0mplot_obj\u001b[0m\u001b[0;34m.\u001b[0m\u001b[0mresult\u001b[0m\u001b[0;34m\u001b[0m\u001b[0;34m\u001b[0m\u001b[0m\n",
      "\u001b[0;32m~/opt/anaconda3/envs/tnz/lib/python3.7/site-packages/pandas/plotting/_matplotlib/core.py\u001b[0m in \u001b[0;36mgenerate\u001b[0;34m(self)\u001b[0m\n\u001b[1;32m    277\u001b[0m     \u001b[0;32mdef\u001b[0m \u001b[0mgenerate\u001b[0m\u001b[0;34m(\u001b[0m\u001b[0mself\u001b[0m\u001b[0;34m)\u001b[0m\u001b[0;34m:\u001b[0m\u001b[0;34m\u001b[0m\u001b[0;34m\u001b[0m\u001b[0m\n\u001b[1;32m    278\u001b[0m         \u001b[0mself\u001b[0m\u001b[0;34m.\u001b[0m\u001b[0m_args_adjust\u001b[0m\u001b[0;34m(\u001b[0m\u001b[0;34m)\u001b[0m\u001b[0;34m\u001b[0m\u001b[0;34m\u001b[0m\u001b[0m\n\u001b[0;32m--> 279\u001b[0;31m         \u001b[0mself\u001b[0m\u001b[0;34m.\u001b[0m\u001b[0m_compute_plot_data\u001b[0m\u001b[0;34m(\u001b[0m\u001b[0;34m)\u001b[0m\u001b[0;34m\u001b[0m\u001b[0;34m\u001b[0m\u001b[0m\n\u001b[0m\u001b[1;32m    280\u001b[0m         \u001b[0mself\u001b[0m\u001b[0;34m.\u001b[0m\u001b[0m_setup_subplots\u001b[0m\u001b[0;34m(\u001b[0m\u001b[0;34m)\u001b[0m\u001b[0;34m\u001b[0m\u001b[0;34m\u001b[0m\u001b[0m\n\u001b[1;32m    281\u001b[0m         \u001b[0mself\u001b[0m\u001b[0;34m.\u001b[0m\u001b[0m_make_plot\u001b[0m\u001b[0;34m(\u001b[0m\u001b[0;34m)\u001b[0m\u001b[0;34m\u001b[0m\u001b[0;34m\u001b[0m\u001b[0m\n",
      "\u001b[0;32m~/opt/anaconda3/envs/tnz/lib/python3.7/site-packages/pandas/plotting/_matplotlib/core.py\u001b[0m in \u001b[0;36m_compute_plot_data\u001b[0;34m(self)\u001b[0m\n\u001b[1;32m    412\u001b[0m         \u001b[0;31m# no non-numeric frames or series allowed\u001b[0m\u001b[0;34m\u001b[0m\u001b[0;34m\u001b[0m\u001b[0;34m\u001b[0m\u001b[0m\n\u001b[1;32m    413\u001b[0m         \u001b[0;32mif\u001b[0m \u001b[0mis_empty\u001b[0m\u001b[0;34m:\u001b[0m\u001b[0;34m\u001b[0m\u001b[0;34m\u001b[0m\u001b[0m\n\u001b[0;32m--> 414\u001b[0;31m             \u001b[0;32mraise\u001b[0m \u001b[0mTypeError\u001b[0m\u001b[0;34m(\u001b[0m\u001b[0;34m\"no numeric data to plot\"\u001b[0m\u001b[0;34m)\u001b[0m\u001b[0;34m\u001b[0m\u001b[0;34m\u001b[0m\u001b[0m\n\u001b[0m\u001b[1;32m    415\u001b[0m \u001b[0;34m\u001b[0m\u001b[0m\n\u001b[1;32m    416\u001b[0m         \u001b[0;31m# GH25587: cast ExtensionArray of pandas (IntegerArray, etc.) to\u001b[0m\u001b[0;34m\u001b[0m\u001b[0;34m\u001b[0m\u001b[0;34m\u001b[0m\u001b[0m\n",
      "\u001b[0;31mTypeError\u001b[0m: no numeric data to plot"
     ]
    },
    {
     "data": {
      "image/png": "[encoded data removed]",
      "text/plain": [
       "<Figure size 432x288 with 1 Axes>"
      ]
     },
     "metadata": {
      "needs_background": "light"
     },
     "output_type": "display_data"
    }
   ],
   "source": [
    "fig, ax = plt.subplots()\n",
    "df_id_foreach_day.plot(ax=ax, kind='bar', legend=False, figsize=(18,9))\n",
    "fig.autofmt_xdate(bottom=0.3, rotation=60)\n",
    "ax.legend(loc='best')\n",
    "plt.savefig('Count the number of trajectories for each day of the week.png')"
   ]
  },
  {
   "cell_type": "code",
   "execution_count": 53,
   "metadata": {},
   "outputs": [
    {
     "data": {
      "text/html": [
       "<div>\n",
       "<style scoped>\n",
       "    .dataframe tbody tr th:only-of-type {\n",
       "        vertical-align: middle;\n",
       "    }\n",
       "\n",
       "    .dataframe tbody tr th {\n",
       "        vertical-align: top;\n",
       "    }\n",
       "\n",
       "    .dataframe thead th {\n",
       "        text-align: right;\n",
       "    }\n",
       "</style>\n",
       "<table border=\"1\" class=\"dataframe\">\n",
       "  <thead>\n",
       "    <tr style=\"text-align: right;\">\n",
       "      <th></th>\n",
       "      <th>id</th>\n",
       "      <th>segment_stop</th>\n",
       "      <th>datetime</th>\n",
       "      <th>lat</th>\n",
       "      <th>lon</th>\n",
       "      <th>stop</th>\n",
       "      <th>event_id</th>\n",
       "      <th>event_type</th>\n",
       "      <th>dist_cvp</th>\n",
       "      <th>Home</th>\n",
       "      <th>...</th>\n",
       "      <th>Farmácia</th>\n",
       "      <th>Loja de Bicicleta</th>\n",
       "      <th>Loja de Eletrônicos</th>\n",
       "      <th>Oficinas</th>\n",
       "      <th>Courthouse</th>\n",
       "      <th>Forum</th>\n",
       "      <th>police</th>\n",
       "      <th>Presidio</th>\n",
       "      <th>tid</th>\n",
       "      <th>date</th>\n",
       "    </tr>\n",
       "  </thead>\n",
       "  <tbody>\n",
       "    <tr>\n",
       "      <th>0</th>\n",
       "      <td>M00038</td>\n",
       "      <td>1</td>\n",
       "      <td>2019-06-01 00:01:08</td>\n",
       "      <td>-3.76128</td>\n",
       "      <td>-38.512562</td>\n",
       "      <td>False</td>\n",
       "      <td>4636487</td>\n",
       "      <td>ROUBO DE VEÍCULO</td>\n",
       "      <td>4694.6540</td>\n",
       "      <td>5.615985</td>\n",
       "      <td>...</td>\n",
       "      <td>594.763013</td>\n",
       "      <td>813.104325</td>\n",
       "      <td>181.362425</td>\n",
       "      <td>315.824056</td>\n",
       "      <td>1378.026735</td>\n",
       "      <td>3245.412483</td>\n",
       "      <td>442.072751</td>\n",
       "      <td>15364.061617</td>\n",
       "      <td>M0003820190601</td>\n",
       "      <td>2019-06-01</td>\n",
       "    </tr>\n",
       "    <tr>\n",
       "      <th>31</th>\n",
       "      <td>M00038</td>\n",
       "      <td>11</td>\n",
       "      <td>2019-06-01 23:02:07</td>\n",
       "      <td>-3.76123</td>\n",
       "      <td>-38.512581</td>\n",
       "      <td>True</td>\n",
       "      <td>4639254</td>\n",
       "      <td>ROUBO DE VEÍCULO</td>\n",
       "      <td>6781.5894</td>\n",
       "      <td>5.796893</td>\n",
       "      <td>...</td>\n",
       "      <td>589.098648</td>\n",
       "      <td>810.051283</td>\n",
       "      <td>180.543226</td>\n",
       "      <td>311.029429</td>\n",
       "      <td>1375.594667</td>\n",
       "      <td>3239.931453</td>\n",
       "      <td>447.746155</td>\n",
       "      <td>15369.765152</td>\n",
       "      <td>M0003820190601</td>\n",
       "      <td>2019-06-01</td>\n",
       "    </tr>\n",
       "    <tr>\n",
       "      <th>30</th>\n",
       "      <td>M00038</td>\n",
       "      <td>10</td>\n",
       "      <td>2019-06-01 23:01:07</td>\n",
       "      <td>-3.76103</td>\n",
       "      <td>-38.512569</td>\n",
       "      <td>False</td>\n",
       "      <td>4639254</td>\n",
       "      <td>ROUBO DE VEÍCULO</td>\n",
       "      <td>6766.5960</td>\n",
       "      <td>23.723127</td>\n",
       "      <td>...</td>\n",
       "      <td>566.936819</td>\n",
       "      <td>791.657199</td>\n",
       "      <td>169.505619</td>\n",
       "      <td>289.274528</td>\n",
       "      <td>1376.701720</td>\n",
       "      <td>3217.668384</td>\n",
       "      <td>463.475562</td>\n",
       "      <td>15391.882110</td>\n",
       "      <td>M0003820190601</td>\n",
       "      <td>2019-06-01</td>\n",
       "    </tr>\n",
       "    <tr>\n",
       "      <th>29</th>\n",
       "      <td>M00038</td>\n",
       "      <td>9</td>\n",
       "      <td>2019-06-01 22:58:07</td>\n",
       "      <td>-3.76122</td>\n",
       "      <td>-38.512589</td>\n",
       "      <td>False</td>\n",
       "      <td>4639254</td>\n",
       "      <td>ROUBO DE VEÍCULO</td>\n",
       "      <td>6780.2017</td>\n",
       "      <td>6.817090</td>\n",
       "      <td>...</td>\n",
       "      <td>587.987284</td>\n",
       "      <td>809.653186</td>\n",
       "      <td>180.683184</td>\n",
       "      <td>310.186299</td>\n",
       "      <td>1374.808577</td>\n",
       "      <td>3238.879006</td>\n",
       "      <td>449.064170</td>\n",
       "      <td>15370.891025</td>\n",
       "      <td>M0003820190601</td>\n",
       "      <td>2019-06-01</td>\n",
       "    </tr>\n",
       "    <tr>\n",
       "      <th>28</th>\n",
       "      <td>M00038</td>\n",
       "      <td>9</td>\n",
       "      <td>2019-06-01 22:55:07</td>\n",
       "      <td>-3.76124</td>\n",
       "      <td>-38.512600</td>\n",
       "      <td>False</td>\n",
       "      <td>4639254</td>\n",
       "      <td>ROUBO DE VEÍCULO</td>\n",
       "      <td>6780.9062</td>\n",
       "      <td>7.578465</td>\n",
       "      <td>...</td>\n",
       "      <td>590.189431</td>\n",
       "      <td>812.112603</td>\n",
       "      <td>182.752523</td>\n",
       "      <td>312.644187</td>\n",
       "      <td>1373.731284</td>\n",
       "      <td>3241.164499</td>\n",
       "      <td>448.178324</td>\n",
       "      <td>15368.716414</td>\n",
       "      <td>M0003820190601</td>\n",
       "      <td>2019-06-01</td>\n",
       "    </tr>\n",
       "  </tbody>\n",
       "</table>\n",
       "<p>5 rows × 27 columns</p>\n",
       "</div>"
      ],
      "text/plain": [
       "        id  segment_stop            datetime      lat        lon   stop  \\\n",
       "0   M00038             1 2019-06-01 00:01:08 -3.76128 -38.512562  False   \n",
       "31  M00038            11 2019-06-01 23:02:07 -3.76123 -38.512581   True   \n",
       "30  M00038            10 2019-06-01 23:01:07 -3.76103 -38.512569  False   \n",
       "29  M00038             9 2019-06-01 22:58:07 -3.76122 -38.512589  False   \n",
       "28  M00038             9 2019-06-01 22:55:07 -3.76124 -38.512600  False   \n",
       "\n",
       "    event_id        event_type   dist_cvp       Home  ...    Farmácia  \\\n",
       "0    4636487  ROUBO DE VEÍCULO  4694.6540   5.615985  ...  594.763013   \n",
       "31   4639254  ROUBO DE VEÍCULO  6781.5894   5.796893  ...  589.098648   \n",
       "30   4639254  ROUBO DE VEÍCULO  6766.5960  23.723127  ...  566.936819   \n",
       "29   4639254  ROUBO DE VEÍCULO  6780.2017   6.817090  ...  587.987284   \n",
       "28   4639254  ROUBO DE VEÍCULO  6780.9062   7.578465  ...  590.189431   \n",
       "\n",
       "    Loja de Bicicleta  Loja de Eletrônicos    Oficinas   Courthouse  \\\n",
       "0          813.104325           181.362425  315.824056  1378.026735   \n",
       "31         810.051283           180.543226  311.029429  1375.594667   \n",
       "30         791.657199           169.505619  289.274528  1376.701720   \n",
       "29         809.653186           180.683184  310.186299  1374.808577   \n",
       "28         812.112603           182.752523  312.644187  1373.731284   \n",
       "\n",
       "          Forum      police      Presidio             tid        date  \n",
       "0   3245.412483  442.072751  15364.061617  M0003820190601  2019-06-01  \n",
       "31  3239.931453  447.746155  15369.765152  M0003820190601  2019-06-01  \n",
       "30  3217.668384  463.475562  15391.882110  M0003820190601  2019-06-01  \n",
       "29  3238.879006  449.064170  15370.891025  M0003820190601  2019-06-01  \n",
       "28  3241.164499  448.178324  15368.716414  M0003820190601  2019-06-01  \n",
       "\n",
       "[5 rows x 27 columns]"
      ]
     },
     "execution_count": 53,
     "metadata": {},
     "output_type": "execute_result"
    }
   ],
   "source": [
    "df.head()"
   ]
  },
  {
   "cell_type": "markdown",
   "metadata": {},
   "source": [
    "### 3.2 To Speed"
   ]
  },
  {
   "cell_type": "code",
   "execution_count": 55,
   "metadata": {},
   "outputs": [],
   "source": [
    "trajutils.transform_speed_from_ms_to_kmh(df, 'speed_to_prev')"
   ]
  },
  {
   "cell_type": "code",
   "execution_count": null,
   "metadata": {},
   "outputs": [],
   "source": []
  },
  {
   "cell_type": "markdown",
   "metadata": {},
   "source": [
    "###### Check the speeds greater than 180km/h"
   ]
  },
  {
   "cell_type": "code",
   "execution_count": 61,
   "metadata": {},
   "outputs": [
    {
     "data": {
      "text/html": [
       "<div>\n",
       "<style scoped>\n",
       "    .dataframe tbody tr th:only-of-type {\n",
       "        vertical-align: middle;\n",
       "    }\n",
       "\n",
       "    .dataframe tbody tr th {\n",
       "        vertical-align: top;\n",
       "    }\n",
       "\n",
       "    .dataframe thead th {\n",
       "        text-align: right;\n",
       "    }\n",
       "</style>\n",
       "<table border=\"1\" class=\"dataframe\">\n",
       "  <thead>\n",
       "    <tr style=\"text-align: right;\">\n",
       "      <th></th>\n",
       "      <th>id</th>\n",
       "      <th>speed_to_prev</th>\n",
       "    </tr>\n",
       "  </thead>\n",
       "  <tbody>\n",
       "    <tr>\n",
       "      <th>964065</th>\n",
       "      <td>M07441</td>\n",
       "      <td>362.198484</td>\n",
       "    </tr>\n",
       "    <tr>\n",
       "      <th>77376</th>\n",
       "      <td>M00536</td>\n",
       "      <td>191.724163</td>\n",
       "    </tr>\n",
       "    <tr>\n",
       "      <th>1716728</th>\n",
       "      <td>M13269</td>\n",
       "      <td>183.670909</td>\n",
       "    </tr>\n",
       "  </tbody>\n",
       "</table>\n",
       "</div>"
      ],
      "text/plain": [
       "             id  speed_to_prev\n",
       "964065   M07441     362.198484\n",
       "77376    M00536     191.724163\n",
       "1716728  M13269     183.670909"
      ]
     },
     "execution_count": 61,
     "metadata": {},
     "output_type": "execute_result"
    }
   ],
   "source": [
    "df_speed = df[df['speed_to_prev'] >= 180].loc[:,['id', 'speed_to_prev']].sort_values(['speed_to_prev'], ascending=False)\n",
    "df_speed.head()\n",
    "#df_speed.to_csv('ids_speed_greater_than_180kmH.csv', index=False, float_format='%.3f', decimal=',')"
   ]
  },
  {
   "cell_type": "markdown",
   "metadata": {},
   "source": [
    "###### Check the COUNT and SUM for speed more than 180 KM/H"
   ]
  },
  {
   "cell_type": "code",
   "execution_count": null,
   "metadata": {},
   "outputs": [],
   "source": [
    "df_speed.groupby('id').agg({'sum', 'count'}).sort_values('id').head()\n",
    "#.to_csv('ids_speed_greater_than_180kmH_COUNT_SUM.csv', float_format='%.3f', decimal=',')"
   ]
  },
  {
   "cell_type": "markdown",
   "metadata": {},
   "source": [
    "###### Check speed max by id to each date"
   ]
  },
  {
   "cell_type": "code",
   "execution_count": null,
   "metadata": {},
   "outputs": [],
   "source": [
    "df.groupby(['id', 'date'])['speed_to_prev_kmH'].max().reset_index().sort_values(['date'])\n",
    "#.to_csv('speed-max-per_date.csv',  float_format='%.3f', decimal=',')"
   ]
  },
  {
   "cell_type": "markdown",
   "metadata": {},
   "source": [
    "### 3.3 To Jumps"
   ]
  },
  {
   "cell_type": "markdown",
   "metadata": {},
   "source": [
    "###### Check the jumps larger than 3 km"
   ]
  },
  {
   "cell_type": "code",
   "execution_count": null,
   "metadata": {},
   "outputs": [],
   "source": [
    "trajutils.transform_dist_from_meters_to_kilometers(df, trajutils.gl_label_dist_to_prev)"
   ]
  },
  {
   "cell_type": "code",
   "execution_count": null,
   "metadata": {},
   "outputs": [],
   "source": [
    "df_jump = df[df['dist_to_prev_km'] > 3].loc[:, ['id', 'dist_to_prev_km', 'tid']].sort_values(['dist_to_prev_km'], ascending=False)\n",
    "df_jump.head()\n",
    "#df_jump.to_csv('jumps_larger_than_3_km.csv', index=False, float_format='%.3f', decimal=',')"
   ]
  },
  {
   "cell_type": "markdown",
   "metadata": {},
   "source": [
    "###### Check the count and sum to jumps larger than 3 km"
   ]
  },
  {
   "cell_type": "code",
   "execution_count": null,
   "metadata": {},
   "outputs": [],
   "source": [
    "df_jump.groupby(['id']).agg({'sum', 'count'}).sort_values(['id']).head()\n",
    "#.to_csv('jumps_larger_than_3_km_COUNT_SUM.csv', float_format='%.3f', decimal=',')"
   ]
  },
  {
   "cell_type": "markdown",
   "metadata": {},
   "source": [
    "### 3.4 To distances"
   ]
  },
  {
   "cell_type": "code",
   "execution_count": null,
   "metadata": {},
   "outputs": [],
   "source": [
    "pandasutils.transform_time_from_seconds_to_minutes(df, trajutils.gl_label_time_to_prev)"
   ]
  },
  {
   "cell_type": "markdown",
   "metadata": {},
   "source": [
    "###### Check  Odometers  to each id that traveled more than 1000km"
   ]
  },
  {
   "cell_type": "code",
   "execution_count": null,
   "metadata": {},
   "outputs": [],
   "source": [
    "df_odometer = df.loc[:,['id','dist_to_prev_km', 'time_to_prev_m']].groupby(by=['id']).sum().sort_values(['dist_to_prev_km'], ascending=False).reset_index()\n",
    "df_odometer.head()\n",
    "#df_odometer.to_csv('odometers_to_each_id_that_traveled_more_than_1000km.csv', float_format='%.3f', decimal=',')"
   ]
  },
  {
   "cell_type": "markdown",
   "metadata": {},
   "source": [
    "### 3.5 To Acceleration"
   ]
  },
  {
   "cell_type": "markdown",
   "metadata": {},
   "source": [
    "###### Check  acceleration more higher than 10800km/h"
   ]
  },
  {
   "cell_type": "code",
   "execution_count": null,
   "metadata": {},
   "outputs": [],
   "source": [
    "10800/3.6"
   ]
  },
  {
   "cell_type": "code",
   "execution_count": null,
   "metadata": {},
   "outputs": [],
   "source": [
    "df['acceleration'] = df['speed_to_prev_kmH'] / (df['time_to_prev_m'] / 60)"
   ]
  },
  {
   "cell_type": "code",
   "execution_count": null,
   "metadata": {},
   "outputs": [],
   "source": [
    "df_acceleration = df[df['acceleration'] >= 10800].loc[:,['id', 'acceleration']].sort_values(['acceleration'], ascending=True)\n",
    "df_acceleration.head()\n",
    "#df_acceleration.to_csv('acceleration_more_higher_than_10800kmH.csv', float_format='%.3f', decimal=',')"
   ]
  },
  {
   "cell_type": "code",
   "execution_count": null,
   "metadata": {},
   "outputs": [],
   "source": [
    "df_acceleration.groupby(['id']).agg({'sum', 'count'}).sort_values(['id'])\n",
    "#.to_csv('acceleration_more_higher_10800_COUNT_SUM.csv', float_format='%.3f', decimal=',')"
   ]
  },
  {
   "cell_type": "markdown",
   "metadata": {},
   "source": [
    "### 3.6 Important features for each date"
   ]
  },
  {
   "cell_type": "code",
   "execution_count": null,
   "metadata": {},
   "outputs": [],
   "source": [
    "dates = df['date'].unique()\n",
    "\n",
    "for dt in dates:\n",
    "    df[df['date'] == dt].groupby(['id']).sum().reset_index().to_csv(str(dt)+\".csv\", float_format='%.3f', decimal=',')"
   ]
  },
  {
   "cell_type": "markdown",
   "metadata": {},
   "source": [
    "### 3.7 Important features for each day of week"
   ]
  },
  {
   "cell_type": "code",
   "execution_count": null,
   "metadata": {},
   "outputs": [],
   "source": [
    "days = df['day'].unique()\n",
    "for day in days:\n",
    "    df[df['day'] == day].groupby(['id']).sum().reset_index().to_csv(str(day)+\".csv\", float_format='%.3f', decimal=',')"
   ]
  },
  {
   "cell_type": "markdown",
   "metadata": {},
   "source": [
    "### 3.8 Important features to each period of the day"
   ]
  },
  {
   "cell_type": "code",
   "execution_count": null,
   "metadata": {},
   "outputs": [],
   "source": [
    "periods = df['period'].unique()\n",
    "for period in periods:\n",
    "    df[df['period'] == period].groupby(['id']).sum().reset_index().to_csv(str(period)+\".csv\", float_format='%.3f', decimal=',')"
   ]
  },
  {
   "cell_type": "markdown",
   "metadata": {},
   "source": [
    "### 3.9 Stop and Move"
   ]
  },
  {
   "cell_type": "markdown",
   "metadata": {},
   "source": [
    "#### Check stops"
   ]
  },
  {
   "cell_type": "code",
   "execution_count": null,
   "metadata": {},
   "outputs": [],
   "source": [
    "df_stop = df[df['situation_0'] == 'stop']"
   ]
  },
  {
   "cell_type": "markdown",
   "metadata": {},
   "source": [
    "##### Count stop by id and sum time"
   ]
  },
  {
   "cell_type": "code",
   "execution_count": null,
   "metadata": {},
   "outputs": [],
   "source": [
    "df_stops_by_id = df_stop.groupby(['id']).agg({'situation_0':'count', 'time_to_prev_m': 'sum'}).sort_values(['situation_0'], ascending=False)\n",
    "df_stops_by_id.to_csv('COUNT_stops_by_id_and_SUM_time.csv', float_format='%.3f', decimal=',')"
   ]
  },
  {
   "cell_type": "markdown",
   "metadata": {},
   "source": [
    "##### Count  Stops by id for each date"
   ]
  },
  {
   "cell_type": "code",
   "execution_count": null,
   "metadata": {},
   "outputs": [],
   "source": [
    "df_stop_id_to_each_date = df_stop.loc[:,['id', 'date', 'situation_0']].groupby(['id', 'date']).count().sort_values(['date'])\n",
    "df_stop_id_to_each_date.to_csv('COUNT_Stops_by_id_for_each_date.csv', float_format='%.3f', decimal=',')"
   ]
  },
  {
   "cell_type": "markdown",
   "metadata": {},
   "source": [
    "##### Count stops by ids for each day of the week"
   ]
  },
  {
   "cell_type": "code",
   "execution_count": null,
   "metadata": {},
   "outputs": [],
   "source": [
    "df_stop_id_to_each_day = df_stop.loc[:,['id', 'day', 'situation_0']].groupby(['day', 'id']).count().reset_index()\n",
    "df_stop_id_to_each_day.to_csv('COUNT_stop_by_id_for_each_day.csv', float_format='%.3f', decimal=',')"
   ]
  },
  {
   "cell_type": "markdown",
   "metadata": {},
   "source": [
    "##### Plot total time to stop and move"
   ]
  },
  {
   "cell_type": "code",
   "execution_count": null,
   "metadata": {},
   "outputs": [],
   "source": [
    "label = 'situation_0'\n",
    "time_total = df.loc[:,'time_to_prev_m'].sum(axis = 0, skipna = True)\n",
    "time_move = df[df[label] == 'move'].loc[:,'time_to_prev_m'].sum(axis = 0, skipna = True)\n",
    "time_stop = df[df[label] == 'stop'].loc[:,'time_to_prev_m'].sum(axis = 0, skipna = True)\n",
    "\n",
    "plt.figure(figsize=(9, 6))\n",
    "\n",
    "bars = plt.bar(['time_total', 'time_move', 'time_stop'], [round(time_total/time_total*100, 4), round(time_move*100/time_total, 4), round(time_stop*100/time_total, 4)], align='center', color=\"blue\")\n",
    "\n",
    "for bar in bars:\n",
    "    yval = bar.get_height()\n",
    "    plt.text(bar.get_x(), yval + .005, yval, va='bottom', fontsize=14)\n",
    "\n",
    "\n",
    "plt.savefig('total_move_and_stop_'+str(label)+'.png',dpi=400)"
   ]
  },
  {
   "cell_type": "markdown",
   "metadata": {},
   "source": [
    "##  4 Bbox"
   ]
  },
  {
   "cell_type": "markdown",
   "metadata": {},
   "source": [
    "###### Filter the number of prisoners who left Fortaleza"
   ]
  },
  {
   "cell_type": "code",
   "execution_count": null,
   "metadata": {},
   "outputs": [],
   "source": [
    "## 4 Bbox\n",
    "bbox_fortaleza = [-3.90, -38.67, -3.68, -38.38]\n",
    "df_bbox_out = trajutils.filter_bbox(df, bbox_fortaleza, filter_out=True, inplace=False)\n",
    "print('Number of prisoners: {}\\nTotal number of prisoners out Fortaleza: {}'.format(df['id'].nunique(), df_bbox_out['id'].nunique()))\n",
    "df_bbox_out.head()"
   ]
  },
  {
   "cell_type": "markdown",
   "metadata": {},
   "source": [
    "###### Check the prisoners who stayed for a longer time outside Fortaleza"
   ]
  },
  {
   "cell_type": "code",
   "execution_count": null,
   "metadata": {},
   "outputs": [],
   "source": [
    "df_bbox_out_time = df_bbox_out.groupby(['id']).agg({'time_to_prev_m':'sum'}).sort_values(['time_to_prev_m'], ascending=False).reset_index()\n",
    "df_bbox_out_time.to_csv('ids_longer_time_outside_Fortaleza.csv', float_format='%.3f', decimal=',')"
   ]
  }
 ],
 "metadata": {
  "kernelspec": {
   "display_name": "Python 3",
   "language": "python",
   "name": "python3"
  },
  "language_info": {
   "codemirror_mode": {
    "name": "ipython",
    "version": 3
   },
   "file_extension": ".py",
   "mimetype": "text/x-python",
   "name": "python",
   "nbconvert_exporter": "python",
   "pygments_lexer": "ipython3",
   "version": "3.7.1"
  }
 },
 "nbformat": 4,
 "nbformat_minor": 2
}
