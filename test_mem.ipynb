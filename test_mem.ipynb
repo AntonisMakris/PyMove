{
 "cells": [
  {
   "cell_type": "code",
   "execution_count": 1,
   "metadata": {},
   "outputs": [],
   "source": [
    "from pymove.utils import mem"
   ]
  },
  {
   "cell_type": "code",
   "execution_count": 2,
   "metadata": {},
   "outputs": [
    {
     "data": {
      "text/html": [
       "<div>\n",
       "<style scoped>\n",
       "    .dataframe tbody tr th:only-of-type {\n",
       "        vertical-align: middle;\n",
       "    }\n",
       "\n",
       "    .dataframe tbody tr th {\n",
       "        vertical-align: top;\n",
       "    }\n",
       "\n",
       "    .dataframe thead th {\n",
       "        text-align: right;\n",
       "    }\n",
       "</style>\n",
       "<table border=\"1\" class=\"dataframe\">\n",
       "  <thead>\n",
       "    <tr style=\"text-align: right;\">\n",
       "      <th></th>\n",
       "      <th>user</th>\n",
       "      <th>pid</th>\n",
       "      <th>memory_GB</th>\n",
       "      <th>kernel_ID</th>\n",
       "    </tr>\n",
       "  </thead>\n",
       "  <tbody>\n",
       "    <tr>\n",
       "      <td>0</td>\n",
       "      <td>392476</td>\n",
       "      <td>11797</td>\n",
       "      <td>0.239374</td>\n",
       "      <td>74efe612-927f-4c1f-88a6-bb5fd32bc65c</td>\n",
       "    </tr>\n",
       "    <tr>\n",
       "      <td>1</td>\n",
       "      <td>392476</td>\n",
       "      <td>11818</td>\n",
       "      <td>0.172012</td>\n",
       "      <td>11c38dd6-8a65-4c45-90cf-0da5db65fa99</td>\n",
       "    </tr>\n",
       "  </tbody>\n",
       "</table>\n",
       "</div>"
      ],
      "text/plain": [
       "     user    pid  memory_GB                             kernel_ID\n",
       "0  392476  11797   0.239374  74efe612-927f-4c1f-88a6-bb5fd32bc65c\n",
       "1  392476  11818   0.172012  11c38dd6-8a65-4c45-90cf-0da5db65fa99"
      ]
     },
     "execution_count": 2,
     "metadata": {},
     "output_type": "execute_result"
    }
   ],
   "source": [
    "mem.get_proc_info()"
   ]
  },
  {
   "cell_type": "code",
   "execution_count": 7,
   "metadata": {},
   "outputs": [
    {
     "data": {
      "text/html": [
       "<div>\n",
       "<style scoped>\n",
       "    .dataframe tbody tr th:only-of-type {\n",
       "        vertical-align: middle;\n",
       "    }\n",
       "\n",
       "    .dataframe tbody tr th {\n",
       "        vertical-align: top;\n",
       "    }\n",
       "\n",
       "    .dataframe thead th {\n",
       "        text-align: right;\n",
       "    }\n",
       "</style>\n",
       "<table border=\"1\" class=\"dataframe\">\n",
       "  <thead>\n",
       "    <tr style=\"text-align: right;\">\n",
       "      <th></th>\n",
       "      <th>user</th>\n",
       "      <th>pid</th>\n",
       "      <th>memory_GB</th>\n",
       "      <th>kernel_ID</th>\n",
       "    </tr>\n",
       "  </thead>\n",
       "  <tbody>\n",
       "    <tr>\n",
       "      <td>0</td>\n",
       "      <td>392476</td>\n",
       "      <td>11797</td>\n",
       "      <td>0.239374</td>\n",
       "      <td>74efe612-927f-4c1f-88a6-bb5fd32bc65c</td>\n",
       "    </tr>\n",
       "    <tr>\n",
       "      <td>1</td>\n",
       "      <td>392476</td>\n",
       "      <td>11818</td>\n",
       "      <td>0.173007</td>\n",
       "      <td>11c38dd6-8a65-4c45-90cf-0da5db65fa99</td>\n",
       "    </tr>\n",
       "    <tr>\n",
       "      <td>2</td>\n",
       "      <td>392476</td>\n",
       "      <td>11906</td>\n",
       "      <td>0.128922</td>\n",
       "      <td>6ae01b3c-2d32-4bcd-a00f-7201371d28ff</td>\n",
       "    </tr>\n",
       "    <tr>\n",
       "      <td>3</td>\n",
       "      <td>392476</td>\n",
       "      <td>11967</td>\n",
       "      <td>0.129368</td>\n",
       "      <td>5bab939c-495b-4865-982b-0a38f36dbc7e</td>\n",
       "    </tr>\n",
       "  </tbody>\n",
       "</table>\n",
       "</div>"
      ],
      "text/plain": [
       "     user    pid  memory_GB                             kernel_ID\n",
       "0  392476  11797   0.239374  74efe612-927f-4c1f-88a6-bb5fd32bc65c\n",
       "1  392476  11818   0.173007  11c38dd6-8a65-4c45-90cf-0da5db65fa99\n",
       "2  392476  11906   0.128922  6ae01b3c-2d32-4bcd-a00f-7201371d28ff\n",
       "3  392476  11967   0.129368  5bab939c-495b-4865-982b-0a38f36dbc7e"
      ]
     },
     "execution_count": 7,
     "metadata": {},
     "output_type": "execute_result"
    }
   ],
   "source": [
    "mem.get_proc_info()"
   ]
  },
  {
   "cell_type": "code",
   "execution_count": 8,
   "metadata": {},
   "outputs": [
    {
     "data": {
      "text/plain": [
       "164.9921875"
      ]
     },
     "execution_count": 8,
     "metadata": {},
     "output_type": "execute_result"
    }
   ],
   "source": [
    "mem.mem()"
   ]
  },
  {
   "cell_type": "code",
   "execution_count": 12,
   "metadata": {},
   "outputs": [
    {
     "data": {
      "text/html": [
       "<div>\n",
       "<style scoped>\n",
       "    .dataframe tbody tr th:only-of-type {\n",
       "        vertical-align: middle;\n",
       "    }\n",
       "\n",
       "    .dataframe tbody tr th {\n",
       "        vertical-align: top;\n",
       "    }\n",
       "\n",
       "    .dataframe thead th {\n",
       "        text-align: right;\n",
       "    }\n",
       "</style>\n",
       "<table border=\"1\" class=\"dataframe\">\n",
       "  <thead>\n",
       "    <tr style=\"text-align: right;\">\n",
       "      <th></th>\n",
       "      <th>user</th>\n",
       "      <th>pid</th>\n",
       "      <th>memory_GB</th>\n",
       "      <th>kernel_ID</th>\n",
       "    </tr>\n",
       "  </thead>\n",
       "  <tbody>\n",
       "    <tr>\n",
       "      <td>0</td>\n",
       "      <td>392476</td>\n",
       "      <td>11797</td>\n",
       "      <td>0.239374</td>\n",
       "      <td>74efe612-927f-4c1f-88a6-bb5fd32bc65c</td>\n",
       "    </tr>\n",
       "    <tr>\n",
       "      <td>1</td>\n",
       "      <td>392476</td>\n",
       "      <td>11818</td>\n",
       "      <td>0.173036</td>\n",
       "      <td>11c38dd6-8a65-4c45-90cf-0da5db65fa99</td>\n",
       "    </tr>\n",
       "    <tr>\n",
       "      <td>2</td>\n",
       "      <td>392476</td>\n",
       "      <td>11906</td>\n",
       "      <td>0.128922</td>\n",
       "      <td>6ae01b3c-2d32-4bcd-a00f-7201371d28ff</td>\n",
       "    </tr>\n",
       "    <tr>\n",
       "      <td>3</td>\n",
       "      <td>392476</td>\n",
       "      <td>11967</td>\n",
       "      <td>0.167100</td>\n",
       "      <td>5bab939c-495b-4865-982b-0a38f36dbc7e</td>\n",
       "    </tr>\n",
       "  </tbody>\n",
       "</table>\n",
       "</div>"
      ],
      "text/plain": [
       "     user    pid  memory_GB                             kernel_ID\n",
       "0  392476  11797   0.239374  74efe612-927f-4c1f-88a6-bb5fd32bc65c\n",
       "1  392476  11818   0.173036  11c38dd6-8a65-4c45-90cf-0da5db65fa99\n",
       "2  392476  11906   0.128922  6ae01b3c-2d32-4bcd-a00f-7201371d28ff\n",
       "3  392476  11967   0.167100  5bab939c-495b-4865-982b-0a38f36dbc7e"
      ]
     },
     "execution_count": 12,
     "metadata": {},
     "output_type": "execute_result"
    }
   ],
   "source": [
    "mem.get_proc_info()"
   ]
  },
  {
   "cell_type": "code",
   "execution_count": 14,
   "metadata": {},
   "outputs": [],
   "source": [
    "res = mem.mem()"
   ]
  },
  {
   "cell_type": "code",
   "execution_count": 16,
   "metadata": {},
   "outputs": [
    {
     "ename": "AttributeError",
     "evalue": "'float' object has no attribute 'type'",
     "output_type": "error",
     "traceback": [
      "\u001b[0;31m---------------------------------------------------------------------------\u001b[0m",
      "\u001b[0;31mAttributeError\u001b[0m                            Traceback (most recent call last)",
      "\u001b[0;32m<ipython-input-16-4984758dbedd>\u001b[0m in \u001b[0;36m<module>\u001b[0;34m\u001b[0m\n\u001b[0;32m----> 1\u001b[0;31m \u001b[0mres\u001b[0m\u001b[0;34m.\u001b[0m\u001b[0mtype\u001b[0m\u001b[0;34m(\u001b[0m\u001b[0;34m)\u001b[0m\u001b[0;34m\u001b[0m\u001b[0;34m\u001b[0m\u001b[0m\n\u001b[0m",
      "\u001b[0;31mAttributeError\u001b[0m: 'float' object has no attribute 'type'"
     ]
    }
   ],
   "source": [
    "res.type()"
   ]
  },
  {
   "cell_type": "code",
   "execution_count": null,
   "metadata": {},
   "outputs": [],
   "source": []
  }
 ],
 "metadata": {
  "kernelspec": {
   "display_name": "Python 3",
   "language": "python",
   "name": "python3"
  },
  "language_info": {
   "codemirror_mode": {
    "name": "ipython",
    "version": 3
   },
   "file_extension": ".py",
   "mimetype": "text/x-python",
   "name": "python",
   "nbconvert_exporter": "python",
   "pygments_lexer": "ipython3",
   "version": "3.7.4"
  }
 },
 "nbformat": 4,
 "nbformat_minor": 2
}
