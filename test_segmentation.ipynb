{
 "cells": [
  {
   "cell_type": "code",
   "execution_count": 1,
   "metadata": {},
   "outputs": [],
   "source": [
    "import pandas as pd\n",
    "import numpy as np\n",
    "from pymove.core.MoveDataFrame import MoveDataFrame"
   ]
  },
  {
   "cell_type": "code",
   "execution_count": 2,
   "metadata": {},
   "outputs": [],
   "source": [
    "from pymove.utils import transformations"
   ]
  },
  {
   "cell_type": "code",
   "execution_count": 3,
   "metadata": {},
   "outputs": [],
   "source": [
    "from pymove.preprocessing import segmentation"
   ]
  },
  {
   "cell_type": "code",
   "execution_count": 4,
   "metadata": {},
   "outputs": [
    {
     "data": {
      "text/html": [
       "<div>\n",
       "<style scoped>\n",
       "    .dataframe tbody tr th:only-of-type {\n",
       "        vertical-align: middle;\n",
       "    }\n",
       "\n",
       "    .dataframe tbody tr th {\n",
       "        vertical-align: top;\n",
       "    }\n",
       "\n",
       "    .dataframe thead th {\n",
       "        text-align: right;\n",
       "    }\n",
       "</style>\n",
       "<table border=\"1\" class=\"dataframe\">\n",
       "  <thead>\n",
       "    <tr style=\"text-align: right;\">\n",
       "      <th></th>\n",
       "      <th>lat</th>\n",
       "      <th>lon</th>\n",
       "      <th>datetime</th>\n",
       "      <th>id</th>\n",
       "    </tr>\n",
       "  </thead>\n",
       "  <tbody>\n",
       "    <tr>\n",
       "      <th>0</th>\n",
       "      <td>39.984094</td>\n",
       "      <td>116.319236</td>\n",
       "      <td>2008-10-23 05:53:05</td>\n",
       "      <td>1</td>\n",
       "    </tr>\n",
       "    <tr>\n",
       "      <th>1</th>\n",
       "      <td>39.984198</td>\n",
       "      <td>116.319322</td>\n",
       "      <td>2008-10-23 05:53:06</td>\n",
       "      <td>1</td>\n",
       "    </tr>\n",
       "    <tr>\n",
       "      <th>2</th>\n",
       "      <td>39.984224</td>\n",
       "      <td>116.319402</td>\n",
       "      <td>2008-10-23 05:53:11</td>\n",
       "      <td>1</td>\n",
       "    </tr>\n",
       "    <tr>\n",
       "      <th>3</th>\n",
       "      <td>39.984211</td>\n",
       "      <td>116.319389</td>\n",
       "      <td>2008-10-23 05:53:16</td>\n",
       "      <td>1</td>\n",
       "    </tr>\n",
       "    <tr>\n",
       "      <th>4</th>\n",
       "      <td>39.984217</td>\n",
       "      <td>116.319422</td>\n",
       "      <td>2008-10-23 05:53:21</td>\n",
       "      <td>1</td>\n",
       "    </tr>\n",
       "  </tbody>\n",
       "</table>\n",
       "</div>"
      ],
      "text/plain": [
       "         lat         lon            datetime  id\n",
       "0  39.984094  116.319236 2008-10-23 05:53:05   1\n",
       "1  39.984198  116.319322 2008-10-23 05:53:06   1\n",
       "2  39.984224  116.319402 2008-10-23 05:53:11   1\n",
       "3  39.984211  116.319389 2008-10-23 05:53:16   1\n",
       "4  39.984217  116.319422 2008-10-23 05:53:21   1"
      ]
     },
     "execution_count": 4,
     "metadata": {},
     "output_type": "execute_result"
    }
   ],
   "source": [
    "df = pd.read_csv('examples/geolife_sample.csv', parse_dates=['datetime'])\n",
    "df.head()"
   ]
  },
  {
   "cell_type": "code",
   "execution_count": 5,
   "metadata": {},
   "outputs": [
    {
     "name": "stdout",
     "output_type": "stream",
     "text": [
      "<class 'pandas.core.frame.DataFrame'>\n",
      "RangeIndex: 217653 entries, 0 to 217652\n",
      "Data columns (total 4 columns):\n",
      "lat         217653 non-null float64\n",
      "lon         217653 non-null float64\n",
      "datetime    217653 non-null datetime64[ns]\n",
      "id          217653 non-null int64\n",
      "dtypes: datetime64[ns](1), float64(2), int64(1)\n",
      "memory usage: 6.6 MB\n"
     ]
    }
   ],
   "source": [
    "df.info()"
   ]
  },
  {
   "cell_type": "code",
   "execution_count": 6,
   "metadata": {},
   "outputs": [
    {
     "name": "stdout",
     "output_type": "stream",
     "text": [
      "arinaaaa\n"
     ]
    }
   ],
   "source": [
    "df_move = MoveDataFrame(df, latitude=\"lat\", longitude=\"lon\", datetime=\"datetime\")"
   ]
  },
  {
   "cell_type": "code",
   "execution_count": 7,
   "metadata": {},
   "outputs": [],
   "source": [
    "bbox = (22.147577, 113.54884299999999, 41.132062, 121.156224)"
   ]
  },
  {
   "cell_type": "code",
   "execution_count": 8,
   "metadata": {},
   "outputs": [
    {
     "data": {
      "text/plain": [
       "39.984094"
      ]
     },
     "execution_count": 8,
     "metadata": {},
     "output_type": "execute_result"
    }
   ],
   "source": [
    "df_move._data[\"lat\"][0]"
   ]
  },
  {
   "cell_type": "code",
   "execution_count": 9,
   "metadata": {},
   "outputs": [
    {
     "name": "stdout",
     "output_type": "stream",
     "text": [
      "const_lat: 4.74612125\n",
      "const_lon: 1.901845250000001\n"
     ]
    },
    {
     "data": {
      "text/html": [
       "<div>\n",
       "<style scoped>\n",
       "    .dataframe tbody tr th:only-of-type {\n",
       "        vertical-align: middle;\n",
       "    }\n",
       "\n",
       "    .dataframe tbody tr th {\n",
       "        vertical-align: top;\n",
       "    }\n",
       "\n",
       "    .dataframe thead th {\n",
       "        text-align: right;\n",
       "    }\n",
       "</style>\n",
       "<table border=\"1\" class=\"dataframe\">\n",
       "  <thead>\n",
       "    <tr style=\"text-align: right;\">\n",
       "      <th></th>\n",
       "      <th>lat_min</th>\n",
       "      <th>lon_min</th>\n",
       "      <th>lat_max</th>\n",
       "      <th>lon_max</th>\n",
       "    </tr>\n",
       "  </thead>\n",
       "  <tbody>\n",
       "    <tr>\n",
       "      <th>0</th>\n",
       "      <td>22.147577</td>\n",
       "      <td>113.548843</td>\n",
       "      <td>41.132062</td>\n",
       "      <td>115.450688</td>\n",
       "    </tr>\n",
       "    <tr>\n",
       "      <th>1</th>\n",
       "      <td>22.147577</td>\n",
       "      <td>115.450688</td>\n",
       "      <td>41.132062</td>\n",
       "      <td>117.352533</td>\n",
       "    </tr>\n",
       "    <tr>\n",
       "      <th>2</th>\n",
       "      <td>22.147577</td>\n",
       "      <td>117.352533</td>\n",
       "      <td>41.132062</td>\n",
       "      <td>119.254379</td>\n",
       "    </tr>\n",
       "    <tr>\n",
       "      <th>3</th>\n",
       "      <td>22.147577</td>\n",
       "      <td>119.254379</td>\n",
       "      <td>41.132062</td>\n",
       "      <td>121.156224</td>\n",
       "    </tr>\n",
       "  </tbody>\n",
       "</table>\n",
       "</div>"
      ],
      "text/plain": [
       "     lat_min     lon_min    lat_max     lon_max\n",
       "0  22.147577  113.548843  41.132062  115.450688\n",
       "1  22.147577  115.450688  41.132062  117.352533\n",
       "2  22.147577  117.352533  41.132062  119.254379\n",
       "3  22.147577  119.254379  41.132062  121.156224"
      ]
     },
     "execution_count": 9,
     "metadata": {},
     "output_type": "execute_result"
    }
   ],
   "source": [
    "segmentation.bbox_split(bbox, 4)"
   ]
  },
  {
   "cell_type": "code",
   "execution_count": 10,
   "metadata": {},
   "outputs": [
    {
     "name": "stdout",
     "output_type": "stream",
     "text": [
      "\n",
      "Creating or updating distance, time and speed features in meters by seconds\n",
      "\n",
      "...Sorting by id and datetime to increase performance\n",
      "\n",
      "...Set id as index to a higher peformance\n",
      "\n",
      "(217653/217653) 100% in 00:00:00.201 - estimated end in 00:00:00.000\n",
      "...Reset index...\n",
      "\n",
      "..Total Time: 0.208\n",
      "\n",
      "Creating or updating distance features in meters...\n",
      "\n",
      "...Sorting by id and datetime to increase performance\n",
      "\n",
      "...Set id as index to increase attribution performance\n",
      "\n",
      "(217653/217653) 100% in 00:00:00.090 - estimated end in 00:00:00.000\n",
      "...Reset index\n",
      "\n",
      "..Total Time: 0.09674072265625\n"
     ]
    }
   ],
   "source": [
    "df_move.generate_dist_time_speed_features()\n",
    "df_move.generate_dist_features()"
   ]
  },
  {
   "cell_type": "code",
   "execution_count": 11,
   "metadata": {},
   "outputs": [
    {
     "data": {
      "text/html": [
       "<div>\n",
       "<style scoped>\n",
       "    .dataframe tbody tr th:only-of-type {\n",
       "        vertical-align: middle;\n",
       "    }\n",
       "\n",
       "    .dataframe tbody tr th {\n",
       "        vertical-align: top;\n",
       "    }\n",
       "\n",
       "    .dataframe thead th {\n",
       "        text-align: right;\n",
       "    }\n",
       "</style>\n",
       "<table border=\"1\" class=\"dataframe\">\n",
       "  <thead>\n",
       "    <tr style=\"text-align: right;\">\n",
       "      <th></th>\n",
       "      <th>id</th>\n",
       "      <th>lat</th>\n",
       "      <th>lon</th>\n",
       "      <th>datetime</th>\n",
       "      <th>dist_to_prev</th>\n",
       "      <th>time_to_prev</th>\n",
       "      <th>speed_to_prev</th>\n",
       "      <th>dist_to_next</th>\n",
       "      <th>dist_prev_to_next</th>\n",
       "    </tr>\n",
       "  </thead>\n",
       "  <tbody>\n",
       "    <tr>\n",
       "      <th>0</th>\n",
       "      <td>1</td>\n",
       "      <td>39.984094</td>\n",
       "      <td>116.319236</td>\n",
       "      <td>2008-10-23 05:53:05</td>\n",
       "      <td>NaN</td>\n",
       "      <td>NaN</td>\n",
       "      <td>NaN</td>\n",
       "      <td>13.690153</td>\n",
       "      <td>NaN</td>\n",
       "    </tr>\n",
       "    <tr>\n",
       "      <th>1</th>\n",
       "      <td>1</td>\n",
       "      <td>39.984198</td>\n",
       "      <td>116.319322</td>\n",
       "      <td>2008-10-23 05:53:06</td>\n",
       "      <td>13.690153</td>\n",
       "      <td>1.0</td>\n",
       "      <td>13.690153</td>\n",
       "      <td>7.403788</td>\n",
       "      <td>20.223428</td>\n",
       "    </tr>\n",
       "    <tr>\n",
       "      <th>2</th>\n",
       "      <td>1</td>\n",
       "      <td>39.984224</td>\n",
       "      <td>116.319402</td>\n",
       "      <td>2008-10-23 05:53:11</td>\n",
       "      <td>7.403788</td>\n",
       "      <td>5.0</td>\n",
       "      <td>1.480758</td>\n",
       "      <td>1.821083</td>\n",
       "      <td>5.888579</td>\n",
       "    </tr>\n",
       "    <tr>\n",
       "      <th>3</th>\n",
       "      <td>1</td>\n",
       "      <td>39.984211</td>\n",
       "      <td>116.319389</td>\n",
       "      <td>2008-10-23 05:53:16</td>\n",
       "      <td>1.821083</td>\n",
       "      <td>5.0</td>\n",
       "      <td>0.364217</td>\n",
       "      <td>2.889671</td>\n",
       "      <td>1.873356</td>\n",
       "    </tr>\n",
       "    <tr>\n",
       "      <th>4</th>\n",
       "      <td>1</td>\n",
       "      <td>39.984217</td>\n",
       "      <td>116.319422</td>\n",
       "      <td>2008-10-23 05:53:21</td>\n",
       "      <td>2.889671</td>\n",
       "      <td>5.0</td>\n",
       "      <td>0.577934</td>\n",
       "      <td>66.555997</td>\n",
       "      <td>68.727260</td>\n",
       "    </tr>\n",
       "  </tbody>\n",
       "</table>\n",
       "</div>"
      ],
      "text/plain": [
       "   id        lat         lon            datetime  dist_to_prev  time_to_prev  \\\n",
       "0   1  39.984094  116.319236 2008-10-23 05:53:05           NaN           NaN   \n",
       "1   1  39.984198  116.319322 2008-10-23 05:53:06     13.690153           1.0   \n",
       "2   1  39.984224  116.319402 2008-10-23 05:53:11      7.403788           5.0   \n",
       "3   1  39.984211  116.319389 2008-10-23 05:53:16      1.821083           5.0   \n",
       "4   1  39.984217  116.319422 2008-10-23 05:53:21      2.889671           5.0   \n",
       "\n",
       "   speed_to_prev  dist_to_next  dist_prev_to_next  \n",
       "0            NaN     13.690153                NaN  \n",
       "1      13.690153      7.403788          20.223428  \n",
       "2       1.480758      1.821083           5.888579  \n",
       "3       0.364217      2.889671           1.873356  \n",
       "4       0.577934     66.555997          68.727260  "
      ]
     },
     "execution_count": 11,
     "metadata": {},
     "output_type": "execute_result"
    }
   ],
   "source": [
    "df_move.head()"
   ]
  },
  {
   "cell_type": "code",
   "execution_count": 12,
   "metadata": {},
   "outputs": [
    {
     "name": "stdout",
     "output_type": "stream",
     "text": [
      "\n",
      "Split trajectories\n",
      "...max_time_between_adj_points: 7200\n",
      "...max_dist_between_adj_points: 3000\n",
      "...max_speed: 50.0\n",
      "...setting id as index\n"
     ]
    },
    {
     "ename": "AttributeError",
     "evalue": "'function' object has no attribute 'contains'",
     "output_type": "error",
     "traceback": [
      "\u001b[1;31m---------------------------------------------------------------------------\u001b[0m",
      "\u001b[1;31mAttributeError\u001b[0m                            Traceback (most recent call last)",
      "\u001b[1;32m<ipython-input-12-280cb930b1fd>\u001b[0m in \u001b[0;36m<module>\u001b[1;34m\u001b[0m\n\u001b[1;32m----> 1\u001b[1;33m \u001b[0msegmentation\u001b[0m\u001b[1;33m.\u001b[0m\u001b[0msegment_trajectory_by_dist_time_speed\u001b[0m\u001b[1;33m(\u001b[0m\u001b[0mdf_move\u001b[0m\u001b[1;33m)\u001b[0m\u001b[1;33m\u001b[0m\u001b[1;33m\u001b[0m\u001b[0m\n\u001b[0m",
      "\u001b[1;32m~\\Desktop\\PyMove\\pymove\\preprocessing\\segmentation.py\u001b[0m in \u001b[0;36msegment_trajectory_by_dist_time_speed\u001b[1;34m(df_, label_id, max_dist_between_adj_points, max_time_between_adj_points, max_speed_between_adj_points, drop_single_points, label_new_tid)\u001b[0m\n\u001b[0;32m    144\u001b[0m \u001b[1;33m\u001b[0m\u001b[0m\n\u001b[0;32m    145\u001b[0m     \u001b[1;32mexcept\u001b[0m \u001b[0mException\u001b[0m \u001b[1;32mas\u001b[0m \u001b[0me\u001b[0m\u001b[1;33m:\u001b[0m\u001b[1;33m\u001b[0m\u001b[1;33m\u001b[0m\u001b[0m\n\u001b[1;32m--> 146\u001b[1;33m         \u001b[1;32mraise\u001b[0m \u001b[0me\u001b[0m\u001b[1;33m\u001b[0m\u001b[1;33m\u001b[0m\u001b[0m\n\u001b[0m\u001b[0;32m    147\u001b[0m \u001b[1;33m\u001b[0m\u001b[0m\n\u001b[0;32m    148\u001b[0m \u001b[1;33m\u001b[0m\u001b[0m\n",
      "\u001b[1;32m~\\Desktop\\PyMove\\pymove\\preprocessing\\segmentation.py\u001b[0m in \u001b[0;36msegment_trajectory_by_dist_time_speed\u001b[1;34m(df_, label_id, max_dist_between_adj_points, max_time_between_adj_points, max_speed_between_adj_points, drop_single_points, label_new_tid)\u001b[0m\n\u001b[0;32m     90\u001b[0m         \u001b[0mcurr_tid\u001b[0m \u001b[1;33m=\u001b[0m \u001b[1;36m0\u001b[0m\u001b[1;33m\u001b[0m\u001b[1;33m\u001b[0m\u001b[0m\n\u001b[0;32m     91\u001b[0m         \u001b[1;32mif\u001b[0m \u001b[0mlabel_new_tid\u001b[0m \u001b[1;32mnot\u001b[0m \u001b[1;32min\u001b[0m \u001b[0mdf_\u001b[0m\u001b[1;33m:\u001b[0m\u001b[1;33m\u001b[0m\u001b[1;33m\u001b[0m\u001b[0m\n\u001b[1;32m---> 92\u001b[1;33m             \u001b[0mdf_\u001b[0m\u001b[1;33m[\u001b[0m\u001b[0mlabel_new_tid\u001b[0m\u001b[1;33m]\u001b[0m \u001b[1;33m=\u001b[0m \u001b[0mcurr_tid\u001b[0m\u001b[1;33m\u001b[0m\u001b[1;33m\u001b[0m\u001b[0m\n\u001b[0m\u001b[0;32m     93\u001b[0m \u001b[1;33m\u001b[0m\u001b[0m\n\u001b[0;32m     94\u001b[0m         \u001b[0mids\u001b[0m \u001b[1;33m=\u001b[0m \u001b[0mdf_\u001b[0m\u001b[1;33m.\u001b[0m\u001b[0mindex\u001b[0m\u001b[1;33m.\u001b[0m\u001b[0munique\u001b[0m\u001b[1;33m(\u001b[0m\u001b[1;33m)\u001b[0m\u001b[1;33m\u001b[0m\u001b[1;33m\u001b[0m\u001b[0m\n",
      "\u001b[1;32m~\\Miniconda3\\envs\\jupyter\\lib\\site-packages\\pandas\\core\\frame.py\u001b[0m in \u001b[0;36m__setitem__\u001b[1;34m(self, key, value)\u001b[0m\n\u001b[0;32m   3358\u001b[0m \u001b[1;33m\u001b[0m\u001b[0m\n\u001b[0;32m   3359\u001b[0m         \u001b[1;31m# see if we can slice the rows\u001b[0m\u001b[1;33m\u001b[0m\u001b[1;33m\u001b[0m\u001b[1;33m\u001b[0m\u001b[0m\n\u001b[1;32m-> 3360\u001b[1;33m         \u001b[0mindexer\u001b[0m \u001b[1;33m=\u001b[0m \u001b[0mconvert_to_index_sliceable\u001b[0m\u001b[1;33m(\u001b[0m\u001b[0mself\u001b[0m\u001b[1;33m,\u001b[0m \u001b[0mkey\u001b[0m\u001b[1;33m)\u001b[0m\u001b[1;33m\u001b[0m\u001b[1;33m\u001b[0m\u001b[0m\n\u001b[0m\u001b[0;32m   3361\u001b[0m         \u001b[1;32mif\u001b[0m \u001b[0mindexer\u001b[0m \u001b[1;32mis\u001b[0m \u001b[1;32mnot\u001b[0m \u001b[1;32mNone\u001b[0m\u001b[1;33m:\u001b[0m\u001b[1;33m\u001b[0m\u001b[1;33m\u001b[0m\u001b[0m\n\u001b[0;32m   3362\u001b[0m             \u001b[1;32mreturn\u001b[0m \u001b[0mself\u001b[0m\u001b[1;33m.\u001b[0m\u001b[0m_setitem_slice\u001b[0m\u001b[1;33m(\u001b[0m\u001b[0mindexer\u001b[0m\u001b[1;33m,\u001b[0m \u001b[0mvalue\u001b[0m\u001b[1;33m)\u001b[0m\u001b[1;33m\u001b[0m\u001b[1;33m\u001b[0m\u001b[0m\n",
      "\u001b[1;32m~\\Miniconda3\\envs\\jupyter\\lib\\site-packages\\pandas\\core\\indexing.py\u001b[0m in \u001b[0;36mconvert_to_index_sliceable\u001b[1;34m(obj, key)\u001b[0m\n\u001b[0;32m   2459\u001b[0m \u001b[1;33m\u001b[0m\u001b[0m\n\u001b[0;32m   2460\u001b[0m         \u001b[1;31m# we are an actual column\u001b[0m\u001b[1;33m\u001b[0m\u001b[1;33m\u001b[0m\u001b[1;33m\u001b[0m\u001b[0m\n\u001b[1;32m-> 2461\u001b[1;33m         \u001b[1;32mif\u001b[0m \u001b[0mobj\u001b[0m\u001b[1;33m.\u001b[0m\u001b[0m_data\u001b[0m\u001b[1;33m.\u001b[0m\u001b[0mitems\u001b[0m\u001b[1;33m.\u001b[0m\u001b[0mcontains\u001b[0m\u001b[1;33m(\u001b[0m\u001b[0mkey\u001b[0m\u001b[1;33m)\u001b[0m\u001b[1;33m:\u001b[0m\u001b[1;33m\u001b[0m\u001b[1;33m\u001b[0m\u001b[0m\n\u001b[0m\u001b[0;32m   2462\u001b[0m             \u001b[1;32mreturn\u001b[0m \u001b[1;32mNone\u001b[0m\u001b[1;33m\u001b[0m\u001b[1;33m\u001b[0m\u001b[0m\n\u001b[0;32m   2463\u001b[0m \u001b[1;33m\u001b[0m\u001b[0m\n",
      "\u001b[1;31mAttributeError\u001b[0m: 'function' object has no attribute 'contains'"
     ]
    }
   ],
   "source": [
    "segmentation.segment_trajectory_by_dist_time_speed(df_move)"
   ]
  },
  {
   "cell_type": "code",
   "execution_count": null,
   "metadata": {},
   "outputs": [],
   "source": [
    "segmentation.segment_trajectory_by_speed(df_move._data)"
   ]
  },
  {
   "cell_type": "code",
   "execution_count": null,
   "metadata": {},
   "outputs": [],
   "source": [
    "segmentation.segment_trajectory_by_time(df_move._data)"
   ]
  },
  {
   "cell_type": "code",
   "execution_count": null,
   "metadata": {},
   "outputs": [],
   "source": []
  },
  {
   "cell_type": "markdown",
   "metadata": {},
   "source": []
  },
  {
   "cell_type": "code",
   "execution_count": null,
   "metadata": {},
   "outputs": [],
   "source": [
    "df_move[\"lat\"] = df_move[\"lat\"]"
   ]
  },
  {
   "cell_type": "code",
   "execution_count": null,
   "metadata": {},
   "outputs": [],
   "source": [
    "df_move.r = 8"
   ]
  },
  {
   "cell_type": "code",
   "execution_count": 25,
   "metadata": {},
   "outputs": [
    {
     "ename": "AttributeError",
     "evalue": "'function' object has no attribute 'contains'",
     "output_type": "error",
     "traceback": [
      "\u001b[1;31m---------------------------------------------------------------------------\u001b[0m",
      "\u001b[1;31mAttributeError\u001b[0m                            Traceback (most recent call last)",
      "\u001b[1;32m<ipython-input-25-b88ef0af281f>\u001b[0m in \u001b[0;36m<module>\u001b[1;34m\u001b[0m\n\u001b[1;32m----> 1\u001b[1;33m \u001b[0mtype\u001b[0m\u001b[1;33m(\u001b[0m\u001b[0mdf_move\u001b[0m\u001b[1;33m[\u001b[0m\u001b[1;34m\"lt\"\u001b[0m\u001b[1;33m]\u001b[0m\u001b[1;33m)\u001b[0m\u001b[1;33m\u001b[0m\u001b[1;33m\u001b[0m\u001b[0m\n\u001b[0m",
      "\u001b[1;32m~\\Miniconda3\\envs\\jupyter\\lib\\site-packages\\pandas\\core\\frame.py\u001b[0m in \u001b[0;36m__getitem__\u001b[1;34m(self, key)\u001b[0m\n\u001b[0;32m   2906\u001b[0m \u001b[1;33m\u001b[0m\u001b[0m\n\u001b[0;32m   2907\u001b[0m         \u001b[1;31m# Do we have a slicer (on rows)?\u001b[0m\u001b[1;33m\u001b[0m\u001b[1;33m\u001b[0m\u001b[1;33m\u001b[0m\u001b[0m\n\u001b[1;32m-> 2908\u001b[1;33m         \u001b[0mindexer\u001b[0m \u001b[1;33m=\u001b[0m \u001b[0mconvert_to_index_sliceable\u001b[0m\u001b[1;33m(\u001b[0m\u001b[0mself\u001b[0m\u001b[1;33m,\u001b[0m \u001b[0mkey\u001b[0m\u001b[1;33m)\u001b[0m\u001b[1;33m\u001b[0m\u001b[1;33m\u001b[0m\u001b[0m\n\u001b[0m\u001b[0;32m   2909\u001b[0m         \u001b[1;32mif\u001b[0m \u001b[0mindexer\u001b[0m \u001b[1;32mis\u001b[0m \u001b[1;32mnot\u001b[0m \u001b[1;32mNone\u001b[0m\u001b[1;33m:\u001b[0m\u001b[1;33m\u001b[0m\u001b[1;33m\u001b[0m\u001b[0m\n\u001b[0;32m   2910\u001b[0m             \u001b[1;32mreturn\u001b[0m \u001b[0mself\u001b[0m\u001b[1;33m.\u001b[0m\u001b[0m_slice\u001b[0m\u001b[1;33m(\u001b[0m\u001b[0mindexer\u001b[0m\u001b[1;33m,\u001b[0m \u001b[0maxis\u001b[0m\u001b[1;33m=\u001b[0m\u001b[1;36m0\u001b[0m\u001b[1;33m)\u001b[0m\u001b[1;33m\u001b[0m\u001b[1;33m\u001b[0m\u001b[0m\n",
      "\u001b[1;32m~\\Miniconda3\\envs\\jupyter\\lib\\site-packages\\pandas\\core\\indexing.py\u001b[0m in \u001b[0;36mconvert_to_index_sliceable\u001b[1;34m(obj, key)\u001b[0m\n\u001b[0;32m   2459\u001b[0m \u001b[1;33m\u001b[0m\u001b[0m\n\u001b[0;32m   2460\u001b[0m         \u001b[1;31m# we are an actual column\u001b[0m\u001b[1;33m\u001b[0m\u001b[1;33m\u001b[0m\u001b[1;33m\u001b[0m\u001b[0m\n\u001b[1;32m-> 2461\u001b[1;33m         \u001b[1;32mif\u001b[0m \u001b[0mobj\u001b[0m\u001b[1;33m.\u001b[0m\u001b[0m_data\u001b[0m\u001b[1;33m.\u001b[0m\u001b[0mitems\u001b[0m\u001b[1;33m.\u001b[0m\u001b[0mcontains\u001b[0m\u001b[1;33m(\u001b[0m\u001b[0mkey\u001b[0m\u001b[1;33m)\u001b[0m\u001b[1;33m:\u001b[0m\u001b[1;33m\u001b[0m\u001b[1;33m\u001b[0m\u001b[0m\n\u001b[0m\u001b[0;32m   2462\u001b[0m             \u001b[1;32mreturn\u001b[0m \u001b[1;32mNone\u001b[0m\u001b[1;33m\u001b[0m\u001b[1;33m\u001b[0m\u001b[0m\n\u001b[0;32m   2463\u001b[0m \u001b[1;33m\u001b[0m\u001b[0m\n",
      "\u001b[1;31mAttributeError\u001b[0m: 'function' object has no attribute 'contains'"
     ]
    }
   ],
   "source": [
    "type(df_move[\"lt\"])"
   ]
  },
  {
   "cell_type": "code",
   "execution_count": 14,
   "metadata": {},
   "outputs": [
    {
     "name": "stdout",
     "output_type": "stream",
     "text": [
      "aaaaaaaaaaa\n",
      "aaaaaaaaaaa\n",
      "aaaaaaaaaaa\n",
      "aaaaaaaaaaa\n",
      "aaaaaaaaaaa\n",
      "aaaaaaaaaaa\n",
      "aaaaaaaaaaa\n",
      "aaaaaaaaaaa\n",
      "aaaaaaaaaaa\n",
      "aaaaaaaaaaa\n",
      "aaaaaaaaaaa\n"
     ]
    },
    {
     "data": {
      "text/plain": [
       "          lat         lon            datetime  dist_to_prev  time_to_prev  \\\n",
       "id                                                                          \n",
       "1   39.984094  116.319236 2008-10-23 05:53:05           NaN           NaN   \n",
       "1   39.984198  116.319322 2008-10-23 05:53:06     13.690153           1.0   \n",
       "1   39.984224  116.319402 2008-10-23 05:53:11      7.403788           5.0   \n",
       "1   39.984211  116.319389 2008-10-23 05:53:16      1.821083           5.0   \n",
       "1   39.984217  116.319422 2008-10-23 05:53:21      2.889671           5.0   \n",
       "1   39.984710  116.319865 2008-10-23 05:53:23     66.555997           2.0   \n",
       "1   39.984674  116.319810 2008-10-23 05:53:28      6.162987           5.0   \n",
       "1   39.984623  116.319773 2008-10-23 05:53:33      6.488225           5.0   \n",
       "1   39.984606  116.319732 2008-10-23 05:53:38      3.971848           5.0   \n",
       "1   39.984555  116.319728 2008-10-23 05:53:43      5.681172           5.0   \n",
       "1   39.984579  116.319769 2008-10-23 05:53:48      4.395924           5.0   \n",
       "1   39.984579  116.319769 2008-10-23 05:53:51      0.000000           3.0   \n",
       "1   39.984577  116.319766 2008-10-23 05:53:53      0.338804           2.0   \n",
       "1   39.984611  116.319822 2008-10-23 05:53:58      6.087463           5.0   \n",
       "1   39.984959  116.319969 2008-10-23 05:54:03     40.672170           5.0   \n",
       "1   39.985036  116.320056 2008-10-23 05:54:04     11.324767           1.0   \n",
       "1   39.984741  116.320037 2008-10-23 05:54:05     32.842422           1.0   \n",
       "1   39.984620  116.320120 2008-10-23 05:54:07     15.199759           2.0   \n",
       "1   39.984530  116.320242 2008-10-23 05:54:11     14.428901           4.0   \n",
       "1   39.984508  116.320331 2008-10-23 05:54:16      7.967597           5.0   \n",
       "1   39.984537  116.320443 2008-10-23 05:54:21     10.072480           5.0   \n",
       "1   39.984529  116.320573 2008-10-23 05:54:26     11.111606           5.0   \n",
       "1   39.984466  116.320683 2008-10-23 05:54:30     11.700748           4.0   \n",
       "1   39.984409  116.320778 2008-10-23 05:54:34     10.280271           4.0   \n",
       "1   39.984320  116.320808 2008-10-23 05:54:38     10.221096           4.0   \n",
       "1   39.984252  116.320826 2008-10-23 05:54:43      7.715212           5.0   \n",
       "1   39.984238  116.320844 2008-10-23 05:54:48      2.185253           5.0   \n",
       "1   39.984232  116.320853 2008-10-23 05:54:53      1.016413           5.0   \n",
       "1   39.984246  116.320870 2008-10-23 05:54:58      2.126326           5.0   \n",
       "1   39.984266  116.320876 2008-10-23 05:55:03      2.281896           5.0   \n",
       "..        ...         ...                 ...           ...           ...   \n",
       "5   40.001137  116.326452 2009-03-19 05:44:02      5.587506           5.0   \n",
       "5   40.001103  116.326519 2009-03-19 05:44:07      6.845641           5.0   \n",
       "5   40.001126  116.326607 2009-03-19 05:44:12      7.920028           5.0   \n",
       "5   40.001091  116.326667 2009-03-19 05:44:17      6.423851           5.0   \n",
       "5   40.001073  116.326735 2009-03-19 05:44:22      6.128231           5.0   \n",
       "5   40.001073  116.326821 2009-03-19 05:44:27      7.325387           5.0   \n",
       "5   40.001080  116.326905 2009-03-19 05:44:32      7.197242           5.0   \n",
       "5   40.001073  116.326977 2009-03-19 05:44:37      6.182078           5.0   \n",
       "5   40.001064  116.327037 2009-03-19 05:44:42      5.207795           5.0   \n",
       "5   40.001033  116.327062 2009-03-19 05:44:47      4.051760           5.0   \n",
       "5   40.001022  116.327054 2009-03-19 05:44:52      1.400154           5.0   \n",
       "5   40.001022  116.327054 2009-03-19 05:44:55      0.000000           3.0   \n",
       "5   40.001023  116.327058 2009-03-19 05:44:57      0.358402           2.0   \n",
       "5   40.001019  116.327071 2009-03-19 05:45:02      1.193315           5.0   \n",
       "5   40.000759  116.327088 2009-03-19 05:45:07     28.946922           5.0   \n",
       "5   40.000595  116.327066 2009-03-19 05:45:12     18.331999           5.0   \n",
       "5   40.000514  116.327017 2009-03-19 05:45:17      9.926875           5.0   \n",
       "5   40.000457  116.327019 2009-03-19 05:45:22      6.340400           5.0   \n",
       "5   40.000368  116.327072 2009-03-19 05:45:27     10.877438           5.0   \n",
       "5   40.000291  116.327100 2009-03-19 05:45:32      8.887992           5.0   \n",
       "5   40.000205  116.327173 2009-03-19 05:45:37     11.406650           5.0   \n",
       "5   40.000128  116.327171 2009-03-19 05:45:42      8.563704           5.0   \n",
       "5   40.000069  116.327179 2009-03-19 05:45:47      6.595796           5.0   \n",
       "5   40.000001  116.327219 2009-03-19 05:45:52      8.293470           5.0   \n",
       "5   39.999919  116.327211 2009-03-19 05:45:57      9.143413           5.0   \n",
       "5   39.999896  116.327290 2009-03-19 05:46:02      7.198855           5.0   \n",
       "5   39.999899  116.327352 2009-03-19 05:46:07      5.291709           5.0   \n",
       "5   39.999945  116.327394 2009-03-19 05:46:12      6.241949           5.0   \n",
       "5   40.000015  116.327433 2009-03-19 05:46:17      8.462920           5.0   \n",
       "5   39.999978  116.327460 2009-03-19 05:46:37      4.713399          20.0   \n",
       "\n",
       "    speed_to_prev  dist_to_next  dist_prev_to_next  la  \n",
       "id                                                      \n",
       "1             NaN     13.690153                NaN   0  \n",
       "1       13.690153      7.403788          20.223428   0  \n",
       "1        1.480758      1.821083           5.888579   0  \n",
       "1        0.364217      2.889671           1.873356   0  \n",
       "1        0.577934     66.555997          68.727260   0  \n",
       "1       33.277998      6.162987          60.622358   0  \n",
       "1        1.232597      6.488225          12.450907   0  \n",
       "1        1.297645      3.971848          10.066577   0  \n",
       "1        0.794370      5.681172           8.477733   0  \n",
       "1        1.136234      4.395924           4.353285   0  \n",
       "1        0.879185      0.000000           4.395924   0  \n",
       "1        0.000000      0.338804           0.338804   0  \n",
       "1        0.169402      6.087463           5.749039   0  \n",
       "1        1.217493     40.672170          45.862647   0  \n",
       "1        8.134434     11.324767          51.291054   0  \n",
       "1       11.324767     32.842422          24.923216   0  \n",
       "1       32.842422     15.199759          46.577363   0  \n",
       "1        7.599879     14.428901          29.249419   0  \n",
       "1        3.607225      7.967597          21.869475   0  \n",
       "1        1.593519     10.072480          17.142789   0  \n",
       "1        2.014496     11.111606          20.750102   0  \n",
       "1        2.222321     11.700748          21.919059   0  \n",
       "1        2.925187     10.280271          21.979640   0  \n",
       "1        2.570068     10.221096          19.415958   0  \n",
       "1        2.555274      7.715212          17.930217   0  \n",
       "1        1.543042      2.185253           9.620048   0  \n",
       "1        0.437051      1.016413           3.199618   0  \n",
       "1        0.203283      2.126326           2.387136   0  \n",
       "1        0.425265      2.281896           4.258306   0  \n",
       "1        0.456379      4.400695           6.122292   0  \n",
       "..            ...           ...                ...  ..  \n",
       "5        1.117501      6.845641          12.292447   0  \n",
       "5        1.369128      7.920028          13.259258   0  \n",
       "5        1.584006      6.423851          12.676896   0  \n",
       "5        1.284770      6.128231          12.393729   0  \n",
       "5        1.225646      7.325387          13.269371   0  \n",
       "5        1.465077      7.197242          14.501320   0  \n",
       "5        1.439448      6.182078          13.287911   0  \n",
       "5        1.236416      5.207795          11.383505   0  \n",
       "5        1.041559      4.051760           8.497267   0  \n",
       "5        0.810352      1.400154           4.889527   0  \n",
       "5        0.280031      0.000000           1.400154   0  \n",
       "5        0.000000      0.358402           0.358402   0  \n",
       "5        0.179201      1.193315           1.485970   0  \n",
       "5        0.238663     28.946922          29.466473   0  \n",
       "5        5.789384     18.331999          47.148573   0  \n",
       "5        3.666400      9.926875          27.905967   0  \n",
       "5        1.985375      6.340400          15.858546   0  \n",
       "5        1.268080     10.877438          16.896917   0  \n",
       "5        2.175488      8.887992          19.705708   0  \n",
       "5        1.777598     11.406650          20.062949   0  \n",
       "5        2.281330      8.563704          19.107146   0  \n",
       "5        1.712741      6.595796          15.131144   0  \n",
       "5        1.319159      8.293470          14.701736   0  \n",
       "5        1.658694      9.143413          16.900498   0  \n",
       "5        1.828683      7.198855          13.148858   0  \n",
       "5        1.439771      5.291709          12.214590   0  \n",
       "5        1.058342      6.241949          10.400206   0  \n",
       "5        1.248390      8.462920          14.628012   0  \n",
       "5        1.692584      4.713399           6.713456   0  \n",
       "5        0.235670           NaN                NaN   0  \n",
       "\n",
       "[217653 rows x 9 columns]"
      ]
     },
     "execution_count": 14,
     "metadata": {},
     "output_type": "execute_result"
    }
   ],
   "source": [
    "df_move"
   ]
  },
  {
   "cell_type": "code",
   "execution_count": null,
   "metadata": {},
   "outputs": [],
   "source": []
  }
 ],
 "metadata": {
  "kernelspec": {
   "display_name": "Python 3",
   "language": "python",
   "name": "python3"
  },
  "language_info": {
   "codemirror_mode": {
    "name": "ipython",
    "version": 3
   },
   "file_extension": ".py",
   "mimetype": "text/x-python",
   "name": "python",
   "nbconvert_exporter": "python",
   "pygments_lexer": "ipython3",
   "version": "3.7.2"
  }
 },
 "nbformat": 4,
 "nbformat_minor": 2
}
